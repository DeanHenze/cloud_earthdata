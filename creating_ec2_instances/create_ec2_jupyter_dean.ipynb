{
 "cells": [
  {
   "cell_type": "markdown",
   "id": "75afa721",
   "metadata": {},
   "source": [
    "## Creating AWS EC2 instance with Jupyter installed and access to Earthdata S3 buckets\n",
    "\n",
    "The original tutorial is https://github.com/podaac/the-coding-club/blob/main/notebooks/EC2-Jupyter-Setup.md but I found that some modifications were needed for me to get it running for a general AMI and on my mac."
   ]
  },
  {
   "cell_type": "markdown",
   "id": "42bff147",
   "metadata": {},
   "source": [
    "### Creating EC2 instance and SSH'ing\n",
    "\n",
    "Instance is created with AMI (Amazon Machine Instance). An AMI is a template that contains the software configuration (operating system, application server, and applications) required to launch this instance."
   ]
  },
  {
   "cell_type": "markdown",
   "id": "8bb3bd10",
   "metadata": {},
   "source": [
    "**Create EC2**\n",
    "\n",
    "1. Log into AWS, go to EC2 and got to Images -> AMI Catalog\n",
    "2. Go to Quickstart AMIs and select one (e.g. an Amazon Linux AMI), then click `Launch Instance with AMI`.\n",
    "3. Follow prompts for EC2 specifications.\n",
    "4. Create a key pair (private key is a `.pem` file), or choose an existing public key where the private key is on your machine already.\n",
    ">Example: I am using the public/private key pair dean_compute_tests/dean_compute_tests.pem for my downscaling tests."
   ]
  },
  {
   "cell_type": "markdown",
   "id": "3baf23df",
   "metadata": {},
   "source": [
    "**SSH into the instance**"
   ]
  },
  {
   "cell_type": "markdown",
   "id": "d170c3eb",
   "metadata": {},
   "source": [
    "1. Run the instance in the AWS console.\n",
    "2. Place the private key `.pem` file in the `.ssh/` folder in your home directory, e.g. `~/.ssh/`. Modify the read/write permissions of the key, e.g. if the name of the key is `private_key.pem` then run\n",
    "```\n",
    "chmod 0400 private_key.pem\n",
    "```\n",
    "3. Add the following to the `config` file in the `.ssh/` folder:\n",
    "```\n",
    "Host <EC2_alias_of_choice>\n",
    "    HostName                <instance_Private_IPv4_address>\n",
    "    IdentityFile            ~/.ssh/<private_key_name.pem>\n",
    "    User                    ec2-user\n",
    "    LocalForward            xxxx localhost:xxxx\n",
    "```\n",
    "> where\n",
    "> * EC2_alias_of_choice can be anything you want to refer to the instance by.\n",
    "> * Private IPv4 address is like e.g. 100.104.xx.xx\n",
    "> * private_key.pem is the private key file.\n",
    "> * I had success with ec2-user rather than jpluser.\n",
    "> * xxxx is the port number to tunnel through for Jupyter, e.g. 9881 (may want to make this number different than any other entry in the config file.\n",
    "\n",
    "> e.g.:\n",
    "```\n",
    "Host dean_computetests_t2xlarge\n",
    "    HostName                100.104.58.84\n",
    "    IdentityFile            ~/.ssh/dean_compute_tests.pem\n",
    "    User                    ec2-user\n",
    "    LocalForward            9881 localhost:9881\n",
    "```\n",
    "\n",
    "\n",
    "4. SSH into the EC2 instance with `ssh <EC2_alias_of_choice>`"
   ]
  },
  {
   "cell_type": "markdown",
   "id": "7ce1c32f",
   "metadata": {},
   "source": [
    "### Get Jupyter and access to Earthdata S3 buckets in the EC2 instance\n",
    "The following should be done from within the EC2 instance (e.g. after SSH'ing in)"
   ]
  },
  {
   "cell_type": "markdown",
   "id": "ca757591",
   "metadata": {
    "tags": []
   },
   "source": [
    "**Get Jupyter**\n",
    "\n",
    "1. Update packages. Install wget, git, screen etc. Run \n",
    "```\n",
    "sudo yum update -y && sudo yum install wget git screen -y\n",
    "```\n",
    "2. Download miniconda install script and execute it with bash. Go through setup prompts and enter yes when asked if conda init should be run.\n",
    "```\n",
    "wget https://repo.anaconda.com/miniconda/Miniconda3-latest-Linux-x86_64.sh\n",
    "\n",
    "bash Miniconda3-latest-Linux-x86_64.sh\n",
    "```\n",
    "3. Re run the .bashrc file to add conda to `PATH` (doesn't need to be done for subsequent uses of the instance)\n",
    "```\n",
    "source ~/.bashrc\n",
    "```\n",
    "4. Create a new environment called jupyter running Python 3.7; activate it; install JupyterLab and other required packages.\n",
    "```\n",
    "conda create -n jupyter python=3.7 -y && \\\n",
    "  conda activate jupyter\n",
    "  \n",
    "conda install -c conda-forge requests tqdm -y\n",
    "\n",
    "conda install -c conda-forge xarray h5netcdf h5py netCDF4 -y\n",
    "\n",
    "conda install -c conda-forge jupyter -y\n",
    "\n",
    "conda install -c conda-forge dask -y\n",
    "\n",
    "conda install -c conda-forge s3fs -y\n",
    "```\n",
    "5. Use Python to generate and store a hashed password as a shell variable:\n",
    "```\n",
    "PW=\"$(python3 -c 'from notebook.auth import passwd; import getpass; print(passwd(getpass.getpass(), algorithm=\"sha256\"))')\"\n",
    "```\n",
    "6. Write the following into a bash script (e.g. `start_jupyter.sh`):\n",
    "```\n",
    "source ~/conda/bin/activate # Make conda accessible from any dir.\n",
    "\n",
    "conda activate jupyter\n",
    "\n",
    "fuser -k 9881/tcp # Make sure port 9881 is open\n",
    "\n",
    "jupyter lab \\\n",
    "    --port=9881 \\\n",
    "    --ip='127.0.0.1' \\\n",
    "    --NotebookApp.token='' \\\n",
    "    --NotebookApp.password=\"$PW\" \\\n",
    "    --notebook-dir=\"$HOME\" \\\n",
    "    --no-browser \\\n",
    "    &\n",
    "```\n",
    "> where the port number, e.g `9881` in the above example, should be modified as needed.\n",
    "\n",
    "7. Make the bash script executable, e.g.\n",
    "```\n",
    "chmod u+x start_jupyter.sh\n",
    "```\n",
    "\n",
    "8. Optionally, append the following line to your `.bash_profile` in order to print the running jupyter servers upon ssh login:\n",
    "```\n",
    "printf '\\n~/conda/envs/jupyter/bin/jupyter server list && echo\\n\\n' >> .bash_profile\n",
    "```\n",
    "\n"
   ]
  },
  {
   "cell_type": "markdown",
   "id": "8bbc8e92",
   "metadata": {},
   "source": [
    "**Getting access to Earthdata S3 buckets in the EC2 instance**\n",
    "\n",
    "1. Add the following to the `.netrc` file in the home directory of the EC2 instance (`~/.netrc`):\n",
    "```\n",
    "machine urs.earthdata.nasa.gov\n",
    "    login <Earthdata username>\n",
    "    password <Earthdata password>\n",
    "```\n",
    "where the `<Earthdata username>` and `<Earthdata password>` are your login credentials.\n",
    "\n",
    "2. The python code utilizing the `sf3s` module (e.g. in the PO.DAAC cookbook and coding club example notebooks) can now be used to access S3 buckets."
   ]
  },
  {
   "cell_type": "code",
   "execution_count": null,
   "id": "f6ee8702",
   "metadata": {},
   "outputs": [],
   "source": []
  }
 ],
 "metadata": {
  "kernelspec": {
   "display_name": "Python 3 (ipykernel)",
   "language": "python",
   "name": "python3"
  },
  "language_info": {
   "codemirror_mode": {
    "name": "ipython",
    "version": 3
   },
   "file_extension": ".py",
   "mimetype": "text/x-python",
   "name": "python",
   "nbconvert_exporter": "python",
   "pygments_lexer": "ipython3",
   "version": "3.11.4"
  }
 },
 "nbformat": 4,
 "nbformat_minor": 5
}

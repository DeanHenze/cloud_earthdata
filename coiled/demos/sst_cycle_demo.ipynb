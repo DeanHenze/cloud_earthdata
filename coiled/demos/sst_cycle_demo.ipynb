{
 "cells": [
  {
   "cell_type": "markdown",
   "id": "0ca35470-26ba-4e06-bc4b-0670e003b2c1",
   "metadata": {},
   "source": [
    "#### Package Requirements\n",
    "***Note using Conda to install these packages works, but using pip results in errors when Coiled tries to replicate these environments on the cluster VM's, specifically having issues with h5py.***\n",
    "\n",
    "```\n",
    "pip install coiled \"dask[complete]\"\n",
    "pip install jupyter lab\n",
    "pip install earthaccess xarray matplotlib scipy h5netcdf\n",
    "```"
   ]
  },
  {
   "cell_type": "code",
   "execution_count": 1,
   "id": "b3d6b3ba-bdcd-4153-af18-86594768e14d",
   "metadata": {},
   "outputs": [],
   "source": [
    "## Version numbers listed next to each package:\n",
    "\n",
    "# Data location and access packages:\n",
    "import earthaccess                                 # 0.6.1\n",
    "\n",
    "# Analysis packages:\n",
    "import xarray as xr                                # 2023.9.0\n",
    "import numpy as np                                 # 1.26.0\n",
    "\n",
    "# Visualization packages:\n",
    "import matplotlib.pyplot as plt                    # 3.8.0\n",
    "%matplotlib inline\n",
    "\n",
    "# Cloud computing / dask packages:\n",
    "import coiled"
   ]
  },
  {
   "cell_type": "code",
   "execution_count": 2,
   "id": "cca49d37-ea6f-4873-8a85-0116b46c0a29",
   "metadata": {},
   "outputs": [
    {
     "data": {
      "text/plain": [
       "<xarray.core.options.set_options at 0x12fbd0a10>"
      ]
     },
     "execution_count": 2,
     "metadata": {},
     "output_type": "execute_result"
    }
   ],
   "source": [
    "xr.set_options( # display options for xarray objects\n",
    "    display_expand_attrs=False,\n",
    "    display_expand_coords=True,\n",
    "    display_expand_data=True,\n",
    ")"
   ]
  },
  {
   "cell_type": "markdown",
   "id": "31a80e30-93e8-4078-a385-7b8bfe99a59a",
   "metadata": {},
   "source": [
    "# Earthdata Login and locate MUR file access endpoints for first decade of record"
   ]
  },
  {
   "cell_type": "code",
   "execution_count": 3,
   "id": "3a287817-162c-4036-850b-f70f6843861a",
   "metadata": {},
   "outputs": [
    {
     "data": {
      "text/plain": [
       "<earthaccess.auth.Auth at 0x106322590>"
      ]
     },
     "execution_count": 3,
     "metadata": {},
     "output_type": "execute_result"
    }
   ],
   "source": [
    "earthaccess.login() # Login with your credentials"
   ]
  },
  {
   "cell_type": "code",
   "execution_count": null,
   "id": "1efa9b57-7ab3-4918-a4e9-e64d38700e12",
   "metadata": {},
   "outputs": [],
   "source": [
    "datainfo = earthaccess.search_data(\n",
    "    short_name=\"MUR-JPL-L4-GLOB-v4.1\",\n",
    "    cloud_hosted=True,\n",
    "    temporal=(\"2002-01-01\", \"2013-05-01\"),\n",
    "    )"
   ]
  },
  {
   "cell_type": "code",
   "execution_count": null,
   "id": "f8cc85ec-735f-4ab9-ac7f-5f6c0572f06d",
   "metadata": {},
   "outputs": [],
   "source": [
    "datainfo[0]"
   ]
  },
  {
   "cell_type": "markdown",
   "id": "8eb4644c-683c-46fb-abf1-0dc911104148",
   "metadata": {},
   "source": [
    "# Inspect a file"
   ]
  },
  {
   "cell_type": "code",
   "execution_count": null,
   "id": "6fa56a14-307b-4298-adbd-d313335cc404",
   "metadata": {},
   "outputs": [],
   "source": [
    "## Open a file:\n",
    "fileobj_test = earthaccess.open([datainfo[0]])[0] # Generate file objects from the endpoints which are compatible with Xarray\n",
    "sst_test = xr.open_dataset(fileobj_test)['analysed_sst']"
   ]
  },
  {
   "cell_type": "code",
   "execution_count": null,
   "id": "8f673f26-19dc-4a7c-a524-517bf7e7e710",
   "metadata": {},
   "outputs": [],
   "source": [
    "## Define some geolocations for the analysis:\n",
    "\n",
    "# Region to perform analysis over:\n",
    "lat_region = (30, 45)\n",
    "lon_region = (-135, -105)\n",
    "\n",
    "# Points to plot seasonal cycle at:\n",
    "lat_points = (38, 38, 38, 38)\n",
    "lon_points = (-123.25, -125, -128, -132)"
   ]
  },
  {
   "cell_type": "code",
   "execution_count": null,
   "id": "12258854-db0a-45ae-bbcb-c7e8d9ea3f45",
   "metadata": {},
   "outputs": [],
   "source": [
    "## Plot SST in analysis region and mark 4 points for seasonal cycle:\n",
    "fig = plt.figure()\n",
    "sst_test.sel(lat=slice(*lat_region), lon=slice(*lon_region)).plot(cmap='RdYlBu_r')\n",
    "\n",
    "for lat, lon in zip(lat_points, lon_points):\n",
    "    plt.scatter(lon, lat)"
   ]
  },
  {
   "cell_type": "markdown",
   "id": "f9902b32-3351-4544-b056-61445d37967f",
   "metadata": {},
   "source": [
    "# Compute mean seasonal cycle for a decade of data at weekly temporal resolution"
   ]
  },
  {
   "cell_type": "code",
   "execution_count": null,
   "id": "cdbe1018-8db6-4321-a533-c42452a6a848",
   "metadata": {},
   "outputs": [],
   "source": [
    "## Thin out data files to get weekly temporal resolution for this demo:\n",
    "datainfo_thinned = [datainfo[i] for i in range(len(datainfo)) if i%7==0]"
   ]
  },
  {
   "cell_type": "code",
   "execution_count": null,
   "id": "4cd312de-5fe3-4144-af4d-d2e1860a1df0",
   "metadata": {},
   "outputs": [],
   "source": [
    "## Confirm we have about a decade of files and at weekly resolution:\n",
    "print(\"First and last file times \\n--------------------------\")\n",
    "print(datainfo_thinned[0]['umm']['TemporalExtent']['RangeDateTime']['BeginningDateTime'])\n",
    "print(datainfo_thinned[-1]['umm']['TemporalExtent']['RangeDateTime']['BeginningDateTime'])\n",
    "print(\"\\nFirst and second file times \\n--------------------------\")\n",
    "print(datainfo_thinned[0]['umm']['TemporalExtent']['RangeDateTime']['BeginningDateTime'])\n",
    "print(datainfo_thinned[1]['umm']['TemporalExtent']['RangeDateTime']['BeginningDateTime'])"
   ]
  },
  {
   "cell_type": "code",
   "execution_count": null,
   "id": "d658a41d-5d3a-4e90-bd2f-134a9f08aaec",
   "metadata": {},
   "outputs": [],
   "source": [
    "cluster = coiled.Cluster(\n",
    "    n_workers=25, \n",
    "    account=\"podaac-science\", \n",
    "    region=\"us-west-2\", \n",
    "    worker_vm_types=\"c7g.large\", # or can try \"m7a.medium\"\n",
    "    scheduler_vm_types=\"c7g.large\" # or can try \"m7a.medium\"\n",
    "    #name=''\n",
    "    ) \n",
    "client = cluster.get_client()"
   ]
  },
  {
   "cell_type": "code",
   "execution_count": null,
   "id": "62a8c70f-eadf-438a-98a3-5d24560ec11b",
   "metadata": {},
   "outputs": [],
   "source": [
    "%%time\n",
    "fileobjs = earthaccess.open(datainfo_thinned) # Generate file objects from the endpoints which are compatible with Xarray"
   ]
  },
  {
   "cell_type": "code",
   "execution_count": null,
   "id": "eb2366bc-4be1-4379-97cd-209488ea5cc0",
   "metadata": {},
   "outputs": [],
   "source": [
    "%%time\n",
    "\n",
    "## Load files and rechunk SST data:\n",
    "murdata = xr.open_mfdataset(fileobjs, parallel=True, chunks={'lat': 6000, 'lon': 6000, 'time': 1})\n",
    "sst = murdata[\"analysed_sst\"]\n",
    "sst = sst.chunk(chunks={'lat': 500, 'lon': 500, 'time': 200})\n",
    "sst"
   ]
  },
  {
   "cell_type": "code",
   "execution_count": null,
   "id": "0fb99a00-1077-473f-bb3c-02425b87dab3",
   "metadata": {},
   "outputs": [],
   "source": [
    "## ----------------\n",
    "## Set up analysis\n",
    "## ----------------\n",
    "## (Since we're dealing with dask arrays, these functions calls don't do the computations yet, just set them up)\n",
    "\n",
    "## Subset to region off U.S.A. west coast:\n",
    "sst_regional = sst.sel(lat=slice(*lat_region), lon=slice(*lon_region))\n",
    "\n",
    "## Remove linear warming trend:\n",
    "p = sst_regional.polyfit(dim='time', deg=1) # Degree 1 polynomial fit coefficients over time for each lat, lon.\n",
    "fit = xr.polyval(sst_regional['time'], p.polyfit_coefficients) # Compute linear trend time series at each lat, lon.\n",
    "sst_detrend = (sst_regional - fit) # xarray is smart enough to subtract along the time dim only.\n",
    "\n",
    "## Mean seasonal cycle:\n",
    "seasonal_cycle = sst_detrend.groupby(\"time.month\").mean(\"time\")"
   ]
  },
  {
   "cell_type": "code",
   "execution_count": null,
   "id": "8593c868-28de-478e-806c-97eae18d8e71",
   "metadata": {},
   "outputs": [],
   "source": [
    "%%time\n",
    "## ----------------\n",
    "## Compute it all!!\n",
    "## ----------------\n",
    "seasonal_cycle = seasonal_cycle.compute()\n",
    "cluster.scale(1)"
   ]
  },
  {
   "cell_type": "code",
   "execution_count": null,
   "id": "30a3f73f-39bf-4b36-8649-d14d99223730",
   "metadata": {},
   "outputs": [],
   "source": [
    "client.shutdown()\n",
    "cluster.shutdown()"
   ]
  },
  {
   "cell_type": "markdown",
   "id": "39534207-9d12-47e3-ba0d-3a986b9512c3",
   "metadata": {},
   "source": [
    "# Plot results"
   ]
  },
  {
   "cell_type": "code",
   "execution_count": null,
   "id": "48056892-de37-44a2-a528-6bad4359fa1d",
   "metadata": {},
   "outputs": [],
   "source": [
    "fig2, axes2 = plt.subplots(1, 2, figsize=(12, 4))\n",
    "\n",
    "## Replot the map and points from the test file:\n",
    "sst_test.sel(lat=slice(*lat_region), lon=slice(*lon_region)).plot(ax=axes2[0], cmap='RdYlBu_r')\n",
    "for lat, lon in zip(lat_points, lon_points):\n",
    "    axes2[0].scatter(lon, lat)\n",
    "\n",
    "## Seasonal cycles on another plot\n",
    "for lat, lon in zip(lat_points, lon_points):\n",
    "    scycle_point = seasonal_cycle.sel(lat=lat, lon=lon)\n",
    "    axes2[1].plot(scycle_point['month'], scycle_point.values, 'o-')\n",
    "\n",
    "axes2[1].set_title(\"Seasonal cycle of temperature anomalies \\n at four test points\", fontsize=14)\n",
    "axes2[1].set_xlabel(\"month\", fontsize=12)\n",
    "axes2[1].set_ylabel(r\"$\\Delta$T (K)\", fontsize=12)"
   ]
  },
  {
   "cell_type": "code",
   "execution_count": null,
   "id": "d23f5a1d-6b75-4d85-b6f3-1ea688688543",
   "metadata": {},
   "outputs": [],
   "source": []
  }
 ],
 "metadata": {
  "kernelspec": {
   "display_name": "Python 3 (ipykernel)",
   "language": "python",
   "name": "python3"
  },
  "language_info": {
   "codemirror_mode": {
    "name": "ipython",
    "version": 3
   },
   "file_extension": ".py",
   "mimetype": "text/x-python",
   "name": "python",
   "nbconvert_exporter": "python",
   "pygments_lexer": "ipython3",
   "version": "3.11.5"
  }
 },
 "nbformat": 4,
 "nbformat_minor": 5
}

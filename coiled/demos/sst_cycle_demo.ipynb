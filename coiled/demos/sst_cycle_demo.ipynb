{
 "cells": [
  {
   "cell_type": "markdown",
   "id": "0ca35470-26ba-4e06-bc4b-0670e003b2c1",
   "metadata": {},
   "source": [
    "# Parallel Computing with Earthdata in the Cloud\n",
    "## Processing a Large Data Set in Chunks Using `coiled.cluster()`, Example Use for an SST Seasonal Cycle Analysis\n",
    "\n",
    "#### *Authors: Dean Henze, NASA JPL PO.DAAC*\n",
    "\n",
    "*Reference herein to any specific commercial product, process, or service by trade name, trademark, manufacturer, or otherwise, does not constitute or imply its endorsement by the United States Government or the Jet Propulsion Laboratory, California Institute of Technology.*\n",
    "\n",
    "## Summary\n",
    "\n",
    "\n",
    "Previous notebooks have covered the use of Dask and parallel computing applied to the type of tasks in the schematic below, where we have a function which needs to work on a large data set as a whole. This could e.g. because the function works on some or all of the data from each of the files, so we can't just work on each file independently like in the function replication example.\n",
    "\n",
    "<img src=\"./schematic3.png\" alt=\"sch1\" width=\"500\"/>\n",
    "<img src=\"./schematic2.png\" alt=\"sch1\" width=\"500\"/>\n",
    "\n",
    "In a previous notebook, a toy example was used to demonstrate this basic functionality using a local dask cluster and Xarray built-in functions to work on the data set in chunks. In this notebook, we expand that workflow to a more complex analysis, representing something closer to a real-world use-case. In this notebook, we parallelize computations using the third party software/package `Coiled`. In short, `Coiled` will allow us to spin up AWS virtual machines (EC2 instances) and create a distributed cluster out of them, all with a few lines of Python from within this notebook. *You will need a Coiled account, but once set up, you can run this notebook entirely from your laptop while the parallel computation portion will be run on the distributed cluster in AWS.* \n",
    "\n",
    "\n",
    "#### Analysis: Mean Seasonal Cycle of SST Anomalies\n",
    "\n",
    "The analysis will generate the mean seasonal cycle of sea surface temperature (SST) at each gridpoint in a region of the west coast of the U.S.A. \n",
    "The analysis uses a PO.DAAC hosted gridded global SST data sets:\n",
    "* GHRSST Level 4 MUR Global Foundation SST Analysis, V4.1: 0.01° x 0.01° resolution, global map, daily files, https://doi.org/10.5067/GHGMR-4FJ04\n",
    "\n",
    "The analysis will use files over the first decade of the time record. The files will be thinned out to once per week for the purposes of this notebook, but uncompressed the data will still be ~1.3 TB in memory. The following procedure is used to generate seasonal cycles:\n",
    "\n",
    "<img src=\"./schematic_sst-cycle.png\" alt=\"sch_sst-ssh-corr\" width=\"800\"/>\n",
    "\n",
    "\n",
    "# ***!!!!Summarize section in this notebook!!!!***\n",
    "\n",
    "\n",
    "## Requirements, prerequisite knowledge, learning outcomes\n",
    "\n",
    "#### Requirements to run this notebook\n",
    "* **Earthdata login account:** An Earthdata Login account is required to access data from the NASA Earthdata system. Please visit https://urs.earthdata.nasa.gov to register and manage your Earthdata Login account. \n",
    "* **Coiled account:** Create a coiled account (free to sign up), and connect it to an AWS account. For more information on Coiled, setting up an account, and connecting it to an AWS account, see their website https://www.coiled.io. \n",
    "* **Compute environment:** This notebook can be run either in the cloud (AWS instance running in us-west-2), or on a local compute environment (e.g. laptop, server), but the data loading step currently works substantially faster in the cloud. In both cases, the parallel computations are still sent to VM's in the cloud.\n",
    "\n",
    "\n",
    "#### Prerequisite knowledge\n",
    "* The [notebook on Dask basics](https://podaac.github.io/tutorials/notebooks/Advanced_cloud/basic_dask.html) and all prerequisites therein.\n",
    "\n",
    "#### Learning outcomes\n",
    "This notebook demonstrates how to use Coiled with a distributed cluster to replicate a function over many files in parallel. You will get better insight on how to apply this workflow to your own analysis."
   ]
  },
  {
   "cell_type": "markdown",
   "id": "f03d2887-7f22-4610-8bd4-d04fe15083e2",
   "metadata": {},
   "source": [
    "## Import packages\n",
    "\n",
    "We ran this notebook in a Python 3.12.3 environment. The minimal working install we used to run this notebook from a clean environment was:\n",
    "\n",
    "*With pip:*\n",
    "\n",
    "```\n",
    "pip install xarray==2024.1.0 numpy==1.26.3 h5netcdf==1.3.0 \"dask[complete]\"==2024.5.2 earthaccess==0.9.0 matplotlib==3.8.0 coiled==1.28.0 jupyterlab\n",
    "```\n",
    "\n",
    "*or with conda:*\n",
    "\n",
    "```\n",
    "conda install -c conda-forge xarray==2024.1.0 numpy==1.26.3 h5netcdf==1.3.0 dask==2024.5.2 earthaccess==0.9.0 matplotlib==3.8.0 coiled==1.28.0 jupyterlab"
   ]
  },
  {
   "cell_type": "code",
   "execution_count": 2,
   "id": "b3d6b3ba-bdcd-4153-af18-86594768e14d",
   "metadata": {},
   "outputs": [],
   "source": [
    "## Version numbers listed next to each package:\n",
    "\n",
    "# Data location and access packages:\n",
    "import earthaccess                                 # 0.6.1\n",
    "\n",
    "# Analysis packages:\n",
    "import xarray as xr                                # 2023.9.0\n",
    "import numpy as np                                 # 1.26.0\n",
    "\n",
    "# Visualization packages:\n",
    "import matplotlib.pyplot as plt                    # 3.8.0\n",
    "%matplotlib inline\n",
    "\n",
    "# Cloud computing / dask packages:\n",
    "import coiled"
   ]
  },
  {
   "cell_type": "code",
   "execution_count": 3,
   "id": "cca49d37-ea6f-4873-8a85-0116b46c0a29",
   "metadata": {},
   "outputs": [
    {
     "data": {
      "text/plain": [
       "<xarray.core.options.set_options at 0x1655c9fd0>"
      ]
     },
     "execution_count": 3,
     "metadata": {},
     "output_type": "execute_result"
    }
   ],
   "source": [
    "xr.set_options( # display options for xarray objects\n",
    "    display_expand_attrs=False,\n",
    "    display_expand_coords=True,\n",
    "    display_expand_data=True,\n",
    ")"
   ]
  },
  {
   "cell_type": "markdown",
   "id": "31a80e30-93e8-4078-a385-7b8bfe99a59a",
   "metadata": {},
   "source": [
    "## 1. Locate MUR SST file access endpoints for first decade of record, inspect a file\n",
    "We use `earthaccess` to find metadata and endpoints for the files."
   ]
  },
  {
   "cell_type": "code",
   "execution_count": 4,
   "id": "3a287817-162c-4036-850b-f70f6843861a",
   "metadata": {},
   "outputs": [
    {
     "data": {
      "text/plain": [
       "<earthaccess.auth.Auth at 0x1114ea060>"
      ]
     },
     "execution_count": 4,
     "metadata": {},
     "output_type": "execute_result"
    }
   ],
   "source": [
    "earthaccess.login() # Login with your credentials"
   ]
  },
  {
   "cell_type": "code",
   "execution_count": 5,
   "id": "1efa9b57-7ab3-4918-a4e9-e64d38700e12",
   "metadata": {},
   "outputs": [
    {
     "name": "stdout",
     "output_type": "stream",
     "text": [
      "Granules found: 3988\n"
     ]
    }
   ],
   "source": [
    "datainfo = earthaccess.search_data(\n",
    "    short_name=\"MUR-JPL-L4-GLOB-v4.1\",\n",
    "    cloud_hosted=True,\n",
    "    temporal=(\"2002-01-01\", \"2013-05-01\"),\n",
    "    )"
   ]
  },
  {
   "cell_type": "markdown",
   "id": "8eb4644c-683c-46fb-abf1-0dc911104148",
   "metadata": {},
   "source": [
    "#### **Open and inspect a file**\n",
    "Open a file and plot the SST data in the region for our analysis."
   ]
  },
  {
   "cell_type": "code",
   "execution_count": 10,
   "id": "6fa56a14-307b-4298-adbd-d313335cc404",
   "metadata": {},
   "outputs": [
    {
     "name": "stdout",
     "output_type": "stream",
     "text": [
      "Opening 1 granules, approx size: 0.32 GB\n"
     ]
    },
    {
     "data": {
      "application/vnd.jupyter.widget-view+json": {
       "model_id": "d571117ffff346e68c290dd2a100c652",
       "version_major": 2,
       "version_minor": 0
      },
      "text/plain": [
       "QUEUEING TASKS | :   0%|          | 0/1 [00:00<?, ?it/s]"
      ]
     },
     "metadata": {},
     "output_type": "display_data"
    },
    {
     "data": {
      "application/vnd.jupyter.widget-view+json": {
       "model_id": "e502f80976ed445dac13a6e3ab85db04",
       "version_major": 2,
       "version_minor": 0
      },
      "text/plain": [
       "PROCESSING TASKS | :   0%|          | 0/1 [00:00<?, ?it/s]"
      ]
     },
     "metadata": {},
     "output_type": "display_data"
    },
    {
     "data": {
      "application/vnd.jupyter.widget-view+json": {
       "model_id": "311d39162f2149278f6f1fee86375b6c",
       "version_major": 2,
       "version_minor": 0
      },
      "text/plain": [
       "COLLECTING RESULTS | :   0%|          | 0/1 [00:00<?, ?it/s]"
      ]
     },
     "metadata": {},
     "output_type": "display_data"
    },
    {
     "data": {
      "text/html": [
       "<div><svg style=\"position: absolute; width: 0; height: 0; overflow: hidden\">\n",
       "<defs>\n",
       "<symbol id=\"icon-database\" viewBox=\"0 0 32 32\">\n",
       "<path d=\"M16 0c-8.837 0-16 2.239-16 5v4c0 2.761 7.163 5 16 5s16-2.239 16-5v-4c0-2.761-7.163-5-16-5z\"></path>\n",
       "<path d=\"M16 17c-8.837 0-16-2.239-16-5v6c0 2.761 7.163 5 16 5s16-2.239 16-5v-6c0 2.761-7.163 5-16 5z\"></path>\n",
       "<path d=\"M16 26c-8.837 0-16-2.239-16-5v6c0 2.761 7.163 5 16 5s16-2.239 16-5v-6c0 2.761-7.163 5-16 5z\"></path>\n",
       "</symbol>\n",
       "<symbol id=\"icon-file-text2\" viewBox=\"0 0 32 32\">\n",
       "<path d=\"M28.681 7.159c-0.694-0.947-1.662-2.053-2.724-3.116s-2.169-2.030-3.116-2.724c-1.612-1.182-2.393-1.319-2.841-1.319h-15.5c-1.378 0-2.5 1.121-2.5 2.5v27c0 1.378 1.122 2.5 2.5 2.5h23c1.378 0 2.5-1.122 2.5-2.5v-19.5c0-0.448-0.137-1.23-1.319-2.841zM24.543 5.457c0.959 0.959 1.712 1.825 2.268 2.543h-4.811v-4.811c0.718 0.556 1.584 1.309 2.543 2.268zM28 29.5c0 0.271-0.229 0.5-0.5 0.5h-23c-0.271 0-0.5-0.229-0.5-0.5v-27c0-0.271 0.229-0.5 0.5-0.5 0 0 15.499-0 15.5 0v7c0 0.552 0.448 1 1 1h7v19.5z\"></path>\n",
       "<path d=\"M23 26h-14c-0.552 0-1-0.448-1-1s0.448-1 1-1h14c0.552 0 1 0.448 1 1s-0.448 1-1 1z\"></path>\n",
       "<path d=\"M23 22h-14c-0.552 0-1-0.448-1-1s0.448-1 1-1h14c0.552 0 1 0.448 1 1s-0.448 1-1 1z\"></path>\n",
       "<path d=\"M23 18h-14c-0.552 0-1-0.448-1-1s0.448-1 1-1h14c0.552 0 1 0.448 1 1s-0.448 1-1 1z\"></path>\n",
       "</symbol>\n",
       "</defs>\n",
       "</svg>\n",
       "<style>/* CSS stylesheet for displaying xarray objects in jupyterlab.\n",
       " *\n",
       " */\n",
       "\n",
       ":root {\n",
       "  --xr-font-color0: var(--jp-content-font-color0, rgba(0, 0, 0, 1));\n",
       "  --xr-font-color2: var(--jp-content-font-color2, rgba(0, 0, 0, 0.54));\n",
       "  --xr-font-color3: var(--jp-content-font-color3, rgba(0, 0, 0, 0.38));\n",
       "  --xr-border-color: var(--jp-border-color2, #e0e0e0);\n",
       "  --xr-disabled-color: var(--jp-layout-color3, #bdbdbd);\n",
       "  --xr-background-color: var(--jp-layout-color0, white);\n",
       "  --xr-background-color-row-even: var(--jp-layout-color1, white);\n",
       "  --xr-background-color-row-odd: var(--jp-layout-color2, #eeeeee);\n",
       "}\n",
       "\n",
       "html[theme=dark],\n",
       "body[data-theme=dark],\n",
       "body.vscode-dark {\n",
       "  --xr-font-color0: rgba(255, 255, 255, 1);\n",
       "  --xr-font-color2: rgba(255, 255, 255, 0.54);\n",
       "  --xr-font-color3: rgba(255, 255, 255, 0.38);\n",
       "  --xr-border-color: #1F1F1F;\n",
       "  --xr-disabled-color: #515151;\n",
       "  --xr-background-color: #111111;\n",
       "  --xr-background-color-row-even: #111111;\n",
       "  --xr-background-color-row-odd: #313131;\n",
       "}\n",
       "\n",
       ".xr-wrap {\n",
       "  display: block !important;\n",
       "  min-width: 300px;\n",
       "  max-width: 700px;\n",
       "}\n",
       "\n",
       ".xr-text-repr-fallback {\n",
       "  /* fallback to plain text repr when CSS is not injected (untrusted notebook) */\n",
       "  display: none;\n",
       "}\n",
       "\n",
       ".xr-header {\n",
       "  padding-top: 6px;\n",
       "  padding-bottom: 6px;\n",
       "  margin-bottom: 4px;\n",
       "  border-bottom: solid 1px var(--xr-border-color);\n",
       "}\n",
       "\n",
       ".xr-header > div,\n",
       ".xr-header > ul {\n",
       "  display: inline;\n",
       "  margin-top: 0;\n",
       "  margin-bottom: 0;\n",
       "}\n",
       "\n",
       ".xr-obj-type,\n",
       ".xr-array-name {\n",
       "  margin-left: 2px;\n",
       "  margin-right: 10px;\n",
       "}\n",
       "\n",
       ".xr-obj-type {\n",
       "  color: var(--xr-font-color2);\n",
       "}\n",
       "\n",
       ".xr-sections {\n",
       "  padding-left: 0 !important;\n",
       "  display: grid;\n",
       "  grid-template-columns: 150px auto auto 1fr 20px 20px;\n",
       "}\n",
       "\n",
       ".xr-section-item {\n",
       "  display: contents;\n",
       "}\n",
       "\n",
       ".xr-section-item input {\n",
       "  display: none;\n",
       "}\n",
       "\n",
       ".xr-section-item input + label {\n",
       "  color: var(--xr-disabled-color);\n",
       "}\n",
       "\n",
       ".xr-section-item input:enabled + label {\n",
       "  cursor: pointer;\n",
       "  color: var(--xr-font-color2);\n",
       "}\n",
       "\n",
       ".xr-section-item input:enabled + label:hover {\n",
       "  color: var(--xr-font-color0);\n",
       "}\n",
       "\n",
       ".xr-section-summary {\n",
       "  grid-column: 1;\n",
       "  color: var(--xr-font-color2);\n",
       "  font-weight: 500;\n",
       "}\n",
       "\n",
       ".xr-section-summary > span {\n",
       "  display: inline-block;\n",
       "  padding-left: 0.5em;\n",
       "}\n",
       "\n",
       ".xr-section-summary-in:disabled + label {\n",
       "  color: var(--xr-font-color2);\n",
       "}\n",
       "\n",
       ".xr-section-summary-in + label:before {\n",
       "  display: inline-block;\n",
       "  content: '►';\n",
       "  font-size: 11px;\n",
       "  width: 15px;\n",
       "  text-align: center;\n",
       "}\n",
       "\n",
       ".xr-section-summary-in:disabled + label:before {\n",
       "  color: var(--xr-disabled-color);\n",
       "}\n",
       "\n",
       ".xr-section-summary-in:checked + label:before {\n",
       "  content: '▼';\n",
       "}\n",
       "\n",
       ".xr-section-summary-in:checked + label > span {\n",
       "  display: none;\n",
       "}\n",
       "\n",
       ".xr-section-summary,\n",
       ".xr-section-inline-details {\n",
       "  padding-top: 4px;\n",
       "  padding-bottom: 4px;\n",
       "}\n",
       "\n",
       ".xr-section-inline-details {\n",
       "  grid-column: 2 / -1;\n",
       "}\n",
       "\n",
       ".xr-section-details {\n",
       "  display: none;\n",
       "  grid-column: 1 / -1;\n",
       "  margin-bottom: 5px;\n",
       "}\n",
       "\n",
       ".xr-section-summary-in:checked ~ .xr-section-details {\n",
       "  display: contents;\n",
       "}\n",
       "\n",
       ".xr-array-wrap {\n",
       "  grid-column: 1 / -1;\n",
       "  display: grid;\n",
       "  grid-template-columns: 20px auto;\n",
       "}\n",
       "\n",
       ".xr-array-wrap > label {\n",
       "  grid-column: 1;\n",
       "  vertical-align: top;\n",
       "}\n",
       "\n",
       ".xr-preview {\n",
       "  color: var(--xr-font-color3);\n",
       "}\n",
       "\n",
       ".xr-array-preview,\n",
       ".xr-array-data {\n",
       "  padding: 0 5px !important;\n",
       "  grid-column: 2;\n",
       "}\n",
       "\n",
       ".xr-array-data,\n",
       ".xr-array-in:checked ~ .xr-array-preview {\n",
       "  display: none;\n",
       "}\n",
       "\n",
       ".xr-array-in:checked ~ .xr-array-data,\n",
       ".xr-array-preview {\n",
       "  display: inline-block;\n",
       "}\n",
       "\n",
       ".xr-dim-list {\n",
       "  display: inline-block !important;\n",
       "  list-style: none;\n",
       "  padding: 0 !important;\n",
       "  margin: 0;\n",
       "}\n",
       "\n",
       ".xr-dim-list li {\n",
       "  display: inline-block;\n",
       "  padding: 0;\n",
       "  margin: 0;\n",
       "}\n",
       "\n",
       ".xr-dim-list:before {\n",
       "  content: '(';\n",
       "}\n",
       "\n",
       ".xr-dim-list:after {\n",
       "  content: ')';\n",
       "}\n",
       "\n",
       ".xr-dim-list li:not(:last-child):after {\n",
       "  content: ',';\n",
       "  padding-right: 5px;\n",
       "}\n",
       "\n",
       ".xr-has-index {\n",
       "  font-weight: bold;\n",
       "}\n",
       "\n",
       ".xr-var-list,\n",
       ".xr-var-item {\n",
       "  display: contents;\n",
       "}\n",
       "\n",
       ".xr-var-item > div,\n",
       ".xr-var-item label,\n",
       ".xr-var-item > .xr-var-name span {\n",
       "  background-color: var(--xr-background-color-row-even);\n",
       "  margin-bottom: 0;\n",
       "}\n",
       "\n",
       ".xr-var-item > .xr-var-name:hover span {\n",
       "  padding-right: 5px;\n",
       "}\n",
       "\n",
       ".xr-var-list > li:nth-child(odd) > div,\n",
       ".xr-var-list > li:nth-child(odd) > label,\n",
       ".xr-var-list > li:nth-child(odd) > .xr-var-name span {\n",
       "  background-color: var(--xr-background-color-row-odd);\n",
       "}\n",
       "\n",
       ".xr-var-name {\n",
       "  grid-column: 1;\n",
       "}\n",
       "\n",
       ".xr-var-dims {\n",
       "  grid-column: 2;\n",
       "}\n",
       "\n",
       ".xr-var-dtype {\n",
       "  grid-column: 3;\n",
       "  text-align: right;\n",
       "  color: var(--xr-font-color2);\n",
       "}\n",
       "\n",
       ".xr-var-preview {\n",
       "  grid-column: 4;\n",
       "}\n",
       "\n",
       ".xr-index-preview {\n",
       "  grid-column: 2 / 5;\n",
       "  color: var(--xr-font-color2);\n",
       "}\n",
       "\n",
       ".xr-var-name,\n",
       ".xr-var-dims,\n",
       ".xr-var-dtype,\n",
       ".xr-preview,\n",
       ".xr-attrs dt {\n",
       "  white-space: nowrap;\n",
       "  overflow: hidden;\n",
       "  text-overflow: ellipsis;\n",
       "  padding-right: 10px;\n",
       "}\n",
       "\n",
       ".xr-var-name:hover,\n",
       ".xr-var-dims:hover,\n",
       ".xr-var-dtype:hover,\n",
       ".xr-attrs dt:hover {\n",
       "  overflow: visible;\n",
       "  width: auto;\n",
       "  z-index: 1;\n",
       "}\n",
       "\n",
       ".xr-var-attrs,\n",
       ".xr-var-data,\n",
       ".xr-index-data {\n",
       "  display: none;\n",
       "  background-color: var(--xr-background-color) !important;\n",
       "  padding-bottom: 5px !important;\n",
       "}\n",
       "\n",
       ".xr-var-attrs-in:checked ~ .xr-var-attrs,\n",
       ".xr-var-data-in:checked ~ .xr-var-data,\n",
       ".xr-index-data-in:checked ~ .xr-index-data {\n",
       "  display: block;\n",
       "}\n",
       "\n",
       ".xr-var-data > table {\n",
       "  float: right;\n",
       "}\n",
       "\n",
       ".xr-var-name span,\n",
       ".xr-var-data,\n",
       ".xr-index-name div,\n",
       ".xr-index-data,\n",
       ".xr-attrs {\n",
       "  padding-left: 25px !important;\n",
       "}\n",
       "\n",
       ".xr-attrs,\n",
       ".xr-var-attrs,\n",
       ".xr-var-data,\n",
       ".xr-index-data {\n",
       "  grid-column: 1 / -1;\n",
       "}\n",
       "\n",
       "dl.xr-attrs {\n",
       "  padding: 0;\n",
       "  margin: 0;\n",
       "  display: grid;\n",
       "  grid-template-columns: 125px auto;\n",
       "}\n",
       "\n",
       ".xr-attrs dt,\n",
       ".xr-attrs dd {\n",
       "  padding: 0;\n",
       "  margin: 0;\n",
       "  float: left;\n",
       "  padding-right: 10px;\n",
       "  width: auto;\n",
       "}\n",
       "\n",
       ".xr-attrs dt {\n",
       "  font-weight: normal;\n",
       "  grid-column: 1;\n",
       "}\n",
       "\n",
       ".xr-attrs dt:hover span {\n",
       "  display: inline-block;\n",
       "  background: var(--xr-background-color);\n",
       "  padding-right: 10px;\n",
       "}\n",
       "\n",
       ".xr-attrs dd {\n",
       "  grid-column: 2;\n",
       "  white-space: pre-wrap;\n",
       "  word-break: break-all;\n",
       "}\n",
       "\n",
       ".xr-icon-database,\n",
       ".xr-icon-file-text2,\n",
       ".xr-no-icon {\n",
       "  display: inline-block;\n",
       "  vertical-align: middle;\n",
       "  width: 1em;\n",
       "  height: 1.5em !important;\n",
       "  stroke-width: 0;\n",
       "  stroke: currentColor;\n",
       "  fill: currentColor;\n",
       "}\n",
       "</style><pre class='xr-text-repr-fallback'>&lt;xarray.DataArray &#x27;analysed_sst&#x27; (time: 1, lat: 17999, lon: 36000)&gt;\n",
       "[647964000 values with dtype=float32]\n",
       "Coordinates:\n",
       "  * time     (time) datetime64[ns] 2002-06-01T09:00:00\n",
       "  * lat      (lat) float32 -89.99 -89.98 -89.97 -89.96 ... 89.97 89.98 89.99\n",
       "  * lon      (lon) float32 -180.0 -180.0 -180.0 -180.0 ... 180.0 180.0 180.0\n",
       "Attributes: (7)</pre><div class='xr-wrap' style='display:none'><div class='xr-header'><div class='xr-obj-type'>xarray.DataArray</div><div class='xr-array-name'>'analysed_sst'</div><ul class='xr-dim-list'><li><span class='xr-has-index'>time</span>: 1</li><li><span class='xr-has-index'>lat</span>: 17999</li><li><span class='xr-has-index'>lon</span>: 36000</li></ul></div><ul class='xr-sections'><li class='xr-section-item'><div class='xr-array-wrap'><input id='section-e04db2aa-e66f-4836-a176-7e4cf8574054' class='xr-array-in' type='checkbox' checked><label for='section-e04db2aa-e66f-4836-a176-7e4cf8574054' title='Show/hide data repr'><svg class='icon xr-icon-database'><use xlink:href='#icon-database'></use></svg></label><div class='xr-array-preview xr-preview'><span>...</span></div><div class='xr-array-data'><pre>[647964000 values with dtype=float32]</pre></div></div></li><li class='xr-section-item'><input id='section-b8d81dcd-a81e-4399-9e72-a545b4778b9f' class='xr-section-summary-in' type='checkbox'  checked><label for='section-b8d81dcd-a81e-4399-9e72-a545b4778b9f' class='xr-section-summary' >Coordinates: <span>(3)</span></label><div class='xr-section-inline-details'></div><div class='xr-section-details'><ul class='xr-var-list'><li class='xr-var-item'><div class='xr-var-name'><span class='xr-has-index'>time</span></div><div class='xr-var-dims'>(time)</div><div class='xr-var-dtype'>datetime64[ns]</div><div class='xr-var-preview xr-preview'>2002-06-01T09:00:00</div><input id='attrs-f38c3abb-3a23-490b-a393-db46496db512' class='xr-var-attrs-in' type='checkbox' ><label for='attrs-f38c3abb-3a23-490b-a393-db46496db512' title='Show/Hide attributes'><svg class='icon xr-icon-file-text2'><use xlink:href='#icon-file-text2'></use></svg></label><input id='data-e48629d8-d99d-46b8-881d-975f929cdd48' class='xr-var-data-in' type='checkbox'><label for='data-e48629d8-d99d-46b8-881d-975f929cdd48' title='Show/Hide data repr'><svg class='icon xr-icon-database'><use xlink:href='#icon-database'></use></svg></label><div class='xr-var-attrs'><dl class='xr-attrs'><dt><span>long_name :</span></dt><dd>reference time of sst field</dd><dt><span>standard_name :</span></dt><dd>time</dd><dt><span>axis :</span></dt><dd>T</dd><dt><span>comment :</span></dt><dd>Nominal time of analyzed fields</dd></dl></div><div class='xr-var-data'><pre>array([&#x27;2002-06-01T09:00:00.000000000&#x27;], dtype=&#x27;datetime64[ns]&#x27;)</pre></div></li><li class='xr-var-item'><div class='xr-var-name'><span class='xr-has-index'>lat</span></div><div class='xr-var-dims'>(lat)</div><div class='xr-var-dtype'>float32</div><div class='xr-var-preview xr-preview'>-89.99 -89.98 ... 89.98 89.99</div><input id='attrs-ddddc564-f71c-45eb-aade-559684e82aa3' class='xr-var-attrs-in' type='checkbox' ><label for='attrs-ddddc564-f71c-45eb-aade-559684e82aa3' title='Show/Hide attributes'><svg class='icon xr-icon-file-text2'><use xlink:href='#icon-file-text2'></use></svg></label><input id='data-ed67d079-09da-471d-8b77-c1631d9dfa4b' class='xr-var-data-in' type='checkbox'><label for='data-ed67d079-09da-471d-8b77-c1631d9dfa4b' title='Show/Hide data repr'><svg class='icon xr-icon-database'><use xlink:href='#icon-database'></use></svg></label><div class='xr-var-attrs'><dl class='xr-attrs'><dt><span>long_name :</span></dt><dd>latitude</dd><dt><span>standard_name :</span></dt><dd>latitude</dd><dt><span>axis :</span></dt><dd>Y</dd><dt><span>units :</span></dt><dd>degrees_north</dd><dt><span>valid_min :</span></dt><dd>-90.0</dd><dt><span>valid_max :</span></dt><dd>90.0</dd><dt><span>comment :</span></dt><dd>none</dd></dl></div><div class='xr-var-data'><pre>array([-89.99, -89.98, -89.97, ...,  89.97,  89.98,  89.99], dtype=float32)</pre></div></li><li class='xr-var-item'><div class='xr-var-name'><span class='xr-has-index'>lon</span></div><div class='xr-var-dims'>(lon)</div><div class='xr-var-dtype'>float32</div><div class='xr-var-preview xr-preview'>-180.0 -180.0 ... 180.0 180.0</div><input id='attrs-ec0fc456-9233-4eb2-b505-c2a3069be569' class='xr-var-attrs-in' type='checkbox' ><label for='attrs-ec0fc456-9233-4eb2-b505-c2a3069be569' title='Show/Hide attributes'><svg class='icon xr-icon-file-text2'><use xlink:href='#icon-file-text2'></use></svg></label><input id='data-d79890f8-c821-4f3e-9aa2-a4e49b9e2a62' class='xr-var-data-in' type='checkbox'><label for='data-d79890f8-c821-4f3e-9aa2-a4e49b9e2a62' title='Show/Hide data repr'><svg class='icon xr-icon-database'><use xlink:href='#icon-database'></use></svg></label><div class='xr-var-attrs'><dl class='xr-attrs'><dt><span>long_name :</span></dt><dd>longitude</dd><dt><span>standard_name :</span></dt><dd>longitude</dd><dt><span>axis :</span></dt><dd>X</dd><dt><span>units :</span></dt><dd>degrees_east</dd><dt><span>valid_min :</span></dt><dd>-180.0</dd><dt><span>valid_max :</span></dt><dd>180.0</dd><dt><span>comment :</span></dt><dd>none</dd></dl></div><div class='xr-var-data'><pre>array([-179.99, -179.98, -179.97, ...,  179.98,  179.99,  180.  ],\n",
       "      dtype=float32)</pre></div></li></ul></div></li><li class='xr-section-item'><input id='section-c74ddef3-5985-45ba-a43b-8a291c2209bf' class='xr-section-summary-in' type='checkbox'  ><label for='section-c74ddef3-5985-45ba-a43b-8a291c2209bf' class='xr-section-summary' >Indexes: <span>(3)</span></label><div class='xr-section-inline-details'></div><div class='xr-section-details'><ul class='xr-var-list'><li class='xr-var-item'><div class='xr-index-name'><div>time</div></div><div class='xr-index-preview'>PandasIndex</div><div></div><input id='index-454288ba-5321-48a5-bc0c-5e3ef7393ee4' class='xr-index-data-in' type='checkbox'/><label for='index-454288ba-5321-48a5-bc0c-5e3ef7393ee4' title='Show/Hide index repr'><svg class='icon xr-icon-database'><use xlink:href='#icon-database'></use></svg></label><div class='xr-index-data'><pre>PandasIndex(DatetimeIndex([&#x27;2002-06-01 09:00:00&#x27;], dtype=&#x27;datetime64[ns]&#x27;, name=&#x27;time&#x27;, freq=None))</pre></div></li><li class='xr-var-item'><div class='xr-index-name'><div>lat</div></div><div class='xr-index-preview'>PandasIndex</div><div></div><input id='index-51ac4406-d033-47dd-b15b-63e04a7281a6' class='xr-index-data-in' type='checkbox'/><label for='index-51ac4406-d033-47dd-b15b-63e04a7281a6' title='Show/Hide index repr'><svg class='icon xr-icon-database'><use xlink:href='#icon-database'></use></svg></label><div class='xr-index-data'><pre>PandasIndex(Index([-89.98999786376953,  -89.9800033569336, -89.97000122070312,\n",
       "       -89.95999908447266, -89.94999694824219, -89.94000244140625,\n",
       "       -89.93000030517578, -89.91999816894531, -89.91000366210938,\n",
       "        -89.9000015258789,\n",
       "       ...\n",
       "         89.9000015258789,  89.91000366210938,  89.91999816894531,\n",
       "        89.93000030517578,  89.94000244140625,  89.94999694824219,\n",
       "        89.95999908447266,  89.97000122070312,   89.9800033569336,\n",
       "        89.98999786376953],\n",
       "      dtype=&#x27;float32&#x27;, name=&#x27;lat&#x27;, length=17999))</pre></div></li><li class='xr-var-item'><div class='xr-index-name'><div>lon</div></div><div class='xr-index-preview'>PandasIndex</div><div></div><input id='index-4bf52d19-a270-4f6c-8fc7-1eb445628558' class='xr-index-data-in' type='checkbox'/><label for='index-4bf52d19-a270-4f6c-8fc7-1eb445628558' title='Show/Hide index repr'><svg class='icon xr-icon-database'><use xlink:href='#icon-database'></use></svg></label><div class='xr-index-data'><pre>PandasIndex(Index([-179.99000549316406, -179.97999572753906, -179.97000122070312,\n",
       "        -179.9600067138672,  -179.9499969482422, -179.94000244140625,\n",
       "       -179.92999267578125,  -179.9199981689453, -179.91000366210938,\n",
       "       -179.89999389648438,\n",
       "       ...\n",
       "        179.91000366210938,   179.9199981689453,  179.92999267578125,\n",
       "        179.94000244140625,   179.9499969482422,   179.9600067138672,\n",
       "        179.97000122070312,  179.97999572753906,  179.99000549316406,\n",
       "                     180.0],\n",
       "      dtype=&#x27;float32&#x27;, name=&#x27;lon&#x27;, length=36000))</pre></div></li></ul></div></li><li class='xr-section-item'><input id='section-8798af3f-8209-4109-9040-bf18fe5801e4' class='xr-section-summary-in' type='checkbox'  ><label for='section-8798af3f-8209-4109-9040-bf18fe5801e4' class='xr-section-summary' >Attributes: <span>(7)</span></label><div class='xr-section-inline-details'></div><div class='xr-section-details'><dl class='xr-attrs'><dt><span>long_name :</span></dt><dd>analysed sea surface temperature</dd><dt><span>standard_name :</span></dt><dd>sea_surface_foundation_temperature</dd><dt><span>units :</span></dt><dd>kelvin</dd><dt><span>valid_min :</span></dt><dd>-32767</dd><dt><span>valid_max :</span></dt><dd>32767</dd><dt><span>comment :</span></dt><dd>&quot;Final&quot; version using Multi-Resolution Variational Analysis (MRVA) method for interpolation</dd><dt><span>source :</span></dt><dd>AMSRE-REMSS, AVHRR_Pathfinder-PFV5.2-NODC_day, AVHRR_Pathfinder-PFV5.2-NODC_night, MODIS_T-JPL, iQUAM-NOAA/NESDIS, Ice_Conc-OSISAF</dd></dl></div></li></ul></div></div>"
      ],
      "text/plain": [
       "<xarray.DataArray 'analysed_sst' (time: 1, lat: 17999, lon: 36000)>\n",
       "[647964000 values with dtype=float32]\n",
       "Coordinates:\n",
       "  * time     (time) datetime64[ns] 2002-06-01T09:00:00\n",
       "  * lat      (lat) float32 -89.99 -89.98 -89.97 -89.96 ... 89.97 89.98 89.99\n",
       "  * lon      (lon) float32 -180.0 -180.0 -180.0 -180.0 ... 180.0 180.0 180.0\n",
       "Attributes: (7)"
      ]
     },
     "execution_count": 10,
     "metadata": {},
     "output_type": "execute_result"
    }
   ],
   "source": [
    "fileobj_test = earthaccess.open([datainfo[0]])[0] # Generate file objects from the endpoints which are compatible with Xarray\n",
    "sst_test = xr.open_dataset(fileobj_test)['analysed_sst']\n",
    "sst_test"
   ]
  },
  {
   "cell_type": "code",
   "execution_count": 18,
   "id": "8f673f26-19dc-4a7c-a524-517bf7e7e710",
   "metadata": {},
   "outputs": [],
   "source": [
    "# Region to perform analysis over:\n",
    "lat_region = (30, 45)\n",
    "lon_region = (-135, -105)"
   ]
  },
  {
   "cell_type": "code",
   "execution_count": 19,
   "id": "12258854-db0a-45ae-bbcb-c7e8d9ea3f45",
   "metadata": {},
   "outputs": [
    {
     "data": {
      "text/plain": [
       "<matplotlib.collections.QuadMesh at 0x168e00950>"
      ]
     },
     "execution_count": 19,
     "metadata": {},
     "output_type": "execute_result"
    },
    {
     "data": {
      "image/png": "[encoded data removed]",
      "text/plain": [
       "<Figure size 640x480 with 2 Axes>"
      ]
     },
     "metadata": {},
     "output_type": "display_data"
    }
   ],
   "source": [
    "## Plot SST in analysis region:\n",
    "fig = plt.figure()\n",
    "sst_test.sel(lat=slice(*lat_region), lon=slice(*lon_region)).plot(cmap='RdYlBu_r')"
   ]
  },
  {
   "cell_type": "markdown",
   "id": "7dea4856-c714-4ed2-9b6e-389693a9a84b",
   "metadata": {},
   "source": [
    "#### **Memory considerations**\n",
    "Demonstrating that these are fairly large files, especially uncompressed, at the time this notebook was written:"
   ]
  },
  {
   "cell_type": "code",
   "execution_count": 20,
   "id": "f8cc85ec-735f-4ab9-ac7f-5f6c0572f06d",
   "metadata": {},
   "outputs": [
    {
     "name": "stdout",
     "output_type": "stream",
     "text": [
      "Disk size of one file = 332.3598403930664 MB.\n"
     ]
    }
   ],
   "source": [
    "print(\"Disk size of one file =\", datainfo[0]['size'], \"MB.\")"
   ]
  },
  {
   "cell_type": "code",
   "execution_count": 22,
   "id": "67d9640e-0f31-436a-9791-478becfcd65f",
   "metadata": {},
   "outputs": [
    {
     "name": "stdout",
     "output_type": "stream",
     "text": [
      "Size in-memory of the SST variable once uncompressed = 2.591856 GB.\n"
     ]
    }
   ],
   "source": [
    "print(\"Size in-memory of the SST variable once uncompressed =\", sst_test.nbytes/10**9, \"GB.\")"
   ]
  },
  {
   "cell_type": "markdown",
   "id": "f9902b32-3351-4544-b056-61445d37967f",
   "metadata": {},
   "source": [
    "## 2. Seasonal cycle at weekly temporal resolution"
   ]
  },
  {
   "cell_type": "code",
   "execution_count": null,
   "id": "cdbe1018-8db6-4321-a533-c42452a6a848",
   "metadata": {},
   "outputs": [],
   "source": [
    "## Thin out data files to get weekly temporal resolution for this demo:\n",
    "datainfo_thinned = [datainfo[i] for i in range(len(datainfo)) if i%7==0]"
   ]
  },
  {
   "cell_type": "code",
   "execution_count": null,
   "id": "4cd312de-5fe3-4144-af4d-d2e1860a1df0",
   "metadata": {},
   "outputs": [],
   "source": [
    "## Confirm we have about a decade of files and at weekly resolution:\n",
    "print(\"First and last file times \\n--------------------------\")\n",
    "print(datainfo_thinned[0]['umm']['TemporalExtent']['RangeDateTime']['BeginningDateTime'])\n",
    "print(datainfo_thinned[-1]['umm']['TemporalExtent']['RangeDateTime']['BeginningDateTime'])\n",
    "print(\"\\nFirst and second file times \\n--------------------------\")\n",
    "print(datainfo_thinned[0]['umm']['TemporalExtent']['RangeDateTime']['BeginningDateTime'])\n",
    "print(datainfo_thinned[1]['umm']['TemporalExtent']['RangeDateTime']['BeginningDateTime'])"
   ]
  },
  {
   "cell_type": "code",
   "execution_count": null,
   "id": "d658a41d-5d3a-4e90-bd2f-134a9f08aaec",
   "metadata": {},
   "outputs": [],
   "source": [
    "cluster = coiled.Cluster(\n",
    "    n_workers=25, \n",
    "    region=\"us-west-2\", \n",
    "    worker_vm_types=\"c7g.large\", # or can try \"m7a.medium\"\n",
    "    scheduler_vm_types=\"c7g.large\" # or can try \"m7a.medium\"\n",
    "    ) \n",
    "client = cluster.get_client()"
   ]
  },
  {
   "cell_type": "code",
   "execution_count": null,
   "id": "62a8c70f-eadf-438a-98a3-5d24560ec11b",
   "metadata": {},
   "outputs": [],
   "source": [
    "%%time\n",
    "fileobjs = earthaccess.open(datainfo_thinned) # Generate file objects from the endpoints which are compatible with Xarray"
   ]
  },
  {
   "cell_type": "code",
   "execution_count": null,
   "id": "eb2366bc-4be1-4379-97cd-209488ea5cc0",
   "metadata": {},
   "outputs": [],
   "source": [
    "%%time\n",
    "\n",
    "## Load files and rechunk SST data:\n",
    "murdata = xr.open_mfdataset(fileobjs, parallel=True, chunks={'lat': 6000, 'lon': 6000, 'time': 1})\n",
    "sst = murdata[\"analysed_sst\"]\n",
    "sst = sst.chunk(chunks={'lat': 500, 'lon': 500, 'time': 200})\n",
    "sst"
   ]
  },
  {
   "cell_type": "code",
   "execution_count": null,
   "id": "0fb99a00-1077-473f-bb3c-02425b87dab3",
   "metadata": {},
   "outputs": [],
   "source": [
    "## ----------------\n",
    "## Set up analysis\n",
    "## ----------------\n",
    "## (Since we're dealing with dask arrays, these functions calls don't do the computations yet, just set them up)\n",
    "\n",
    "## Subset to region off U.S.A. west coast:\n",
    "sst_regional = sst.sel(lat=slice(*lat_region), lon=slice(*lon_region))\n",
    "\n",
    "## Remove linear warming trend:\n",
    "p = sst_regional.polyfit(dim='time', deg=1) # Degree 1 polynomial fit coefficients over time for each lat, lon.\n",
    "fit = xr.polyval(sst_regional['time'], p.polyfit_coefficients) # Compute linear trend time series at each lat, lon.\n",
    "sst_detrend = (sst_regional - fit) # xarray is smart enough to subtract along the time dim only.\n",
    "\n",
    "## Mean seasonal cycle:\n",
    "seasonal_cycle = sst_detrend.groupby(\"time.month\").mean(\"time\")"
   ]
  },
  {
   "cell_type": "code",
   "execution_count": null,
   "id": "8593c868-28de-478e-806c-97eae18d8e71",
   "metadata": {},
   "outputs": [],
   "source": [
    "%%time\n",
    "## ----------------\n",
    "## Compute it all!!\n",
    "## ----------------\n",
    "seasonal_cycle = seasonal_cycle.compute()\n",
    "cluster.scale(1)"
   ]
  },
  {
   "cell_type": "code",
   "execution_count": null,
   "id": "30a3f73f-39bf-4b36-8649-d14d99223730",
   "metadata": {},
   "outputs": [],
   "source": [
    "client.shutdown()\n",
    "cluster.shutdown()"
   ]
  },
  {
   "cell_type": "markdown",
   "id": "39534207-9d12-47e3-ba0d-3a986b9512c3",
   "metadata": {},
   "source": [
    "#### **Plot results**"
   ]
  },
  {
   "cell_type": "code",
   "execution_count": null,
   "id": "f1200cfb-4d8e-441d-b304-78c0e0feb95d",
   "metadata": {},
   "outputs": [],
   "source": [
    "# Points to plot seasonal cycle at:\n",
    "lat_points = (38, 38, 38, 38)\n",
    "lon_points = (-123.25, -125, -128, -132)"
   ]
  },
  {
   "cell_type": "code",
   "execution_count": null,
   "id": "48056892-de37-44a2-a528-6bad4359fa1d",
   "metadata": {},
   "outputs": [],
   "source": [
    "fig2, axes2 = plt.subplots(1, 2, figsize=(12, 4))\n",
    "\n",
    "## Replot the map and points from the test file:\n",
    "sst_test.sel(lat=slice(*lat_region), lon=slice(*lon_region)).plot(ax=axes2[0], cmap='RdYlBu_r')\n",
    "for lat, lon in zip(lat_points, lon_points):\n",
    "    axes2[0].scatter(lon, lat)\n",
    "\n",
    "## Seasonal cycles on another plot\n",
    "for lat, lon in zip(lat_points, lon_points):\n",
    "    scycle_point = seasonal_cycle.sel(lat=lat, lon=lon)\n",
    "    axes2[1].plot(scycle_point['month'], scycle_point.values, 'o-')\n",
    "\n",
    "axes2[1].set_title(\"Seasonal cycle of temperature anomalies \\n at four test points\", fontsize=14)\n",
    "axes2[1].set_xlabel(\"month\", fontsize=12)\n",
    "axes2[1].set_ylabel(r\"$\\Delta$T (K)\", fontsize=12)"
   ]
  },
  {
   "cell_type": "markdown",
   "id": "12711627-eedb-4282-b76b-1fae3024bae8",
   "metadata": {},
   "source": [
    "## 3. Seasonal cycle for full record (daily resolution)\n",
    "Currently I have had success with one file per 3 days. With ~40 workers c7i.xlarge, takes about 6 minutes."
   ]
  },
  {
   "cell_type": "code",
   "execution_count": null,
   "id": "21868469-84f0-4899-8626-72530c24457f",
   "metadata": {},
   "outputs": [],
   "source": [
    "datainfo_thinned = [datainfo[i] for i in range(len(datainfo)) if i%3==0]\n",
    "fileobjs = earthaccess.open(datainfo_thinned) # Generate file objects from the endpoints which are compatible with Xarray"
   ]
  },
  {
   "cell_type": "code",
   "execution_count": null,
   "id": "d5e8724c-6404-4352-acf8-a07f89cfacb0",
   "metadata": {},
   "outputs": [],
   "source": [
    "cluster = coiled.Cluster(\n",
    "    n_workers=40, \n",
    "    region=\"us-west-2\", \n",
    "    worker_vm_types=\"c7g.xlarge\",\n",
    "    scheduler_vm_types=\"c7g.xlarge\"\n",
    "    ) \n",
    "client = cluster.get_client()"
   ]
  },
  {
   "cell_type": "code",
   "execution_count": null,
   "id": "0b7d5c71-b2c5-479f-afd9-a3cb74c7b48d",
   "metadata": {},
   "outputs": [],
   "source": [
    "%%time\n",
    "\n",
    "## Load files and rechunk SST data:\n",
    "murdata = xr.open_mfdataset(fileobjs, parallel=True, chunks={'lat': 6000, 'lon': 6000, 'time': 1})\n",
    "sst = murdata[\"analysed_sst\"]\n",
    "sst = sst.chunk(chunks={'lat': 500, 'lon': 500, 'time': 400})\n",
    "sst"
   ]
  },
  {
   "cell_type": "code",
   "execution_count": null,
   "id": "be4c8269-fbf0-49dc-b797-005176205544",
   "metadata": {},
   "outputs": [],
   "source": [
    "## ----------------\n",
    "## Set up analysis\n",
    "## ----------------\n",
    "## (Since we're dealing with dask arrays, these functions calls don't do the computations yet, just set them up)\n",
    "\n",
    "## Subset to region off U.S.A. west coast:\n",
    "sst_regional = sst.sel(lat=slice(*lat_region), lon=slice(*lon_region))\n",
    "\n",
    "## Remove linear warming trend:\n",
    "p = sst_regional.polyfit(dim='time', deg=1) # Degree 1 polynomial fit coefficients over time for each lat, lon.\n",
    "fit = xr.polyval(sst_regional['time'], p.polyfit_coefficients) # Compute linear trend time series at each lat, lon.\n",
    "sst_detrend = (sst_regional - fit) # xarray is smart enough to subtract along the time dim only.\n",
    "\n",
    "## Mean seasonal cycle:\n",
    "seasonal_cycle = sst_detrend.groupby(\"time.month\").mean(\"time\")"
   ]
  },
  {
   "cell_type": "code",
   "execution_count": null,
   "id": "6af96a92-aaf6-4662-ba58-00600ae447bf",
   "metadata": {},
   "outputs": [],
   "source": [
    "%%time\n",
    "## ----------------\n",
    "## Compute it all!!\n",
    "## ----------------\n",
    "seasonal_cycle = seasonal_cycle.compute()\n",
    "cluster.scale(1)"
   ]
  },
  {
   "cell_type": "code",
   "execution_count": null,
   "id": "d8c3fcd4-53a7-4489-824c-a1729e2df9af",
   "metadata": {},
   "outputs": [],
   "source": []
  }
 ],
 "metadata": {
  "kernelspec": {
   "display_name": "Python 3 (ipykernel)",
   "language": "python",
   "name": "python3"
  },
  "language_info": {
   "codemirror_mode": {
    "name": "ipython",
    "version": 3
   },
   "file_extension": ".py",
   "mimetype": "text/x-python",
   "name": "python",
   "nbconvert_exporter": "python",
   "pygments_lexer": "ipython3",
   "version": "3.12.3"
  }
 },
 "nbformat": 4,
 "nbformat_minor": 5
}

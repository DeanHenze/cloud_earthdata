{
 "cells": [
  {
   "cell_type": "markdown",
   "id": "574f488f-29e0-48b2-9c7f-b9855ec19dea",
   "metadata": {},
   "source": [
    "Spatial Correlation between sea surface temperature anomaly and sea surface height anomaly\n",
    "===========================\n",
    "#### Authors: Jinbo Wang <Jinbo.Wang@jpl.nasa.gov> and Dean Henze <dean.c.henze@jpl.nasa.gov>\n",
    "\n",
    "This notebook centers around the `spatial_corrmap()` fxn, which will create a 2D lat, lon map of spatial correlations between sea surface height (SSH) and sea surface temperature (SST), both hosted on PO.DAAC. The SSH dataset is shortname SEA_SURFACE_HEIGHT_ALT_GRIDS_L4_2SATS_5DAY_6THDEG_V_JPL2205 and the SST dataset is shortname MW_OI-REMSS-L4-GLOB-v5.0.\n",
    "\n",
    "At each gridpoint, the spatial correlation is computed over a lat, lon window of size 2*lat_halfwin x 2*lon_halfwin. This is done for each gridpoint in the datasets. Spatial correlation is computed from the SSH, SST anomalies, which are computed in turn as the deviations from a fitted 2D surface over the window (a new 2D surface is fitted for each window around each gridpoint).\n",
    "\n",
    "#### Data sets\n",
    "* SSH - SEA_SURFACE_HEIGHT_ALT_GRIDS_L4_2SATS_5DAY_6THDEG_V_JPL2205. One file every 5 days, timestamped at noon UTC.\n",
    "* SST\n",
    "\n",
    "#### Current status\n",
    "* prelim calcs show that ~15 GB of harddrive space is needed to save output for entire record.\n",
    "\n",
    "#### Package requirements\n",
    "```\n",
    "pip install earthaccess coiled xarray matplotlib scipy h5netcdf\n",
    "```\n"
   ]
  },
  {
   "cell_type": "code",
   "execution_count": 20,
   "id": "2ff055bc-2f3e-4436-a413-1c6550641f15",
   "metadata": {},
   "outputs": [],
   "source": [
    "from datetime import datetime\n",
    "import time\n",
    "from matplotlib import pylab as plt\n",
    "import xarray as xr\n",
    "import numpy as np\n",
    "from numpy import zeros,arange\n",
    "from scipy.optimize import leastsq\n",
    "import numpy as np\n",
    "import sys\n",
    "import s3fs\n",
    "\n",
    "import os\n",
    "import tempfile\n",
    "import earthaccess\n",
    "import coiled"
   ]
  },
  {
   "cell_type": "code",
   "execution_count": 2,
   "id": "882f63b6-7489-4ed0-a426-9549c0f537a8",
   "metadata": {},
   "outputs": [
    {
     "data": {
      "text/plain": [
       "<xarray.core.options.set_options at 0x7f8003396310>"
      ]
     },
     "execution_count": 2,
     "metadata": {},
     "output_type": "execute_result"
    }
   ],
   "source": [
    "xr.set_options( # display options for xarray objects\n",
    "    display_expand_attrs=False,\n",
    "    display_expand_coords=False,\n",
    "    display_expand_data=True,\n",
    ")"
   ]
  },
  {
   "cell_type": "markdown",
   "id": "03ee13dd-275f-49f0-bc25-3d0fccde6b09",
   "metadata": {},
   "source": [
    "# Define functions"
   ]
  },
  {
   "cell_type": "code",
   "execution_count": 3,
   "id": "bc2fccd7-316a-49f3-9ec2-25c1632d660a",
   "metadata": {},
   "outputs": [],
   "source": [
    "def load_sst_ssh(gran_ssh, gran_sst):\n",
    "    \"\"\"\n",
    "    Return data for a single file each of SSH and SST on the same day. \n",
    "    Input arg is SSH granule info (earthaccess.results.DataGranule object) \n",
    "    for a file from the SEA_SURFACE_HEIGHT_ALT_GRIDS_L4_2SATS_5DAY_6THDEG_V_JPL2205 \n",
    "    collection. Output is SLA data from the SSH granule along with SST data from the \n",
    "    MW_OI-REMSS-L4-GLOB-v5.0 collection, at timestamp noon UTC of the same day. \n",
    "    Returns ssh, sst as xarray.DataArray's.    \n",
    "    \"\"\"\n",
    "    earthaccess.login(strategy=\"environment\") # Confirm credentials are current\n",
    "    \n",
    "    # Get SLA and SST variables, loaded fully into local memory:\n",
    "    ssh = xr.load_dataset(earthaccess.open([gran_ssh], provider='POCLOUD')[0])['SLA'][0,...]\n",
    "    sst = xr.load_dataset(earthaccess.open([gran_sst], provider='POCLOUD')[0])['analysed_sst'][0,...]\n",
    "\n",
    "    return ssh, sst"
   ]
  },
  {
   "cell_type": "code",
   "execution_count": 4,
   "id": "337261b2-08a5-4dda-bbf2-4e50b53d0546",
   "metadata": {},
   "outputs": [],
   "source": [
    "def anomaly(lon, lat, p):\n",
    "    \"\"\"\n",
    "    Get anomalies for a variable over a 2D map. Done by fitting a 2D surface \n",
    "    to the data and taking the anomaly as the difference between each data point \n",
    "    and the surface. \n",
    "    \n",
    "    This is mostly a wrapper for fit2Dsurf() which does the anomaly calculation. \n",
    "    This wrapper could be extended e.g. to take inputs with various shapes and \n",
    "    reformat them to work with fit2Dsurf(), but curretly has basic functionality.\n",
    "\n",
    "    Inputs\n",
    "    ------\n",
    "    lon, lat: 1D array-like\n",
    "        Longitude and latitude arrays, or more generally, the x, y coordinates (don't \n",
    "        need to have units of degrees e.g.).\n",
    "    p: 2D array-like\n",
    "        Variable to get anomalies for. Should have same shape as (lat, lon). \n",
    "\n",
    "    Returns\n",
    "    -------\n",
    "    va, vm: 2D NumPy arrays\n",
    "        Anomalies (va) and mean surface fit (vm).\n",
    "\n",
    "    Import requirements\n",
    "    -------------------\n",
    "    numpy    \n",
    "    \"\"\"\n",
    "    x1, y1 = np.meshgrid(lon, lat)\n",
    "    va, vm = fit2Dsurf(x1, y1, p)\n",
    "    return va,vm\n",
    "\n",
    "\n",
    "def fit2Dsurf(x, y, p, kind='linear'):\n",
    "    \"\"\"\n",
    "    Get anomalies for a variable over a 2D map. Done by fitting a 2D surface \n",
    "    to the data and taking the anomaly as the difference between each data point \n",
    "    and the surface. Surface can either be a linear or quadratic function.\n",
    "    \n",
    "    Inputs\n",
    "    ------\n",
    "    x, y, p: 2D array-like, all same size.\n",
    "        Variables to use to fit the function p(x, y). x, y are the dependent vars\n",
    "        and p is the dependent var.\n",
    "    kind: str\n",
    "        (Default = 'linear'). Either 'linear' or 'quadratic' to specify the \n",
    "        functional form of the fit surface.\n",
    "    \n",
    "    Returns\n",
    "    ------\n",
    "    va, vm: 2D NumPy arrays\n",
    "        Anomalies (va) and mean surface fit (vm).\n",
    "\n",
    "    Import requirements\n",
    "    -------------------\n",
    "    from scipy.optimize import leastsq\n",
    "    numpy\n",
    "    \"\"\"\n",
    "    # Depending on fit fxn chosen, define functions to output a 2D surface (surface()) \n",
    "    # and the difference between 2D data and the computed surface (err()). Each \n",
    "    # fxn takes independent vars and polynomial coefficients; the err() fxn's in \n",
    "    # addition take data for the dependent var.\n",
    "    if kind=='linear':\n",
    "        def err(c,x0,y0,p):\n",
    "            a,b,c=c\n",
    "            return p - (a + b*x0 + c*y0 )\n",
    "\n",
    "        def surface(c,x0,y0):\n",
    "            a,b,c=c\n",
    "            return a + b*x0 + c*y0\n",
    "\n",
    "    if kind=='quadratic':\n",
    "        def err(c,x0,y0,p):\n",
    "            a,b,c,d,e,f=c\n",
    "            return p - (a + b*x0 + c*y0 + d*x0**2 + e*y0**2 + f*x0*y0)\n",
    "        \n",
    "        def surface(c,x0,y0):\n",
    "            a,b,c,d,e,f=c\n",
    "            return a + b*x0 + c*y0 + d*x0**2 + e*y0**2 + f*x0*y0\n",
    "\n",
    "\n",
    "    # Prep arrays and remove NAN's:\n",
    "    xf=x.flatten()\n",
    "    yf=y.flatten()\n",
    "    pf=p.flatten()\n",
    "\n",
    "    msk=~np.isnan(pf)\n",
    "    pf=pf[msk]\n",
    "    xf=xf[msk]\n",
    "    yf=yf[msk]\n",
    "\n",
    "    \n",
    "    # Initial values of polynomial coefficients to start fitting algorithm off with:\n",
    "    dpdx=(pf.max()-pf.min())/(xf.max()-xf.min())\n",
    "    dpdy=(pf.max()-pf.min())/(yf.max()-yf.min())\n",
    "    if kind=='linear':\n",
    "        c = [pf.mean(),dpdx,dpdy]\n",
    "    if kind=='quadratic':\n",
    "        c = [pf.mean(),dpdx,dpdy,1e-22,1e-22,1e-22]\n",
    "\n",
    "\n",
    "    # Fit:\n",
    "    coef = leastsq(err,c,args=(xf,yf,pf))[0]\n",
    "    vm = surface(coef,x,y) #mean surface\n",
    "    va = p - vm #anomaly\n",
    "    return va,vm"
   ]
  },
  {
   "cell_type": "code",
   "execution_count": 11,
   "id": "465fe55f-d084-490c-b70c-828aed0290e3",
   "metadata": {},
   "outputs": [],
   "source": [
    "def spatial_corrmap(grans, lat_halfwin, lon_halfwin, lats=None, lons=None, f_notnull=0.5):\n",
    "    \"\"\"\n",
    "    Get a 2D map of SSH-SST spatial correlation coefficients. The SSH dataset is \n",
    "    shortname SEA_SURFACE_HEIGHT_ALT_GRIDS_L4_2SATS_5DAY_6THDEG_V_JPL1812 \n",
    "    and the SST dataset is shortname MW_OI-REMSS-L4-GLOB-v5.0. \n",
    "\n",
    "    At each gridpoint, the spatial correlation is computed over a lat, lon window\n",
    "    of size 2*lat_halfwin x 2*lon_halfwin. This is done for each gridpoint in\n",
    "    the datasets. Spatial correlation is computed from the SSH, SST anomalies, \n",
    "    which are computed in turn as the deviations from a fitted 2D surface over \n",
    "    the window (a new 2D surface is fitted for each window around each gridpoint).\n",
    "    \n",
    "    Inputs\n",
    "    ------\n",
    "    granule_ssh: earthaccess.results.DataGranule\n",
    "        Granule info for theSSH file, including download path and S3 location.  \n",
    "    lat_halfwin, lon_halfwin: floats\n",
    "        Half window size in degrees for latitude and longitude dimensions, respectively.\n",
    "    lats, lons: None or 1D array-like\n",
    "        Latitude, longitude grid on which to compute correlations. If None, will use the \n",
    "        SSH grid. Either way, the gridpoints of the SSH product are used for the actual computations.\n",
    "    f_notnull: float (default = 50)\n",
    "        Fraction of elements in a window that have to be non-nan. Percentage is computed\n",
    "        as number of null elements divided by total number expected to be in the window. So\n",
    "        for edge cases, 'ghost' elements at the edges are considered nan.\n",
    "\n",
    "    Returns\n",
    "    ------\n",
    "    coef: 2D numpy array\n",
    "        Spatial correlation coefficients.\n",
    "    \n",
    "    lats, lons: 1D numpy arrays.\n",
    "        Latitudes and longitudes creating the 2D grid that 'coef' was calculated on.\n",
    "    \"\"\"    \n",
    "    # Load datafiles, convert SST longitude to (0,360), and interpolate SST to SSH grid:    \n",
    "    gran_ssh, gran_sst = grans\n",
    "    ssh, sst = load_sst_ssh(gran_ssh, gran_sst)\n",
    "    sst = sst.roll(lon=len(sst['lon'])//2)\n",
    "    sst['lon'] = sst['lon']+180\n",
    "    sst = sst.interp(lon=ssh['Longitude'], lat=ssh['Latitude'])\n",
    "\n",
    "    \n",
    "    # Compute windows size and threshold number of non-nan points:\n",
    "    dlat = (ssh['Latitude'][1]-ssh['Latitude'][0]).item()\n",
    "    dlon = (ssh['Longitude'][1]-ssh['Longitude'][0]).item()\n",
    "    nx_win = 2*round(lon_halfwin/dlon)\n",
    "    ny_win = 2*round(lat_halfwin/dlat)\n",
    "    n_thresh = nx_win*ny_win*f_notnull\n",
    "\n",
    "\n",
    "    # Map of booleans for sst*ssh==np.nan. Will be used to determine if there are \n",
    "    # enough non-nan values to compute the correlation for a given window:\n",
    "    notnul = (sst*ssh).notnull()\n",
    "\n",
    "    \n",
    "    # Combine all needed DataArrays into a single Dataset for more efficient indexing:\n",
    "    notnul = notnul.rename(\"notnul\") # Needs a name to merge\n",
    "    mergeddata = xr.merge([ssh, sst, notnul], compat=\"equals\")\n",
    "     \n",
    "\n",
    "    # Compute spatial correlations over whole map:\n",
    "    coef = []\n",
    "    \n",
    "    if lats is None:\n",
    "        lats = ssh['Latitude'].data\n",
    "        lons = ssh['Longitude'].data\n",
    "    \n",
    "    for lat_cen in lats:\n",
    "        for lon_cen in lons:\n",
    "\n",
    "            # Create window for both sst and ssh with xr.sel:\n",
    "            lat_bottom = lat_cen - lat_halfwin\n",
    "            lat_top = lat_cen + lat_halfwin\n",
    "            lon_left = lon_cen - lon_halfwin\n",
    "            lon_right = lon_cen + lon_halfwin\n",
    "            data_win = mergeddata.sel(Longitude=slice(lon_left, lon_right), Latitude=slice(lat_bottom, lat_top))\n",
    "    \n",
    "            # If number of non-nan values in sst*ssh window is less than threshold \n",
    "            # value, append np.nan, else compute anomalies and append their correlation coefficient:\n",
    "            n_notnul = data_win[\"notnul\"].sum().item()\n",
    "            if n_notnul < n_thresh:\n",
    "                coef.append(np.nan)\n",
    "            else:\n",
    "                # Compute anomalies:\n",
    "                ssha,_=anomaly(data_win['Longitude'], data_win['Latitude'], data_win['SLA'].data)\n",
    "                ssta,_=anomaly(data_win['Longitude'], data_win['Latitude'], data_win['analysed_sst'].data)\n",
    "                \n",
    "                # Compute correlation coefficient:\n",
    "                a, b = ssta.flatten(), ssha.flatten()\n",
    "                if ( np.nansum(abs(a))==0 ) or ( np.nansum(abs(b))==0 ): # There are some cases where all anomalies for one var are 0.\n",
    "                    # In this case, correlation should be 0. Numpy will compute this correctly, but will also throw a lot of warnings.\n",
    "                    # Get around this by manually appending 0 instead.\n",
    "                    coef.append(0)\n",
    "                else:\n",
    "                    c = np.nanmean(a*b)/np.sqrt(np.nanvar(a) * np.nanvar(b))\n",
    "                    coef.append(c)\n",
    "\n",
    "    \n",
    "    return np.array(coef).reshape((len(lats), len(lons))), np.array(lats), np.array(lons)"
   ]
  },
  {
   "cell_type": "code",
   "execution_count": 22,
   "id": "1bdc56b4-161e-4c84-a8ea-db3afaa6d7c6",
   "metadata": {},
   "outputs": [],
   "source": [
    "def spatial_corrmap_tos3(grans, s3bucket, lat_halfwin, lon_halfwin, lats=None, lons=None, f_notnull=0.5):\n",
    "    \"\"\"\n",
    "    Wrapper to spatial_corrmap() which saves the output as a netcdf4 file to the specified S3 bucket.\n",
    "    \"\"\"\n",
    "\n",
    "    # Compute spatial correlations:\n",
    "    coef, lats, lons = spatial_corrmap(grans, lat_halfwin, lon_halfwin, lats=lats, lons=lons, f_notnull=0.5)\n",
    "\n",
    "    # Collect results into xarray dataset:\n",
    "    ds = xr.Dataset(\n",
    "        data_vars={\"corr_ssh_sst\": ([\"lat\", \"lon\"], coef)},\n",
    "        coords=dict(lat=lats, lon=lons),\n",
    "        )\n",
    "\n",
    "    # Add time dimension to the dataset:\n",
    "    d0 = ('1950', '01', '01', '12') # basedate for CF encoding (e.g. 'days since this base date')\n",
    "    dtime0 = datetime(*[int(d) for d in d0])\n",
    "    date = grans[0]['umm']['GranuleUR'].split(\"_\")[-1][:8] # get date of file from SSH UR.\n",
    "    dtime1 = datetime(int(date[:4]), int(date[4:6]), int(date[6:8]), 12)\n",
    "    dt = dtime1 - dtime0 # time delta in days\n",
    "    \n",
    "    ds = ds.expand_dims(time=[dt.days], axis=0)\n",
    "    ds['time'].attrs[\"units\"] = \"days since \" + \"-\".join(d0[:3]) + \" \" + d0[3] + \":00:00\"\n",
    "    ds = xr.decode_cf(ds)\n",
    "        \n",
    "    # First save locally to a .nc file:\n",
    "    path_local = \"./spatial-corr-map_ssh-sst_\" + date + \".nc\"\n",
    "    ds.to_netcdf(path_local)\n",
    "\n",
    "    # Then move to predetermined directory under the S3 bucket:\n",
    "    fs = s3fs.S3FileSystem() # Establish S3 connection\n",
    "    path_s3 = s3bucket + \"ssh-sst_corr_results/\" + date[:4] + \"/spatial-corr-map_ssh-sst_\" + date + \".nc\"\n",
    "    fs.put(path_local, path_s3)\n",
    "    os.remove(path_local) # delete temp file"
   ]
  },
  {
   "cell_type": "markdown",
   "id": "74c832df-b382-460f-a91a-c387f5949c19",
   "metadata": {},
   "source": [
    "# Get all matching pairs of SSH, SST granules"
   ]
  },
  {
   "cell_type": "code",
   "execution_count": 13,
   "id": "4f7e5a52-bb46-4b92-a5b2-3333017c000a",
   "metadata": {},
   "outputs": [
    {
     "data": {
      "text/plain": [
       "<earthaccess.auth.Auth at 0x7f7fc6c13d50>"
      ]
     },
     "execution_count": 13,
     "metadata": {},
     "output_type": "execute_result"
    }
   ],
   "source": [
    "earthaccess.login()"
   ]
  },
  {
   "cell_type": "code",
   "execution_count": 14,
   "id": "9658222f-9691-419b-9e4e-1f1a3cabb7d3",
   "metadata": {},
   "outputs": [
    {
     "name": "stdout",
     "output_type": "stream",
     "text": [
      "Granules found: 2207\n",
      "Granules found: 9039\n"
     ]
    }
   ],
   "source": [
    "grans_ssh = earthaccess.search_data(\n",
    "    short_name=\"SEA_SURFACE_HEIGHT_ALT_GRIDS_L4_2SATS_5DAY_6THDEG_V_JPL2205\",\n",
    "    )\n",
    "grans_sst = earthaccess.search_data(\n",
    "    short_name=\"MW_OI-REMSS-L4-GLOB-v5.0\",\n",
    "    )"
   ]
  },
  {
   "cell_type": "code",
   "execution_count": 15,
   "id": "9ae186e5-19f3-4666-a829-abc38f61a647",
   "metadata": {},
   "outputs": [
    {
     "name": "stdout",
     "output_type": "stream",
     "text": [
      "['19921010', '19921015', '19921020', '19921025', '19921030', '19921104', '19921109', '19921114', '19921119', '19921124']\n",
      "['19980101', '19980102', '19980103', '19980104', '19980105', '19980106', '19980107', '19980108', '19980109', '19980110']\n"
     ]
    }
   ],
   "source": [
    "dates_ssh = [g['umm']['GranuleUR'].split('_')[-1][:8] for g in grans_ssh]\n",
    "print(dates_ssh[:10])\n",
    "dates_sst = [g['umm']['GranuleUR'][:8] for g in grans_sst]\n",
    "print(dates_sst[:10])"
   ]
  },
  {
   "cell_type": "code",
   "execution_count": 16,
   "id": "abffc89c-53ef-4a91-90cc-a25955cecc88",
   "metadata": {},
   "outputs": [],
   "source": [
    "grans_ssh_analyze = []\n",
    "grans_sst_analyze = []\n",
    "for j in range(len(dates_ssh)):\n",
    "    if dates_ssh[j] in dates_sst:\n",
    "        grans_ssh_analyze.append(grans_ssh[j])\n",
    "        grans_sst_analyze.append(grans_sst[dates_sst.index(dates_ssh[j])])"
   ]
  },
  {
   "cell_type": "markdown",
   "id": "ea40f84c-9697-4605-b2f1-578db0021728",
   "metadata": {},
   "source": [
    "# Test the computation on one pair of files, output on a coarse resolution grid\n",
    "Note, the SST data files for the early 2000's have NAN's in most grid point latitudes outside of +/- 40 degrees."
   ]
  },
  {
   "cell_type": "code",
   "execution_count": 17,
   "id": "fc03e8f0-bea8-430d-8b1d-fa156661cf46",
   "metadata": {},
   "outputs": [
    {
     "name": "stdout",
     "output_type": "stream",
     "text": [
      "Opening 1 granules, approx size: 0.01 GB\n",
      "using endpoint: https://archive.podaac.earthdata.nasa.gov/s3credentials\n"
     ]
    },
    {
     "data": {
      "application/vnd.jupyter.widget-view+json": {
       "model_id": "303884bb3a8b4a99a41ee5baf9bcb054",
       "version_major": 2,
       "version_minor": 0
      },
      "text/plain": [
       "QUEUEING TASKS | :   0%|          | 0/1 [00:00<?, ?it/s]"
      ]
     },
     "metadata": {},
     "output_type": "display_data"
    },
    {
     "data": {
      "application/vnd.jupyter.widget-view+json": {
       "model_id": "74e572583c6f48ebaa2270d17e26717a",
       "version_major": 2,
       "version_minor": 0
      },
      "text/plain": [
       "PROCESSING TASKS | :   0%|          | 0/1 [00:00<?, ?it/s]"
      ]
     },
     "metadata": {},
     "output_type": "display_data"
    },
    {
     "data": {
      "application/vnd.jupyter.widget-view+json": {
       "model_id": "7c33d8784b45410dbf0277dd01cffe8f",
       "version_major": 2,
       "version_minor": 0
      },
      "text/plain": [
       "COLLECTING RESULTS | :   0%|          | 0/1 [00:00<?, ?it/s]"
      ]
     },
     "metadata": {},
     "output_type": "display_data"
    },
    {
     "name": "stdout",
     "output_type": "stream",
     "text": [
      "Opening 1 granules, approx size: 0.0 GB\n",
      "using endpoint: https://archive.podaac.earthdata.nasa.gov/s3credentials\n"
     ]
    },
    {
     "data": {
      "application/vnd.jupyter.widget-view+json": {
       "model_id": "6f04a030e4944378864a5e181ffe43a4",
       "version_major": 2,
       "version_minor": 0
      },
      "text/plain": [
       "QUEUEING TASKS | :   0%|          | 0/1 [00:00<?, ?it/s]"
      ]
     },
     "metadata": {},
     "output_type": "display_data"
    },
    {
     "data": {
      "application/vnd.jupyter.widget-view+json": {
       "model_id": "76256435d0b5429587916d248d38acd2",
       "version_major": 2,
       "version_minor": 0
      },
      "text/plain": [
       "PROCESSING TASKS | :   0%|          | 0/1 [00:00<?, ?it/s]"
      ]
     },
     "metadata": {},
     "output_type": "display_data"
    },
    {
     "data": {
      "application/vnd.jupyter.widget-view+json": {
       "model_id": "ccd10304fd834789995fb37a1270c470",
       "version_major": 2,
       "version_minor": 0
      },
      "text/plain": [
       "COLLECTING RESULTS | :   0%|          | 0/1 [00:00<?, ?it/s]"
      ]
     },
     "metadata": {},
     "output_type": "display_data"
    },
    {
     "name": "stdout",
     "output_type": "stream",
     "text": [
      "Total computation time = 26.61 seconds.\n"
     ]
    }
   ],
   "source": [
    "# Compute spatial correlation map for 2 degree x 2 degree resolution and time it:\n",
    "t1 = time.time()\n",
    "\n",
    "lats = np.arange(-80, 80.1, 2)\n",
    "lons = np.arange(0, 360, 2)\n",
    "coef, lats, lons = spatial_corrmap((grans_ssh_analyze[1200], grans_sst_analyze[1200]), 3, 3, lats=lats, lons=lons, f_notnull=0.5)\n",
    "\n",
    "t2 = time.time()\n",
    "comptime = round(t2-t1, 2)\n",
    "print(\"Total computation time = \" + str(comptime) + \" seconds.\")"
   ]
  },
  {
   "cell_type": "code",
   "execution_count": 18,
   "id": "edeedc7b-446f-475c-9e74-3d968ccecbe0",
   "metadata": {},
   "outputs": [
    {
     "data": {
      "text/plain": [
       "<matplotlib.colorbar.Colorbar at 0x7f7fa81d77d0>"
      ]
     },
     "execution_count": 18,
     "metadata": {},
     "output_type": "execute_result"
    },
    {
     "data": {
      "image/png": "[encoded data removed]",
      "text/plain": [
       "<Figure size 800x300 with 2 Axes>"
      ]
     },
     "metadata": {},
     "output_type": "display_data"
    }
   ],
   "source": [
    "plt.figure(figsize=(8,3))\n",
    "plt.contourf(lons, lats, coef, cmap='RdBu_r')\n",
    "plt.colorbar()"
   ]
  },
  {
   "cell_type": "markdown",
   "id": "5461ef72-3354-4e2c-82ad-799607bb7ea5",
   "metadata": {},
   "source": [
    "# Test saving the output to S3 bucket"
   ]
  },
  {
   "cell_type": "code",
   "execution_count": 21,
   "id": "ed2fd941-f175-4022-854e-4c7c4818c3c7",
   "metadata": {},
   "outputs": [
    {
     "name": "stdout",
     "output_type": "stream",
     "text": [
      "Opening 1 granules, approx size: 0.01 GB\n",
      "using endpoint: https://archive.podaac.earthdata.nasa.gov/s3credentials\n"
     ]
    },
    {
     "data": {
      "application/vnd.jupyter.widget-view+json": {
       "model_id": "eec026dc195545029d7a8a93bce9c8f7",
       "version_major": 2,
       "version_minor": 0
      },
      "text/plain": [
       "QUEUEING TASKS | :   0%|          | 0/1 [00:00<?, ?it/s]"
      ]
     },
     "metadata": {},
     "output_type": "display_data"
    },
    {
     "data": {
      "application/vnd.jupyter.widget-view+json": {
       "model_id": "e02f66446a9a41118952cd29d1a01929",
       "version_major": 2,
       "version_minor": 0
      },
      "text/plain": [
       "PROCESSING TASKS | :   0%|          | 0/1 [00:00<?, ?it/s]"
      ]
     },
     "metadata": {},
     "output_type": "display_data"
    },
    {
     "data": {
      "application/vnd.jupyter.widget-view+json": {
       "model_id": "2b4ec7ea65b941cc98d086ba96e81707",
       "version_major": 2,
       "version_minor": 0
      },
      "text/plain": [
       "COLLECTING RESULTS | :   0%|          | 0/1 [00:00<?, ?it/s]"
      ]
     },
     "metadata": {},
     "output_type": "display_data"
    },
    {
     "name": "stdout",
     "output_type": "stream",
     "text": [
      "Opening 1 granules, approx size: 0.0 GB\n",
      "using endpoint: https://archive.podaac.earthdata.nasa.gov/s3credentials\n"
     ]
    },
    {
     "data": {
      "application/vnd.jupyter.widget-view+json": {
       "model_id": "fdcdf94110654f4690f9561718f350e1",
       "version_major": 2,
       "version_minor": 0
      },
      "text/plain": [
       "QUEUEING TASKS | :   0%|          | 0/1 [00:00<?, ?it/s]"
      ]
     },
     "metadata": {},
     "output_type": "display_data"
    },
    {
     "data": {
      "application/vnd.jupyter.widget-view+json": {
       "model_id": "1d70c4457a71425fb070c3a9c9d43101",
       "version_major": 2,
       "version_minor": 0
      },
      "text/plain": [
       "PROCESSING TASKS | :   0%|          | 0/1 [00:00<?, ?it/s]"
      ]
     },
     "metadata": {},
     "output_type": "display_data"
    },
    {
     "data": {
      "application/vnd.jupyter.widget-view+json": {
       "model_id": "1eb393d2463741de905231b81de72f54",
       "version_major": 2,
       "version_minor": 0
      },
      "text/plain": [
       "COLLECTING RESULTS | :   0%|          | 0/1 [00:00<?, ?it/s]"
      ]
     },
     "metadata": {},
     "output_type": "display_data"
    }
   ],
   "source": [
    "s3bucket = \"s3://henze-bucket/\" # Change this as needed\n",
    "spatial_corrmap_tos3((grans_ssh_analyze[1200], grans_sst_analyze[1200]), s3bucket, 3, 3, lats=lats, lons=lons, f_notnull=0.5)"
   ]
  },
  {
   "cell_type": "markdown",
   "id": "6f37e27c-b2c1-4682-9902-04457dd69f71",
   "metadata": {},
   "source": [
    "# Parallelize the computation with Coiled Functions\n",
    "**Run computation at 0.25 x 0.25 degree resolution**"
   ]
  },
  {
   "cell_type": "code",
   "execution_count": 29,
   "id": "09b39637-780a-47fc-bcec-98b1f772f4bd",
   "metadata": {},
   "outputs": [],
   "source": [
    "# Increased resolution of output grid:\n",
    "lats = np.arange(-80, 80.1, 0.25)\n",
    "lons = np.arange(0, 360, 0.25)\n",
    "#lats = np.arange(-80, 80.1, 1)\n",
    "#lons = np.arange(0, 360, 1)"
   ]
  },
  {
   "cell_type": "code",
   "execution_count": 30,
   "id": "0be35fd4-f8e9-406c-8d3d-4bad283fce3e",
   "metadata": {},
   "outputs": [],
   "source": [
    "#i_batches = [(0, 450), (450, 900), (900, 1350), (1350, len(grans_ssh_analyze))]\n",
    "#i_batches = [(0, 25), (25, 50)]\n",
    "s3bucket = \"s3://henze-bucket/\" # Change this as needed"
   ]
  },
  {
   "cell_type": "code",
   "execution_count": 33,
   "id": "c9ab4270-5fa6-42a9-a4e5-bae4d02317ab",
   "metadata": {},
   "outputs": [
    {
     "data": {
      "application/vnd.jupyter.widget-view+json": {
       "model_id": "5dd054d42f654de7bc61d3d4c97dc30f",
       "version_major": 2,
       "version_minor": 0
      },
      "text/plain": [
       "Output()"
      ]
     },
     "metadata": {},
     "output_type": "display_data"
    },
    {
     "data": {
      "text/html": [
       "<pre style=\"white-space:pre;overflow-x:auto;line-height:normal;font-family:Menlo,'DejaVu Sans Mono',consolas,'Courier New',monospace\"></pre>\n"
      ],
      "text/plain": []
     },
     "metadata": {},
     "output_type": "display_data"
    },
    {
     "data": {
      "text/html": [
       "<pre style=\"white-space:pre;overflow-x:auto;line-height:normal;font-family:Menlo,'DejaVu Sans Mono',consolas,'Courier New',monospace\">╭──────────────────────────────── <span style=\"color: #008000; text-decoration-color: #008000; font-weight: bold\">Package Info</span> ────────────────────────────────╮\n",
       "│                     ╷                                                        │\n",
       "│  <span style=\"font-weight: bold\"> Package           </span>│<span style=\"font-weight: bold\"> Note                                                 </span>  │\n",
       "│ ╶───────────────────┼──────────────────────────────────────────────────────╴ │\n",
       "│   coiled_local_Dean │ Wheel built from                                       │\n",
       "│                     │ /opt/coiled/env/.path-deps/coiled_local_Dean-0.0.0-p   │\n",
       "│                     │ y3-none-any.whl                                        │\n",
       "│                     ╵                                                        │\n",
       "╰──────────────────────────────────────────────────────────────────────────────╯\n",
       "</pre>\n"
      ],
      "text/plain": [
       "╭──────────────────────────────── \u001b[1;32mPackage Info\u001b[0m ────────────────────────────────╮\n",
       "│                     ╷                                                        │\n",
       "│  \u001b[1m \u001b[0m\u001b[1mPackage          \u001b[0m\u001b[1m \u001b[0m│\u001b[1m \u001b[0m\u001b[1mNote                                                \u001b[0m\u001b[1m \u001b[0m  │\n",
       "│ ╶───────────────────┼──────────────────────────────────────────────────────╴ │\n",
       "│   coiled_local_Dean │ Wheel built from                                       │\n",
       "│                     │ /opt/coiled/env/.path-deps/coiled_local_Dean-0.0.0-p   │\n",
       "│                     │ y3-none-any.whl                                        │\n",
       "│                     ╵                                                        │\n",
       "╰──────────────────────────────────────────────────────────────────────────────╯\n"
      ]
     },
     "metadata": {},
     "output_type": "display_data"
    },
    {
     "data": {
      "application/vnd.jupyter.widget-view+json": {
       "model_id": "1184e5e6c07a44afb82309d5465aea2a",
       "version_major": 2,
       "version_minor": 0
      },
      "text/plain": [
       "Output()"
      ]
     },
     "metadata": {},
     "output_type": "display_data"
    },
    {
     "data": {
      "text/html": [
       "<pre style=\"white-space:pre;overflow-x:auto;line-height:normal;font-family:Menlo,'DejaVu Sans Mono',consolas,'Courier New',monospace\"></pre>\n"
      ],
      "text/plain": []
     },
     "metadata": {},
     "output_type": "display_data"
    },
    {
     "name": "stderr",
     "output_type": "stream",
     "text": [
      "2024-01-24 20:00:06,457 - distributed.deploy.adaptive - INFO - Adaptive scaling started: minimum=0 maximum=500\n",
      "2024-01-24 20:00:07,315 - distributed.deploy.adaptive_core - INFO - Adaptive stop\n",
      "2024-01-24 20:00:07,315 - distributed.deploy.adaptive - INFO - Adaptive scaling started: minimum=1 maximum=10\n",
      "2024-01-24 20:00:07,351 - distributed.deploy.adaptive_core - INFO - Adaptive stop\n"
     ]
    },
    {
     "name": "stdout",
     "output_type": "stream",
     "text": [
      "Total computation time = 2100.86 seconds = 35.01433333333333 minutes.\n"
     ]
    }
   ],
   "source": [
    "## Perform and time computations!!\n",
    "\n",
    "t1 = time.time()\n",
    "\n",
    "# Wrap function in a Coiled function:\n",
    "#spatial_corrmap_tos3_coiled = coiled.function(region=\"us-west-2\", cpu=2, spot_policy=\"on-demand\", environ=earthaccess.auth_environ())(spatial_corrmap_tos3)\n",
    "spatial_corrmap_tos3_coiled = coiled.function(\n",
    "    region=\"us-west-2\", spot_policy=\"on-demand\", \n",
    "    #vm_type = \"t4g.large\",\n",
    "    #vm_type = \"t4g.medium\",\n",
    "    vm_type = \"t4g.small\",\n",
    "    environ=earthaccess.auth_environ()\n",
    "    )(spatial_corrmap_tos3)\n",
    "#spatial_corrmap_tos3_coiled.cluster.scale(250) # Get more workers\n",
    "spatial_corrmap_tos3_coiled.cluster.adapt(minimum=1, maximum=10)\n",
    "\n",
    "# Spins up cluster and begin parallel computations:    \n",
    "results = spatial_corrmap_tos3_coiled.map(\n",
    "    list(zip(grans_ssh_analyze, grans_sst_analyze)), s3bucket=s3bucket,\n",
    "    lat_halfwin=3, lon_halfwin=3, lats=lats, lons=lons, f_notnull=0.5, \n",
    "    )\n",
    "\n",
    "final_results = list(results) # Quick fix for stalling the code block until actual cluster completion, for accurately timing the comps.\n",
    "\n",
    "#for i in i_batches:    \n",
    "#    spatial_corrmap_tos3_coiled.map(\n",
    "#        s3bucket, grans_ssh_analyze[i[0]:i[1]], grans_sst_analyze[i[0]], \n",
    "#        #s3bucket, grans_ssh_analyze[i[0]:i[1]], grans_sst_analyze[i[0]:i[1]], \n",
    "#        lat_halfwin=3, lon_halfwin=3, lats=lats, lons=lons, f_notnull=0.5, \n",
    "#        )\n",
    "\n",
    "t2 = time.time()\n",
    "comptime = round(t2-t1, 2)\n",
    "print(\"Total computation time = \" + str(comptime) + \" seconds = \" + str(comptime/60) + \" minutes.\")\n",
    "\n",
    "#spatial_corrmap_tos3_coiled.cluster.scale(1)"
   ]
  },
  {
   "cell_type": "code",
   "execution_count": 13,
   "id": "1bbc53dc-719d-4540-a177-5c9af42b0227",
   "metadata": {},
   "outputs": [
    {
     "name": "stderr",
     "output_type": "stream",
     "text": [
      "2024-01-18 01:35:43,001 - distributed.deploy.adaptive_core - INFO - Adaptive stop\n",
      "2024-01-18 01:35:43,300 - distributed.deploy.adaptive_core - INFO - Adaptive stop\n"
     ]
    }
   ],
   "source": [
    "spatial_corrmap_tos3_coiled.cluster.shutdown()"
   ]
  },
  {
   "cell_type": "markdown",
   "id": "55ac4c67-832c-438c-892b-1f997b82720a",
   "metadata": {},
   "source": [
    "## Open and plot results from one of the files"
   ]
  },
  {
   "cell_type": "code",
   "execution_count": 1,
   "id": "9ffbc210-ffe6-4d0f-b492-5b26f9fd4a8c",
   "metadata": {},
   "outputs": [],
   "source": [
    "# ..."
   ]
  },
  {
   "cell_type": "code",
   "execution_count": null,
   "id": "5d62df88-6be2-442f-b82f-28d2ce3f22ce",
   "metadata": {},
   "outputs": [],
   "source": []
  }
 ],
 "metadata": {
  "kernelspec": {
   "display_name": "Python 3 (ipykernel)",
   "language": "python",
   "name": "python3"
  },
  "language_info": {
   "codemirror_mode": {
    "name": "ipython",
    "version": 3
   },
   "file_extension": ".py",
   "mimetype": "text/x-python",
   "name": "python",
   "nbconvert_exporter": "python",
   "pygments_lexer": "ipython3",
   "version": "3.11.5"
  },
  "toc-showtags": false
 },
 "nbformat": 4,
 "nbformat_minor": 5
}

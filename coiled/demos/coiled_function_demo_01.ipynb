{
 "cells": [
  {
   "attachments": {},
   "cell_type": "markdown",
   "id": "574f488f-29e0-48b2-9c7f-b9855ec19dea",
   "metadata": {},
   "source": [
    "# Parallel Computing with Earthdata in the Cloud\n",
    "## Replicating a Function Over Many Files with `coiled.function()`, Example Use for an SST-SSH Spatial Correlation Analysis\n",
    "\n",
    "#### *Authors: Dean Henze and Jinbo Wang, NASA JPL PO.DAAC*\n",
    "\n",
    "*Reference herein to any specific commercial product, process, or service by trade name, trademark, manufacturer, or otherwise, does not constitute or imply its endorsement by the United States Government or the Jet Propulsion Laboratory, California Institute of Technology.*\n",
    "\n",
    "## Summary\n",
    "\n",
    "\n",
    "Previous notebooks have covered the use of Dask and parallel computing applied to the type of task in the schematic below, where we wish to replicate a function over a set of files.\n",
    "\n",
    "<img src=\"./schematic1.png\" alt=\"sch1\" width=\"500\"/>\n",
    "\n",
    "A separate notebook explores this workflow for computing spatial correlation maps between sea surface temperature (SST) and sea surface height (SSH) (an overview of the analysis is described below), where the parallel computations were performed with Dask on a local cluster using `dask.delayed()`. In this notebook, we perform the same computations, but parallelize them using the third party software/package `Coiled`. In short `Coiled` will allow us to spin up AWS virtual machines (EC2 instances) and create a distributed cluster out of them, all with a few lines of Python from within this notebook. For this type of parallel computation, we use `coiled.function()`'s, taking the place of `dask.delayed()`. *You will need a Coiled account, but once set up, you can run this notebook entirely from your laptop while the computations will be run on the distributed cluster in AWS.* \n",
    "\n",
    "\n",
    "#### SST-SSH Correlation Analysis\n",
    "\n",
    "The analysis will generate global maps of spatial correlation between sea surface temperature (SST) and sea surface height (SSH). The analysis uses PO.DAAC hosted, gridded SSH and SST data sets:\n",
    "* MEaSUREs gridded SSH Version 2205: 0.17° x 0.17° resolution, global map, one file per 5-days, https://doi.org/10.5067/SLREF-CDRV3\n",
    "* GHRSST Level 4 MW_OI Global Foundation SST, V5.0: 0.25° x 0.25° resolution, global map, daily files, https://doi.org/10.5067/GHMWO-4FR05\n",
    "\n",
    "The time period of overlap between these data sets is 1998 – 2020, with 1808 days in total overlapping. For each pair of SST, SSH files on these days, compute a map of spatial correlation between them, where the following method is used at each gridpoint:\n",
    "\n",
    "<img src=\"./schematic_sst-ssh_corr.png\" alt=\"sch_sst-ssh-corr\" width=\"1000\"/>\n",
    "\n",
    "This notebook will first define the functions to read in the data and perform the computations, then test them on a single file. Next a smaller parallel computation will be performed on all pairs of files in 2018 (73 pairs in total), reducing what would have otherwise taken hours to minutes instead. Finally, an optional section will demonstrate what was used to perform the full computation on all 1808 pairs of files at 0.25 degree resolution.\n",
    "\n",
    "\n",
    "## Requirements, prerequisite knowledge, learning outcomes\n",
    "\n",
    "#### Requirements to run this notebook\n",
    "* **Earthdata login account:** An Earthdata Login account is required to access data from the NASA Earthdata system. Please visit https://urs.earthdata.nasa.gov to register and manage your Earthdata Login account. \n",
    "* **Coiled account:** Create a coiled account (free to sign up), and connect it to an AWS account. For more information on Coiled, setting up an account, and connecting it to an AWS account, see their website https://www.coiled.io. \n",
    "* **Compute environment:** This notebook can be run either in the cloud (AWS instance running in us-west-2), or on a local compute environment (e.g. laptop, server). Because we are using Coiled to spin up, access, and coordinate compute resources in AWS, this notebook will run equally as well both locally and in the cloud.\n",
    "\n",
    "\n",
    "#### Prerequisite knowledge\n",
    "* Please make sure you are comfortable with the [notebook on Dask basics](https://podaac.github.io/tutorials/notebooks/Advanced_cloud/basic_dask.html) and all prerequisites therein.\n",
    "\n",
    "#### Learning outcomes\n",
    "This notebook demonstrates how to use `dask.delayed()` with a local cluster on an analysis mirroring what someone might want to do in a real-world setting. As such, you will get better insight on how to apply this workflow to your own analysis. Further, this notebook touches briefly on choosing VM types, which may be many user's first introduction to the topic. "
   ]
  },
  {
   "cell_type": "code",
   "execution_count": 1,
   "id": "2ff055bc-2f3e-4436-a413-1c6550641f15",
   "metadata": {},
   "outputs": [],
   "source": [
    "# Built in packages\n",
    "import time\n",
    "import sys\n",
    "import os\n",
    "\n",
    "# Math / science packages\n",
    "import xarray as xr\n",
    "import numpy as np\n",
    "from scipy.optimize import leastsq\n",
    "\n",
    "# Plotting packages\n",
    "from matplotlib import pylab as plt\n",
    "\n",
    "# Cloud / parallel computing packages\n",
    "import earthaccess\n",
    "import coiled"
   ]
  },
  {
   "cell_type": "markdown",
   "id": "03ee13dd-275f-49f0-bc25-3d0fccde6b09",
   "metadata": {},
   "source": [
    "## 1. Define functions\n",
    "\n",
    "The main function implemented is `spatial_corrmap()`, which will return the map of correlations as a 2D array. The other functions below are called by `spatial_corrmap()`.  "
   ]
  },
  {
   "cell_type": "code",
   "execution_count": 2,
   "id": "2db4dd16-bfc9-4993-be7d-88f1cd747c87",
   "metadata": {},
   "outputs": [],
   "source": [
    "def load_sst_ssh(gran_ssh, gran_sst):\n",
    "    \"\"\"\n",
    "    Return SLA and SST variables for a single file each of the \n",
    "    SEA_SURFACE_HEIGHT_ALT_GRIDS_L4_2SATS_5DAY_6THDEG_V_JPL2205 and MW_OI-REMSS-L4-GLOB-v5.0 \n",
    "    collections, respectively, returned as xarray.DataArray's. Input args are granule info \n",
    "    (earthaccess.results.DataGranule object's) for each collection.  \n",
    "    \"\"\"\n",
    "    earthaccess.login(strategy=\"environment\") # Confirm credentials are current\n",
    "    \n",
    "    # Get SLA and SST variables, loaded fully into local memory:\n",
    "    ssh = xr.load_dataset(earthaccess.open([gran_ssh], provider='POCLOUD')[0])['SLA'][0,...]\n",
    "    sst = xr.load_dataset(earthaccess.open([gran_sst], provider='POCLOUD')[0])['analysed_sst'][0,...]\n",
    "\n",
    "    return ssh, sst"
   ]
  },
  {
   "cell_type": "code",
   "execution_count": 3,
   "id": "1a53cc76-82dc-4473-9d61-89be4618ede0",
   "metadata": {},
   "outputs": [],
   "source": [
    "def spatialcorr(x, y, p1, p2):\n",
    "    \"\"\"\n",
    "    Correlation between two 2D variables p1(x, y), p2(x, y), over the domain (x, y). Correlation is \n",
    "    computed between the anomalies of p1, p2, where anomalies for each variables are the deviations from \n",
    "    respective linear 2D surface fits.\n",
    "    \"\"\"\n",
    "    # Compute anomalies:\n",
    "    ssha, _ = anomalies_2Dsurf(x, y, p1) # See function further down.\n",
    "    ssta, _ = anomalies_2Dsurf(x, y, p2)\n",
    "    \n",
    "    # Compute correlation coefficient:\n",
    "    a, b = ssta.flatten(), ssha.flatten()\n",
    "    if ( np.nansum(abs(a))==0 ) or ( np.nansum(abs(b))==0 ): # There are some cases where all anomalies for one var are 0.\n",
    "        # In this case, correlation should be 0. Numpy will compute this correctly, but will also throw a lot of warnings.\n",
    "        # Get around this by manually appending 0 instead.\n",
    "        return 0\n",
    "    else:\n",
    "        return np.nanmean(a*b)/np.sqrt(np.nanvar(a) * np.nanvar(b))\n",
    "\n",
    "\n",
    "def anomalies_2Dsurf(x, y, p):\n",
    "    \"\"\"\n",
    "    Get anomalies for a variable over a 2D map. Done by fitting a bi-linear 2D surface \n",
    "    to the data (scipy) and taking the anomaly as the difference between each data point \n",
    "    and the surface. Surface can either be a linear or quadratic function.\n",
    "    \n",
    "    Inputs\n",
    "    ------\n",
    "    x, y: 1D array-like.\n",
    "        Independent vars (likely the lon, lat coordinates).\n",
    "    p: 2D array-like, of shape (len(y), len(x)).\n",
    "        Dependent variable. 2D surface fit will be to p(x, y).\n",
    "    \n",
    "    Returns\n",
    "    ------\n",
    "    va, vm: 2D NumPy arrays\n",
    "        Anomalies (va) and mean surface fit (vm).\n",
    "    \"\"\"\n",
    "    # Functions to (1) output a 2D surface and (2) output the difference between 2D data and the computed surface:\n",
    "    def surface(c,x0,y0): # Takes independent vars and poly coefficients\n",
    "        a,b,c=c\n",
    "        return a + b*x0 + c*y0\n",
    "    \n",
    "    def err(c,x0,y0,p): # Takes independent/dependent vars and poly coefficients\n",
    "        a,b,c=c\n",
    "        return p - (a + b*x0 + c*y0 )\n",
    "\n",
    "\n",
    "    # Prep arrays and remove NAN's:\n",
    "    xx, yy = np.meshgrid(x, y)\n",
    "    xf=xx.flatten()\n",
    "    yf=yy.flatten()\n",
    "    pf=p.flatten()\n",
    "\n",
    "    msk=~np.isnan(pf)\n",
    "    pf=pf[msk]\n",
    "    xf=xf[msk]\n",
    "    yf=yf[msk]\n",
    "\n",
    "    \n",
    "    # Initial values of polynomial coefficients to start fitting algorithm off with:\n",
    "    dpdx=(pf.max()-pf.min())/(xf.max()-xf.min())\n",
    "    dpdy=(pf.max()-pf.min())/(yf.max()-yf.min())\n",
    "    c = [pf.mean(),dpdx,dpdy]\n",
    "\n",
    "    \n",
    "    # Fit and compute anomalies:\n",
    "    coef = leastsq(err,c,args=(xf,yf,pf))[0]\n",
    "    vm = surface(coef, xx, yy) # mean surface\n",
    "    va = p - vm # anomalies\n",
    "    return va, vm"
   ]
  },
  {
   "cell_type": "code",
   "execution_count": 4,
   "id": "f7e23d8b-0c6a-4c39-943e-4c37b6cc0177",
   "metadata": {},
   "outputs": [],
   "source": [
    "def spatial_corrmap(grans, lat_halfwin, lon_halfwin, lats=None, lons=None, f_notnull=0.5):\n",
    "    \"\"\"\n",
    "    Get a 2D map of SSH-SST spatial correlation coefficients, for one each of the \n",
    "    SEA_SURFACE_HEIGHT_ALT_GRIDS_L4_2SATS_5DAY_6THDEG_V_JPL2205 and MW_OI-REMSS-L4-GLOB-v5.0 collections. \n",
    "    At each gridpoint, the spatial correlation is computed over a lat, lon window of size \n",
    "    2*lat_halfwin x 2*lon_halfwin. Correlation is computed from the SSH, SST anomalies, which are computed \n",
    "    in turn as the deviations from a fitted 2D surface over the window.\n",
    "    \n",
    "    Inputs\n",
    "    ------\n",
    "    grans: 2-tuple of earthaccess.results.DataGranule objects\n",
    "        Granule info for the SSH, SST files (in that order). These objects contain https and S3 locations.\n",
    "    lat_halfwin, lon_halfwin: floats\n",
    "        Half window size in degrees for latitude and longitude dimensions, respectively.\n",
    "    lats, lons: None or 1D array-like\n",
    "        Latitude, longitude gridpoints at which to compute the correlations. \n",
    "        If None, will use the SSH grid.\n",
    "    f_notnull: float between 0-1 (default = 0.5)\n",
    "        Threshold fraction of non-NAN values in a window in order for the correlation to be computed,\n",
    "        otherwise NAN is returned for that grid point. For edge cases, 'ghost' elements are counted as NAN.\n",
    "\n",
    "    Returns\n",
    "    ------\n",
    "    coef: 2D numpy array\n",
    "        Spatial correlation coefficients.\n",
    "    \n",
    "    lats, lons: 1D numpy arrays.\n",
    "        Latitudes and longitudes creating the 2D grid that 'coef' was calculated on.\n",
    "    \"\"\"    \n",
    "    # Load datafiles, convert SST longitude to (0,360), and interpolate SST to SSH grid:    \n",
    "    ssh, sst = load_sst_ssh(*grans)\n",
    "    sst = sst.roll(lon=len(sst['lon'])//2)\n",
    "    sst['lon'] = sst['lon']+180\n",
    "    sst = sst.interp(lon=ssh['Longitude'], lat=ssh['Latitude'])\n",
    "\n",
    "    \n",
    "    # Compute windows size and threshold number of non-nan points:\n",
    "    dlat = (ssh['Latitude'][1]-ssh['Latitude'][0]).item()\n",
    "    dlon = (ssh['Longitude'][1]-ssh['Longitude'][0]).item()\n",
    "    nx_win = 2*round(lon_halfwin/dlon)\n",
    "    ny_win = 2*round(lat_halfwin/dlat)\n",
    "    n_thresh = nx_win*ny_win*f_notnull\n",
    "\n",
    "\n",
    "    # Some prep work for efficient identification of windows where number of non-nan's < threshold:\n",
    "        # Map of booleans for sst*ssh==np.nan\n",
    "    notnul = (sst*ssh).notnull() \n",
    "        # Combine map and sst, ssh data into single Dataset for more efficient indexing:\n",
    "    notnul = notnul.rename(\"notnul\") # Needs a name to merge\n",
    "    mergeddata = xr.merge([ssh, sst, notnul], compat=\"equals\")\n",
    "     \n",
    "\n",
    "    # Compute spatial correlations over whole map:\n",
    "    coef = []\n",
    "    \n",
    "    if lats is None:\n",
    "        lats = ssh['Latitude'].data\n",
    "        lons = ssh['Longitude'].data\n",
    "    \n",
    "    for lat_cen in lats:\n",
    "        for lon_cen in lons:\n",
    "\n",
    "            # Create window for both sst and ssh with xr.sel:\n",
    "            lat_bottom = lat_cen - lat_halfwin\n",
    "            lat_top = lat_cen + lat_halfwin\n",
    "            lon_left = lon_cen - lon_halfwin\n",
    "            lon_right = lon_cen + lon_halfwin\n",
    "            data_win = mergeddata.sel(Longitude=slice(lon_left, lon_right), Latitude=slice(lat_bottom, lat_top))\n",
    "    \n",
    "            # If number of non-nan values in window is less than threshold \n",
    "            # value, append np.nan, else compute correlation coefficient:\n",
    "            n_notnul = data_win[\"notnul\"].sum().item()\n",
    "            if n_notnul < n_thresh:\n",
    "                coef.append(np.nan)\n",
    "            else:\n",
    "                c = spatialcorr(data_win['Longitude'], data_win['Latitude'], data_win['SLA'].data, data_win['analysed_sst'].data)\n",
    "                coef.append(c)\n",
    "    \n",
    "    return np.array(coef).reshape((len(lats), len(lons))), np.array(lats), np.array(lons)"
   ]
  },
  {
   "cell_type": "markdown",
   "id": "c1c1b430-56d1-412f-8c59-87128a4e45ed",
   "metadata": {},
   "source": [
    "## 2. Get all matching pairs of SSH, SST files for 2018\n",
    "\n",
    "The `spatial_corrmap()` function takes as one of its arguments a 2-tuple of `earthaccess.store.EarthAccessFile` objects, one each for SSH and SST (recall that `earthaccess.store.EarthAccessFile` objects are returned from a call to `earthaccess.open()`, and are passed to `Xarray`). This section will retrieve pairs of these objects for all SSH, SST data in 2018 on days where the data sets overlap. "
   ]
  },
  {
   "cell_type": "code",
   "execution_count": 5,
   "id": "c2069fe9-96cf-41df-97d1-c9e87f10caa6",
   "metadata": {},
   "outputs": [
    {
     "data": {
      "text/plain": [
       "<earthaccess.auth.Auth at 0x16837e010>"
      ]
     },
     "execution_count": 5,
     "metadata": {},
     "output_type": "execute_result"
    }
   ],
   "source": [
    "earthaccess.login()"
   ]
  },
  {
   "cell_type": "code",
   "execution_count": 6,
   "id": "8a64811a-9b86-403e-9dd5-10594219c5eb",
   "metadata": {},
   "outputs": [
    {
     "name": "stdout",
     "output_type": "stream",
     "text": [
      "Granules found: 73\n",
      "Granules found: 365\n"
     ]
    }
   ],
   "source": [
    "## Granule info for all files in 2018:\n",
    "dt2018 = (\"2018-01-01\", \"2018-12-31\")\n",
    "grans_ssh = earthaccess.search_data(short_name=\"SEA_SURFACE_HEIGHT_ALT_GRIDS_L4_2SATS_5DAY_6THDEG_V_JPL2205\", temporal=dt2018)\n",
    "grans_sst = earthaccess.search_data(short_name=\"MW_OI-REMSS-L4-GLOB-v5.0\", temporal=dt2018)"
   ]
  },
  {
   "cell_type": "code",
   "execution_count": 7,
   "id": "40cc7a3d-e145-4793-afdf-a1197e6cfadd",
   "metadata": {},
   "outputs": [
    {
     "name": "stdout",
     "output_type": "stream",
     "text": [
      " SSH file days:  ['20180102', '20180107', '20180112', '20180117', '20180122', '20180127', '20180201', '20180206'] \n",
      " SST file days:  ['20180101', '20180102', '20180103', '20180104', '20180105', '20180106', '20180107', '20180108']\n"
     ]
    }
   ],
   "source": [
    "## File coverage dates extracted from filenames:\n",
    "dates_ssh = [g['umm']['GranuleUR'].split('_')[-1][:8] for g in grans_ssh]\n",
    "dates_sst = [g['umm']['GranuleUR'][:8] for g in grans_sst]\n",
    "print(' SSH file days: ', dates_ssh[:8], '\\n', 'SST file days: ', dates_sst[:8])"
   ]
  },
  {
   "cell_type": "code",
   "execution_count": 8,
   "id": "42edfcfd-1898-47af-ac6b-c44722f3f242",
   "metadata": {},
   "outputs": [],
   "source": [
    "## Separate granule info for dates where there are both SSH and SST files:\n",
    "grans_ssh_analyze = []\n",
    "grans_sst_analyze = []\n",
    "for j in range(len(dates_ssh)):\n",
    "    if dates_ssh[j] in dates_sst:\n",
    "        grans_ssh_analyze.append(grans_ssh[j])\n",
    "        grans_sst_analyze.append(grans_sst[dates_sst.index(dates_ssh[j])])"
   ]
  },
  {
   "cell_type": "markdown",
   "id": "224ad58e-3720-4189-9678-c036f12f50ba",
   "metadata": {},
   "source": [
    "**The result is two lists of `earthaccess.results.DataGranule` objects, where the ith element of the SSH, SST lists contain granule info for the respective data sets on the same day:**"
   ]
  },
  {
   "cell_type": "code",
   "execution_count": 9,
   "id": "ad200075-c528-4943-bf94-a519ffe0cfb8",
   "metadata": {},
   "outputs": [
    {
     "name": "stdout",
     "output_type": "stream",
     "text": [
      "SEA_SURFACE_HEIGHT_ALT_GRIDS_L4_2SATS_5DAY_6THDEG_V_JPL2205 : 73 granules\n",
      "['2018-01-02T00:00:00.000Z', '2018-01-07T00:00:00.000Z', '2018-01-12T00:00:00.000Z', '2018-01-17T00:00:00.000Z']\n",
      "MW_OI-REMSS-L4-GLOB-v5.0 : 73 granules\n",
      "['2018-01-02T00:00:00.000Z', '2018-01-07T00:00:00.000Z', '2018-01-12T00:00:00.000Z', '2018-01-17T00:00:00.000Z']\n"
     ]
    }
   ],
   "source": [
    "print(grans_ssh_analyze[0]['umm']['CollectionReference']['ShortName'], ':', len(grans_ssh_analyze), 'granules')\n",
    "print([g['umm']['TemporalExtent']['RangeDateTime']['BeginningDateTime'] for g in grans_ssh_analyze[:4]])\n",
    "print(grans_sst_analyze[0]['umm']['CollectionReference']['ShortName'], ':', len(grans_sst_analyze), 'granules')\n",
    "print([g['umm']['TemporalExtent']['RangeDateTime']['BeginningDateTime'] for g in grans_sst_analyze[:4]])"
   ]
  },
  {
   "cell_type": "markdown",
   "id": "3a3636ae-d8af-4d64-9bd1-d80146a54917",
   "metadata": {},
   "source": [
    "## 3. Test the computation on a pair of files, output on a coarse resolution grid\n",
    "\n",
    "To verify the functions work, we test them on the first pair of files. To reduce computation time, we compute them for a 2 degree x 2 degree output grid for now."
   ]
  },
  {
   "cell_type": "code",
   "execution_count": 10,
   "id": "fc03e8f0-bea8-430d-8b1d-fa156661cf46",
   "metadata": {},
   "outputs": [
    {
     "name": "stdout",
     "output_type": "stream",
     "text": [
      "Opening 1 granules, approx size: 0.01 GB\n"
     ]
    },
    {
     "data": {
      "application/vnd.jupyter.widget-view+json": {
       "model_id": "c92484afcbdf4e809d25e62b45e0231d",
       "version_major": 2,
       "version_minor": 0
      },
      "text/plain": [
       "QUEUEING TASKS | :   0%|          | 0/1 [00:00<?, ?it/s]"
      ]
     },
     "metadata": {},
     "output_type": "display_data"
    },
    {
     "data": {
      "application/vnd.jupyter.widget-view+json": {
       "model_id": "12e64e8d441b4b2f9f48670c091b4eb7",
       "version_major": 2,
       "version_minor": 0
      },
      "text/plain": [
       "PROCESSING TASKS | :   0%|          | 0/1 [00:00<?, ?it/s]"
      ]
     },
     "metadata": {},
     "output_type": "display_data"
    },
    {
     "data": {
      "application/vnd.jupyter.widget-view+json": {
       "model_id": "a41a9bdeff1745dc9964d5501fe0c568",
       "version_major": 2,
       "version_minor": 0
      },
      "text/plain": [
       "COLLECTING RESULTS | :   0%|          | 0/1 [00:00<?, ?it/s]"
      ]
     },
     "metadata": {},
     "output_type": "display_data"
    },
    {
     "name": "stdout",
     "output_type": "stream",
     "text": [
      "Opening 1 granules, approx size: 0.0 GB\n"
     ]
    },
    {
     "data": {
      "application/vnd.jupyter.widget-view+json": {
       "model_id": "08cddcd13646408cb5473bdbea8e55c7",
       "version_major": 2,
       "version_minor": 0
      },
      "text/plain": [
       "QUEUEING TASKS | :   0%|          | 0/1 [00:00<?, ?it/s]"
      ]
     },
     "metadata": {},
     "output_type": "display_data"
    },
    {
     "data": {
      "application/vnd.jupyter.widget-view+json": {
       "model_id": "8cbf653b985448ea845667897f479da3",
       "version_major": 2,
       "version_minor": 0
      },
      "text/plain": [
       "PROCESSING TASKS | :   0%|          | 0/1 [00:00<?, ?it/s]"
      ]
     },
     "metadata": {},
     "output_type": "display_data"
    },
    {
     "data": {
      "application/vnd.jupyter.widget-view+json": {
       "model_id": "81425b759d2249389adb7a62ee912f2e",
       "version_major": 2,
       "version_minor": 0
      },
      "text/plain": [
       "COLLECTING RESULTS | :   0%|          | 0/1 [00:00<?, ?it/s]"
      ]
     },
     "metadata": {},
     "output_type": "display_data"
    },
    {
     "name": "stdout",
     "output_type": "stream",
     "text": [
      "Total computation time = 23.52 seconds.\n"
     ]
    }
   ],
   "source": [
    "# Compute spatial correlation map for 2 degree x 2 degree resolution and time it:\n",
    "t1 = time.time()\n",
    "\n",
    "lats = np.arange(-80, 80, 2)\n",
    "lons = np.arange(0, 359, 2)\n",
    "coef, lats, lons = spatial_corrmap((grans_ssh_analyze[0], grans_sst_analyze[0]), 3, 3, lats=lats, lons=lons, f_notnull=0.5)\n",
    "\n",
    "t2 = time.time()\n",
    "comptime = round(t2-t1, 2)\n",
    "print(\"Total computation time = \" + str(comptime) + \" seconds.\")"
   ]
  },
  {
   "cell_type": "code",
   "execution_count": 11,
   "id": "edeedc7b-446f-475c-9e74-3d968ccecbe0",
   "metadata": {},
   "outputs": [
    {
     "data": {
      "text/plain": [
       "<matplotlib.colorbar.Colorbar at 0x16c1fd1d0>"
      ]
     },
     "execution_count": 11,
     "metadata": {},
     "output_type": "execute_result"
    },
    {
     "data": {
      "image/png": "[encoded data removed]",
      "text/plain": [
       "<Figure size 800x300 with 2 Axes>"
      ]
     },
     "metadata": {},
     "output_type": "display_data"
    }
   ],
   "source": [
    "## Plot the results:\n",
    "plt.figure(figsize=(8,3))\n",
    "plt.contourf(lons, lats, coef, cmap='RdBu_r')\n",
    "plt.colorbar()"
   ]
  },
  {
   "cell_type": "markdown",
   "id": "5dfaabf5-4e9a-47c0-a3cc-2c3cd1e6b449",
   "metadata": {},
   "source": [
    "### Estimation of computation time for higher resolution output and more files\n",
    "\n",
    "The computation for one file computed on a 2 x 2 degree grid takes:"
   ]
  },
  {
   "cell_type": "code",
   "execution_count": 12,
   "id": "aaa50edd-81f7-4965-b3c3-b59aacfe8b30",
   "metadata": {},
   "outputs": [
    {
     "name": "stdout",
     "output_type": "stream",
     "text": [
      "23.52 seconds.\n"
     ]
    }
   ],
   "source": [
    "print(str(comptime) + \" seconds.\")"
   ]
  },
  {
   "cell_type": "markdown",
   "id": "2493cc0c-e571-489a-b2da-7a959f59ad56",
   "metadata": {},
   "source": [
    "then assuming linear scaling, processing one file at 0.5 x 0.5 degree resolution would take:"
   ]
  },
  {
   "cell_type": "code",
   "execution_count": 13,
   "id": "e1b8e45b-d352-4c16-9647-6796cddc1f47",
   "metadata": {},
   "outputs": [
    {
     "name": "stdout",
     "output_type": "stream",
     "text": [
      "6 minutes.\n"
     ]
    }
   ],
   "source": [
    "eta_fullres_seconds = comptime*(2/0.5)*(2/0.5)\n",
    "eta_fullres_minutes = round(eta_fullres_seconds/60)\n",
    "print(str(eta_fullres_minutes) + \" minutes.\")"
   ]
  },
  {
   "cell_type": "markdown",
   "id": "7c45afc1-86e4-402c-a0a1-2c58d5c82c0c",
   "metadata": {},
   "source": [
    "and for the record over all of 2018 would take:"
   ]
  },
  {
   "cell_type": "code",
   "execution_count": 14,
   "id": "339cce06-7228-45ce-b254-8f2c611b5581",
   "metadata": {},
   "outputs": [
    {
     "name": "stdout",
     "output_type": "stream",
     "text": [
      "73 granules for 2018.\n",
      "7.3 hours = 0.3 days.\n"
     ]
    }
   ],
   "source": [
    "eta_allfiles_hrs = round( (len(grans_ssh)*eta_fullres_minutes)/60, 1 )\n",
    "eta_allfiles_days = round(eta_allfiles_hrs/24, 2)\n",
    "print(str(len(grans_ssh)) + \" granules for 2018.\")\n",
    "print(str(eta_allfiles_hrs) + \" hours = \" + str(eta_allfiles_days) + \" days.\")"
   ]
  },
  {
   "cell_type": "markdown",
   "id": "6f37e27c-b2c1-4682-9902-04457dd69f71",
   "metadata": {},
   "source": [
    "## 4. Parallel computations with Coiled Functions\n",
    "The previous section showed that analyzing a year's worth of data at 0.5 x 0.5 degree output resolution would take hours. In this section, we use Coiled to parallelize this computation to take ~10 minutes and cost ~$1 (at the time this was written). Our task is to replicate and apply our function to all the files in 2018, which can be accomplished with a call to `coiled.function()`."
   ]
  },
  {
   "cell_type": "markdown",
   "id": "d54c33ba-45c5-4089-af3d-6b4b4bfbc282",
   "metadata": {},
   "source": [
    "First, define a wrapper function which calls `spatial_corrmap()` for a pair of SSH, SST granules and collects the output into an `Xarray.DataArray`, returning it along with the date of granule coverages. We will parallelize this function rather than `spatial_corrmap()`, then take the output and save to netCDF files locally."
   ]
  },
  {
   "cell_type": "code",
   "execution_count": 15,
   "id": "22d3df8d-56f6-44bf-87fc-4efa2098866e",
   "metadata": {},
   "outputs": [],
   "source": [
    "def corrmap_toda(grans, lat_halfwin=3, lon_halfwin=3, lats=None, lons=None, f_notnull=0.5):\n",
    "    \"\"\"\n",
    "    Calls spatial_corrmap() for a pair of SSH, SST granules and collects output into an Xarray DataArray. \n",
    "    Returns this along with the date of the file coverages.\n",
    "    \"\"\"\n",
    "    coef, lats, lons = spatial_corrmap(grans, lat_halfwin, lon_halfwin, lats=lats, lons=lons, f_notnull=0.5)\n",
    "    date = grans[0]['umm']['GranuleUR'].split(\"_\")[-1][:8] # get date from SSH UR.\n",
    "    return date, xr.DataArray(data=coef, dims=[\"lat\", \"lon\"], coords=dict(lon=lons, lat=lats), name='corr_ssh_sst')"
   ]
  },
  {
   "cell_type": "markdown",
   "id": "1eb257b8-01c0-4c20-b5b8-6e12b82108af",
   "metadata": {},
   "source": [
    "Next, some prep work:"
   ]
  },
  {
   "cell_type": "code",
   "execution_count": 16,
   "id": "ac4e6584-dd66-4955-a00e-407ebc42e9d1",
   "metadata": {},
   "outputs": [],
   "source": [
    "# All output will be saved to this local directory:\n",
    "dir_results = \"results/\"\n",
    "os.makedirs(dir_results, exist_ok=True)\n",
    "\n",
    "# Latitudes, longitudes of output grid at 0.5 degree resolution:\n",
    "lats = np.arange(-80, 80, 0.5)\n",
    "lons = np.arange(0, 359, 0.5)"
   ]
  },
  {
   "cell_type": "markdown",
   "id": "0f4664d2-d14e-4883-838c-a11cd2dca772",
   "metadata": {},
   "source": [
    "then setup the parallel computations and run!"
   ]
  },
  {
   "cell_type": "code",
   "execution_count": 17,
   "id": "5c39015d-1eb9-4203-af85-28e3b5a47987",
   "metadata": {},
   "outputs": [
    {
     "data": {
      "application/vnd.jupyter.widget-view+json": {
       "model_id": "6bcb51a31e0743dc8a935cd0679aec8b",
       "version_major": 2,
       "version_minor": 0
      },
      "text/plain": [
       "Output()"
      ]
     },
     "metadata": {},
     "output_type": "display_data"
    },
    {
     "data": {
      "text/html": [
       "<pre style=\"white-space:pre;overflow-x:auto;line-height:normal;font-family:Menlo,'DejaVu Sans Mono',consolas,'Courier New',monospace\"></pre>\n"
      ],
      "text/plain": []
     },
     "metadata": {},
     "output_type": "display_data"
    },
    {
     "data": {
      "text/html": [
       "<pre style=\"white-space:pre;overflow-x:auto;line-height:normal;font-family:Menlo,'DejaVu Sans Mono',consolas,'Courier New',monospace\">╭────────────────────────────────────────── <span style=\"color: #008000; text-decoration-color: #008000; font-weight: bold\">Package Info</span> ──────────────────────────────────────────╮\n",
       "│                                                     ╷                                            │\n",
       "│  <span style=\"font-weight: bold\"> Package                                           </span>│<span style=\"font-weight: bold\"> Note                                     </span>  │\n",
       "│ ╶───────────────────────────────────────────────────┼──────────────────────────────────────────╴ │\n",
       "│   Babel                                             │ https://pypi.org/pypi                      │\n",
       "│   Cartopy                                           │ https://pypi.org/pypi                      │\n",
       "│   Deprecated                                        │ https://pypi.org/pypi                      │\n",
       "│   Jinja2                                            │ https://pypi.org/pypi                      │\n",
       "│   MarkupSafe                                        │ https://pypi.org/pypi                      │\n",
       "│   Pillow                                            │ https://pypi.org/pypi                      │\n",
       "│   PyNaCl                                            │ https://pypi.org/pypi                      │\n",
       "│   PyYAML                                            │ https://pypi.org/pypi                      │\n",
       "│   Pygments                                          │ https://pypi.org/pypi                      │\n",
       "│   Send2Trash                                        │ https://pypi.org/pypi                      │\n",
       "│   aiobotocore                                       │ https://pypi.org/pypi                      │\n",
       "│   aiohttp                                           │ https://pypi.org/pypi                      │\n",
       "│   aioitertools                                      │ https://pypi.org/pypi                      │\n",
       "│   aiosignal                                         │ https://pypi.org/pypi                      │\n",
       "│   anyio                                             │ https://pypi.org/pypi                      │\n",
       "│   argon2-cffi                                       │ https://pypi.org/pypi                      │\n",
       "│   argon2-cffi-bindings                              │ https://pypi.org/pypi                      │\n",
       "│   arrow                                             │ https://pypi.org/pypi                      │\n",
       "│   asttokens                                         │ https://pypi.org/pypi                      │\n",
       "│   async-lru                                         │ https://pypi.org/pypi                      │\n",
       "│   async-timeout                                     │ https://pypi.org/pypi                      │\n",
       "│   attrs                                             │ https://pypi.org/pypi                      │\n",
       "│   backcall                                          │ https://pypi.org/pypi                      │\n",
       "│   backoff                                           │ https://pypi.org/pypi                      │\n",
       "│   bcrypt                                            │ https://pypi.org/pypi                      │\n",
       "│   beautifulsoup4                                    │ https://pypi.org/pypi                      │\n",
       "│   bleach                                            │ https://pypi.org/pypi                      │\n",
       "│   bokeh                                             │ https://pypi.org/pypi                      │\n",
       "│   boto3                                             │ https://pypi.org/pypi                      │\n",
       "│   botocore                                          │ https://pypi.org/pypi                      │\n",
       "│   bounded-pool-executor                             │ https://pypi.org/pypi                      │\n",
       "│   certifi                                           │ https://pypi.org/pypi                      │\n",
       "│   cffi                                              │ https://pypi.org/pypi                      │\n",
       "│   cftime                                            │ https://pypi.org/pypi                      │\n",
       "│   charset-normalizer                                │ https://pypi.org/pypi                      │\n",
       "│   click                                             │ https://pypi.org/pypi                      │\n",
       "│   cloudpickle                                       │ https://pypi.org/pypi                      │\n",
       "│   coiled                                            │ https://pypi.org/pypi                      │\n",
       "│   comm                                              │ https://pypi.org/pypi                      │\n",
       "│   contourpy                                         │ https://pypi.org/pypi                      │\n",
       "│   cryptography                                      │ https://pypi.org/pypi                      │\n",
       "│   cycler                                            │ https://pypi.org/pypi                      │\n",
       "│   dask                                              │ https://pypi.org/pypi                      │\n",
       "│   dask_labextension                                 │ https://pypi.org/pypi                      │\n",
       "│   debugpy                                           │ https://pypi.org/pypi                      │\n",
       "│   decorator                                         │ https://pypi.org/pypi                      │\n",
       "│   defusedxml                                        │ https://pypi.org/pypi                      │\n",
       "│   distributed                                       │ https://pypi.org/pypi                      │\n",
       "│   earthaccess                                       │ https://pypi.org/pypi                      │\n",
       "│   eofs                                              │ https://pypi.org/pypi                      │\n",
       "│   executing                                         │ https://pypi.org/pypi                      │\n",
       "│   fabric                                            │ https://pypi.org/pypi                      │\n",
       "│   fastjsonschema                                    │ https://pypi.org/pypi                      │\n",
       "│   filelock                                          │ https://pypi.org/pypi                      │\n",
       "│   fonttools                                         │ https://pypi.org/pypi                      │\n",
       "│   fqdn                                              │ https://pypi.org/pypi                      │\n",
       "│   frozenlist                                        │ https://pypi.org/pypi                      │\n",
       "│   fsspec                                            │ https://pypi.org/pypi                      │\n",
       "│   gilknocker                                        │ https://pypi.org/pypi                      │\n",
       "│   h11                                               │ https://pypi.org/pypi                      │\n",
       "│   h2                                                │ https://pypi.org/pypi                      │\n",
       "│   h5netcdf                                          │ https://pypi.org/pypi                      │\n",
       "│   h5py                                              │ https://pypi.org/pypi                      │\n",
       "│   hpack                                             │ https://pypi.org/pypi                      │\n",
       "│   httpcore                                          │ https://pypi.org/pypi                      │\n",
       "│   httpx                                             │ https://pypi.org/pypi                      │\n",
       "│   hyperframe                                        │ https://pypi.org/pypi                      │\n",
       "│   idna                                              │ https://pypi.org/pypi                      │\n",
       "│   importlib-metadata                                │ https://pypi.org/pypi                      │\n",
       "│   install                                           │ https://pypi.org/pypi                      │\n",
       "│   invoke                                            │ https://pypi.org/pypi                      │\n",
       "│   ipykernel                                         │ https://pypi.org/pypi                      │\n",
       "│   ipython                                           │ https://pypi.org/pypi                      │\n",
       "│   ipywidgets                                        │ https://pypi.org/pypi                      │\n",
       "│   isoduration                                       │ https://pypi.org/pypi                      │\n",
       "│   jedi                                              │ https://pypi.org/pypi                      │\n",
       "│   jmespath                                          │ https://pypi.org/pypi                      │\n",
       "│   joblib                                            │ https://pypi.org/pypi                      │\n",
       "│   json5                                             │ https://pypi.org/pypi                      │\n",
       "│   jsondiff                                          │ https://pypi.org/pypi                      │\n",
       "│   jsonpointer                                       │ https://pypi.org/pypi                      │\n",
       "│   jsonschema                                        │ https://pypi.org/pypi                      │\n",
       "│   jsonschema-specifications                         │ https://pypi.org/pypi                      │\n",
       "│   jupyter-events                                    │ https://pypi.org/pypi                      │\n",
       "│   jupyter-lsp                                       │ https://pypi.org/pypi                      │\n",
       "│   jupyter_client                                    │ https://pypi.org/pypi                      │\n",
       "│   jupyter_core                                      │ https://pypi.org/pypi                      │\n",
       "│   jupyter_server                                    │ https://pypi.org/pypi                      │\n",
       "│   jupyter_server_proxy                              │ https://pypi.org/pypi                      │\n",
       "│   jupyter_server_terminals                          │ https://pypi.org/pypi                      │\n",
       "│   jupyterlab                                        │ https://pypi.org/pypi                      │\n",
       "│   jupyterlab-pygments                               │ https://pypi.org/pypi                      │\n",
       "│   jupyterlab-widgets                                │ https://pypi.org/pypi                      │\n",
       "│   jupyterlab_server                                 │ https://pypi.org/pypi                      │\n",
       "│   kiwisolver                                        │ https://pypi.org/pypi                      │\n",
       "│   locket                                            │ https://pypi.org/pypi                      │\n",
       "│   markdown-it-py                                    │ https://pypi.org/pypi                      │\n",
       "│   matplotlib                                        │ https://pypi.org/pypi                      │\n",
       "│   matplotlib-inline                                 │ https://pypi.org/pypi                      │\n",
       "│   mdurl                                             │ https://pypi.org/pypi                      │\n",
       "│   mistune                                           │ https://pypi.org/pypi                      │\n",
       "│   msgpack                                           │ https://pypi.org/pypi                      │\n",
       "│   multidict                                         │ https://pypi.org/pypi                      │\n",
       "│   multimethod                                       │ https://pypi.org/pypi                      │\n",
       "│   nbclient                                          │ https://pypi.org/pypi                      │\n",
       "│   nbconvert                                         │ https://pypi.org/pypi                      │\n",
       "│   nbformat                                          │ https://pypi.org/pypi                      │\n",
       "│   nest-asyncio                                      │ https://pypi.org/pypi                      │\n",
       "│   netCDF4                                           │ https://pypi.org/pypi                      │\n",
       "│   notebook_shim                                     │ https://pypi.org/pypi                      │\n",
       "│   numpy                                             │ https://pypi.org/pypi                      │\n",
       "│   overrides                                         │ https://pypi.org/pypi                      │\n",
       "│   packaging                                         │ https://pypi.org/pypi                      │\n",
       "│   pandas                                            │ https://pypi.org/pypi                      │\n",
       "│   pandocfilters                                     │ https://pypi.org/pypi                      │\n",
       "│   paramiko                                          │ https://pypi.org/pypi                      │\n",
       "│   parso                                             │ https://pypi.org/pypi                      │\n",
       "│   partd                                             │ https://pypi.org/pypi                      │\n",
       "│   patsy                                             │ https://pypi.org/pypi                      │\n",
       "│   pexpect                                           │ https://pypi.org/pypi                      │\n",
       "│   pickleshare                                       │ https://pypi.org/pypi                      │\n",
       "│   pip-requirements-parser                           │ https://pypi.org/pypi                      │\n",
       "│   platformdirs                                      │ https://pypi.org/pypi                      │\n",
       "│   pooch                                             │ https://pypi.org/pypi                      │\n",
       "│   pqdm                                              │ https://pypi.org/pypi                      │\n",
       "│   prometheus-client                                 │ https://pypi.org/pypi                      │\n",
       "│   prompt-toolkit                                    │ https://pypi.org/pypi                      │\n",
       "│   psutil                                            │ https://pypi.org/pypi                      │\n",
       "│   ptyprocess                                        │ https://pypi.org/pypi                      │\n",
       "│   pure-eval                                         │ https://pypi.org/pypi                      │\n",
       "│   pycparser                                         │ https://pypi.org/pypi                      │\n",
       "│   pyparsing                                         │ https://pypi.org/pypi                      │\n",
       "│   pyproj                                            │ https://pypi.org/pypi                      │\n",
       "│   pyshp                                             │ https://pypi.org/pypi                      │\n",
       "│   python-cmr                                        │ https://pypi.org/pypi                      │\n",
       "│   python-dateutil                                   │ https://pypi.org/pypi                      │\n",
       "│   python-json-logger                                │ https://pypi.org/pypi                      │\n",
       "│   pytz                                              │ https://pypi.org/pypi                      │\n",
       "│   pyzmq                                             │ https://pypi.org/pypi                      │\n",
       "│   referencing                                       │ https://pypi.org/pypi                      │\n",
       "│   requests                                          │ https://pypi.org/pypi                      │\n",
       "│   rfc3339-validator                                 │ https://pypi.org/pypi                      │\n",
       "│   rfc3986-validator                                 │ https://pypi.org/pypi                      │\n",
       "│   rich                                              │ https://pypi.org/pypi                      │\n",
       "│   rpds-py                                           │ https://pypi.org/pypi                      │\n",
       "│   s3fs                                              │ https://pypi.org/pypi                      │\n",
       "│   s3transfer                                        │ https://pypi.org/pypi                      │\n",
       "│   scikit-learn                                      │ https://pypi.org/pypi                      │\n",
       "│   scipy                                             │ https://pypi.org/pypi                      │\n",
       "│   seaborn                                           │ https://pypi.org/pypi                      │\n",
       "│   shapely                                           │ https://pypi.org/pypi                      │\n",
       "│   simpervisor                                       │ https://pypi.org/pypi                      │\n",
       "│   six                                               │ https://pypi.org/pypi                      │\n",
       "│   sniffio                                           │ https://pypi.org/pypi                      │\n",
       "│   sortedcontainers                                  │ https://pypi.org/pypi                      │\n",
       "│   soupsieve                                         │ https://pypi.org/pypi                      │\n",
       "│   stack-data                                        │ https://pypi.org/pypi                      │\n",
       "│   statsmodels                                       │ https://pypi.org/pypi                      │\n",
       "│   tblib                                             │ https://pypi.org/pypi                      │\n",
       "│   terminado                                         │ https://pypi.org/pypi                      │\n",
       "│   threadpoolctl                                     │ https://pypi.org/pypi                      │\n",
       "│   tinycss2                                          │ https://pypi.org/pypi                      │\n",
       "│   tinynetrc                                         │ https://pypi.org/pypi                      │\n",
       "│   toml                                              │ https://pypi.org/pypi                      │\n",
       "│   toolz                                             │ https://pypi.org/pypi                      │\n",
       "│   tornado                                           │ https://pypi.org/pypi                      │\n",
       "│   tqdm                                              │ https://pypi.org/pypi                      │\n",
       "│   traitlets                                         │ https://pypi.org/pypi                      │\n",
       "│   types-python-dateutil                             │ https://pypi.org/pypi                      │\n",
       "│   typing_extensions                                 │ https://pypi.org/pypi                      │\n",
       "│   tzdata                                            │ https://pypi.org/pypi                      │\n",
       "│   uri-template                                      │ https://pypi.org/pypi                      │\n",
       "│   urllib3                                           │ https://pypi.org/pypi                      │\n",
       "│   wcwidth                                           │ https://pypi.org/pypi                      │\n",
       "│   webcolors                                         │ https://pypi.org/pypi                      │\n",
       "│   webencodings                                      │ https://pypi.org/pypi                      │\n",
       "│   websocket-client                                  │ https://pypi.org/pypi                      │\n",
       "│   widgetsnbextension                                │ https://pypi.org/pypi                      │\n",
       "│   wrapt                                             │ https://pypi.org/pypi                      │\n",
       "│   xarray                                            │ https://pypi.org/pypi                      │\n",
       "│   xeofs                                             │ https://pypi.org/pypi                      │\n",
       "│   xyzservices                                       │ https://pypi.org/pypi                      │\n",
       "│   yarl                                              │ https://pypi.org/pypi                      │\n",
       "│   zict                                              │ https://pypi.org/pypi                      │\n",
       "│   zipp                                              │ https://pypi.org/pypi                      │\n",
       "│                                                     ╵                                            │\n",
       "╰──────────────────────────────────────────────────────────────────────────────────────────────────╯\n",
       "</pre>\n"
      ],
      "text/plain": [
       "╭────────────────────────────────────────── \u001b[1;32mPackage Info\u001b[0m ──────────────────────────────────────────╮\n",
       "│                                                     ╷                                            │\n",
       "│  \u001b[1m \u001b[0m\u001b[1mPackage                                          \u001b[0m\u001b[1m \u001b[0m│\u001b[1m \u001b[0m\u001b[1mNote                                    \u001b[0m\u001b[1m \u001b[0m  │\n",
       "│ ╶───────────────────────────────────────────────────┼──────────────────────────────────────────╴ │\n",
       "│   Babel                                             │ https://pypi.org/pypi                      │\n",
       "│   Cartopy                                           │ https://pypi.org/pypi                      │\n",
       "│   Deprecated                                        │ https://pypi.org/pypi                      │\n",
       "│   Jinja2                                            │ https://pypi.org/pypi                      │\n",
       "│   MarkupSafe                                        │ https://pypi.org/pypi                      │\n",
       "│   Pillow                                            │ https://pypi.org/pypi                      │\n",
       "│   PyNaCl                                            │ https://pypi.org/pypi                      │\n",
       "│   PyYAML                                            │ https://pypi.org/pypi                      │\n",
       "│   Pygments                                          │ https://pypi.org/pypi                      │\n",
       "│   Send2Trash                                        │ https://pypi.org/pypi                      │\n",
       "│   aiobotocore                                       │ https://pypi.org/pypi                      │\n",
       "│   aiohttp                                           │ https://pypi.org/pypi                      │\n",
       "│   aioitertools                                      │ https://pypi.org/pypi                      │\n",
       "│   aiosignal                                         │ https://pypi.org/pypi                      │\n",
       "│   anyio                                             │ https://pypi.org/pypi                      │\n",
       "│   argon2-cffi                                       │ https://pypi.org/pypi                      │\n",
       "│   argon2-cffi-bindings                              │ https://pypi.org/pypi                      │\n",
       "│   arrow                                             │ https://pypi.org/pypi                      │\n",
       "│   asttokens                                         │ https://pypi.org/pypi                      │\n",
       "│   async-lru                                         │ https://pypi.org/pypi                      │\n",
       "│   async-timeout                                     │ https://pypi.org/pypi                      │\n",
       "│   attrs                                             │ https://pypi.org/pypi                      │\n",
       "│   backcall                                          │ https://pypi.org/pypi                      │\n",
       "│   backoff                                           │ https://pypi.org/pypi                      │\n",
       "│   bcrypt                                            │ https://pypi.org/pypi                      │\n",
       "│   beautifulsoup4                                    │ https://pypi.org/pypi                      │\n",
       "│   bleach                                            │ https://pypi.org/pypi                      │\n",
       "│   bokeh                                             │ https://pypi.org/pypi                      │\n",
       "│   boto3                                             │ https://pypi.org/pypi                      │\n",
       "│   botocore                                          │ https://pypi.org/pypi                      │\n",
       "│   bounded-pool-executor                             │ https://pypi.org/pypi                      │\n",
       "│   certifi                                           │ https://pypi.org/pypi                      │\n",
       "│   cffi                                              │ https://pypi.org/pypi                      │\n",
       "│   cftime                                            │ https://pypi.org/pypi                      │\n",
       "│   charset-normalizer                                │ https://pypi.org/pypi                      │\n",
       "│   click                                             │ https://pypi.org/pypi                      │\n",
       "│   cloudpickle                                       │ https://pypi.org/pypi                      │\n",
       "│   coiled                                            │ https://pypi.org/pypi                      │\n",
       "│   comm                                              │ https://pypi.org/pypi                      │\n",
       "│   contourpy                                         │ https://pypi.org/pypi                      │\n",
       "│   cryptography                                      │ https://pypi.org/pypi                      │\n",
       "│   cycler                                            │ https://pypi.org/pypi                      │\n",
       "│   dask                                              │ https://pypi.org/pypi                      │\n",
       "│   dask_labextension                                 │ https://pypi.org/pypi                      │\n",
       "│   debugpy                                           │ https://pypi.org/pypi                      │\n",
       "│   decorator                                         │ https://pypi.org/pypi                      │\n",
       "│   defusedxml                                        │ https://pypi.org/pypi                      │\n",
       "│   distributed                                       │ https://pypi.org/pypi                      │\n",
       "│   earthaccess                                       │ https://pypi.org/pypi                      │\n",
       "│   eofs                                              │ https://pypi.org/pypi                      │\n",
       "│   executing                                         │ https://pypi.org/pypi                      │\n",
       "│   fabric                                            │ https://pypi.org/pypi                      │\n",
       "│   fastjsonschema                                    │ https://pypi.org/pypi                      │\n",
       "│   filelock                                          │ https://pypi.org/pypi                      │\n",
       "│   fonttools                                         │ https://pypi.org/pypi                      │\n",
       "│   fqdn                                              │ https://pypi.org/pypi                      │\n",
       "│   frozenlist                                        │ https://pypi.org/pypi                      │\n",
       "│   fsspec                                            │ https://pypi.org/pypi                      │\n",
       "│   gilknocker                                        │ https://pypi.org/pypi                      │\n",
       "│   h11                                               │ https://pypi.org/pypi                      │\n",
       "│   h2                                                │ https://pypi.org/pypi                      │\n",
       "│   h5netcdf                                          │ https://pypi.org/pypi                      │\n",
       "│   h5py                                              │ https://pypi.org/pypi                      │\n",
       "│   hpack                                             │ https://pypi.org/pypi                      │\n",
       "│   httpcore                                          │ https://pypi.org/pypi                      │\n",
       "│   httpx                                             │ https://pypi.org/pypi                      │\n",
       "│   hyperframe                                        │ https://pypi.org/pypi                      │\n",
       "│   idna                                              │ https://pypi.org/pypi                      │\n",
       "│   importlib-metadata                                │ https://pypi.org/pypi                      │\n",
       "│   install                                           │ https://pypi.org/pypi                      │\n",
       "│   invoke                                            │ https://pypi.org/pypi                      │\n",
       "│   ipykernel                                         │ https://pypi.org/pypi                      │\n",
       "│   ipython                                           │ https://pypi.org/pypi                      │\n",
       "│   ipywidgets                                        │ https://pypi.org/pypi                      │\n",
       "│   isoduration                                       │ https://pypi.org/pypi                      │\n",
       "│   jedi                                              │ https://pypi.org/pypi                      │\n",
       "│   jmespath                                          │ https://pypi.org/pypi                      │\n",
       "│   joblib                                            │ https://pypi.org/pypi                      │\n",
       "│   json5                                             │ https://pypi.org/pypi                      │\n",
       "│   jsondiff                                          │ https://pypi.org/pypi                      │\n",
       "│   jsonpointer                                       │ https://pypi.org/pypi                      │\n",
       "│   jsonschema                                        │ https://pypi.org/pypi                      │\n",
       "│   jsonschema-specifications                         │ https://pypi.org/pypi                      │\n",
       "│   jupyter-events                                    │ https://pypi.org/pypi                      │\n",
       "│   jupyter-lsp                                       │ https://pypi.org/pypi                      │\n",
       "│   jupyter_client                                    │ https://pypi.org/pypi                      │\n",
       "│   jupyter_core                                      │ https://pypi.org/pypi                      │\n",
       "│   jupyter_server                                    │ https://pypi.org/pypi                      │\n",
       "│   jupyter_server_proxy                              │ https://pypi.org/pypi                      │\n",
       "│   jupyter_server_terminals                          │ https://pypi.org/pypi                      │\n",
       "│   jupyterlab                                        │ https://pypi.org/pypi                      │\n",
       "│   jupyterlab-pygments                               │ https://pypi.org/pypi                      │\n",
       "│   jupyterlab-widgets                                │ https://pypi.org/pypi                      │\n",
       "│   jupyterlab_server                                 │ https://pypi.org/pypi                      │\n",
       "│   kiwisolver                                        │ https://pypi.org/pypi                      │\n",
       "│   locket                                            │ https://pypi.org/pypi                      │\n",
       "│   markdown-it-py                                    │ https://pypi.org/pypi                      │\n",
       "│   matplotlib                                        │ https://pypi.org/pypi                      │\n",
       "│   matplotlib-inline                                 │ https://pypi.org/pypi                      │\n",
       "│   mdurl                                             │ https://pypi.org/pypi                      │\n",
       "│   mistune                                           │ https://pypi.org/pypi                      │\n",
       "│   msgpack                                           │ https://pypi.org/pypi                      │\n",
       "│   multidict                                         │ https://pypi.org/pypi                      │\n",
       "│   multimethod                                       │ https://pypi.org/pypi                      │\n",
       "│   nbclient                                          │ https://pypi.org/pypi                      │\n",
       "│   nbconvert                                         │ https://pypi.org/pypi                      │\n",
       "│   nbformat                                          │ https://pypi.org/pypi                      │\n",
       "│   nest-asyncio                                      │ https://pypi.org/pypi                      │\n",
       "│   netCDF4                                           │ https://pypi.org/pypi                      │\n",
       "│   notebook_shim                                     │ https://pypi.org/pypi                      │\n",
       "│   numpy                                             │ https://pypi.org/pypi                      │\n",
       "│   overrides                                         │ https://pypi.org/pypi                      │\n",
       "│   packaging                                         │ https://pypi.org/pypi                      │\n",
       "│   pandas                                            │ https://pypi.org/pypi                      │\n",
       "│   pandocfilters                                     │ https://pypi.org/pypi                      │\n",
       "│   paramiko                                          │ https://pypi.org/pypi                      │\n",
       "│   parso                                             │ https://pypi.org/pypi                      │\n",
       "│   partd                                             │ https://pypi.org/pypi                      │\n",
       "│   patsy                                             │ https://pypi.org/pypi                      │\n",
       "│   pexpect                                           │ https://pypi.org/pypi                      │\n",
       "│   pickleshare                                       │ https://pypi.org/pypi                      │\n",
       "│   pip-requirements-parser                           │ https://pypi.org/pypi                      │\n",
       "│   platformdirs                                      │ https://pypi.org/pypi                      │\n",
       "│   pooch                                             │ https://pypi.org/pypi                      │\n",
       "│   pqdm                                              │ https://pypi.org/pypi                      │\n",
       "│   prometheus-client                                 │ https://pypi.org/pypi                      │\n",
       "│   prompt-toolkit                                    │ https://pypi.org/pypi                      │\n",
       "│   psutil                                            │ https://pypi.org/pypi                      │\n",
       "│   ptyprocess                                        │ https://pypi.org/pypi                      │\n",
       "│   pure-eval                                         │ https://pypi.org/pypi                      │\n",
       "│   pycparser                                         │ https://pypi.org/pypi                      │\n",
       "│   pyparsing                                         │ https://pypi.org/pypi                      │\n",
       "│   pyproj                                            │ https://pypi.org/pypi                      │\n",
       "│   pyshp                                             │ https://pypi.org/pypi                      │\n",
       "│   python-cmr                                        │ https://pypi.org/pypi                      │\n",
       "│   python-dateutil                                   │ https://pypi.org/pypi                      │\n",
       "│   python-json-logger                                │ https://pypi.org/pypi                      │\n",
       "│   pytz                                              │ https://pypi.org/pypi                      │\n",
       "│   pyzmq                                             │ https://pypi.org/pypi                      │\n",
       "│   referencing                                       │ https://pypi.org/pypi                      │\n",
       "│   requests                                          │ https://pypi.org/pypi                      │\n",
       "│   rfc3339-validator                                 │ https://pypi.org/pypi                      │\n",
       "│   rfc3986-validator                                 │ https://pypi.org/pypi                      │\n",
       "│   rich                                              │ https://pypi.org/pypi                      │\n",
       "│   rpds-py                                           │ https://pypi.org/pypi                      │\n",
       "│   s3fs                                              │ https://pypi.org/pypi                      │\n",
       "│   s3transfer                                        │ https://pypi.org/pypi                      │\n",
       "│   scikit-learn                                      │ https://pypi.org/pypi                      │\n",
       "│   scipy                                             │ https://pypi.org/pypi                      │\n",
       "│   seaborn                                           │ https://pypi.org/pypi                      │\n",
       "│   shapely                                           │ https://pypi.org/pypi                      │\n",
       "│   simpervisor                                       │ https://pypi.org/pypi                      │\n",
       "│   six                                               │ https://pypi.org/pypi                      │\n",
       "│   sniffio                                           │ https://pypi.org/pypi                      │\n",
       "│   sortedcontainers                                  │ https://pypi.org/pypi                      │\n",
       "│   soupsieve                                         │ https://pypi.org/pypi                      │\n",
       "│   stack-data                                        │ https://pypi.org/pypi                      │\n",
       "│   statsmodels                                       │ https://pypi.org/pypi                      │\n",
       "│   tblib                                             │ https://pypi.org/pypi                      │\n",
       "│   terminado                                         │ https://pypi.org/pypi                      │\n",
       "│   threadpoolctl                                     │ https://pypi.org/pypi                      │\n",
       "│   tinycss2                                          │ https://pypi.org/pypi                      │\n",
       "│   tinynetrc                                         │ https://pypi.org/pypi                      │\n",
       "│   toml                                              │ https://pypi.org/pypi                      │\n",
       "│   toolz                                             │ https://pypi.org/pypi                      │\n",
       "│   tornado                                           │ https://pypi.org/pypi                      │\n",
       "│   tqdm                                              │ https://pypi.org/pypi                      │\n",
       "│   traitlets                                         │ https://pypi.org/pypi                      │\n",
       "│   types-python-dateutil                             │ https://pypi.org/pypi                      │\n",
       "│   typing_extensions                                 │ https://pypi.org/pypi                      │\n",
       "│   tzdata                                            │ https://pypi.org/pypi                      │\n",
       "│   uri-template                                      │ https://pypi.org/pypi                      │\n",
       "│   urllib3                                           │ https://pypi.org/pypi                      │\n",
       "│   wcwidth                                           │ https://pypi.org/pypi                      │\n",
       "│   webcolors                                         │ https://pypi.org/pypi                      │\n",
       "│   webencodings                                      │ https://pypi.org/pypi                      │\n",
       "│   websocket-client                                  │ https://pypi.org/pypi                      │\n",
       "│   widgetsnbextension                                │ https://pypi.org/pypi                      │\n",
       "│   wrapt                                             │ https://pypi.org/pypi                      │\n",
       "│   xarray                                            │ https://pypi.org/pypi                      │\n",
       "│   xeofs                                             │ https://pypi.org/pypi                      │\n",
       "│   xyzservices                                       │ https://pypi.org/pypi                      │\n",
       "│   yarl                                              │ https://pypi.org/pypi                      │\n",
       "│   zict                                              │ https://pypi.org/pypi                      │\n",
       "│   zipp                                              │ https://pypi.org/pypi                      │\n",
       "│                                                     ╵                                            │\n",
       "╰──────────────────────────────────────────────────────────────────────────────────────────────────╯\n"
      ]
     },
     "metadata": {},
     "output_type": "display_data"
    },
    {
     "data": {
      "application/vnd.jupyter.widget-view+json": {
       "model_id": "9138c124a4594adab2e2b3d109c8e0e3",
       "version_major": 2,
       "version_minor": 0
      },
      "text/plain": [
       "Output()"
      ]
     },
     "metadata": {},
     "output_type": "display_data"
    },
    {
     "data": {
      "text/html": [
       "<pre style=\"white-space:pre;overflow-x:auto;line-height:normal;font-family:Menlo,'DejaVu Sans Mono',consolas,'Courier New',monospace\"></pre>\n"
      ],
      "text/plain": []
     },
     "metadata": {},
     "output_type": "display_data"
    },
    {
     "name": "stderr",
     "output_type": "stream",
     "text": [
      "2024-05-02 13:51:17,373 - distributed.deploy.adaptive - INFO - Adaptive scaling started: minimum=0 maximum=500\n",
      "/Users/henze/miniconda3/envs/coiled2/lib/python3.11/site-packages/distributed/client.py:1391: VersionMismatchWarning: Mismatched versions found\n",
      "\n",
      "+---------+--------+-----------+---------+\n",
      "| Package | Client | Scheduler | Workers |\n",
      "+---------+--------+-----------+---------+\n",
      "| toolz   | 0.12.0 | 0.12.1    | 0.12.1  |\n",
      "+---------+--------+-----------+---------+\n",
      "  warnings.warn(version_module.VersionMismatchWarning(msg[0][\"warning\"]))\n"
     ]
    }
   ],
   "source": [
    "## -----------------------------\n",
    "## Perform and time computations\n",
    "## -----------------------------\n",
    "\n",
    "t1 = time.time()\n",
    "\n",
    "\n",
    "# Wrap function in a Coiled function. Here is where we make cluster specifications like VM type:\n",
    "corrmap_toda_parallel = coiled.function(\n",
    "    region=\"us-west-2\", spot_policy=\"on-demand\", vm_type=\"m6i.large\", \n",
    "    environ=earthaccess.auth_environ() # This ensures that our EDL credentials are passed to each worker.\n",
    "    )(corrmap_toda)\n",
    "\n",
    "# Optional: manually scale workers (Or omit this line to have Coiled adaptively scale):\n",
    "corrmap_toda_parallel.cluster.scale(73)\n",
    "\n",
    "# Begin computations:\n",
    "grans_2tuples = list(zip(grans_ssh_analyze, grans_sst_analyze))\n",
    "results = corrmap_toda_parallel.map(grans_2tuples, lat_halfwin=3, lon_halfwin=3, lats=lats, lons=lons, f_notnull=0.5)\n",
    "\n",
    "# Retreive the results from the cluster as they become available and save as .nc files locally:\n",
    "for date, result_da in results:\n",
    "     result_da.to_netcdf(dir_results+\"spatial-corr-map_ssh-sst_\" + date + \".nc\")\n",
    "\n",
    "# Since we manually scaled up the cluster, we have to manually scale it back down if we want to stop using resources:\n",
    "corrmap_toda_parallel.cluster.scale(1)\n",
    "\n",
    "\n",
    "t2 = time.time()"
   ]
  },
  {
   "cell_type": "code",
   "execution_count": 19,
   "id": "dbe9f9e1-2aef-450e-a438-96d6d5a32213",
   "metadata": {},
   "outputs": [
    {
     "name": "stdout",
     "output_type": "stream",
     "text": [
      "Total computation time = 544.3 seconds = 9.071666666666665 minutes.\n"
     ]
    }
   ],
   "source": [
    "## What was the total computation time?\n",
    "comptime = round(t2-t1, 2)\n",
    "print(\"Total computation time = \" + str(comptime) + \" seconds = \" + str(comptime/60) + \" minutes.\")"
   ]
  },
  {
   "cell_type": "code",
   "execution_count": 20,
   "id": "1bbc53dc-719d-4540-a177-5c9af42b0227",
   "metadata": {},
   "outputs": [
    {
     "name": "stderr",
     "output_type": "stream",
     "text": [
      "2024-04-25 12:31:56,193 - distributed.deploy.adaptive_core - INFO - Adaptive stop\n",
      "2024-04-25 12:31:56,671 - distributed.deploy.adaptive_core - INFO - Adaptive stop\n"
     ]
    }
   ],
   "source": [
    "corrmap_toda_parallel.cluster.shutdown()"
   ]
  },
  {
   "cell_type": "markdown",
   "id": "55ac4c67-832c-438c-892b-1f997b82720a",
   "metadata": {},
   "source": [
    "### Test plots"
   ]
  },
  {
   "cell_type": "markdown",
   "id": "ea289082-c3fd-44cd-9ad0-6547a8cee722",
   "metadata": {},
   "source": [
    "**Colormaps of first three files**"
   ]
  },
  {
   "cell_type": "code",
   "execution_count": null,
   "id": "34b8f540-123c-42d0-83c2-01683306acf1",
   "metadata": {},
   "outputs": [],
   "source": [
    "fns_results = [dir_results + f for f in os.listdir(dir_results) if f.endswith(\"nc\")]\n",
    "for fn in fns_results[:3]:\n",
    "    testfile = xr.open_dataset(fn)\n",
    "    testfile[\"corr_ssh_sst\"].plot(figsize=(6,2), vmin=-1, vmax=1, cmap='RdBu_r')\n",
    "    testfile.close()"
   ]
  },
  {
   "cell_type": "markdown",
   "id": "3be3f49e-d10d-4c6c-9885-b40fb141eab3",
   "metadata": {},
   "source": [
    "**Colormap of mean correlation map for all files**"
   ]
  },
  {
   "cell_type": "code",
   "execution_count": null,
   "id": "9a9ed377-fe6c-414f-92ba-ae046426cc96",
   "metadata": {},
   "outputs": [],
   "source": [
    "test_allfiles = xr.open_mfdataset(fns_results, combine='nested', concat_dim='dummy_time')\n",
    "test_allfiles[\"corr_ssh_sst\"]"
   ]
  },
  {
   "cell_type": "code",
   "execution_count": null,
   "id": "62f1f684-f5b7-4ede-8574-2c254542aa8f",
   "metadata": {},
   "outputs": [],
   "source": [
    "test_allfiles[\"corr_ssh_sst\"].mean(dim='dummy_time').plot(figsize=(8,3), vmin=-1, vmax=1, cmap='RdBu_r')\n",
    "test_allfiles.close()"
   ]
  },
  {
   "cell_type": "markdown",
   "id": "c6adb0f6-c7a2-4f3e-9ca3-2d67a62d406b",
   "metadata": {},
   "source": [
    "## Other notes\n",
    "\n",
    "1. When using `coiled.function()`, we called `corrmap_toda_parallel.cluster.scale(73)` because we knew we wanted 73 workers to process the 73 files. However, this line isn't mandatory - if we left it out, `Coiled` would have started with 1 worker and then \"adaptively scaled\", figuring out that it needed 73 workers to do the job faster. It takes a few extra minutes for `Coiled` to figure out exactly how many workers to scale up to, so we short-cutted the process here since a few minutes in demo land is a lifetime.\n",
    "2. When we made the call to `coiled.function()` we chose input args which would prioritize computation time over cost. Alternate choices could be made to prioritize cost instead, e.g. the following should be less expensive:\n",
    "```\n",
    "coiled.function(region=\"us-west-2\", cpu=1, arm=True, spot_policy=\"spot_with_fallback\", environ=earthaccess.auth_environ())(corrmap_toda)\n",
    "```"
   ]
  },
  {
   "cell_type": "markdown",
   "id": "61b71e59-45f3-48c7-a307-220636e40255",
   "metadata": {},
   "source": [
    "## 5. Optional: Parallel computation on full record at 0.25 degree resolution\n",
    "\n",
    "Only Section 1 needs to be run prior to this. Sections 2-4 can be skipped.\n",
    "\n",
    "This section mirrors the workflow of Section 4, but processes all 1808 pairs of files, spanning a little over two decades, at higher resolution. To get an estimate of how long this would take without parallel computing, you can re-run section 3 but replace a value of 0.5 for the higher_res variable with 0.25 (in the part where we estimate comp times). Trying this on a few machines, we get that it would take anywhere from 21 to 34 hours to process the record over a single year, which means for 22 years it would take 19 to 31 days to complete the entire record."
   ]
  },
  {
   "cell_type": "markdown",
   "id": "111a4728-2fe8-4cf7-b317-d95f8c823569",
   "metadata": {},
   "source": [
    "First, we duplicate most of the code in Section 2, this time getting granule info objects for the entire record:"
   ]
  },
  {
   "cell_type": "code",
   "execution_count": null,
   "id": "3bd42c59-4b57-46fb-be94-9af7ab01d3bf",
   "metadata": {},
   "outputs": [],
   "source": [
    "earthaccess.login()\n",
    "\n",
    "## Granule info for all files in both collections:\n",
    "grans_ssh = earthaccess.search_data(short_name=\"SEA_SURFACE_HEIGHT_ALT_GRIDS_L4_2SATS_5DAY_6THDEG_V_JPL2205\")\n",
    "grans_sst = earthaccess.search_data(short_name=\"MW_OI-REMSS-L4-GLOB-v5.0\")\n",
    "\n",
    "## File coverage dates extracted from filenames:\n",
    "dates_ssh = [g['umm']['GranuleUR'].split('_')[-1][:8] for g in grans_ssh]\n",
    "dates_sst = [g['umm']['GranuleUR'][:8] for g in grans_sst]\n",
    "\n",
    "## Separate granule info for dates where there are both SSH and SST files:\n",
    "grans_ssh_analyze = []\n",
    "grans_sst_analyze = []\n",
    "for j in range(len(dates_ssh)):\n",
    "    if dates_ssh[j] in dates_sst:\n",
    "        grans_ssh_analyze.append(grans_ssh[j])\n",
    "        grans_sst_analyze.append(grans_sst[dates_sst.index(dates_ssh[j])])"
   ]
  },
  {
   "cell_type": "code",
   "execution_count": null,
   "id": "83c61980-0ad4-45ec-872c-c45cdbee0a16",
   "metadata": {},
   "outputs": [],
   "source": [
    "def corrmap_toda(grans, lat_halfwin=3, lon_halfwin=3, lats=None, lons=None, f_notnull=0.5):\n",
    "    \"\"\"\n",
    "    Calls spatial_corrmap() for a pair of SSH, SST granules and collects output into an Xarray DataArray. \n",
    "    Returns this along with the date of the file coverages.\n",
    "    \"\"\"\n",
    "    coef, lats, lons = spatial_corrmap(grans, lat_halfwin, lon_halfwin, lats=lats, lons=lons, f_notnull=0.5)\n",
    "    date = grans[0]['umm']['GranuleUR'].split(\"_\")[-1][:8] # get date from SSH UR.\n",
    "    return date, xr.DataArray(data=coef, dims=[\"lat\", \"lon\"], coords=dict(lon=lons, lat=lats), name='corr_ssh_sst')"
   ]
  },
  {
   "cell_type": "markdown",
   "id": "83c283c7-7fe2-4d17-be8f-c4f173e736b0",
   "metadata": {},
   "source": [
    "Some prep work:"
   ]
  },
  {
   "cell_type": "code",
   "execution_count": null,
   "id": "568046a6-e387-47ee-8c6b-2d91863e2be3",
   "metadata": {},
   "outputs": [],
   "source": [
    "# Re-create the local directory to store results in:\n",
    "dir_results = \"results/\"\n",
    "if os.path.exists(dir_results) and os.path.isdir(dir_results):\n",
    "    shutil.rmtree(dir_results)\n",
    "os.makedirs(dir_results)\n",
    "\n",
    "# Latitudes, longitudes of output grid at 0.5 degree resolution:\n",
    "lats = np.arange(-80, 80.1, 0.25)\n",
    "lons = np.arange(0, 360, 0.25)"
   ]
  },
  {
   "cell_type": "markdown",
   "id": "315ffd6d-d676-4e2c-a830-f6898b124c02",
   "metadata": {},
   "source": [
    "then setup the parallel computations and run!"
   ]
  },
  {
   "cell_type": "code",
   "execution_count": null,
   "id": "39f8ce96-db82-47bc-b540-fde3123d953d",
   "metadata": {},
   "outputs": [],
   "source": [
    "## -----------------------------\n",
    "## Perform and time computations\n",
    "## -----------------------------\n",
    "\n",
    "t1 = time.time()\n",
    "\n",
    "\n",
    "# Wrap function in a Coiled function. Here is where we make cluster specifications like VM type:\n",
    "corrmap_toda_parallel = coiled.function(\n",
    "    region=\"us-west-2\", spot_policy=\"on-demand\", \n",
    "    vm_type = \"t4g.small\", # General purpose vm that strikes a balance between performance and cost.\n",
    "    environ=earthaccess.auth_environ() # This ensures that our EDL credentials are passed to each worker.\n",
    "    )(corrmap_toda)\n",
    "\n",
    "# In our case, we limited the cluster to spinning up at most 250 VM's at once:\n",
    "spatial_corrmap_tos3_coiled.cluster.adapt(minimum=1, maximum=250)\n",
    "\n",
    "# Begin computations:\n",
    "grans_2tuples = list(zip(grans_ssh_analyze, grans_sst_analyze))\n",
    "results = corrmap_toda_parallel.map(grans_2tuples, lat_halfwin=3, lon_halfwin=3, lats=lats, lons=lons, f_notnull=0.5)\n",
    "\n",
    "# Retreive the results from the cluster as they become available and save as .nc files locally:\n",
    "for date, result_da in results:\n",
    "     result_da.to_netcdf(dir_results+\"spatial-corr-map_ssh-sst_\" + date + \".nc\")\n",
    "\n",
    "# Since we manually scaled up the cluster, we have to manually scale it back down if we want to stop using resources:\n",
    "corrmap_toda_parallel.cluster.scale(1)\n",
    "\n",
    "\n",
    "t2 = time.time()"
   ]
  },
  {
   "cell_type": "code",
   "execution_count": null,
   "id": "a087093c-b908-460d-a5c6-6ed41976de1e",
   "metadata": {},
   "outputs": [],
   "source": [
    "## What was the total computation time?\n",
    "comptime = round(t2-t1, 2)\n",
    "print(\"Total computation time = \" + str(comptime) + \" seconds = \" + str(comptime/60) + \" minutes.\")"
   ]
  },
  {
   "cell_type": "code",
   "execution_count": 20,
   "id": "e08e61f3-2e93-42a5-b3e3-3496836def97",
   "metadata": {},
   "outputs": [
    {
     "name": "stderr",
     "output_type": "stream",
     "text": [
      "2024-04-25 12:31:56,193 - distributed.deploy.adaptive_core - INFO - Adaptive stop\n",
      "2024-04-25 12:31:56,671 - distributed.deploy.adaptive_core - INFO - Adaptive stop\n"
     ]
    }
   ],
   "source": [
    "corrmap_toda_parallel.cluster.shutdown()"
   ]
  },
  {
   "cell_type": "markdown",
   "id": "08d835ff-2231-4161-bfcc-bd560ce63766",
   "metadata": {},
   "source": [
    "### Test plots"
   ]
  },
  {
   "cell_type": "markdown",
   "id": "67ca18ec-3ce5-4e09-85ac-acf8cead93b0",
   "metadata": {},
   "source": [
    "**Colormaps of first three files**"
   ]
  },
  {
   "cell_type": "code",
   "execution_count": null,
   "id": "3f9bbd8c-8211-4014-8468-239e987eb4f7",
   "metadata": {},
   "outputs": [],
   "source": [
    "fns_results = [dir_results + f for f in os.listdir(dir_results) if f.endswith(\"nc\")]\n",
    "for fn in fns_results[:3]:\n",
    "    testfile = xr.open_dataset(fn)\n",
    "    testfile[\"corr_ssh_sst\"].plot(figsize=(6,2), vmin=-1, vmax=1, cmap='RdBu_r')\n",
    "    testfile.close()"
   ]
  },
  {
   "cell_type": "markdown",
   "id": "8b14727d-5d3c-4f97-a247-116f39ba8608",
   "metadata": {},
   "source": [
    "**Colormap of mean correlation map for all files**"
   ]
  },
  {
   "cell_type": "code",
   "execution_count": null,
   "id": "8026bf62-7c93-4371-91d5-7209d66955d3",
   "metadata": {},
   "outputs": [],
   "source": [
    "test_allfiles = xr.open_mfdataset(fns_results, combine='nested', concat_dim='dummy_time')\n",
    "test_allfiles[\"corr_ssh_sst\"]"
   ]
  },
  {
   "cell_type": "code",
   "execution_count": null,
   "id": "a63f6e69-ac27-4bf2-a8d5-f8c2c325cc08",
   "metadata": {},
   "outputs": [],
   "source": [
    "test_allfiles[\"corr_ssh_sst\"].mean(dim='dummy_time').plot(figsize=(8,3), vmin=-1, vmax=1, cmap='RdBu_r')\n",
    "test_allfiles.close()"
   ]
  },
  {
   "cell_type": "code",
   "execution_count": null,
   "id": "3071ff70-713f-4a4b-af4d-195f2d89a154",
   "metadata": {},
   "outputs": [],
   "source": []
  },
  {
   "cell_type": "code",
   "execution_count": null,
   "id": "9ffbc210-ffe6-4d0f-b492-5b26f9fd4a8c",
   "metadata": {},
   "outputs": [],
   "source": []
  }
 ],
 "metadata": {
  "kernelspec": {
   "display_name": "Python 3 (ipykernel)",
   "language": "python",
   "name": "python3"
  },
  "language_info": {
   "codemirror_mode": {
    "name": "ipython",
    "version": 3
   },
   "file_extension": ".py",
   "mimetype": "text/x-python",
   "name": "python",
   "nbconvert_exporter": "python",
   "pygments_lexer": "ipython3",
   "version": "3.11.5"
  },
  "toc-showtags": false
 },
 "nbformat": 4,
 "nbformat_minor": 5
}

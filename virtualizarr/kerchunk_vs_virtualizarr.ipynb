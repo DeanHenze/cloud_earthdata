{
 "cells": [
  {
   "cell_type": "code",
   "execution_count": 29,
   "id": "afe40fec-92c7-454d-981a-37bfa3b75047",
   "metadata": {},
   "outputs": [],
   "source": [
    "import os\n",
    "import json\n",
    "import ujson\n",
    "\n",
    "import fsspec\n",
    "import earthaccess\n",
    "\n",
    "import xarray as xr\n",
    "from kerchunk.hdf import SingleHdf5ToZarr\n",
    "from kerchunk.combine import MultiZarrToZarr\n",
    "from virtualizarr import open_virtual_dataset"
   ]
  },
  {
   "cell_type": "code",
   "execution_count": 35,
   "id": "609538d1-7d5b-403f-9d83-3e58d07eeef4",
   "metadata": {},
   "outputs": [],
   "source": [
    "# Get Earthdata creds\n",
    "earthaccess.login()\n",
    "\n",
    "# Get AWS creds\n",
    "fs_data = earthaccess.get_s3_filesystem(daac=\"PODAAC\")"
   ]
  },
  {
   "cell_type": "code",
   "execution_count": 45,
   "id": "7575805b-0ff0-4cdf-9bb4-b7632999dab9",
   "metadata": {},
   "outputs": [],
   "source": [
    "# Locate file information / metadata:\n",
    "granule_info = earthaccess.search_data(\n",
    "    short_name=\"OSTIA-UKMO-L4-GLOB-REP-v2.0\",\n",
    "    count=50\n",
    "    )"
   ]
  },
  {
   "cell_type": "code",
   "execution_count": 46,
   "id": "f950f846-54b9-4f63-805d-9e6b501d73b8",
   "metadata": {},
   "outputs": [
    {
     "data": {
      "application/vnd.jupyter.widget-view+json": {
       "model_id": "d58b39cf084f432490f02959faec0e4c",
       "version_major": 2,
       "version_minor": 0
      },
      "text/plain": [
       "QUEUEING TASKS | :   0%|          | 0/50 [00:00<?, ?it/s]"
      ]
     },
     "metadata": {},
     "output_type": "display_data"
    },
    {
     "data": {
      "application/vnd.jupyter.widget-view+json": {
       "model_id": "8f2e132d72564077ae83701dfae7ca86",
       "version_major": 2,
       "version_minor": 0
      },
      "text/plain": [
       "PROCESSING TASKS | :   0%|          | 0/50 [00:00<?, ?it/s]"
      ]
     },
     "metadata": {},
     "output_type": "display_data"
    },
    {
     "data": {
      "application/vnd.jupyter.widget-view+json": {
       "model_id": "de7841ccfef440fc8f79978d68a9f380",
       "version_major": 2,
       "version_minor": 0
      },
      "text/plain": [
       "COLLECTING RESULTS | :   0%|          | 0/50 [00:00<?, ?it/s]"
      ]
     },
     "metadata": {},
     "output_type": "display_data"
    }
   ],
   "source": [
    "fobjs = earthaccess.open(granule_info)"
   ]
  },
  {
   "cell_type": "markdown",
   "id": "202f0dd4-749b-4b75-893d-e66ea3ced0e4",
   "metadata": {},
   "source": [
    "## Create reference file with kerchunk"
   ]
  },
  {
   "cell_type": "code",
   "execution_count": 47,
   "id": "2ea938f7-b70d-467b-8552-ac54d082cf56",
   "metadata": {},
   "outputs": [],
   "source": [
    "def single_ref_earthaccess_kerchunk(fobj):\n",
    "    \"\"\"\n",
    "    Create a reference for a single data file. \"fobj\" (earthaccess.store.EarthAccessFile \n",
    "    object) is the output from earthaccess.open(), which also has the file endpoint.\n",
    "    \"\"\"\n",
    "    endpoint = fobj.full_name\n",
    "    return SingleHdf5ToZarr(fobj, endpoint, inline_threshold=0).translate()"
   ]
  },
  {
   "cell_type": "code",
   "execution_count": 50,
   "id": "a3966e27-1338-4e80-9c06-f41e0e909146",
   "metadata": {},
   "outputs": [
    {
     "name": "stdout",
     "output_type": "stream",
     "text": [
      "CPU times: user 918 ms, sys: 3.42 ms, total: 921 ms\n",
      "Wall time: 920 ms\n"
     ]
    }
   ],
   "source": [
    "%%time\n",
    "single_refs_kerchunk = [single_ref_earthaccess_kerchunk(fobj) for fobj in fobjs]    "
   ]
  },
  {
   "cell_type": "code",
   "execution_count": 51,
   "id": "a49dd071-ee08-4d7b-b7b5-526e055df9a5",
   "metadata": {},
   "outputs": [
    {
     "name": "stdout",
     "output_type": "stream",
     "text": [
      "CPU times: user 327 ms, sys: 9.39 ms, total: 337 ms\n",
      "Wall time: 3.02 s\n"
     ]
    }
   ],
   "source": [
    "%%time\n",
    "# Combined reference file\n",
    "kwargs_mzz = {'remote_protocol':\"s3\", 'remote_options':fs.storage_options, 'concat_dims':[\"time\"]}\n",
    "combined_ref_kerchunk = MultiZarrToZarr(single_refs_kerchunk, **kwargs_mzz).translate()\n",
    "\n",
    "# Save reference info to JSON:\n",
    "with open(\"ref_combined_kerchunk.json\", 'wb') as outf:\n",
    "    outf.write(ujson.dumps(combined_ref_kerchunk).encode())"
   ]
  },
  {
   "cell_type": "markdown",
   "id": "edc63955-024b-4c5a-bba5-b3ec710404d5",
   "metadata": {},
   "source": [
    "## Create reference file with virtualizarr"
   ]
  },
  {
   "cell_type": "code",
   "execution_count": 52,
   "id": "ad5ccf45-e093-4156-836c-1cd988d86beb",
   "metadata": {},
   "outputs": [
    {
     "name": "stdout",
     "output_type": "stream",
     "text": [
      "CPU times: user 5.02 s, sys: 974 ms, total: 6 s\n",
      "Wall time: 20.2 s\n"
     ]
    }
   ],
   "source": [
    "%%time\n",
    "\n",
    "# Get S3 endpoints:\n",
    "data_s3links = [g.data_links(access=\"direct\")[0] for g in granule_info]\n",
    "\n",
    "# Create single ref files:\n",
    "singe_refs_virtualizarr = [\n",
    "    open_virtual_dataset(p, indexes={}, reader_options={\"storage_options\": fs_data.storage_options})\n",
    "    for p in data_s3links\n",
    "    ]\n",
    "\n",
    "# Create combined ref file and save to json:\n",
    "combined_ref_virtualizarr = xr.combine_nested(singe_refs_virtualizarr, concat_dim='time', coords='minimal', compat='override', combine_attrs='drop_conflicts')\n",
    "combined_ref_virtualizarr.virtualize.to_kerchunk(\"ref_combined_virtualizarr.json\", format='json')"
   ]
  },
  {
   "cell_type": "markdown",
   "id": "a54c772e-6dfa-4bc4-9cb6-1c6465911c2b",
   "metadata": {},
   "source": [
    "## Compare opening data with the two ref files"
   ]
  },
  {
   "cell_type": "code",
   "execution_count": 53,
   "id": "ab739b24-9cf1-4329-957e-e099e630114e",
   "metadata": {},
   "outputs": [],
   "source": [
    "def opendf_withref(ref, fs_data):\n",
    "    \"\"\"\n",
    "    Wrapper function to open data with xarray, using a ref file. \"ref\" is a reference file or object. \n",
    "    \"fs_data\" is a filesystem with credentials to access the data files. \n",
    "    \"\"\"\n",
    "    storage_opts = {\"fo\": ref, \"remote_protocol\": \"s3\", \"remote_options\": fs_data.storage_options}\n",
    "    m = fsspec.filesystem('reference', **storage_opts).get_mapper('')\n",
    "    return xr.open_dataset(\n",
    "        m, engine=\"zarr\", chunks={},\n",
    "        backend_kwargs={\"consolidated\": False}\n",
    "        )"
   ]
  },
  {
   "cell_type": "code",
   "execution_count": 54,
   "id": "64d305a7-59b4-4237-889f-1fd6319783f6",
   "metadata": {},
   "outputs": [
    {
     "name": "stdout",
     "output_type": "stream",
     "text": [
      "<xarray.Dataset> Size: 36GB\n",
      "Dimensions:           (time: 50, lat: 3600, lon: 7200)\n",
      "Coordinates:\n",
      "  * lat               (lat) float32 14kB -89.97 -89.93 -89.88 ... 89.93 89.97\n",
      "  * lon               (lon) float32 29kB -180.0 -179.9 -179.9 ... 179.9 180.0\n",
      "  * time              (time) datetime64[ns] 400B 1982-01-01T12:00:00 ... 1982...\n",
      "Data variables:\n",
      "    analysed_sst      (time, lat, lon) float64 10GB dask.array<chunksize=(1, 1200, 2400), meta=np.ndarray>\n",
      "    analysis_error    (time, lat, lon) float64 10GB dask.array<chunksize=(1, 1200, 2400), meta=np.ndarray>\n",
      "    mask              (time, lat, lon) float32 5GB dask.array<chunksize=(1, 1800, 3600), meta=np.ndarray>\n",
      "    sea_ice_fraction  (time, lat, lon) float64 10GB dask.array<chunksize=(1, 1800, 3600), meta=np.ndarray>\n",
      "Attributes: (12/47)\n",
      "    Conventions:                CF-1.4, ACDD-1.3\n",
      "    Metadata_Conventions:       Unidata Observation Dataset v1.0\n",
      "    acknowledgment:             Please acknowledge the use of these data with...\n",
      "    cdm_data_type:              grid\n",
      "    comment:                    WARNING Some applications are unable to prope...\n",
      "    creator_email:              servicedesk.cmems@mercator-ocean.eu\n",
      "    ...                         ...\n",
      "    summary:                    A merged, multi-sensor L4 Foundation SST product\n",
      "    time_coverage_end:          19820102T000000Z\n",
      "    time_coverage_start:        19820101T000000Z\n",
      "    title:                      Global SST & Sea Ice Analysis, L4 OSTIA, 0.05...\n",
      "    uuid:                       a2df4a18-6f19-4772-9532-39307a0e2794\n",
      "    westernmost_longitude:      -180.0\n",
      "CPU times: user 23.6 ms, sys: 558 μs, total: 24.2 ms\n",
      "Wall time: 93.4 ms\n"
     ]
    }
   ],
   "source": [
    "%%time\n",
    "data_kerchunk = opendf_withref(\"ref_combined_kerchunk.json\", fs_data)\n",
    "print(data_kerchunk)"
   ]
  },
  {
   "cell_type": "code",
   "execution_count": 55,
   "id": "56fac0a0-1af1-40a0-ae99-a62815fea5d8",
   "metadata": {},
   "outputs": [
    {
     "name": "stdout",
     "output_type": "stream",
     "text": [
      "<xarray.Dataset> Size: 36GB\n",
      "Dimensions:           (time: 50, lat: 3600, lon: 7200)\n",
      "Coordinates:\n",
      "  * lat               (lat) float32 14kB -89.97 -89.93 -89.88 ... 89.93 89.97\n",
      "  * lon               (lon) float32 29kB -180.0 -179.9 -179.9 ... 179.9 180.0\n",
      "  * time              (time) datetime64[ns] 400B 1982-01-01T12:00:00 ... 1982...\n",
      "Data variables:\n",
      "    analysed_sst      (time, lat, lon) float64 10GB dask.array<chunksize=(1, 1200, 2400), meta=np.ndarray>\n",
      "    analysis_error    (time, lat, lon) float64 10GB dask.array<chunksize=(1, 1200, 2400), meta=np.ndarray>\n",
      "    mask              (time, lat, lon) float32 5GB dask.array<chunksize=(1, 1800, 3600), meta=np.ndarray>\n",
      "    sea_ice_fraction  (time, lat, lon) float64 10GB dask.array<chunksize=(1, 1800, 3600), meta=np.ndarray>\n",
      "Attributes: (12/42)\n",
      "    Conventions:                CF-1.4, ACDD-1.3\n",
      "    Metadata_Conventions:       Unidata Observation Dataset v1.0\n",
      "    acknowledgment:             Please acknowledge the use of these data with...\n",
      "    cdm_data_type:              grid\n",
      "    comment:                    WARNING Some applications are unable to prope...\n",
      "    creator_email:              servicedesk.cmems@mercator-ocean.eu\n",
      "    ...                         ...\n",
      "    spatial_resolution:         0.05 degree\n",
      "    standard_name_vocabulary:   NetCDF Climate and Forecast (CF) Metadata Con...\n",
      "    summary:                    A merged, multi-sensor L4 Foundation SST product\n",
      "    title:                      Global SST & Sea Ice Analysis, L4 OSTIA, 0.05...\n",
      "    uuid:                       a2df4a18-6f19-4772-9532-39307a0e2794\n",
      "    westernmost_longitude:      -180.0\n",
      "CPU times: user 268 ms, sys: 12.3 ms, total: 280 ms\n",
      "Wall time: 560 ms\n"
     ]
    }
   ],
   "source": [
    "%%time\n",
    "data_virtualizarr = opendf_withref(\"ref_combined_virtualizarr.json\", fs_data)\n",
    "print(data_virtualizarr)"
   ]
  },
  {
   "cell_type": "code",
   "execution_count": null,
   "id": "9fda0aef-e6fa-46b6-be41-95c15aacf357",
   "metadata": {},
   "outputs": [],
   "source": []
  }
 ],
 "metadata": {
  "kernelspec": {
   "display_name": "Python 3 (ipykernel)",
   "language": "python",
   "name": "python3"
  },
  "language_info": {
   "codemirror_mode": {
    "name": "ipython",
    "version": 3
   },
   "file_extension": ".py",
   "mimetype": "text/x-python",
   "name": "python",
   "nbconvert_exporter": "python",
   "pygments_lexer": "ipython3",
   "version": "3.12.9"
  }
 },
 "nbformat": 4,
 "nbformat_minor": 5
}

{
 "cells": [
  {
   "cell_type": "markdown",
   "id": "da58c3b5-bc63-4e16-b829-a45359113dee",
   "metadata": {},
   "source": [
    "# Virtual data set (VDS) reference file for SWOT_L4_DAWG_SOS_DISCHARGE using Virtualizarr\n",
    "\n",
    "Saves VDS as json and parquet files. SWOT_L4_DAWG_SOS_DISCHARGE (https://doi.org/10.5067/SWOT-SOS-V1 ) is an L2 data set with non-standard dimensions (e.g. not cross_track, along_track). It also contains files on the 10 GB scale, although only a handful of them."
   ]
  },
  {
   "cell_type": "code",
   "execution_count": 2,
   "id": "a7f1e3d5-734d-47cd-b84d-70ea3567481d",
   "metadata": {},
   "outputs": [],
   "source": [
    "# Built-in packages\n",
    "import os\n",
    "import sys\n",
    "import shutil\n",
    "\n",
    "# Filesystem management \n",
    "import fsspec\n",
    "import earthaccess\n",
    "\n",
    "# Data handling\n",
    "import numpy as np\n",
    "import xarray as xr\n",
    "from virtualizarr import open_virtual_dataset\n",
    "import pandas as pd\n",
    "\n",
    "# Parallel computing \n",
    "import multiprocessing\n",
    "from dask import delayed\n",
    "import dask.array as da\n",
    "from dask.distributed import Client\n",
    "import coiled\n",
    "\n",
    "# Other\n",
    "#import matplotlib.pyplot as plt"
   ]
  },
  {
   "cell_type": "markdown",
   "id": "3fa9429a-3f72-4d0a-8a9e-b10faa242624",
   "metadata": {},
   "source": [
    "## 1. Get Data File S3 endpoints in Earthdata Cloud"
   ]
  },
  {
   "cell_type": "code",
   "execution_count": 3,
   "id": "497dbb62-765b-47fa-bf0c-5ba0b5e7e9a9",
   "metadata": {},
   "outputs": [
    {
     "name": "stdin",
     "output_type": "stream",
     "text": [
      "Enter your Earthdata Login username:  deanh808\n",
      "Enter your Earthdata password:  ········\n"
     ]
    },
    {
     "data": {
      "text/plain": [
       "<earthaccess.auth.Auth at 0x7fcb4cc34440>"
      ]
     },
     "execution_count": 3,
     "metadata": {},
     "output_type": "execute_result"
    }
   ],
   "source": [
    "# Get Earthdata creds\n",
    "earthaccess.login()"
   ]
  },
  {
   "cell_type": "code",
   "execution_count": 4,
   "id": "f432dff1-afa9-43ee-95c1-e62e6ea290c1",
   "metadata": {},
   "outputs": [],
   "source": [
    "# Get AWS creds. Note that if you spend more than 1 hour in the notebook, you may have to re-run this line!!!\n",
    "fs = earthaccess.get_s3_filesystem(daac=\"PODAAC\")"
   ]
  },
  {
   "cell_type": "code",
   "execution_count": 6,
   "id": "0cc806e7-e42d-4073-a6b5-6e01c8f6d2c6",
   "metadata": {},
   "outputs": [],
   "source": [
    "# Locate CCMP file information / metadata:\n",
    "granule_info = earthaccess.search_data(\n",
    "    short_name=\"SWOT_L4_DAWG_SOS_DISCHARGE\",\n",
    "    )"
   ]
  },
  {
   "cell_type": "code",
   "execution_count": 7,
   "id": "7b45638f-f886-4f70-99ca-3fbe4576dd25",
   "metadata": {
    "scrolled": true
   },
   "outputs": [
    {
     "name": "stdout",
     "output_type": "stream",
     "text": [
      "Number of granules found = 12\n",
      "First few granules:\n"
     ]
    },
    {
     "data": {
      "text/plain": [
       "['s3://podaac-ops-cumulus-protected/SWOT_L4_DAWG_SOS_DISCHARGE/na_sword_v16_SOS_unconstrained_0001_20240611T010141_results.nc',\n",
       " 's3://podaac-ops-cumulus-protected/SWOT_L4_DAWG_SOS_DISCHARGE/na_sword_v16_SOS_unconstrained_0001_20240726T123358_results.nc',\n",
       " 's3://podaac-ops-cumulus-protected/SWOT_L4_DAWG_SOS_DISCHARGE/eu_sword_v16_SOS_unconstrained_0001_20240726T123345_results.nc']"
      ]
     },
     "execution_count": 7,
     "metadata": {},
     "output_type": "execute_result"
    }
   ],
   "source": [
    "# Get S3 endpoints for all files:\n",
    "data_s3links = [g.data_links(access=\"direct\")[0] for g in granule_info]\n",
    "print(\"Number of granules found =\", len(data_s3links))\n",
    "print(\"First few granules:\")\n",
    "data_s3links[0:3]"
   ]
  },
  {
   "cell_type": "markdown",
   "id": "3e30b7da-cff6-4a19-a619-fd8d8b1b4be1",
   "metadata": {},
   "source": [
    "## 2. Generate single reference file"
   ]
  },
  {
   "cell_type": "code",
   "execution_count": 9,
   "id": "90f3e861-43b7-4a0f-be70-632614f1233a",
   "metadata": {},
   "outputs": [
    {
     "name": "stderr",
     "output_type": "stream",
     "text": [
      "/opt/coiled/env/lib/python3.13/site-packages/kerchunk/hdf.py:547: UserWarning: The following excepion was caught and quashed while traversing HDF5\n",
      "Object of type int32 is not JSON serializable\n",
      "Traceback (most recent call last):\n",
      "  File \"/opt/coiled/env/lib/python3.13/site-packages/kerchunk/hdf.py\", line 474, in _translator\n",
      "    za = self._zroot.require_dataset(\n",
      "        h5obj.name,\n",
      "    ...<7 lines>...\n",
      "        **kwargs,\n",
      "    )\n",
      "  File \"/opt/coiled/env/lib/python3.13/site-packages/zarr/hierarchy.py\", line 1152, in require_dataset\n",
      "    return self._write_op(\n",
      "           ~~~~~~~~~~~~~~^\n",
      "        self._require_dataset_nosync, name, shape=shape, dtype=dtype, exact=exact, **kwargs\n",
      "        ^^^^^^^^^^^^^^^^^^^^^^^^^^^^^^^^^^^^^^^^^^^^^^^^^^^^^^^^^^^^^^^^^^^^^^^^^^^^^^^^^^^\n",
      "    )\n",
      "    ^\n",
      "  File \"/opt/coiled/env/lib/python3.13/site-packages/zarr/hierarchy.py\", line 952, in _write_op\n",
      "    return f(*args, **kwargs)\n",
      "  File \"/opt/coiled/env/lib/python3.13/site-packages/zarr/hierarchy.py\", line 1190, in _require_dataset_nosync\n",
      "    return self._create_dataset_nosync(name, shape=shape, dtype=dtype, **kwargs)\n",
      "           ~~~~~~~~~~~~~~~~~~~~~~~~~~~^^^^^^^^^^^^^^^^^^^^^^^^^^^^^^^^^^^^^^^^^^\n",
      "  File \"/opt/coiled/env/lib/python3.13/site-packages/zarr/hierarchy.py\", line 1126, in _create_dataset_nosync\n",
      "    a = array(data, store=self._store, path=path, chunk_store=self._chunk_store, **kwargs)\n",
      "TypeError: Object of type int32 is not JSON serializable\n",
      "\n",
      "  warnings.warn(msg)\n"
     ]
    },
    {
     "ename": "ValueError",
     "evalue": "Multiple HDF Groups found. Must specify group= keyword to select one of ['', 'hivdi/', 'metroman/', 'moi/', 'moi/geobam/', 'moi/hivdi/', 'moi/metroman/', 'moi/momma/', 'moi/sad/', 'moi/sic4dvar/', 'momma/', 'neobam/', 'neobam/q/', 'nodes/', 'offline/', 'postdiagnostics/', 'postdiagnostics/basin/', 'postdiagnostics/reach/', 'prediagnostics/', 'prediagnostics/node/', 'prediagnostics/reach/', 'reaches/', 'sad/', 'sic4dvar/', 'validation/']",
     "output_type": "error",
     "traceback": [
      "\u001b[31m---------------------------------------------------------------------------\u001b[39m",
      "\u001b[31mValueError\u001b[39m                                Traceback (most recent call last)",
      "\u001b[36mFile \u001b[39m\u001b[32m<timed exec>:4\u001b[39m\n",
      "\u001b[36mFile \u001b[39m\u001b[32m/opt/coiled/env/lib/python3.13/site-packages/virtualizarr/backend.py:200\u001b[39m, in \u001b[36mopen_virtual_dataset\u001b[39m\u001b[34m(filepath, filetype, group, drop_variables, loadable_variables, decode_times, cftime_variables, indexes, virtual_array_class, virtual_backend_kwargs, reader_options, backend)\u001b[39m\n\u001b[32m    197\u001b[39m \u001b[38;5;28;01mif\u001b[39;00m backend_cls \u001b[38;5;129;01mis\u001b[39;00m \u001b[38;5;28;01mNone\u001b[39;00m:\n\u001b[32m    198\u001b[39m     \u001b[38;5;28;01mraise\u001b[39;00m \u001b[38;5;167;01mNotImplementedError\u001b[39;00m(\u001b[33mf\u001b[39m\u001b[33m\"\u001b[39m\u001b[33mUnsupported file type: \u001b[39m\u001b[38;5;132;01m{\u001b[39;00mfiletype.name\u001b[38;5;132;01m}\u001b[39;00m\u001b[33m\"\u001b[39m)\n\u001b[32m--> \u001b[39m\u001b[32m200\u001b[39m vds = \u001b[43mbackend_cls\u001b[49m\u001b[43m.\u001b[49m\u001b[43mopen_virtual_dataset\u001b[49m\u001b[43m(\u001b[49m\n\u001b[32m    201\u001b[39m \u001b[43m    \u001b[49m\u001b[43mfilepath\u001b[49m\u001b[43m,\u001b[49m\n\u001b[32m    202\u001b[39m \u001b[43m    \u001b[49m\u001b[43mgroup\u001b[49m\u001b[43m=\u001b[49m\u001b[43mgroup\u001b[49m\u001b[43m,\u001b[49m\n\u001b[32m    203\u001b[39m \u001b[43m    \u001b[49m\u001b[43mdrop_variables\u001b[49m\u001b[43m=\u001b[49m\u001b[43mdrop_variables\u001b[49m\u001b[43m,\u001b[49m\n\u001b[32m    204\u001b[39m \u001b[43m    \u001b[49m\u001b[43mloadable_variables\u001b[49m\u001b[43m=\u001b[49m\u001b[43mloadable_variables\u001b[49m\u001b[43m,\u001b[49m\n\u001b[32m    205\u001b[39m \u001b[43m    \u001b[49m\u001b[43mdecode_times\u001b[49m\u001b[43m=\u001b[49m\u001b[43mdecode_times\u001b[49m\u001b[43m,\u001b[49m\n\u001b[32m    206\u001b[39m \u001b[43m    \u001b[49m\u001b[43mindexes\u001b[49m\u001b[43m=\u001b[49m\u001b[43mindexes\u001b[49m\u001b[43m,\u001b[49m\n\u001b[32m    207\u001b[39m \u001b[43m    \u001b[49m\u001b[43mvirtual_backend_kwargs\u001b[49m\u001b[43m=\u001b[49m\u001b[43mvirtual_backend_kwargs\u001b[49m\u001b[43m,\u001b[49m\n\u001b[32m    208\u001b[39m \u001b[43m    \u001b[49m\u001b[43mreader_options\u001b[49m\u001b[43m=\u001b[49m\u001b[43mreader_options\u001b[49m\u001b[43m,\u001b[49m\n\u001b[32m    209\u001b[39m \u001b[43m\u001b[49m\u001b[43m)\u001b[49m\n\u001b[32m    211\u001b[39m \u001b[38;5;28;01mreturn\u001b[39;00m vds\n",
      "\u001b[36mFile \u001b[39m\u001b[32m/opt/coiled/env/lib/python3.13/site-packages/virtualizarr/readers/hdf5.py:46\u001b[39m, in \u001b[36mHDF5VirtualBackend.open_virtual_dataset\u001b[39m\u001b[34m(filepath, group, drop_variables, loadable_variables, decode_times, indexes, virtual_backend_kwargs, reader_options)\u001b[39m\n\u001b[32m     37\u001b[39m drop_variables, loadable_variables = check_for_collisions(\n\u001b[32m     38\u001b[39m     drop_variables,\n\u001b[32m     39\u001b[39m     loadable_variables,\n\u001b[32m     40\u001b[39m )\n\u001b[32m     42\u001b[39m refs = SingleHdf5ToZarr(\n\u001b[32m     43\u001b[39m     filepath, inline_threshold=\u001b[32m0\u001b[39m, **reader_options\n\u001b[32m     44\u001b[39m ).translate()\n\u001b[32m---> \u001b[39m\u001b[32m46\u001b[39m refs = \u001b[43mextract_group\u001b[49m\u001b[43m(\u001b[49m\u001b[43mrefs\u001b[49m\u001b[43m,\u001b[49m\u001b[43m \u001b[49m\u001b[43mgroup\u001b[49m\u001b[43m)\u001b[49m\n\u001b[32m     48\u001b[39m virtual_vars, attrs, coord_names = virtual_vars_and_metadata_from_kerchunk_refs(\n\u001b[32m     49\u001b[39m     refs,\n\u001b[32m     50\u001b[39m     loadable_variables,\n\u001b[32m     51\u001b[39m     drop_variables,\n\u001b[32m     52\u001b[39m     fs_root=Path.cwd().as_uri(),\n\u001b[32m     53\u001b[39m )\n\u001b[32m     55\u001b[39m loadable_vars, indexes = open_loadable_vars_and_indexes(\n\u001b[32m     56\u001b[39m     filepath,\n\u001b[32m     57\u001b[39m     loadable_variables=loadable_variables,\n\u001b[32m   (...)\u001b[39m\u001b[32m     62\u001b[39m     decode_times=decode_times,\n\u001b[32m     63\u001b[39m )\n",
      "\u001b[36mFile \u001b[39m\u001b[32m/opt/coiled/env/lib/python3.13/site-packages/virtualizarr/translators/kerchunk.py:55\u001b[39m, in \u001b[36mextract_group\u001b[39m\u001b[34m(vds_refs, group)\u001b[39m\n\u001b[32m     53\u001b[39m \u001b[38;5;28;01melse\u001b[39;00m:\n\u001b[32m     54\u001b[39m     \u001b[38;5;28;01mif\u001b[39;00m group \u001b[38;5;129;01mis\u001b[39;00m \u001b[38;5;28;01mNone\u001b[39;00m:\n\u001b[32m---> \u001b[39m\u001b[32m55\u001b[39m         \u001b[38;5;28;01mraise\u001b[39;00m \u001b[38;5;167;01mValueError\u001b[39;00m(\n\u001b[32m     56\u001b[39m             \u001b[33mf\u001b[39m\u001b[33m\"\u001b[39m\u001b[33mMultiple HDF Groups found. Must specify group= keyword to select one of \u001b[39m\u001b[38;5;132;01m{\u001b[39;00mhdf_groups\u001b[38;5;132;01m}\u001b[39;00m\u001b[33m\"\u001b[39m\n\u001b[32m     57\u001b[39m         )\n\u001b[32m     58\u001b[39m     \u001b[38;5;28;01melse\u001b[39;00m:\n\u001b[32m     59\u001b[39m         \u001b[38;5;66;03m# Ensure supplied group kwarg is consistent with kerchunk keys\u001b[39;00m\n\u001b[32m     60\u001b[39m         \u001b[38;5;28;01mif\u001b[39;00m \u001b[38;5;129;01mnot\u001b[39;00m group.endswith(\u001b[33m\"\u001b[39m\u001b[33m/\u001b[39m\u001b[33m\"\u001b[39m):\n",
      "\u001b[31mValueError\u001b[39m: Multiple HDF Groups found. Must specify group= keyword to select one of ['', 'hivdi/', 'metroman/', 'moi/', 'moi/geobam/', 'moi/hivdi/', 'moi/metroman/', 'moi/momma/', 'moi/sad/', 'moi/sic4dvar/', 'momma/', 'neobam/', 'neobam/q/', 'nodes/', 'offline/', 'postdiagnostics/', 'postdiagnostics/basin/', 'postdiagnostics/reach/', 'prediagnostics/', 'prediagnostics/node/', 'prediagnostics/reach/', 'reaches/', 'sad/', 'sic4dvar/', 'validation/']"
     ]
    }
   ],
   "source": [
    "%%time\n",
    "reader_opts = {\"storage_options\": fs.storage_options} # S3 filesystem creds from previous section.\n",
    "\n",
    "# Create reference for the first data file:\n",
    "virtual_ds_example = open_virtual_dataset(\n",
    "    data_s3links[0], indexes={}, \n",
    "    reader_options=reader_opts, #loadable_variables=coord_vars\n",
    "    )\n",
    "print(virtual_ds_example)"
   ]
  },
  {
   "cell_type": "code",
   "execution_count": null,
   "id": "83489922-b84c-4dcb-b121-cd9fcac818be",
   "metadata": {},
   "outputs": [],
   "source": []
  },
  {
   "cell_type": "code",
   "execution_count": 2,
   "id": "f9aa2eaa-d6fd-41fd-89ca-b7585d4dc81f",
   "metadata": {},
   "outputs": [
    {
     "name": "stdin",
     "output_type": "stream",
     "text": [
      "Enter your Earthdata Login username:  deanh808\n",
      "Enter your Earthdata password:  ········\n"
     ]
    },
    {
     "data": {
      "text/plain": [
       "<earthaccess.auth.Auth at 0x7ff904b550a0>"
      ]
     },
     "execution_count": 2,
     "metadata": {},
     "output_type": "execute_result"
    }
   ],
   "source": [
    "# Get Earthdata creds\n",
    "earthaccess.login()"
   ]
  },
  {
   "cell_type": "code",
   "execution_count": 3,
   "id": "2089aea5-5ae3-431b-a5fc-526b91b543b3",
   "metadata": {},
   "outputs": [],
   "source": [
    "# Get AWS creds. Note that if you spend more than 1 hour in the notebook, you may have to re-run this line!!!\n",
    "fs = earthaccess.get_s3_filesystem(daac=\"PODAAC\")"
   ]
  },
  {
   "cell_type": "code",
   "execution_count": 4,
   "id": "babd9f88-b8cd-4daa-b1c4-16528c74ef09",
   "metadata": {},
   "outputs": [],
   "source": [
    "# Locate CCMP file information / metadata:\n",
    "granule_info = earthaccess.search_data(\n",
    "    short_name=\"CCMP_WINDS_10M6HR_L4_V3.1\",\n",
    "    )"
   ]
  },
  {
   "cell_type": "code",
   "execution_count": 5,
   "id": "d78565dd-c46d-4b6e-9fd5-65103c2b51f0",
   "metadata": {
    "scrolled": true
   },
   "outputs": [
    {
     "name": "stdout",
     "output_type": "stream",
     "text": [
      "Number of granules found = 11674\n",
      "First few granules:\n"
     ]
    },
    {
     "data": {
      "text/plain": [
       "['s3://podaac-ops-cumulus-protected/CCMP_WINDS_10M6HR_L4_V3.1/CCMP_Wind_Analysis_19930102_V03.1_L4.nc',\n",
       " 's3://podaac-ops-cumulus-protected/CCMP_WINDS_10M6HR_L4_V3.1/CCMP_Wind_Analysis_19930103_V03.1_L4.nc',\n",
       " 's3://podaac-ops-cumulus-protected/CCMP_WINDS_10M6HR_L4_V3.1/CCMP_Wind_Analysis_19930105_V03.1_L4.nc']"
      ]
     },
     "execution_count": 5,
     "metadata": {},
     "output_type": "execute_result"
    }
   ],
   "source": [
    "# Get S3 endpoints for all files:\n",
    "data_s3links = [g.data_links(access=\"direct\")[0] for g in granule_info]\n",
    "print(\"Number of granules found =\", len(data_s3links))\n",
    "print(\"First few granules:\")\n",
    "data_s3links[0:3]"
   ]
  },
  {
   "cell_type": "code",
   "execution_count": null,
   "id": "8c1ef14b-3d8b-46aa-8c93-ed59023bc5ce",
   "metadata": {},
   "outputs": [],
   "source": []
  }
 ],
 "metadata": {
  "kernelspec": {
   "display_name": "Python 3 (ipykernel)",
   "language": "python",
   "name": "python3"
  },
  "language_info": {
   "codemirror_mode": {
    "name": "ipython",
    "version": 3
   },
   "file_extension": ".py",
   "mimetype": "text/x-python",
   "name": "python",
   "nbconvert_exporter": "python",
   "pygments_lexer": "ipython3",
   "version": "3.13.3"
  }
 },
 "nbformat": 4,
 "nbformat_minor": 5
}

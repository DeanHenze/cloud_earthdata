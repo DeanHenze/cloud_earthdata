{
 "cells": [
  {
   "cell_type": "markdown",
   "id": "180973dc-a4fc-43aa-bbc5-d56ce3e9edba",
   "metadata": {},
   "source": [
    "# Kerchunk Useful Recipes with NASA Earthdata\n",
    "\n",
    "#### *Author: Dean Henze, PO.DAAC*\n",
    "\n",
    "*Reference herein to any specific commercial product, process, or service by trade name, trademark, manufacturer, or otherwise, does not constitute or imply its endorsement by the United States Government or the Jet Propulsion Laboratory, California Institute of Technology.*"
   ]
  },
  {
   "cell_type": "markdown",
   "id": "31e719d0-17d1-45e9-9933-cb49a7cef7a9",
   "metadata": {},
   "source": [
    "## Summary\n",
    "\n",
    "This notebook goes through several functionalities of kerchunk, specifically using it with NASA Earthdata and utilizing the `earthaccess` package. It is meant to be a quick-start reference that introduces some key capabilities / characteristics of the package. This notebook does not go into depth on what kerchunk is, so the unfamiliar user is encouraged to check out some of the references below. In short, kerchunk is a Python package which allows you to generate \"reference files\", which one can think of as road maps for the computer to more rapidly and efficiently navigate through the arrays in a large data set. Once a reference file for a data set is created and stored in an accessible location, it allows us e.g. to lazy load data faster, access subsets of the data quicker (either spatially, temporally, or any other dimension in the data set), and in some cases perform computations faster.\n",
    "\n",
    "The functionalities of kerchunk covered in this notebook are:\n",
    "1. Generating a reference file in JSON format for the first year of the MUR 0.01 degree resolution sea surface temperature data set.\n",
    "2. Generating a reference file in PARQUET format for the first year of the MUR 0.01 degree resolution sea surface temperature data set.\n",
    "3. Adding an extra day of the MUR record to our existing reference file.\n",
    "4. Using the reference file to perform a basic analysis on the MUR data set with a parallel computing cluster."
   ]
  },
  {
   "cell_type": "markdown",
   "id": "bbce1593-e158-44d4-aab8-9f91027a19ba",
   "metadata": {},
   "source": [
    "## Requirements, prerequisite knowledge, learning outcomes\n",
    "\n",
    "#### Requirements to run this notebook\n",
    "\n",
    "* Earthdata login account: An Earthdata Login account is required to access data from the NASA Earthdata system. Please visit https://urs.earthdata.nasa.gov to register and manage your Earthdata Login account.\n",
    "\n",
    "* Compute environment: This notebook is meant to be run in the cloud (AWS instance running in us-west-2), recommended on a VM with at minimum\n",
    "\n",
    "* VM type: ...\n",
    "\n",
    "\n",
    "#### Prerequisite knowledge\n",
    "\n",
    "\n",
    "#### Learning Outcomes"
   ]
  },
  {
   "cell_type": "markdown",
   "id": "88f65dd1-39f6-480a-aa63-adbbd9863e8f",
   "metadata": {},
   "source": [
    "## Import Packages and Other Setup\n",
    "```\n",
    "pip install git+https://github.com/fsspec/kerchunk\n",
    "pip install fastparquet xarray earthaccess coild fsspec\n",
    "```"
   ]
  },
  {
   "cell_type": "code",
   "execution_count": 1,
   "id": "fc0b1c0c-c8f9-412c-8038-4b674de896c9",
   "metadata": {},
   "outputs": [],
   "source": [
    "import os\n",
    "import fsspec\n",
    "import kerchunk\n",
    "from kerchunk.df import refs_to_dataframe\n",
    "from kerchunk.hdf import SingleHdf5ToZarr\n",
    "from kerchunk.combine import MultiZarrToZarr\n",
    "import ujson\n",
    "import json\n",
    "import xarray as xr\n",
    "import earthaccess\n",
    "import multiprocessing\n",
    "from dask import delayed\n",
    "import dask.array as da\n",
    "from dask.distributed import Client\n",
    "import coiled\n",
    "import matplotlib.pyplot as plt"
   ]
  },
  {
   "cell_type": "code",
   "execution_count": 2,
   "id": "678d683c-70c9-4df2-a0da-72ee2ab40849",
   "metadata": {},
   "outputs": [
    {
     "data": {
      "text/plain": [
       "<xarray.core.options.set_options at 0x7f8dc4e999a0>"
      ]
     },
     "execution_count": 2,
     "metadata": {},
     "output_type": "execute_result"
    }
   ],
   "source": [
    "xr.set_options( # display options for xarray objects\n",
    "    display_expand_attrs=False,\n",
    "    display_expand_coords=True,\n",
    "    display_expand_data=True,\n",
    ")"
   ]
  },
  {
   "cell_type": "markdown",
   "id": "20756ad2-4fdf-4f7a-8582-aa7d59ea35e5",
   "metadata": {},
   "source": [
    "## 1. Generating a reference file in JSON format for one year of MUR 0.01 degree SST"
   ]
  },
  {
   "cell_type": "markdown",
   "id": "6901e7c4-66ca-4dfb-bd8f-aaf2f0291764",
   "metadata": {},
   "source": [
    "### 1.1 Locate Data File S3 endpoints in Earthdata Cloud \n",
    "The first step is to find the S3 endpoints to the files and generate file-like objects to use with kerchunk. Handling access credentials to Earthdata and then finding the endpoints can be done a number of ways (e.g. using the `requests`, `s3fs` packages) but we choose to use the `earthaccess` package for its convenience and brevity. We will get two years of MUR files, from beginning 2019 to end 2020. "
   ]
  },
  {
   "cell_type": "code",
   "execution_count": 3,
   "id": "20dbc070-d5f7-407e-b92e-4fda1b8a82ba",
   "metadata": {},
   "outputs": [
    {
     "name": "stdin",
     "output_type": "stream",
     "text": [
      "Enter your Earthdata Login username:  deanh808\n",
      "Enter your Earthdata password:  ········\n"
     ]
    },
    {
     "data": {
      "text/plain": [
       "<earthaccess.auth.Auth at 0x7f8dc678b0e0>"
      ]
     },
     "execution_count": 3,
     "metadata": {},
     "output_type": "execute_result"
    }
   ],
   "source": [
    "# Get Earthdata creds\n",
    "earthaccess.login()"
   ]
  },
  {
   "cell_type": "code",
   "execution_count": 4,
   "id": "7519aab1-b2aa-40fa-862a-62ed69439ff4",
   "metadata": {},
   "outputs": [],
   "source": [
    "# Get AWS creds\n",
    "fs = earthaccess.get_s3fs_session(daac=\"PODAAC\")"
   ]
  },
  {
   "cell_type": "code",
   "execution_count": 5,
   "id": "487b4dd6-39c6-4d7e-8051-eddcd22e2a4a",
   "metadata": {},
   "outputs": [],
   "source": [
    "granule_info = earthaccess.search_data(\n",
    "    short_name=\"MUR-JPL-L4-GLOB-v4.1\",\n",
    "    temporal=(\"2019-01-01\", \"2020-12-31\"),\n",
    "    )"
   ]
  },
  {
   "cell_type": "code",
   "execution_count": 6,
   "id": "f0654d55-0d09-45f6-a200-a42d32731733",
   "metadata": {},
   "outputs": [
    {
     "data": {
      "application/vnd.jupyter.widget-view+json": {
       "model_id": "4d3dc73a6cf84f2dbb17189b17bf722d",
       "version_major": 2,
       "version_minor": 0
      },
      "text/plain": [
       "QUEUEING TASKS | :   0%|          | 0/732 [00:00<?, ?it/s]"
      ]
     },
     "metadata": {},
     "output_type": "display_data"
    },
    {
     "data": {
      "application/vnd.jupyter.widget-view+json": {
       "model_id": "968e923eabc34d70bb63fa52ca9363c6",
       "version_major": 2,
       "version_minor": 0
      },
      "text/plain": [
       "PROCESSING TASKS | :   0%|          | 0/732 [00:00<?, ?it/s]"
      ]
     },
     "metadata": {},
     "output_type": "display_data"
    },
    {
     "data": {
      "application/vnd.jupyter.widget-view+json": {
       "model_id": "661dc3a7554c4a72a48bd8adcbc3a622",
       "version_major": 2,
       "version_minor": 0
      },
      "text/plain": [
       "COLLECTING RESULTS | :   0%|          | 0/732 [00:00<?, ?it/s]"
      ]
     },
     "metadata": {},
     "output_type": "display_data"
    }
   ],
   "source": [
    "# Generate's the file-like objects from the files located in the previous code block:\n",
    "fobjs = earthaccess.open(granule_info)"
   ]
  },
  {
   "cell_type": "code",
   "execution_count": 7,
   "id": "54bce89b-1068-4f77-b72b-be13fc074e02",
   "metadata": {},
   "outputs": [
    {
     "data": {
      "text/plain": [
       "'s3://podaac-ops-cumulus-protected/MUR-JPL-L4-GLOB-v4.1/20190101090000-JPL-L4_GHRSST-SSTfnd-MUR-GLOB-v02.0-fv04.1.nc'"
      ]
     },
     "execution_count": 7,
     "metadata": {},
     "output_type": "execute_result"
    }
   ],
   "source": [
    "# Endpoints found in this attribute:\n",
    "example_endpoint = fobjs[0].full_name\n",
    "example_endpoint"
   ]
  },
  {
   "cell_type": "markdown",
   "id": "410b4028-b31d-4c28-a78d-2fedebcf967c",
   "metadata": {},
   "source": [
    "### 1.2 Generate kerchunk reference files for each MUR file in year 2019\n",
    "It is necessary to create reference files for each data file individually before they can be combined into a single reference file for the entire record. The time for generating many of these individual files can add up, so this section also covers the option to use parallel computing."
   ]
  },
  {
   "cell_type": "markdown",
   "id": "a146d00a-cf61-4ed4-96e2-6db0a19bb466",
   "metadata": {},
   "source": [
    "First, define a small wrapper function around kerchunk and earthaccess packages."
   ]
  },
  {
   "cell_type": "code",
   "execution_count": 16,
   "id": "8d15c636-e401-4b14-880a-f248b4b5d0f7",
   "metadata": {},
   "outputs": [],
   "source": [
    "def single_ref_earthaccess(fobj, dir_save=None):\n",
    "    \"\"\"\n",
    "    Create a reference for a single data file. \"fobj\" (earthaccess.store.EarthAccessFile \n",
    "    object) is the output from earthaccess.open(), which also has the file endpoint. \n",
    "    Option to save as a JSON to direcotry \"dir_save\", with file name of the corresponding \n",
    "    data file with \".json\" appended. Otherwise reference info is returned.\n",
    "    \"\"\"\n",
    "    endpoint = fobj.full_name\n",
    "    reference = SingleHdf5ToZarr(fobj, endpoint, inline_threshold=0).translate()\n",
    "    \n",
    "    if dir_save is not None:\n",
    "        with open(dir_save + endpoint.split('/')[-1]+'.json', 'w') as outf:\n",
    "            outf.write(ujson.dumps(reference))\n",
    "    else:\n",
    "        return reference, endpoint # returns both the kerchunk reference and the path the file on podaac-ops-cumulus-protected"
   ]
  },
  {
   "cell_type": "markdown",
   "id": "28b850da-5df5-460e-81f3-0450a2904667",
   "metadata": {},
   "source": [
    "Which can immediately be used to create a reference file and open one of the MUR files with Xarray, at which point it can be used just as if we had opened the MUR netCDF file directly:"
   ]
  },
  {
   "cell_type": "code",
   "execution_count": 9,
   "id": "aba98768-e3bf-4693-9778-cc2ca14d43be",
   "metadata": {},
   "outputs": [
    {
     "name": "stdout",
     "output_type": "stream",
     "text": [
      "CPU times: user 367 ms, sys: 121 ms, total: 488 ms\n",
      "Wall time: 3.51 s\n"
     ]
    }
   ],
   "source": [
    "%%time\n",
    "# Create reference file:\n",
    "reference, endpoint = single_ref_earthaccess(fobjs[0])"
   ]
  },
  {
   "cell_type": "code",
   "execution_count": 10,
   "id": "15707ccc-fcb3-4bf9-94cb-71b11d468054",
   "metadata": {},
   "outputs": [],
   "source": [
    "# Open data using the reference file, using a small wrapper function around xarray's open_dataset. \n",
    "# This will shorten code blocks in other sections. \n",
    "def opendf_withref(ref, fs_data):\n",
    "    \"\"\"\n",
    "    \"ref\" is a kerchunk reference file or object. \"fs_data\" is a filesystem with credentials to\n",
    "    access the actual data files. \n",
    "    \"\"\"\n",
    "    storage_opts = {\"fo\": ref, \"remote_protocol\": \"s3\", \"remote_options\": fs_data.storage_options}\n",
    "    fs_ref = fsspec.filesystem('reference', **storage_opts)\n",
    "    m = fs_ref.get_mapper('')\n",
    "    data = xr.open_dataset(\n",
    "        m, engine=\"zarr\", chunks={},\n",
    "        backend_kwargs={\"consolidated\": False}\n",
    "        )\n",
    "    return data"
   ]
  },
  {
   "cell_type": "code",
   "execution_count": 20,
   "id": "cf7a4fe9-5d2c-49c6-936e-91a4c481647c",
   "metadata": {},
   "outputs": [
    {
     "name": "stdout",
     "output_type": "stream",
     "text": [
      "<xarray.Dataset> Size: 23GB\n",
      "Dimensions:           (time: 1, lat: 17999, lon: 36000)\n",
      "Coordinates:\n",
      "  * lat               (lat) float32 72kB -89.99 -89.98 -89.97 ... 89.98 89.99\n",
      "  * lon               (lon) float32 144kB -180.0 -180.0 -180.0 ... 180.0 180.0\n",
      "  * time              (time) datetime64[ns] 8B 2019-01-01T09:00:00\n",
      "Data variables:\n",
      "    analysed_sst      (time, lat, lon) float64 5GB dask.array<chunksize=(1, 1023, 2047), meta=np.ndarray>\n",
      "    analysis_error    (time, lat, lon) float64 5GB dask.array<chunksize=(1, 1023, 2047), meta=np.ndarray>\n",
      "    dt_1km_data       (time, lat, lon) timedelta64[ns] 5GB dask.array<chunksize=(1, 1447, 2895), meta=np.ndarray>\n",
      "    mask              (time, lat, lon) float32 3GB dask.array<chunksize=(1, 1447, 2895), meta=np.ndarray>\n",
      "    sea_ice_fraction  (time, lat, lon) float64 5GB dask.array<chunksize=(1, 1447, 2895), meta=np.ndarray>\n",
      "Attributes: (47)\n",
      "CPU times: user 179 ms, sys: 24.8 ms, total: 204 ms\n",
      "Wall time: 554 ms\n"
     ]
    }
   ],
   "source": [
    "%%time\n",
    "data = opendf_withref(reference, fs)\n",
    "print(data)"
   ]
  },
  {
   "cell_type": "markdown",
   "id": "25fd7864-25f5-4b54-b47f-2072b21ab35e",
   "metadata": {},
   "source": [
    "**For us, reference file creation took ~4 seconds, so processing a year would take *4 x 365 ~ 24 minutes***. One could easily write a simple for-loop to accomplish this, e.g.\n",
    "\n",
    "```\n",
    "for fobj in fobjs[:365]:\n",
    "    single_ref_earthaccess(fobj, dir_save=<directory of your choice>)\n",
    "```\n",
    "\n",
    "However, we speed things up using basic parallel computing. "
   ]
  },
  {
   "cell_type": "markdown",
   "id": "9e4fc53c-2bf2-4b9d-9ab7-32a498011bd4",
   "metadata": {},
   "source": [
    "### 1.2.1 Parallelize using Dask local cluster\n",
    "If using the suggested `m6i.8xlarge` AWS EC2 instance, there are 32 CPUs available and each should have enough memory that we can utilize all 32 at once. If working on a different VM-type, change the `n_workers` in the call to `Client()` below as needed."
   ]
  },
  {
   "cell_type": "code",
   "execution_count": 11,
   "id": "914018a4-0858-4ee1-acbe-b4039fea7584",
   "metadata": {},
   "outputs": [
    {
     "name": "stdout",
     "output_type": "stream",
     "text": [
      "mkdir: cannot create directory ‘./reference_jsons_individual_2019/’: File exists\n"
     ]
    }
   ],
   "source": [
    "## Save reference JSONs in this directory:\n",
    "dir_refs_indv_2019 = './reference_jsons_individual_2019/'\n",
    "!mkdir $dir_refs_indv_2019"
   ]
  },
  {
   "cell_type": "code",
   "execution_count": 19,
   "id": "f6bae28c-0527-4ad8-8065-f6187fb46961",
   "metadata": {},
   "outputs": [
    {
     "name": "stdout",
     "output_type": "stream",
     "text": [
      "CPU count = 32\n"
     ]
    }
   ],
   "source": [
    "# Check how many cpu's are on this VM:\n",
    "print(\"CPU count =\", multiprocessing.cpu_count())"
   ]
  },
  {
   "cell_type": "code",
   "execution_count": 13,
   "id": "081fdd0e-03c7-4746-9066-9c1342b99cb2",
   "metadata": {},
   "outputs": [],
   "source": [
    "# Start up cluster:\n",
    "client = Client(n_workers=32, threads_per_worker=1)"
   ]
  },
  {
   "cell_type": "code",
   "execution_count": 17,
   "id": "3ed0c70a-dcf8-40ad-a4fc-68b1b0e47f51",
   "metadata": {},
   "outputs": [],
   "source": [
    "# Setup parallel computations:\n",
    "single_ref_earthaccess_par = delayed(single_ref_earthaccess)\n",
    "tasks = [single_ref_earthaccess_par(fo, dir_save=dir_refs_indv_2019) for fo in fobjs[:365]]"
   ]
  },
  {
   "cell_type": "code",
   "execution_count": 18,
   "id": "1e55104e-8bc3-4ac1-9610-07daff97cd59",
   "metadata": {},
   "outputs": [
    {
     "name": "stdout",
     "output_type": "stream",
     "text": [
      "CPU times: user 9.66 s, sys: 2.58 s, total: 12.2 s\n",
      "Wall time: 1min\n"
     ]
    }
   ],
   "source": [
    "%%time\n",
    "# Run parallel computations:\n",
    "results = da.compute(*tasks)"
   ]
  },
  {
   "cell_type": "markdown",
   "id": "b083114d-de86-4860-911f-f44e21877725",
   "metadata": {},
   "source": [
    "### 1.2.2 Optional Alternative: Parallelize using distributed cluster with Coiled\n",
    "At PO.DAAC we have been testing the third party software/package Coiled which makes it easy to spin up distributed computing clusters in the cloud. Since we suspect that Coiled may become a key member of the Cloud ecosystem for earth science researchers, this optional section is included, which can be used as an alternative to Section 1.2.1 for generating the reference files in parallel."
   ]
  },
  {
   "cell_type": "code",
   "execution_count": 11,
   "id": "05070095-1d23-4691-a984-5c7a13371b4c",
   "metadata": {},
   "outputs": [
    {
     "name": "stdout",
     "output_type": "stream",
     "text": [
      "mkdir: cannot create directory ‘./reference_jsons_individual_2019/’: File exists\n"
     ]
    }
   ],
   "source": [
    "## Save reference JSONs in this directory:\n",
    "dir_refs_indv_2019 = './reference_jsons_individual_2019/'\n",
    "!mkdir $dir_refs_indv_2019"
   ]
  },
  {
   "cell_type": "code",
   "execution_count": null,
   "id": "8fa76bec-1ef7-4ed1-bc58-f16eea3aa9e8",
   "metadata": {},
   "outputs": [],
   "source": [
    "%%time\n",
    "\n",
    "## --------------------------------------------\n",
    "## Create single reference files with parallel computing using Coiled\n",
    "## --------------------------------------------\n",
    "\n",
    "# Wrap `create_single_ref` into coiled function:\n",
    "single_ref_earthaccess_par = coiled.function(\n",
    "    region=\"us-west-2\", spot_policy=\"on-demand\", \n",
    "    vm_type=\"m6i.large\", n_workers=16\n",
    "    )(single_ref_earthaccess)\n",
    "\n",
    "# Begin computations:\n",
    "results = single_ref_earthaccess_par.map(fobjs[:365])\n",
    "\n",
    "# Save results to JSONs as they become available:\n",
    "for reference, endpoint in results:\n",
    "    name_ref = dir_refs_indv_2019 + endpoint.split('/')[-1].replace('.nc', '.json')\n",
    "    with open(name_ref, 'w') as outf:\n",
    "        outf.write(ujson.dumps(reference))"
   ]
  },
  {
   "cell_type": "code",
   "execution_count": null,
   "id": "3d0c311a-9523-44d4-96eb-b88db5bda632",
   "metadata": {},
   "outputs": [],
   "source": [
    "single_ref_earthaccess_par.cluster.shutdown()"
   ]
  },
  {
   "cell_type": "markdown",
   "id": "d9ba2934-e00a-416c-98ab-2be6c7c4836e",
   "metadata": {},
   "source": [
    "### 1.3 Create combined reference file and use it to open the data\n",
    "However the single reference files were generated in the previous section, they can now be used to create a single reference file for the entire year 2019. The computation time for this step can also be decreased with parallel computing, but in this case serial computing is used."
   ]
  },
  {
   "cell_type": "code",
   "execution_count": 22,
   "id": "becc2715-d6aa-463f-993b-717892758cca",
   "metadata": {},
   "outputs": [
    {
     "name": "stdout",
     "output_type": "stream",
     "text": [
      "CPU times: user 1.32 s, sys: 217 ms, total: 1.54 s\n",
      "Wall time: 12.9 s\n"
     ]
    }
   ],
   "source": [
    "%%time\n",
    "\n",
    "## --------------------------------------------\n",
    "## Create combined reference file\n",
    "## --------------------------------------------\n",
    "\n",
    "ref_files_indv = [dir_refs_indv_2019+f for f in os.listdir(dir_refs_indv_2019) if f.endswith('.json')]\n",
    "ref_files_indv.sort()\n",
    "\n",
    "## Combined reference file\n",
    "kwargs_mzz = {'remote_protocol':\"s3\", 'remote_options':fs.storage_options, 'concat_dims':[\"time\"]}\n",
    "mzz = MultiZarrToZarr(ref_files_indv, **kwargs_mzz)\n",
    "ref_combined = mzz.translate()\n",
    "\n",
    " # Save reference info to JSON:\n",
    "with open(\"ref_combined_2019.json\", 'wb') as outf:\n",
    "    outf.write(ujson.dumps(ref_combined).encode())"
   ]
  },
  {
   "cell_type": "code",
   "execution_count": 21,
   "id": "92f0ea99-2643-4936-9821-4c6428682b98",
   "metadata": {},
   "outputs": [
    {
     "name": "stdout",
     "output_type": "stream",
     "text": [
      "<xarray.Dataset> Size: 1TB\n",
      "Dimensions:           (time: 50, lat: 17999, lon: 36000)\n",
      "Coordinates:\n",
      "  * lat               (lat) float32 72kB -89.99 -89.98 -89.97 ... 89.98 89.99\n",
      "  * lon               (lon) float32 144kB -180.0 -180.0 -180.0 ... 180.0 180.0\n",
      "  * time              (time) datetime64[ns] 400B 2019-01-01T09:00:00 ... 2019...\n",
      "Data variables:\n",
      "    analysed_sst      (time, lat, lon) float64 259GB dask.array<chunksize=(1, 1023, 2047), meta=np.ndarray>\n",
      "    analysis_error    (time, lat, lon) float64 259GB dask.array<chunksize=(1, 1023, 2047), meta=np.ndarray>\n",
      "    dt_1km_data       (time, lat, lon) timedelta64[ns] 259GB dask.array<chunksize=(1, 1447, 2895), meta=np.ndarray>\n",
      "    mask              (time, lat, lon) float32 130GB dask.array<chunksize=(1, 1447, 2895), meta=np.ndarray>\n",
      "    sea_ice_fraction  (time, lat, lon) float64 259GB dask.array<chunksize=(1, 1447, 2895), meta=np.ndarray>\n",
      "Attributes: (47)\n",
      "CPU times: user 768 ms, sys: 85.4 ms, total: 853 ms\n",
      "Wall time: 1.1 s\n"
     ]
    }
   ],
   "source": [
    "%%time\n",
    "# Open the portion of the MUR record corresponding to the reference file created:\n",
    "data = opendf_withref(json.load(open(\"ref_combined_2019.json\")), fs)\n",
    "print(data)"
   ]
  },
  {
   "cell_type": "markdown",
   "id": "a176122c-e85b-4bf1-aa70-804f50d396bb",
   "metadata": {},
   "source": [
    "The data will open quickly now that we have the reference file. Compare that to an attempt at opening these same files with `Xarray` the \"traditional\" way with a call to `xr.open_mfdataset()`. On a smaller machine, the following line of code will either fail or take a long (possibly very long) amount of time:"
   ]
  },
  {
   "cell_type": "code",
   "execution_count": null,
   "id": "ec7ac19b-217b-472b-993a-0c560a228c30",
   "metadata": {},
   "outputs": [],
   "source": [
    "## You can try un-commenting and running this but your notebook will probably crash:\n",
    "# data = xr.open_mfdataset(fobjs[:365])"
   ]
  },
  {
   "cell_type": "markdown",
   "id": "44e285c2-7a7b-48f8-85bc-1cad89ec55ed",
   "metadata": {},
   "source": [
    "## 2. Generate the same MUR reference file but in PARQUET format\n",
    "\n",
    "For larger datasets, the combined reference file in JSON format can become large. For example, if we wanted to create a reference JSON for the entire MUR 0.01 degree record it is estimated to be 1-2 GB, and the MUR data set isn't even *that* large in the scheme of things. One solution to this is to save the reference information in PARQUET format (demonstrated in this section) which reduces the disk space required.\n",
    "\n",
    "Instead of re-creating all individual reference files, this section will load the combined 2019 reference file, then re-save in parquet format and use it to open the MUR data."
   ]
  },
  {
   "cell_type": "code",
   "execution_count": null,
   "id": "9496eccc-79e5-4ee2-9989-20b4f636dab8",
   "metadata": {},
   "outputs": [],
   "source": [
    "ref_combined_2019 = json.load(open(\"ref_combined_2019.json\"))"
   ]
  },
  {
   "cell_type": "code",
   "execution_count": null,
   "id": "a665d526-f89a-4269-af4d-8ee0915147e4",
   "metadata": {},
   "outputs": [],
   "source": [
    "%%time\n",
    "# Save reference info to parquet:\n",
    "refs_to_dataframe(ref_combined_2019, \"ref_combined_2019.parq\")"
   ]
  },
  {
   "cell_type": "code",
   "execution_count": null,
   "id": "2d00609d-053d-43f6-9ee6-e0c413b302b9",
   "metadata": {},
   "outputs": [],
   "source": [
    "%%time\n",
    "data = opendf_withref(\"ref_combined_2019.parq\", fs)\n",
    "print(data)"
   ]
  },
  {
   "cell_type": "code",
   "execution_count": null,
   "id": "c6934772-0a1d-4e06-93c9-d556ab2829f9",
   "metadata": {},
   "outputs": [],
   "source": [
    "## Compare size of JSON vs parquet, printed in MB\n",
    "    # JSON\n",
    "print(\"JSON:\", os.path.getsize(\"ref_combined_2019.json\")/10**6, \"MB\")\n",
    "    # parquet\n",
    "size_parq = 0 \n",
    "for path, dirs, files in os.walk(\"ref_combined_2019.parq\"):\n",
    "    for f in files:\n",
    "        fp = os.path.join(path, f)\n",
    "        size_parq += os.path.getsize(fp)\n",
    "print(\"PARQUET:\", size_parq/10**6, \"MB\")"
   ]
  },
  {
   "cell_type": "markdown",
   "id": "605954f8-1a25-4945-bccd-b3c0d40af29b",
   "metadata": {},
   "source": [
    "## 3. Combining reference files\n",
    "This section demonstrates that reference files can be combined in two examples:\n",
    "\n",
    "1. A single reference file (for the first day of 2020) is appended to the combined reference file for 2019 generated in the previous section.\n",
    "2. A second year-long combined reference file is created for all of 2020 and combined with the 2019 reference file.\n",
    "\n",
    "In both cases, a key result is that creating the final product (e.g. combining two reference files) is much shorter than it would have been to create it from scratch."
   ]
  },
  {
   "cell_type": "markdown",
   "id": "5525766d-d62d-4de2-a7b0-1c460aaa001d",
   "metadata": {},
   "source": [
    "### 3.1 Adding an extra day of the MUR record to our existing reference file."
   ]
  },
  {
   "cell_type": "code",
   "execution_count": null,
   "id": "51b0736a-e581-4e7f-991a-6a2ced3e3504",
   "metadata": {},
   "outputs": [],
   "source": [
    "%%time\n",
    "# Create reference file for first day in 2020:\n",
    "ref_add, endpoint_add = single_ref_earthaccess(fobjs[365])\n",
    "\n",
    "name_ref_add = endpoint_add.split('/')[-1].replace('.nc', '.json')\n",
    "with open(name_ref_add, 'w') as outf:\n",
    "    outf.write(ujson.dumps(ref_add))"
   ]
  },
  {
   "cell_type": "code",
   "execution_count": null,
   "id": "19a23add-33df-4928-8f25-b425985fe81a",
   "metadata": {},
   "outputs": [],
   "source": [
    "%%time\n",
    "\n",
    "# Add it to the combined reference file:\n",
    "kwargs_mzz = {'remote_protocol':\"s3\", 'remote_options':fs.storage_options, 'concat_dims':[\"time\"]}\n",
    "mzz = MultiZarrToZarr([\"ref_combined_2019.json\", name_ref_add], **kwargs_mzz)\n",
    "ref_combined_add1day = mzz.translate()\n",
    "\n",
    " # Save reference info to JSON:\n",
    "with open(\"ref_combined_add1day.json\", 'wb') as outf:\n",
    "    outf.write(ujson.dumps(ref_combined_add1day).encode())"
   ]
  },
  {
   "cell_type": "markdown",
   "id": "9c65d58c-ac99-4ca9-a3fb-05c09d2329b9",
   "metadata": {},
   "source": [
    "**Appending an additional file does not take much time!**"
   ]
  },
  {
   "cell_type": "code",
   "execution_count": null,
   "id": "dd59aa08-a5f2-40bc-bdd8-07e8c6e782b3",
   "metadata": {},
   "outputs": [],
   "source": [
    "%%time\n",
    "# Open data using new reference file:\n",
    "data = opendf_withref(\"ref_combined_add1day.json\", fs)\n",
    "print(len(data[\"time\"]))\n",
    "print(data)"
   ]
  },
  {
   "cell_type": "markdown",
   "id": "af585b0b-9c7e-45dd-9ea0-8b39f83af375",
   "metadata": {},
   "source": [
    "### 3.2 Combining two year-long combined reference files\n",
    "Individual files for 2020 are created and combined into a single reference file, then this file is combined with the 2019 reference file. As before, parallel computing is used to speed up creation of the files, but this could also be accomplished with a for-loop. "
   ]
  },
  {
   "cell_type": "code",
   "execution_count": 22,
   "id": "238e9c31-af8a-4cf8-9c9b-8f687978d419",
   "metadata": {},
   "outputs": [],
   "source": [
    "## Save individual reference JSONs in this directory:\n",
    "dir_refs_indv_2020 = './reference_jsons_individual_2020/'\n",
    "!mkdir $dir_refs_indv_2020"
   ]
  },
  {
   "cell_type": "code",
   "execution_count": 13,
   "id": "d67f7a3a-511e-4bde-8385-121854129842",
   "metadata": {},
   "outputs": [],
   "source": [
    "## !!!!!!!!!!!\n",
    "## This line only needs to be run if you don't have a cluster already running\n",
    "## from Section 1.2.1\n",
    "## !!!!!!!!!!!\n",
    "# Start up cluster:\n",
    "client = Client(n_workers=32, threads_per_worker=1)"
   ]
  },
  {
   "cell_type": "code",
   "execution_count": 23,
   "id": "30a37e94-5b90-4902-9be1-c76db23d774d",
   "metadata": {},
   "outputs": [],
   "source": [
    "# Setup parallel computations:\n",
    "single_ref_earthaccess_par = delayed(single_ref_earthaccess)\n",
    "tasks = [single_ref_earthaccess_par(fo, dir_save=dir_refs_indv_2020) for fo in fobjs[365:]]"
   ]
  },
  {
   "cell_type": "code",
   "execution_count": 24,
   "id": "ffb9967c-e962-4524-91b9-6eb9845e0f76",
   "metadata": {},
   "outputs": [
    {
     "name": "stdout",
     "output_type": "stream",
     "text": [
      "CPU times: user 12 s, sys: 3.02 s, total: 15 s\n",
      "Wall time: 1min 17s\n"
     ]
    }
   ],
   "source": [
    "%%time\n",
    "# Run parallel computations:\n",
    "results = da.compute(*tasks)"
   ]
  },
  {
   "cell_type": "code",
   "execution_count": null,
   "id": "39cc7952-bcfc-46c6-b53c-edd4e17f90ca",
   "metadata": {},
   "outputs": [],
   "source": [
    "%%time\n",
    "\n",
    "## --------------------------------------------\n",
    "## Create combined reference file for 2020\n",
    "## --------------------------------------------\n",
    "\n",
    "ref_files_indv = [dir_refs_indv_2020+f for f in os.listdir(dir_refs_indv_2020) if f.endswith('.json')]\n",
    "ref_files_indv.sort()\n",
    "\n",
    "## Combined reference file\n",
    "kwargs_mzz = {'remote_protocol':\"s3\", 'remote_options':fs.storage_options, 'concat_dims':[\"time\"]}\n",
    "mzz = MultiZarrToZarr(ref_files_indv, **kwargs_mzz)\n",
    "ref_combined = mzz.translate()\n",
    "\n",
    " # Save reference info to JSON:\n",
    "with open(\"ref_combined_2020.json\", 'wb') as outf:\n",
    "    outf.write(ujson.dumps(ref_combined).encode())"
   ]
  },
  {
   "cell_type": "code",
   "execution_count": null,
   "id": "eb120878-6fd7-42d1-9d75-86fb54ce6630",
   "metadata": {},
   "outputs": [],
   "source": [
    "%%time\n",
    "\n",
    "## --------------------------------------------\n",
    "## Then create combined reference file for 2019 and 2020\n",
    "## --------------------------------------------\n",
    "\n",
    "kwargs_mzz = {'remote_protocol':\"s3\", 'remote_options':fs.storage_options, 'concat_dims':[\"time\"]}\n",
    "mzz = MultiZarrToZarr([\"ref_combined_2019.json\", \"ref_combined_2020.json\"], **kwargs_mzz)\n",
    "ref_combined_2years = mzz.translate()\n",
    "\n",
    " # Save reference info to JSON:\n",
    "with open(\"ref_combined_2019-2020.json\", 'wb') as outf:\n",
    "    outf.write(ujson.dumps(ref_combined_2years).encode())"
   ]
  },
  {
   "cell_type": "markdown",
   "id": "a18fb8d4-4d10-4f61-b426-c77e5a92daaf",
   "metadata": {},
   "source": [
    "***Note the large difference in computation time to create the 2020 combined reference file from the individual reference files, vs. combining the two year-long reference files for 2019 and 2020. The latter is much shorter!***"
   ]
  },
  {
   "cell_type": "code",
   "execution_count": null,
   "id": "c1af9234-1aee-4537-ac6c-97e2f2395609",
   "metadata": {},
   "outputs": [],
   "source": [
    "%%time\n",
    "# Open data using new reference file:\n",
    "data = opendf_withref(\"ref_combined_2019-2020.json\", fs)\n",
    "print(len(data[\"time\"]))\n",
    "print(data)"
   ]
  },
  {
   "cell_type": "markdown",
   "id": "96dc2738-5a47-4356-807a-ae86607a806d",
   "metadata": {},
   "source": [
    "## 4. Using a reference file to analyze the MUR data with a parallel computing."
   ]
  },
  {
   "cell_type": "code",
   "execution_count": 28,
   "id": "f9040928-42a0-44b5-a532-d2ba81169ea9",
   "metadata": {},
   "outputs": [],
   "source": [
    "def seasonal_cycle_regional(data_array, lat_region, lon_region):\n",
    "    ## Subset to region:\n",
    "    da_regional = data_array.sel(lat=slice(*lat_region), lon=slice(*lon_region))\n",
    "    \n",
    "    ## Remove any linear trends:\n",
    "    p = da_regional.polyfit(dim='time', deg=1) # Degree 1 polynomial fit coefficients over time for each lat, lon.\n",
    "    fit = xr.polyval(da_regional['time'], p.polyfit_coefficients) # Compute linear trend time series at each lat, lon.\n",
    "    da_detrend = (da_regional - fit) # xarray is smart enough to subtract along the time dim only.\n",
    "    \n",
    "    ## Mean seasonal cycle:\n",
    "    seasonal_cycle = da_detrend.groupby(\"time.month\").mean(\"time\")\n",
    "    return seasonal_cycle"
   ]
  },
  {
   "cell_type": "code",
   "execution_count": 24,
   "id": "037824cf-1c4e-4122-a457-32e8a7f09e27",
   "metadata": {},
   "outputs": [],
   "source": [
    "# Region to perform analysis over:\n",
    "lat_region = (30, 45)\n",
    "lon_region = (-135, -105)"
   ]
  },
  {
   "cell_type": "markdown",
   "id": "bc9ea98b-8f78-440d-8ca7-df20ef6cea4c",
   "metadata": {},
   "source": [
    "### 4.1 Using a local cluster"
   ]
  },
  {
   "cell_type": "code",
   "execution_count": 25,
   "id": "b3049e68-de11-4171-bce3-524eec799a3d",
   "metadata": {},
   "outputs": [
    {
     "name": "stdout",
     "output_type": "stream",
     "text": [
      "CPU count = 32\n"
     ]
    }
   ],
   "source": [
    "print(\"CPU count =\", multiprocessing.cpu_count())"
   ]
  },
  {
   "cell_type": "code",
   "execution_count": 26,
   "id": "0f394dec-4fc9-49b0-8015-b9ceb7d62ea9",
   "metadata": {},
   "outputs": [
    {
     "name": "stderr",
     "output_type": "stream",
     "text": [
      "/opt/coiled/env/lib/python3.12/site-packages/distributed/node.py:187: UserWarning: Port 8787 is already in use.\n",
      "Perhaps you already have a cluster running?\n",
      "Hosting the HTTP server on port 43811 instead\n",
      "  warnings.warn(\n"
     ]
    },
    {
     "name": "stdout",
     "output_type": "stream",
     "text": [
      "LocalCluster(da665823, 'tcp://127.0.0.1:37015', workers=16, threads=16, memory=122.31 GiB)\n"
     ]
    },
    {
     "data": {
      "text/plain": [
       "'https://cluster-bvkzc.dask.host/jupyter/proxy/43811/status'"
      ]
     },
     "execution_count": 26,
     "metadata": {},
     "output_type": "execute_result"
    },
    {
     "name": "stderr",
     "output_type": "stream",
     "text": [
      "2024-10-28 15:59:40,427 - distributed.shuffle._scheduler_plugin - WARNING - Shuffle a5aea08baf2b2b7c4f82fd16997e35ad initialized by task ('rechunk-merge-rechunk-transfer-0af25ef7d25e4c9d5f13bbe26bb3614b', 0, 25, 6, 12, 37, 9) executed on worker tcp://127.0.0.1:38245\n",
      "2024-10-28 15:59:40,445 - distributed.shuffle._scheduler_plugin - WARNING - Shuffle 33cc5d8c465e5644e9a531c7ab1f5280 initialized by task ('rechunk-merge-rechunk-transfer-0af25ef7d25e4c9d5f13bbe26bb3614b', 0, 24, 5, 12, 36, 8) executed on worker tcp://127.0.0.1:33799\n",
      "2024-10-28 15:59:40,453 - distributed.shuffle._scheduler_plugin - WARNING - Shuffle 2f05770ddf1410aed0066c6bbfe59f88 initialized by task ('rechunk-merge-rechunk-transfer-0af25ef7d25e4c9d5f13bbe26bb3614b', 0, 23, 6, 12, 35, 9) executed on worker tcp://127.0.0.1:38245\n",
      "2024-10-28 15:59:40,513 - distributed.shuffle._scheduler_plugin - WARNING - Shuffle 50a58f5b04b9e1e0314f07b1b10878ea initialized by task ('rechunk-merge-rechunk-transfer-0af25ef7d25e4c9d5f13bbe26bb3614b', 0, 23, 4, 16, 34, 6) executed on worker tcp://127.0.0.1:39689\n",
      "2024-10-28 15:59:40,587 - distributed.shuffle._scheduler_plugin - WARNING - Shuffle 6ddadb02865af3cba256847dc1defea9 initialized by task ('rechunk-merge-rechunk-transfer-0af25ef7d25e4c9d5f13bbe26bb3614b', 0, 24, 6, 12, 36, 9) executed on worker tcp://127.0.0.1:33799\n",
      "2024-10-28 15:59:40,597 - distributed.shuffle._scheduler_plugin - WARNING - Shuffle 780d00bbce3c36ff8f28284ead201b0e initialized by task ('rechunk-merge-rechunk-transfer-0af25ef7d25e4c9d5f13bbe26bb3614b', 0, 22, 6, 2, 33, 9) executed on worker tcp://127.0.0.1:35411\n",
      "2024-10-28 15:59:40,639 - distributed.shuffle._scheduler_plugin - WARNING - Shuffle 3ba47063291f8a49809972823f8f870d initialized by task ('rechunk-merge-rechunk-transfer-0af25ef7d25e4c9d5f13bbe26bb3614b', 0, 22, 4, 16, 33, 6) executed on worker tcp://127.0.0.1:42639\n",
      "2024-10-28 15:59:41,425 - distributed.shuffle._scheduler_plugin - WARNING - Shuffle 0c24a10183ac46fba11d8aa8751c5c09 initialized by task ('rechunk-merge-rechunk-transfer-0af25ef7d25e4c9d5f13bbe26bb3614b', 0, 25, 4, 15, 37, 6) executed on worker tcp://127.0.0.1:38365\n",
      "2024-10-28 15:59:41,533 - distributed.shuffle._scheduler_plugin - WARNING - Shuffle 0635773782575a5b0420f14a9a5ae41b initialized by task ('rechunk-merge-rechunk-transfer-0af25ef7d25e4c9d5f13bbe26bb3614b', 0, 24, 4, 15, 36, 6) executed on worker tcp://127.0.0.1:43625\n",
      "2024-10-28 15:59:50,349 - distributed.shuffle._scheduler_plugin - WARNING - Shuffle dd141423c846cb4933bff3e219e11ff2 initialized by task ('rechunk-merge-rechunk-transfer-0af25ef7d25e4c9d5f13bbe26bb3614b', 1, 23, 6, 33, 35, 9) executed on worker tcp://127.0.0.1:43625\n",
      "2024-10-28 15:59:50,489 - distributed.shuffle._scheduler_plugin - WARNING - Shuffle 7ac7f33b00fc5deed67a9674b3eef286 initialized by task ('rechunk-merge-rechunk-transfer-0af25ef7d25e4c9d5f13bbe26bb3614b', 1, 24, 6, 33, 36, 9) executed on worker tcp://127.0.0.1:43625\n",
      "2024-10-28 15:59:50,511 - distributed.shuffle._scheduler_plugin - WARNING - Shuffle cf7c5069750621a8842c28bc91d0aa05 initialized by task ('rechunk-merge-rechunk-transfer-0af25ef7d25e4c9d5f13bbe26bb3614b', 1, 23, 4, 33, 35, 6) executed on worker tcp://127.0.0.1:45445\n",
      "2024-10-28 15:59:50,534 - distributed.shuffle._scheduler_plugin - WARNING - Shuffle 38ed320be0ab0f16c0a5f1f31dd5c871 initialized by task ('rechunk-merge-rechunk-transfer-0af25ef7d25e4c9d5f13bbe26bb3614b', 1, 24, 5, 33, 36, 7) executed on worker tcp://127.0.0.1:45445\n",
      "2024-10-28 15:59:50,572 - distributed.shuffle._scheduler_plugin - WARNING - Shuffle 11bb022c142d7a923f117085a98a3b32 initialized by task ('rechunk-merge-rechunk-transfer-0af25ef7d25e4c9d5f13bbe26bb3614b', 1, 25, 4, 33, 37, 6) executed on worker tcp://127.0.0.1:45445\n",
      "2024-10-28 15:59:50,654 - distributed.shuffle._scheduler_plugin - WARNING - Shuffle a0d0260825ddcd28acde49bdc3140919 initialized by task ('rechunk-merge-rechunk-transfer-0af25ef7d25e4c9d5f13bbe26bb3614b', 1, 25, 6, 33, 37, 9) executed on worker tcp://127.0.0.1:43625\n",
      "2024-10-28 15:59:50,729 - distributed.shuffle._scheduler_plugin - WARNING - Shuffle 1b26d28c0a6bef692a81cc7ac5adeafb initialized by task ('rechunk-transfer-20fae83136bce0bd8dd5d531a03dc188', 0, 1, 0, 0, 1, 8) executed on worker tcp://127.0.0.1:38245\n",
      "2024-10-28 15:59:50,735 - distributed.shuffle._scheduler_plugin - WARNING - Shuffle 2f05770ddf1410aed0066c6bbfe59f88 deactivated due to stimulus 'task-finished-1730131190.734688'\n",
      "2024-10-28 15:59:50,791 - distributed.shuffle._scheduler_plugin - WARNING - Shuffle 1f38ba72194ca0cb376863b578e001cd initialized by task ('rechunk-merge-rechunk-transfer-0af25ef7d25e4c9d5f13bbe26bb3614b', 1, 22, 4, 33, 33, 6) executed on worker tcp://127.0.0.1:46749\n",
      "2024-10-28 15:59:50,808 - distributed.shuffle._scheduler_plugin - WARNING - Shuffle acfad572c704c992ed91dee19b14f50a initialized by task ('rechunk-transfer-20fae83136bce0bd8dd5d531a03dc188', 0, 2, 0, 0, 2, 9) executed on worker tcp://127.0.0.1:41763\n",
      "2024-10-28 15:59:50,841 - distributed.shuffle._scheduler_plugin - WARNING - Shuffle 50a58f5b04b9e1e0314f07b1b10878ea deactivated due to stimulus 'task-finished-1730131190.8386357'\n",
      "2024-10-28 15:59:50,914 - distributed.shuffle._scheduler_plugin - WARNING - Shuffle 8ac0bdd759822d3e4eb45bc3a64c7609 initialized by task ('rechunk-merge-rechunk-transfer-0af25ef7d25e4c9d5f13bbe26bb3614b', 1, 24, 4, 33, 36, 6) executed on worker tcp://127.0.0.1:40581\n",
      "2024-10-28 15:59:51,240 - distributed.shuffle._scheduler_plugin - WARNING - Shuffle ed6a5adb9f3b783ac64b258eb64b0eb8 initialized by task ('rechunk-transfer-20fae83136bce0bd8dd5d531a03dc188', 0, 3, 0, 0, 3, 10) executed on worker tcp://127.0.0.1:43625\n",
      "2024-10-28 15:59:51,514 - distributed.shuffle._scheduler_plugin - WARNING - Shuffle 780d00bbce3c36ff8f28284ead201b0e deactivated due to stimulus 'task-finished-1730131191.4459977'\n",
      "2024-10-28 15:59:51,581 - distributed.shuffle._scheduler_plugin - WARNING - Shuffle b6c5e44b868351e0f17ccb8fcd1ecf8b initialized by task ('rechunk-transfer-20fae83136bce0bd8dd5d531a03dc188', 0, 4, 0, 0, 4, 8) executed on worker tcp://127.0.0.1:40581\n",
      "2024-10-28 15:59:51,649 - distributed.shuffle._scheduler_plugin - WARNING - Shuffle fdcffa597314ad0374c96675d54bafa2 initialized by task ('rechunk-merge-rechunk-transfer-0af25ef7d25e4c9d5f13bbe26bb3614b', 1, 22, 6, 33, 33, 9) executed on worker tcp://127.0.0.1:45445\n",
      "2024-10-28 15:59:52,122 - distributed.shuffle._scheduler_plugin - WARNING - Shuffle 33cc5d8c465e5644e9a531c7ab1f5280 deactivated due to stimulus 'task-finished-1730131192.1209521'\n",
      "2024-10-28 15:59:52,132 - distributed.shuffle._scheduler_plugin - WARNING - Shuffle 6ddadb02865af3cba256847dc1defea9 deactivated due to stimulus 'task-finished-1730131192.1257305'\n",
      "2024-10-28 15:59:52,223 - distributed.shuffle._scheduler_plugin - WARNING - Shuffle 3ba47063291f8a49809972823f8f870d deactivated due to stimulus 'task-finished-1730131192.2073689'\n",
      "2024-10-28 15:59:52,543 - distributed.shuffle._scheduler_plugin - WARNING - Shuffle 0635773782575a5b0420f14a9a5ae41b deactivated due to stimulus 'task-finished-1730131192.5414007'\n",
      "2024-10-28 15:59:53,400 - distributed.shuffle._scheduler_plugin - WARNING - Shuffle 1b26d28c0a6bef692a81cc7ac5adeafb deactivated due to stimulus 'task-finished-1730131193.3984811'\n",
      "2024-10-28 15:59:53,692 - distributed.shuffle._scheduler_plugin - WARNING - Shuffle b6c5e44b868351e0f17ccb8fcd1ecf8b deactivated due to stimulus 'task-finished-1730131193.6911573'\n",
      "2024-10-28 15:59:53,765 - distributed.shuffle._scheduler_plugin - WARNING - Shuffle acfad572c704c992ed91dee19b14f50a deactivated due to stimulus 'task-finished-1730131193.7639616'\n",
      "2024-10-28 15:59:53,930 - distributed.shuffle._scheduler_plugin - WARNING - Shuffle ed6a5adb9f3b783ac64b258eb64b0eb8 deactivated due to stimulus 'task-finished-1730131193.9293387'\n",
      "2024-10-28 16:00:01,542 - distributed.shuffle._scheduler_plugin - WARNING - Shuffle dd97d5d5e415fafc9a0ac2cb7e5acbc2 initialized by task ('rechunk-transfer-20fae83136bce0bd8dd5d531a03dc188', 1, 1, 0, 1, 1, 6) executed on worker tcp://127.0.0.1:40581\n",
      "2024-10-28 16:00:01,561 - distributed.shuffle._scheduler_plugin - WARNING - Shuffle 38ed320be0ab0f16c0a5f1f31dd5c871 deactivated due to stimulus 'task-finished-1730131201.5592604'\n",
      "2024-10-28 16:00:01,644 - distributed.shuffle._scheduler_plugin - WARNING - Shuffle 8d0f45e9bb76c22319e9da5f6aee1cdf initialized by task ('rechunk-transfer-20fae83136bce0bd8dd5d531a03dc188', 1, 3, 0, 1, 3, 6) executed on worker tcp://127.0.0.1:35411\n",
      "2024-10-28 16:00:01,737 - distributed.shuffle._scheduler_plugin - WARNING - Shuffle 8609e3c31296b259d3ba0d33fd291e54 initialized by task ('rechunk-transfer-20fae83136bce0bd8dd5d531a03dc188', 1, 2, 0, 1, 2, 6) executed on worker tcp://127.0.0.1:43625\n",
      "2024-10-28 16:00:01,763 - distributed.shuffle._scheduler_plugin - WARNING - Shuffle c893f6c4da331c560602fb860e832c53 initialized by task ('rechunk-transfer-20fae83136bce0bd8dd5d531a03dc188', 1, 4, 0, 1, 4, 10) executed on worker tcp://127.0.0.1:37239\n",
      "2024-10-28 16:00:01,853 - distributed.shuffle._scheduler_plugin - WARNING - Shuffle 7ac7f33b00fc5deed67a9674b3eef286 deactivated due to stimulus 'task-finished-1730131201.8520713'\n",
      "2024-10-28 16:00:01,900 - distributed.shuffle._scheduler_plugin - WARNING - Shuffle cf7c5069750621a8842c28bc91d0aa05 deactivated due to stimulus 'task-finished-1730131201.898032'\n",
      "2024-10-28 16:00:02,341 - distributed.shuffle._scheduler_plugin - WARNING - Shuffle dd141423c846cb4933bff3e219e11ff2 deactivated due to stimulus 'task-finished-1730131202.3395872'\n",
      "2024-10-28 16:00:02,481 - distributed.shuffle._scheduler_plugin - WARNING - Shuffle 8ac0bdd759822d3e4eb45bc3a64c7609 deactivated due to stimulus 'task-finished-1730131202.4742599'\n",
      "2024-10-28 16:00:02,486 - distributed.shuffle._scheduler_plugin - WARNING - Shuffle 1f38ba72194ca0cb376863b578e001cd deactivated due to stimulus 'task-finished-1730131202.483215'\n",
      "2024-10-28 16:00:02,841 - distributed.shuffle._scheduler_plugin - WARNING - Shuffle fdcffa597314ad0374c96675d54bafa2 deactivated due to stimulus 'task-finished-1730131202.8310025'\n",
      "2024-10-28 16:00:03,401 - distributed.shuffle._scheduler_plugin - WARNING - Shuffle dd97d5d5e415fafc9a0ac2cb7e5acbc2 deactivated due to stimulus 'task-finished-1730131203.3957398'\n",
      "2024-10-28 16:00:06,382 - distributed.shuffle._scheduler_plugin - WARNING - Shuffle 8d0f45e9bb76c22319e9da5f6aee1cdf deactivated due to stimulus 'task-finished-1730131206.3807456'\n",
      "2024-10-28 16:00:07,070 - distributed.shuffle._scheduler_plugin - WARNING - Shuffle c893f6c4da331c560602fb860e832c53 deactivated due to stimulus 'task-finished-1730131207.0689583'\n",
      "2024-10-28 16:00:12,369 - distributed.shuffle._scheduler_plugin - WARNING - Shuffle 8609e3c31296b259d3ba0d33fd291e54 deactivated due to stimulus 'task-finished-1730131212.3676245'\n",
      "2024-10-28 16:00:23,336 - distributed.shuffle._scheduler_plugin - WARNING - Shuffle a5aea08baf2b2b7c4f82fd16997e35ad deactivated due to stimulus 'task-finished-1730131223.3354814'\n",
      "2024-10-28 16:00:23,402 - distributed.shuffle._scheduler_plugin - WARNING - Shuffle 8985cfe44a41cfcf7e11f26ef3932df1 initialized by task ('rechunk-transfer-20fae83136bce0bd8dd5d531a03dc188', 0, 5, 0, 0, 5, 10) executed on worker tcp://127.0.0.1:40581\n",
      "2024-10-28 16:00:24,064 - distributed.shuffle._scheduler_plugin - WARNING - Shuffle 0c24a10183ac46fba11d8aa8751c5c09 deactivated due to stimulus 'task-finished-1730131224.0634882'\n",
      "2024-10-28 16:00:25,123 - distributed.shuffle._scheduler_plugin - WARNING - Shuffle 8985cfe44a41cfcf7e11f26ef3932df1 deactivated due to stimulus 'task-finished-1730131225.122816'\n",
      "2024-10-28 16:00:27,028 - distributed.shuffle._scheduler_plugin - WARNING - Shuffle 2b66e12828090beecb206c4024eed8be initialized by task ('rechunk-transfer-20fae83136bce0bd8dd5d531a03dc188', 1, 5, 0, 1, 5, 10) executed on worker tcp://127.0.0.1:39689\n",
      "2024-10-28 16:00:27,030 - distributed.shuffle._scheduler_plugin - WARNING - Shuffle a0d0260825ddcd28acde49bdc3140919 deactivated due to stimulus 'task-finished-1730131227.0297394'\n",
      "2024-10-28 16:00:27,567 - distributed.shuffle._scheduler_plugin - WARNING - Shuffle 11bb022c142d7a923f117085a98a3b32 deactivated due to stimulus 'task-finished-1730131227.5558426'\n",
      "2024-10-28 16:00:28,058 - distributed.shuffle._scheduler_plugin - WARNING - Shuffle 2b66e12828090beecb206c4024eed8be deactivated due to stimulus 'task-finished-1730131228.0574346'\n"
     ]
    }
   ],
   "source": [
    "## Local Dask Cluster\n",
    "client = Client(n_workers=16, threads_per_worker=1)\n",
    "print(client.cluster)\n",
    "client.dashboard_link"
   ]
  },
  {
   "cell_type": "code",
   "execution_count": 27,
   "id": "52fd8390-86b6-4dd0-aeb8-f36a2b58cbad",
   "metadata": {},
   "outputs": [
    {
     "data": {
      "text/html": [
       "<div><svg style=\"position: absolute; width: 0; height: 0; overflow: hidden\">\n",
       "<defs>\n",
       "<symbol id=\"icon-database\" viewBox=\"0 0 32 32\">\n",
       "<path d=\"M16 0c-8.837 0-16 2.239-16 5v4c0 2.761 7.163 5 16 5s16-2.239 16-5v-4c0-2.761-7.163-5-16-5z\"></path>\n",
       "<path d=\"M16 17c-8.837 0-16-2.239-16-5v6c0 2.761 7.163 5 16 5s16-2.239 16-5v-6c0 2.761-7.163 5-16 5z\"></path>\n",
       "<path d=\"M16 26c-8.837 0-16-2.239-16-5v6c0 2.761 7.163 5 16 5s16-2.239 16-5v-6c0 2.761-7.163 5-16 5z\"></path>\n",
       "</symbol>\n",
       "<symbol id=\"icon-file-text2\" viewBox=\"0 0 32 32\">\n",
       "<path d=\"M28.681 7.159c-0.694-0.947-1.662-2.053-2.724-3.116s-2.169-2.030-3.116-2.724c-1.612-1.182-2.393-1.319-2.841-1.319h-15.5c-1.378 0-2.5 1.121-2.5 2.5v27c0 1.378 1.122 2.5 2.5 2.5h23c1.378 0 2.5-1.122 2.5-2.5v-19.5c0-0.448-0.137-1.23-1.319-2.841zM24.543 5.457c0.959 0.959 1.712 1.825 2.268 2.543h-4.811v-4.811c0.718 0.556 1.584 1.309 2.543 2.268zM28 29.5c0 0.271-0.229 0.5-0.5 0.5h-23c-0.271 0-0.5-0.229-0.5-0.5v-27c0-0.271 0.229-0.5 0.5-0.5 0 0 15.499-0 15.5 0v7c0 0.552 0.448 1 1 1h7v19.5z\"></path>\n",
       "<path d=\"M23 26h-14c-0.552 0-1-0.448-1-1s0.448-1 1-1h14c0.552 0 1 0.448 1 1s-0.448 1-1 1z\"></path>\n",
       "<path d=\"M23 22h-14c-0.552 0-1-0.448-1-1s0.448-1 1-1h14c0.552 0 1 0.448 1 1s-0.448 1-1 1z\"></path>\n",
       "<path d=\"M23 18h-14c-0.552 0-1-0.448-1-1s0.448-1 1-1h14c0.552 0 1 0.448 1 1s-0.448 1-1 1z\"></path>\n",
       "</symbol>\n",
       "</defs>\n",
       "</svg>\n",
       "<style>/* CSS stylesheet for displaying xarray objects in jupyterlab.\n",
       " *\n",
       " */\n",
       "\n",
       ":root {\n",
       "  --xr-font-color0: var(--jp-content-font-color0, rgba(0, 0, 0, 1));\n",
       "  --xr-font-color2: var(--jp-content-font-color2, rgba(0, 0, 0, 0.54));\n",
       "  --xr-font-color3: var(--jp-content-font-color3, rgba(0, 0, 0, 0.38));\n",
       "  --xr-border-color: var(--jp-border-color2, #e0e0e0);\n",
       "  --xr-disabled-color: var(--jp-layout-color3, #bdbdbd);\n",
       "  --xr-background-color: var(--jp-layout-color0, white);\n",
       "  --xr-background-color-row-even: var(--jp-layout-color1, white);\n",
       "  --xr-background-color-row-odd: var(--jp-layout-color2, #eeeeee);\n",
       "}\n",
       "\n",
       "html[theme=dark],\n",
       "html[data-theme=dark],\n",
       "body[data-theme=dark],\n",
       "body.vscode-dark {\n",
       "  --xr-font-color0: rgba(255, 255, 255, 1);\n",
       "  --xr-font-color2: rgba(255, 255, 255, 0.54);\n",
       "  --xr-font-color3: rgba(255, 255, 255, 0.38);\n",
       "  --xr-border-color: #1F1F1F;\n",
       "  --xr-disabled-color: #515151;\n",
       "  --xr-background-color: #111111;\n",
       "  --xr-background-color-row-even: #111111;\n",
       "  --xr-background-color-row-odd: #313131;\n",
       "}\n",
       "\n",
       ".xr-wrap {\n",
       "  display: block !important;\n",
       "  min-width: 300px;\n",
       "  max-width: 700px;\n",
       "}\n",
       "\n",
       ".xr-text-repr-fallback {\n",
       "  /* fallback to plain text repr when CSS is not injected (untrusted notebook) */\n",
       "  display: none;\n",
       "}\n",
       "\n",
       ".xr-header {\n",
       "  padding-top: 6px;\n",
       "  padding-bottom: 6px;\n",
       "  margin-bottom: 4px;\n",
       "  border-bottom: solid 1px var(--xr-border-color);\n",
       "}\n",
       "\n",
       ".xr-header > div,\n",
       ".xr-header > ul {\n",
       "  display: inline;\n",
       "  margin-top: 0;\n",
       "  margin-bottom: 0;\n",
       "}\n",
       "\n",
       ".xr-obj-type,\n",
       ".xr-array-name {\n",
       "  margin-left: 2px;\n",
       "  margin-right: 10px;\n",
       "}\n",
       "\n",
       ".xr-obj-type {\n",
       "  color: var(--xr-font-color2);\n",
       "}\n",
       "\n",
       ".xr-sections {\n",
       "  padding-left: 0 !important;\n",
       "  display: grid;\n",
       "  grid-template-columns: 150px auto auto 1fr 0 20px 0 20px;\n",
       "}\n",
       "\n",
       ".xr-section-item {\n",
       "  display: contents;\n",
       "}\n",
       "\n",
       ".xr-section-item input {\n",
       "  display: inline-block;\n",
       "  opacity: 0;\n",
       "}\n",
       "\n",
       ".xr-section-item input + label {\n",
       "  color: var(--xr-disabled-color);\n",
       "}\n",
       "\n",
       ".xr-section-item input:enabled + label {\n",
       "  cursor: pointer;\n",
       "  color: var(--xr-font-color2);\n",
       "}\n",
       "\n",
       ".xr-section-item input:focus + label {\n",
       "  border: 2px solid var(--xr-font-color0);\n",
       "}\n",
       "\n",
       ".xr-section-item input:enabled + label:hover {\n",
       "  color: var(--xr-font-color0);\n",
       "}\n",
       "\n",
       ".xr-section-summary {\n",
       "  grid-column: 1;\n",
       "  color: var(--xr-font-color2);\n",
       "  font-weight: 500;\n",
       "}\n",
       "\n",
       ".xr-section-summary > span {\n",
       "  display: inline-block;\n",
       "  padding-left: 0.5em;\n",
       "}\n",
       "\n",
       ".xr-section-summary-in:disabled + label {\n",
       "  color: var(--xr-font-color2);\n",
       "}\n",
       "\n",
       ".xr-section-summary-in + label:before {\n",
       "  display: inline-block;\n",
       "  content: '►';\n",
       "  font-size: 11px;\n",
       "  width: 15px;\n",
       "  text-align: center;\n",
       "}\n",
       "\n",
       ".xr-section-summary-in:disabled + label:before {\n",
       "  color: var(--xr-disabled-color);\n",
       "}\n",
       "\n",
       ".xr-section-summary-in:checked + label:before {\n",
       "  content: '▼';\n",
       "}\n",
       "\n",
       ".xr-section-summary-in:checked + label > span {\n",
       "  display: none;\n",
       "}\n",
       "\n",
       ".xr-section-summary,\n",
       ".xr-section-inline-details {\n",
       "  padding-top: 4px;\n",
       "  padding-bottom: 4px;\n",
       "}\n",
       "\n",
       ".xr-section-inline-details {\n",
       "  grid-column: 2 / -1;\n",
       "}\n",
       "\n",
       ".xr-section-details {\n",
       "  display: none;\n",
       "  grid-column: 1 / -1;\n",
       "  margin-bottom: 5px;\n",
       "}\n",
       "\n",
       ".xr-section-summary-in:checked ~ .xr-section-details {\n",
       "  display: contents;\n",
       "}\n",
       "\n",
       ".xr-array-wrap {\n",
       "  grid-column: 1 / -1;\n",
       "  display: grid;\n",
       "  grid-template-columns: 20px auto;\n",
       "}\n",
       "\n",
       ".xr-array-wrap > label {\n",
       "  grid-column: 1;\n",
       "  vertical-align: top;\n",
       "}\n",
       "\n",
       ".xr-preview {\n",
       "  color: var(--xr-font-color3);\n",
       "}\n",
       "\n",
       ".xr-array-preview,\n",
       ".xr-array-data {\n",
       "  padding: 0 5px !important;\n",
       "  grid-column: 2;\n",
       "}\n",
       "\n",
       ".xr-array-data,\n",
       ".xr-array-in:checked ~ .xr-array-preview {\n",
       "  display: none;\n",
       "}\n",
       "\n",
       ".xr-array-in:checked ~ .xr-array-data,\n",
       ".xr-array-preview {\n",
       "  display: inline-block;\n",
       "}\n",
       "\n",
       ".xr-dim-list {\n",
       "  display: inline-block !important;\n",
       "  list-style: none;\n",
       "  padding: 0 !important;\n",
       "  margin: 0;\n",
       "}\n",
       "\n",
       ".xr-dim-list li {\n",
       "  display: inline-block;\n",
       "  padding: 0;\n",
       "  margin: 0;\n",
       "}\n",
       "\n",
       ".xr-dim-list:before {\n",
       "  content: '(';\n",
       "}\n",
       "\n",
       ".xr-dim-list:after {\n",
       "  content: ')';\n",
       "}\n",
       "\n",
       ".xr-dim-list li:not(:last-child):after {\n",
       "  content: ',';\n",
       "  padding-right: 5px;\n",
       "}\n",
       "\n",
       ".xr-has-index {\n",
       "  font-weight: bold;\n",
       "}\n",
       "\n",
       ".xr-var-list,\n",
       ".xr-var-item {\n",
       "  display: contents;\n",
       "}\n",
       "\n",
       ".xr-var-item > div,\n",
       ".xr-var-item label,\n",
       ".xr-var-item > .xr-var-name span {\n",
       "  background-color: var(--xr-background-color-row-even);\n",
       "  margin-bottom: 0;\n",
       "}\n",
       "\n",
       ".xr-var-item > .xr-var-name:hover span {\n",
       "  padding-right: 5px;\n",
       "}\n",
       "\n",
       ".xr-var-list > li:nth-child(odd) > div,\n",
       ".xr-var-list > li:nth-child(odd) > label,\n",
       ".xr-var-list > li:nth-child(odd) > .xr-var-name span {\n",
       "  background-color: var(--xr-background-color-row-odd);\n",
       "}\n",
       "\n",
       ".xr-var-name {\n",
       "  grid-column: 1;\n",
       "}\n",
       "\n",
       ".xr-var-dims {\n",
       "  grid-column: 2;\n",
       "}\n",
       "\n",
       ".xr-var-dtype {\n",
       "  grid-column: 3;\n",
       "  text-align: right;\n",
       "  color: var(--xr-font-color2);\n",
       "}\n",
       "\n",
       ".xr-var-preview {\n",
       "  grid-column: 4;\n",
       "}\n",
       "\n",
       ".xr-index-preview {\n",
       "  grid-column: 2 / 5;\n",
       "  color: var(--xr-font-color2);\n",
       "}\n",
       "\n",
       ".xr-var-name,\n",
       ".xr-var-dims,\n",
       ".xr-var-dtype,\n",
       ".xr-preview,\n",
       ".xr-attrs dt {\n",
       "  white-space: nowrap;\n",
       "  overflow: hidden;\n",
       "  text-overflow: ellipsis;\n",
       "  padding-right: 10px;\n",
       "}\n",
       "\n",
       ".xr-var-name:hover,\n",
       ".xr-var-dims:hover,\n",
       ".xr-var-dtype:hover,\n",
       ".xr-attrs dt:hover {\n",
       "  overflow: visible;\n",
       "  width: auto;\n",
       "  z-index: 1;\n",
       "}\n",
       "\n",
       ".xr-var-attrs,\n",
       ".xr-var-data,\n",
       ".xr-index-data {\n",
       "  display: none;\n",
       "  background-color: var(--xr-background-color) !important;\n",
       "  padding-bottom: 5px !important;\n",
       "}\n",
       "\n",
       ".xr-var-attrs-in:checked ~ .xr-var-attrs,\n",
       ".xr-var-data-in:checked ~ .xr-var-data,\n",
       ".xr-index-data-in:checked ~ .xr-index-data {\n",
       "  display: block;\n",
       "}\n",
       "\n",
       ".xr-var-data > table {\n",
       "  float: right;\n",
       "}\n",
       "\n",
       ".xr-var-name span,\n",
       ".xr-var-data,\n",
       ".xr-index-name div,\n",
       ".xr-index-data,\n",
       ".xr-attrs {\n",
       "  padding-left: 25px !important;\n",
       "}\n",
       "\n",
       ".xr-attrs,\n",
       ".xr-var-attrs,\n",
       ".xr-var-data,\n",
       ".xr-index-data {\n",
       "  grid-column: 1 / -1;\n",
       "}\n",
       "\n",
       "dl.xr-attrs {\n",
       "  padding: 0;\n",
       "  margin: 0;\n",
       "  display: grid;\n",
       "  grid-template-columns: 125px auto;\n",
       "}\n",
       "\n",
       ".xr-attrs dt,\n",
       ".xr-attrs dd {\n",
       "  padding: 0;\n",
       "  margin: 0;\n",
       "  float: left;\n",
       "  padding-right: 10px;\n",
       "  width: auto;\n",
       "}\n",
       "\n",
       ".xr-attrs dt {\n",
       "  font-weight: normal;\n",
       "  grid-column: 1;\n",
       "}\n",
       "\n",
       ".xr-attrs dt:hover span {\n",
       "  display: inline-block;\n",
       "  background: var(--xr-background-color);\n",
       "  padding-right: 10px;\n",
       "}\n",
       "\n",
       ".xr-attrs dd {\n",
       "  grid-column: 2;\n",
       "  white-space: pre-wrap;\n",
       "  word-break: break-all;\n",
       "}\n",
       "\n",
       ".xr-icon-database,\n",
       ".xr-icon-file-text2,\n",
       ".xr-no-icon {\n",
       "  display: inline-block;\n",
       "  vertical-align: middle;\n",
       "  width: 1em;\n",
       "  height: 1.5em !important;\n",
       "  stroke-width: 0;\n",
       "  stroke: currentColor;\n",
       "  fill: currentColor;\n",
       "}\n",
       "</style><pre class='xr-text-repr-fallback'>&lt;xarray.DataArray &#x27;analysed_sst&#x27; (time: 365, lat: 17999, lon: 36000)&gt; Size: 2TB\n",
       "dask.array&lt;rechunk-p2p, shape=(365, 17999, 36000), dtype=float64, chunksize=(200, 300, 300), chunktype=numpy.ndarray&gt;\n",
       "Coordinates:\n",
       "  * lat      (lat) float32 72kB -89.99 -89.98 -89.97 ... 89.97 89.98 89.99\n",
       "  * lon      (lon) float32 144kB -180.0 -180.0 -180.0 ... 180.0 180.0 180.0\n",
       "  * time     (time) datetime64[ns] 3kB 2019-01-01T09:00:00 ... 2019-12-31T09:...\n",
       "Attributes:\n",
       "    comment:        &quot;Final&quot; version using Multi-Resolution Variational Analys...\n",
       "    long_name:      analysed sea surface temperature\n",
       "    source:         MODIS_T-JPL, MODIS_A-JPL, AMSR2-REMSS, AVHRR19_G-NAVO, AV...\n",
       "    standard_name:  sea_surface_foundation_temperature\n",
       "    units:          kelvin\n",
       "    valid_max:      32767\n",
       "    valid_min:      -32767</pre><div class='xr-wrap' style='display:none'><div class='xr-header'><div class='xr-obj-type'>xarray.DataArray</div><div class='xr-array-name'>'analysed_sst'</div><ul class='xr-dim-list'><li><span class='xr-has-index'>time</span>: 365</li><li><span class='xr-has-index'>lat</span>: 17999</li><li><span class='xr-has-index'>lon</span>: 36000</li></ul></div><ul class='xr-sections'><li class='xr-section-item'><div class='xr-array-wrap'><input id='section-fd9995ec-567a-403f-9815-e711fe6fe3b9' class='xr-array-in' type='checkbox' checked><label for='section-fd9995ec-567a-403f-9815-e711fe6fe3b9' title='Show/hide data repr'><svg class='icon xr-icon-database'><use xlink:href='#icon-database'></use></svg></label><div class='xr-array-preview xr-preview'><span>dask.array&lt;chunksize=(200, 300, 300), meta=np.ndarray&gt;</span></div><div class='xr-array-data'><table>\n",
       "    <tr>\n",
       "        <td>\n",
       "            <table style=\"border-collapse: collapse;\">\n",
       "                <thead>\n",
       "                    <tr>\n",
       "                        <td> </td>\n",
       "                        <th> Array </th>\n",
       "                        <th> Chunk </th>\n",
       "                    </tr>\n",
       "                </thead>\n",
       "                <tbody>\n",
       "                    \n",
       "                    <tr>\n",
       "                        <th> Bytes </th>\n",
       "                        <td> 1.72 TiB </td>\n",
       "                        <td> 137.33 MiB </td>\n",
       "                    </tr>\n",
       "                    \n",
       "                    <tr>\n",
       "                        <th> Shape </th>\n",
       "                        <td> (365, 17999, 36000) </td>\n",
       "                        <td> (200, 300, 300) </td>\n",
       "                    </tr>\n",
       "                    <tr>\n",
       "                        <th> Dask graph </th>\n",
       "                        <td colspan=\"2\"> 14400 chunks in 5 graph layers </td>\n",
       "                    </tr>\n",
       "                    <tr>\n",
       "                        <th> Data type </th>\n",
       "                        <td colspan=\"2\"> float64 numpy.ndarray </td>\n",
       "                    </tr>\n",
       "                </tbody>\n",
       "            </table>\n",
       "        </td>\n",
       "        <td>\n",
       "        <svg width=\"194\" height=\"124\" style=\"stroke:rgb(0,0,0);stroke-width:1\" >\n",
       "\n",
       "  <!-- Horizontal lines -->\n",
       "  <line x1=\"10\" y1=\"0\" x2=\"24\" y2=\"14\" style=\"stroke-width:2\" />\n",
       "  <line x1=\"10\" y1=\"3\" x2=\"24\" y2=\"17\" />\n",
       "  <line x1=\"10\" y1=\"6\" x2=\"24\" y2=\"20\" />\n",
       "  <line x1=\"10\" y1=\"9\" x2=\"24\" y2=\"23\" />\n",
       "  <line x1=\"10\" y1=\"12\" x2=\"24\" y2=\"26\" />\n",
       "  <line x1=\"10\" y1=\"15\" x2=\"24\" y2=\"29\" />\n",
       "  <line x1=\"10\" y1=\"18\" x2=\"24\" y2=\"32\" />\n",
       "  <line x1=\"10\" y1=\"22\" x2=\"24\" y2=\"36\" />\n",
       "  <line x1=\"10\" y1=\"25\" x2=\"24\" y2=\"39\" />\n",
       "  <line x1=\"10\" y1=\"28\" x2=\"24\" y2=\"42\" />\n",
       "  <line x1=\"10\" y1=\"31\" x2=\"24\" y2=\"45\" />\n",
       "  <line x1=\"10\" y1=\"34\" x2=\"24\" y2=\"48\" />\n",
       "  <line x1=\"10\" y1=\"37\" x2=\"24\" y2=\"51\" />\n",
       "  <line x1=\"10\" y1=\"41\" x2=\"24\" y2=\"55\" />\n",
       "  <line x1=\"10\" y1=\"44\" x2=\"24\" y2=\"58\" />\n",
       "  <line x1=\"10\" y1=\"47\" x2=\"24\" y2=\"61\" />\n",
       "  <line x1=\"10\" y1=\"50\" x2=\"24\" y2=\"64\" />\n",
       "  <line x1=\"10\" y1=\"53\" x2=\"24\" y2=\"67\" />\n",
       "  <line x1=\"10\" y1=\"56\" x2=\"24\" y2=\"70\" />\n",
       "  <line x1=\"10\" y1=\"59\" x2=\"24\" y2=\"74\" style=\"stroke-width:2\" />\n",
       "\n",
       "  <!-- Vertical lines -->\n",
       "  <line x1=\"10\" y1=\"0\" x2=\"10\" y2=\"59\" style=\"stroke-width:2\" />\n",
       "  <line x1=\"18\" y1=\"8\" x2=\"18\" y2=\"68\" />\n",
       "  <line x1=\"24\" y1=\"14\" x2=\"24\" y2=\"74\" style=\"stroke-width:2\" />\n",
       "\n",
       "  <!-- Colored Rectangle -->\n",
       "  <polygon points=\"10.0,0.0 24.987517576607736,14.987517576607734 24.987517576607736,74.9841842432744 10.0,59.99666666666667\" style=\"fill:#8B4903A0;stroke-width:0\"/>\n",
       "\n",
       "  <!-- Horizontal lines -->\n",
       "  <line x1=\"10\" y1=\"0\" x2=\"130\" y2=\"0\" style=\"stroke-width:2\" />\n",
       "  <line x1=\"18\" y1=\"8\" x2=\"138\" y2=\"8\" />\n",
       "  <line x1=\"24\" y1=\"14\" x2=\"144\" y2=\"14\" style=\"stroke-width:2\" />\n",
       "\n",
       "  <!-- Vertical lines -->\n",
       "  <line x1=\"10\" y1=\"0\" x2=\"24\" y2=\"14\" style=\"stroke-width:2\" />\n",
       "  <line x1=\"16\" y1=\"0\" x2=\"30\" y2=\"14\" />\n",
       "  <line x1=\"22\" y1=\"0\" x2=\"36\" y2=\"14\" />\n",
       "  <line x1=\"28\" y1=\"0\" x2=\"42\" y2=\"14\" />\n",
       "  <line x1=\"35\" y1=\"0\" x2=\"49\" y2=\"14\" />\n",
       "  <line x1=\"41\" y1=\"0\" x2=\"55\" y2=\"14\" />\n",
       "  <line x1=\"47\" y1=\"0\" x2=\"61\" y2=\"14\" />\n",
       "  <line x1=\"54\" y1=\"0\" x2=\"68\" y2=\"14\" />\n",
       "  <line x1=\"60\" y1=\"0\" x2=\"74\" y2=\"14\" />\n",
       "  <line x1=\"66\" y1=\"0\" x2=\"80\" y2=\"14\" />\n",
       "  <line x1=\"73\" y1=\"0\" x2=\"87\" y2=\"14\" />\n",
       "  <line x1=\"79\" y1=\"0\" x2=\"93\" y2=\"14\" />\n",
       "  <line x1=\"85\" y1=\"0\" x2=\"99\" y2=\"14\" />\n",
       "  <line x1=\"92\" y1=\"0\" x2=\"106\" y2=\"14\" />\n",
       "  <line x1=\"98\" y1=\"0\" x2=\"112\" y2=\"14\" />\n",
       "  <line x1=\"104\" y1=\"0\" x2=\"118\" y2=\"14\" />\n",
       "  <line x1=\"111\" y1=\"0\" x2=\"125\" y2=\"14\" />\n",
       "  <line x1=\"117\" y1=\"0\" x2=\"131\" y2=\"14\" />\n",
       "  <line x1=\"123\" y1=\"0\" x2=\"137\" y2=\"14\" />\n",
       "  <line x1=\"130\" y1=\"0\" x2=\"144\" y2=\"14\" style=\"stroke-width:2\" />\n",
       "\n",
       "  <!-- Colored Rectangle -->\n",
       "  <polygon points=\"10.0,0.0 130.0,0.0 144.98751757660773,14.987517576607734 24.987517576607736,14.987517576607734\" style=\"fill:#8B4903A0;stroke-width:0\"/>\n",
       "\n",
       "  <!-- Horizontal lines -->\n",
       "  <line x1=\"24\" y1=\"14\" x2=\"144\" y2=\"14\" style=\"stroke-width:2\" />\n",
       "  <line x1=\"24\" y1=\"17\" x2=\"144\" y2=\"17\" />\n",
       "  <line x1=\"24\" y1=\"20\" x2=\"144\" y2=\"20\" />\n",
       "  <line x1=\"24\" y1=\"23\" x2=\"144\" y2=\"23\" />\n",
       "  <line x1=\"24\" y1=\"26\" x2=\"144\" y2=\"26\" />\n",
       "  <line x1=\"24\" y1=\"29\" x2=\"144\" y2=\"29\" />\n",
       "  <line x1=\"24\" y1=\"32\" x2=\"144\" y2=\"32\" />\n",
       "  <line x1=\"24\" y1=\"36\" x2=\"144\" y2=\"36\" />\n",
       "  <line x1=\"24\" y1=\"39\" x2=\"144\" y2=\"39\" />\n",
       "  <line x1=\"24\" y1=\"42\" x2=\"144\" y2=\"42\" />\n",
       "  <line x1=\"24\" y1=\"45\" x2=\"144\" y2=\"45\" />\n",
       "  <line x1=\"24\" y1=\"48\" x2=\"144\" y2=\"48\" />\n",
       "  <line x1=\"24\" y1=\"51\" x2=\"144\" y2=\"51\" />\n",
       "  <line x1=\"24\" y1=\"55\" x2=\"144\" y2=\"55\" />\n",
       "  <line x1=\"24\" y1=\"58\" x2=\"144\" y2=\"58\" />\n",
       "  <line x1=\"24\" y1=\"61\" x2=\"144\" y2=\"61\" />\n",
       "  <line x1=\"24\" y1=\"64\" x2=\"144\" y2=\"64\" />\n",
       "  <line x1=\"24\" y1=\"67\" x2=\"144\" y2=\"67\" />\n",
       "  <line x1=\"24\" y1=\"70\" x2=\"144\" y2=\"70\" />\n",
       "  <line x1=\"24\" y1=\"74\" x2=\"144\" y2=\"74\" style=\"stroke-width:2\" />\n",
       "\n",
       "  <!-- Vertical lines -->\n",
       "  <line x1=\"24\" y1=\"14\" x2=\"24\" y2=\"74\" style=\"stroke-width:2\" />\n",
       "  <line x1=\"30\" y1=\"14\" x2=\"30\" y2=\"74\" />\n",
       "  <line x1=\"36\" y1=\"14\" x2=\"36\" y2=\"74\" />\n",
       "  <line x1=\"42\" y1=\"14\" x2=\"42\" y2=\"74\" />\n",
       "  <line x1=\"49\" y1=\"14\" x2=\"49\" y2=\"74\" />\n",
       "  <line x1=\"55\" y1=\"14\" x2=\"55\" y2=\"74\" />\n",
       "  <line x1=\"61\" y1=\"14\" x2=\"61\" y2=\"74\" />\n",
       "  <line x1=\"68\" y1=\"14\" x2=\"68\" y2=\"74\" />\n",
       "  <line x1=\"74\" y1=\"14\" x2=\"74\" y2=\"74\" />\n",
       "  <line x1=\"80\" y1=\"14\" x2=\"80\" y2=\"74\" />\n",
       "  <line x1=\"87\" y1=\"14\" x2=\"87\" y2=\"74\" />\n",
       "  <line x1=\"93\" y1=\"14\" x2=\"93\" y2=\"74\" />\n",
       "  <line x1=\"99\" y1=\"14\" x2=\"99\" y2=\"74\" />\n",
       "  <line x1=\"106\" y1=\"14\" x2=\"106\" y2=\"74\" />\n",
       "  <line x1=\"112\" y1=\"14\" x2=\"112\" y2=\"74\" />\n",
       "  <line x1=\"118\" y1=\"14\" x2=\"118\" y2=\"74\" />\n",
       "  <line x1=\"125\" y1=\"14\" x2=\"125\" y2=\"74\" />\n",
       "  <line x1=\"131\" y1=\"14\" x2=\"131\" y2=\"74\" />\n",
       "  <line x1=\"137\" y1=\"14\" x2=\"137\" y2=\"74\" />\n",
       "  <line x1=\"144\" y1=\"14\" x2=\"144\" y2=\"74\" style=\"stroke-width:2\" />\n",
       "\n",
       "  <!-- Colored Rectangle -->\n",
       "  <polygon points=\"24.987517576607736,14.987517576607734 144.98751757660773,14.987517576607734 144.98751757660773,74.9841842432744 24.987517576607736,74.9841842432744\" style=\"fill:#8B4903A0;stroke-width:0\"/>\n",
       "\n",
       "  <!-- Text -->\n",
       "  <text x=\"84.987518\" y=\"94.984184\" font-size=\"1.0rem\" font-weight=\"100\" text-anchor=\"middle\" >36000</text>\n",
       "  <text x=\"164.987518\" y=\"44.985851\" font-size=\"1.0rem\" font-weight=\"100\" text-anchor=\"middle\" transform=\"rotate(-90,164.987518,44.985851)\">17999</text>\n",
       "  <text x=\"7.493759\" y=\"87.490425\" font-size=\"1.0rem\" font-weight=\"100\" text-anchor=\"middle\" transform=\"rotate(45,7.493759,87.490425)\">365</text>\n",
       "</svg>\n",
       "        </td>\n",
       "    </tr>\n",
       "</table></div></div></li><li class='xr-section-item'><input id='section-7b7557d8-3ce7-406b-bde8-f3034fdc5787' class='xr-section-summary-in' type='checkbox'  checked><label for='section-7b7557d8-3ce7-406b-bde8-f3034fdc5787' class='xr-section-summary' >Coordinates: <span>(3)</span></label><div class='xr-section-inline-details'></div><div class='xr-section-details'><ul class='xr-var-list'><li class='xr-var-item'><div class='xr-var-name'><span class='xr-has-index'>lat</span></div><div class='xr-var-dims'>(lat)</div><div class='xr-var-dtype'>float32</div><div class='xr-var-preview xr-preview'>-89.99 -89.98 ... 89.98 89.99</div><input id='attrs-42ea4805-18cd-4c45-b3ea-4eae84df63c7' class='xr-var-attrs-in' type='checkbox' ><label for='attrs-42ea4805-18cd-4c45-b3ea-4eae84df63c7' title='Show/Hide attributes'><svg class='icon xr-icon-file-text2'><use xlink:href='#icon-file-text2'></use></svg></label><input id='data-f15707ac-b9aa-443a-89af-c7e75f4fd99d' class='xr-var-data-in' type='checkbox'><label for='data-f15707ac-b9aa-443a-89af-c7e75f4fd99d' title='Show/Hide data repr'><svg class='icon xr-icon-database'><use xlink:href='#icon-database'></use></svg></label><div class='xr-var-attrs'><dl class='xr-attrs'><dt><span>axis :</span></dt><dd>Y</dd><dt><span>comment :</span></dt><dd>none</dd><dt><span>long_name :</span></dt><dd>latitude</dd><dt><span>standard_name :</span></dt><dd>latitude</dd><dt><span>units :</span></dt><dd>degrees_north</dd><dt><span>valid_max :</span></dt><dd>90.0</dd><dt><span>valid_min :</span></dt><dd>-90.0</dd></dl></div><div class='xr-var-data'><pre>array([-89.99, -89.98, -89.97, ...,  89.97,  89.98,  89.99], dtype=float32)</pre></div></li><li class='xr-var-item'><div class='xr-var-name'><span class='xr-has-index'>lon</span></div><div class='xr-var-dims'>(lon)</div><div class='xr-var-dtype'>float32</div><div class='xr-var-preview xr-preview'>-180.0 -180.0 ... 180.0 180.0</div><input id='attrs-2a2a6f7b-162d-4430-bc89-87ce43eb5555' class='xr-var-attrs-in' type='checkbox' ><label for='attrs-2a2a6f7b-162d-4430-bc89-87ce43eb5555' title='Show/Hide attributes'><svg class='icon xr-icon-file-text2'><use xlink:href='#icon-file-text2'></use></svg></label><input id='data-85d5a22d-1e7f-447c-898e-557069f95f00' class='xr-var-data-in' type='checkbox'><label for='data-85d5a22d-1e7f-447c-898e-557069f95f00' title='Show/Hide data repr'><svg class='icon xr-icon-database'><use xlink:href='#icon-database'></use></svg></label><div class='xr-var-attrs'><dl class='xr-attrs'><dt><span>axis :</span></dt><dd>X</dd><dt><span>comment :</span></dt><dd>none</dd><dt><span>long_name :</span></dt><dd>longitude</dd><dt><span>standard_name :</span></dt><dd>longitude</dd><dt><span>units :</span></dt><dd>degrees_east</dd><dt><span>valid_max :</span></dt><dd>180.0</dd><dt><span>valid_min :</span></dt><dd>-180.0</dd></dl></div><div class='xr-var-data'><pre>array([-179.99, -179.98, -179.97, ...,  179.98,  179.99,  180.  ],\n",
       "      dtype=float32)</pre></div></li><li class='xr-var-item'><div class='xr-var-name'><span class='xr-has-index'>time</span></div><div class='xr-var-dims'>(time)</div><div class='xr-var-dtype'>datetime64[ns]</div><div class='xr-var-preview xr-preview'>2019-01-01T09:00:00 ... 2019-12-...</div><input id='attrs-358043fa-8a62-47b9-9e84-f1bf78bcdedd' class='xr-var-attrs-in' type='checkbox' ><label for='attrs-358043fa-8a62-47b9-9e84-f1bf78bcdedd' title='Show/Hide attributes'><svg class='icon xr-icon-file-text2'><use xlink:href='#icon-file-text2'></use></svg></label><input id='data-a521eff9-77ae-41dd-a1ef-6417f44346ee' class='xr-var-data-in' type='checkbox'><label for='data-a521eff9-77ae-41dd-a1ef-6417f44346ee' title='Show/Hide data repr'><svg class='icon xr-icon-database'><use xlink:href='#icon-database'></use></svg></label><div class='xr-var-attrs'><dl class='xr-attrs'><dt><span>axis :</span></dt><dd>T</dd><dt><span>comment :</span></dt><dd>Nominal time of analyzed fields</dd><dt><span>long_name :</span></dt><dd>reference time of sst field</dd><dt><span>standard_name :</span></dt><dd>time</dd></dl></div><div class='xr-var-data'><pre>array([&#x27;2019-01-01T09:00:00.000000000&#x27;, &#x27;2019-01-02T09:00:00.000000000&#x27;,\n",
       "       &#x27;2019-01-03T09:00:00.000000000&#x27;, ..., &#x27;2019-12-29T09:00:00.000000000&#x27;,\n",
       "       &#x27;2019-12-30T09:00:00.000000000&#x27;, &#x27;2019-12-31T09:00:00.000000000&#x27;],\n",
       "      dtype=&#x27;datetime64[ns]&#x27;)</pre></div></li></ul></div></li><li class='xr-section-item'><input id='section-481708d7-df97-4a3a-b470-83284cea7723' class='xr-section-summary-in' type='checkbox'  ><label for='section-481708d7-df97-4a3a-b470-83284cea7723' class='xr-section-summary' >Indexes: <span>(3)</span></label><div class='xr-section-inline-details'></div><div class='xr-section-details'><ul class='xr-var-list'><li class='xr-var-item'><div class='xr-index-name'><div>lat</div></div><div class='xr-index-preview'>PandasIndex</div><div></div><input id='index-33fbd2dd-3191-4442-b747-89e2b7e7b283' class='xr-index-data-in' type='checkbox'/><label for='index-33fbd2dd-3191-4442-b747-89e2b7e7b283' title='Show/Hide index repr'><svg class='icon xr-icon-database'><use xlink:href='#icon-database'></use></svg></label><div class='xr-index-data'><pre>PandasIndex(Index([-89.98999786376953,  -89.9800033569336, -89.97000122070312,\n",
       "       -89.95999908447266, -89.94999694824219, -89.94000244140625,\n",
       "       -89.93000030517578, -89.91999816894531, -89.91000366210938,\n",
       "        -89.9000015258789,\n",
       "       ...\n",
       "         89.9000015258789,  89.91000366210938,  89.91999816894531,\n",
       "        89.93000030517578,  89.94000244140625,  89.94999694824219,\n",
       "        89.95999908447266,  89.97000122070312,   89.9800033569336,\n",
       "        89.98999786376953],\n",
       "      dtype=&#x27;float32&#x27;, name=&#x27;lat&#x27;, length=17999))</pre></div></li><li class='xr-var-item'><div class='xr-index-name'><div>lon</div></div><div class='xr-index-preview'>PandasIndex</div><div></div><input id='index-8305c47e-9bed-42c2-8e40-68ea0de93561' class='xr-index-data-in' type='checkbox'/><label for='index-8305c47e-9bed-42c2-8e40-68ea0de93561' title='Show/Hide index repr'><svg class='icon xr-icon-database'><use xlink:href='#icon-database'></use></svg></label><div class='xr-index-data'><pre>PandasIndex(Index([-179.99000549316406, -179.97999572753906, -179.97000122070312,\n",
       "        -179.9600067138672,  -179.9499969482422, -179.94000244140625,\n",
       "       -179.92999267578125,  -179.9199981689453, -179.91000366210938,\n",
       "       -179.89999389648438,\n",
       "       ...\n",
       "        179.91000366210938,   179.9199981689453,  179.92999267578125,\n",
       "        179.94000244140625,   179.9499969482422,   179.9600067138672,\n",
       "        179.97000122070312,  179.97999572753906,  179.99000549316406,\n",
       "                     180.0],\n",
       "      dtype=&#x27;float32&#x27;, name=&#x27;lon&#x27;, length=36000))</pre></div></li><li class='xr-var-item'><div class='xr-index-name'><div>time</div></div><div class='xr-index-preview'>PandasIndex</div><div></div><input id='index-321d8cb9-edb3-4547-b565-6bc4fbb92798' class='xr-index-data-in' type='checkbox'/><label for='index-321d8cb9-edb3-4547-b565-6bc4fbb92798' title='Show/Hide index repr'><svg class='icon xr-icon-database'><use xlink:href='#icon-database'></use></svg></label><div class='xr-index-data'><pre>PandasIndex(DatetimeIndex([&#x27;2019-01-01 09:00:00&#x27;, &#x27;2019-01-02 09:00:00&#x27;,\n",
       "               &#x27;2019-01-03 09:00:00&#x27;, &#x27;2019-01-04 09:00:00&#x27;,\n",
       "               &#x27;2019-01-05 09:00:00&#x27;, &#x27;2019-01-06 09:00:00&#x27;,\n",
       "               &#x27;2019-01-07 09:00:00&#x27;, &#x27;2019-01-08 09:00:00&#x27;,\n",
       "               &#x27;2019-01-09 09:00:00&#x27;, &#x27;2019-01-10 09:00:00&#x27;,\n",
       "               ...\n",
       "               &#x27;2019-12-22 09:00:00&#x27;, &#x27;2019-12-23 09:00:00&#x27;,\n",
       "               &#x27;2019-12-24 09:00:00&#x27;, &#x27;2019-12-25 09:00:00&#x27;,\n",
       "               &#x27;2019-12-26 09:00:00&#x27;, &#x27;2019-12-27 09:00:00&#x27;,\n",
       "               &#x27;2019-12-28 09:00:00&#x27;, &#x27;2019-12-29 09:00:00&#x27;,\n",
       "               &#x27;2019-12-30 09:00:00&#x27;, &#x27;2019-12-31 09:00:00&#x27;],\n",
       "              dtype=&#x27;datetime64[ns]&#x27;, name=&#x27;time&#x27;, length=365, freq=None))</pre></div></li></ul></div></li><li class='xr-section-item'><input id='section-10ca0f45-1007-4ab5-8cc1-62cd5fe7d38d' class='xr-section-summary-in' type='checkbox'  checked><label for='section-10ca0f45-1007-4ab5-8cc1-62cd5fe7d38d' class='xr-section-summary' >Attributes: <span>(7)</span></label><div class='xr-section-inline-details'></div><div class='xr-section-details'><dl class='xr-attrs'><dt><span>comment :</span></dt><dd>&quot;Final&quot; version using Multi-Resolution Variational Analysis (MRVA) method for interpolation</dd><dt><span>long_name :</span></dt><dd>analysed sea surface temperature</dd><dt><span>source :</span></dt><dd>MODIS_T-JPL, MODIS_A-JPL, AMSR2-REMSS, AVHRR19_G-NAVO, AVHRRMTA_G-NAVO, iQUAM-NOAA/NESDIS, Ice_Conc-OSISAF</dd><dt><span>standard_name :</span></dt><dd>sea_surface_foundation_temperature</dd><dt><span>units :</span></dt><dd>kelvin</dd><dt><span>valid_max :</span></dt><dd>32767</dd><dt><span>valid_min :</span></dt><dd>-32767</dd></dl></div></li></ul></div></div>"
      ],
      "text/plain": [
       "<xarray.DataArray 'analysed_sst' (time: 365, lat: 17999, lon: 36000)> Size: 2TB\n",
       "dask.array<rechunk-p2p, shape=(365, 17999, 36000), dtype=float64, chunksize=(200, 300, 300), chunktype=numpy.ndarray>\n",
       "Coordinates:\n",
       "  * lat      (lat) float32 72kB -89.99 -89.98 -89.97 ... 89.97 89.98 89.99\n",
       "  * lon      (lon) float32 144kB -180.0 -180.0 -180.0 ... 180.0 180.0 180.0\n",
       "  * time     (time) datetime64[ns] 3kB 2019-01-01T09:00:00 ... 2019-12-31T09:...\n",
       "Attributes:\n",
       "    comment:        \"Final\" version using Multi-Resolution Variational Analys...\n",
       "    long_name:      analysed sea surface temperature\n",
       "    source:         MODIS_T-JPL, MODIS_A-JPL, AMSR2-REMSS, AVHRR19_G-NAVO, AV...\n",
       "    standard_name:  sea_surface_foundation_temperature\n",
       "    units:          kelvin\n",
       "    valid_max:      32767\n",
       "    valid_min:      -32767"
      ]
     },
     "execution_count": 27,
     "metadata": {},
     "output_type": "execute_result"
    }
   ],
   "source": [
    "data = opendf_withref(\"ref_combined_2019.parq\", fs)\n",
    "sst = data['analysed_sst']\n",
    "sst = sst.chunk(chunks={'lat': 300, 'lon': 300, 'time': 200})\n",
    "sst"
   ]
  },
  {
   "cell_type": "code",
   "execution_count": null,
   "id": "900d6fa4-701d-4127-91e5-11e041ce1bff",
   "metadata": {},
   "outputs": [],
   "source": []
  },
  {
   "cell_type": "code",
   "execution_count": null,
   "id": "16d8ef8d-379d-4981-96ee-4c1815008c4b",
   "metadata": {},
   "outputs": [],
   "source": []
  },
  {
   "cell_type": "code",
   "execution_count": 29,
   "id": "d0491e97-9058-48cc-b02b-b9c95cb7a710",
   "metadata": {},
   "outputs": [
    {
     "name": "stderr",
     "output_type": "stream",
     "text": [
      "/opt/coiled/env/lib/python3.12/site-packages/dask/array/core.py:4894: PerformanceWarning: Increasing number of chunks by factor of 10\n",
      "  result = blockwise(\n"
     ]
    }
   ],
   "source": [
    "%%time\n",
    "seasonal_cycle = seasonal_cycle_regional(sst, lat_region, lon_region).compute()"
   ]
  },
  {
   "cell_type": "code",
   "execution_count": 30,
   "id": "a5ee8dfa-b66c-44bf-bf82-66dbce678037",
   "metadata": {},
   "outputs": [
    {
     "data": {
      "text/plain": [
       "Text(0, 0.5, '$\\\\Delta$T (K)')"
      ]
     },
     "execution_count": 30,
     "metadata": {},
     "output_type": "execute_result"
    },
    {
     "data": {
      "image/png": "[encoded data removed]",
      "text/plain": [
       "<Figure size 640x480 with 1 Axes>"
      ]
     },
     "metadata": {},
     "output_type": "display_data"
    }
   ],
   "source": [
    "## Test plot seasonal cycle at a few gridpoint locations\n",
    "\n",
    "# Points to plot seasonal cycle at:\n",
    "lat_points = (38, 38, 38, 38)\n",
    "lon_points = (-123.25, -125, -128, -132)\n",
    "\n",
    "fig = plt.figure()\n",
    "ax = plt.axes()\n",
    "\n",
    "for lat, lon in zip(lat_points, lon_points):\n",
    "    scycle_point = seasonal_cycle.sel(lat=lat, lon=lon)\n",
    "    ax.plot(scycle_point['month'], scycle_point.values, 'o-')\n",
    "\n",
    "ax.set_title(\"Seasonal cycle of temperature anomalies \\n at four test points\", fontsize=14)\n",
    "ax.set_xlabel(\"month\", fontsize=12)\n",
    "ax.set_ylabel(r\"$\\Delta$T (K)\", fontsize=12)"
   ]
  },
  {
   "cell_type": "markdown",
   "id": "923baa69-85d3-4718-864f-c67bfc0fc15c",
   "metadata": {},
   "source": [
    "### 4.2 Using a distributed cluster\n",
    "We use the third party software/package Coiled to spin up our distributed cluster."
   ]
  },
  {
   "cell_type": "code",
   "execution_count": 31,
   "id": "b6107bc2-f5b9-44f7-8591-5b3c49e7ffe6",
   "metadata": {},
   "outputs": [
    {
     "data": {
      "application/vnd.jupyter.widget-view+json": {
       "model_id": "a70974fd2f4840a8b62cf1baa7808996",
       "version_major": 2,
       "version_minor": 0
      },
      "text/plain": [
       "Output()"
      ]
     },
     "metadata": {},
     "output_type": "display_data"
    },
    {
     "data": {
      "text/html": [
       "<pre style=\"white-space:pre;overflow-x:auto;line-height:normal;font-family:Menlo,'DejaVu Sans Mono',consolas,'Courier New',monospace\"></pre>\n"
      ],
      "text/plain": []
     },
     "metadata": {},
     "output_type": "display_data"
    },
    {
     "data": {
      "text/html": [
       "<pre style=\"white-space:pre;overflow-x:auto;line-height:normal;font-family:Menlo,'DejaVu Sans Mono',consolas,'Courier New',monospace\">╭──────────────────────────────── <span style=\"color: #008000; text-decoration-color: #008000; font-weight: bold\">Package Info</span> ────────────────────────────────╮\n",
       "│                ╷                                                             │\n",
       "│  <span style=\"font-weight: bold\"> Package      </span>│<span style=\"font-weight: bold\"> Note                                                      </span>  │\n",
       "│ ╶──────────────┼───────────────────────────────────────────────────────────╴ │\n",
       "│   virtualizarr │ Wheel built from                                            │\n",
       "│                │ /opt/coiled/env/.path-deps/virtualizarr-1.0.1.dev22+g7d47   │\n",
       "│                │ dcc-py3-none-any.whl                                        │\n",
       "│                ╵                                                             │\n",
       "╰──────────────────────────────────────────────────────────────────────────────╯\n",
       "</pre>\n"
      ],
      "text/plain": [
       "╭──────────────────────────────── \u001b[1;32mPackage Info\u001b[0m ────────────────────────────────╮\n",
       "│                ╷                                                             │\n",
       "│  \u001b[1m \u001b[0m\u001b[1mPackage     \u001b[0m\u001b[1m \u001b[0m│\u001b[1m \u001b[0m\u001b[1mNote                                                     \u001b[0m\u001b[1m \u001b[0m  │\n",
       "│ ╶──────────────┼───────────────────────────────────────────────────────────╴ │\n",
       "│   virtualizarr │ Wheel built from                                            │\n",
       "│                │ /opt/coiled/env/.path-deps/virtualizarr-1.0.1.dev22+g7d47   │\n",
       "│                │ dcc-py3-none-any.whl                                        │\n",
       "│                ╵                                                             │\n",
       "╰──────────────────────────────────────────────────────────────────────────────╯\n"
      ]
     },
     "metadata": {},
     "output_type": "display_data"
    },
    {
     "data": {
      "application/vnd.jupyter.widget-view+json": {
       "model_id": "92c1866eb4b240b8a112f1045842bbe0",
       "version_major": 2,
       "version_minor": 0
      },
      "text/plain": [
       "Output()"
      ]
     },
     "metadata": {},
     "output_type": "display_data"
    },
    {
     "data": {
      "text/html": [
       "<pre style=\"white-space:pre;overflow-x:auto;line-height:normal;font-family:Menlo,'DejaVu Sans Mono',consolas,'Courier New',monospace\"></pre>\n"
      ],
      "text/plain": []
     },
     "metadata": {},
     "output_type": "display_data"
    }
   ],
   "source": [
    "cluster = coiled.Cluster(\n",
    "    n_workers=25, \n",
    "    region=\"us-west-2\", \n",
    "    worker_vm_types=\"c7g.large\", # or can try \"m7a.medium\"\n",
    "    scheduler_vm_types=\"c7g.large\", # or can try \"m7a.medium\"\n",
    "    ) \n",
    "client = cluster.get_client()"
   ]
  },
  {
   "cell_type": "code",
   "execution_count": null,
   "id": "3defeef6-fc00-4669-9c5d-de50aa13ee00",
   "metadata": {},
   "outputs": [],
   "source": []
  },
  {
   "cell_type": "code",
   "execution_count": null,
   "id": "10ec6779-52b6-4cd7-9ac9-eff23d9bdf3c",
   "metadata": {},
   "outputs": [],
   "source": [
    "## Bottle neck that we can't open the data using the parquet file then use on a distributed cluster!!! \n",
    "## E.g. loading the data the following way, then using our \"seasonal_cycle_regional()\" fxn will not work: \n",
    "\n",
    "# data = opendf_withref(\"ref_combined_2019.parq\", fs)\n",
    "# sst = data['analysed_sst']\n",
    "# sst = sst.chunk(chunks={'lat': 300, 'lon': 300, 'time': 200})\n",
    "# sst"
   ]
  },
  {
   "cell_type": "code",
   "execution_count": 32,
   "id": "79eb4578-e229-48e5-920e-705727d61cbb",
   "metadata": {},
   "outputs": [
    {
     "name": "stdout",
     "output_type": "stream",
     "text": [
      "CPU times: user 7.24 s, sys: 1.26 s, total: 8.5 s\n",
      "Wall time: 8.32 s\n"
     ]
    },
    {
     "data": {
      "text/html": [
       "<div><svg style=\"position: absolute; width: 0; height: 0; overflow: hidden\">\n",
       "<defs>\n",
       "<symbol id=\"icon-database\" viewBox=\"0 0 32 32\">\n",
       "<path d=\"M16 0c-8.837 0-16 2.239-16 5v4c0 2.761 7.163 5 16 5s16-2.239 16-5v-4c0-2.761-7.163-5-16-5z\"></path>\n",
       "<path d=\"M16 17c-8.837 0-16-2.239-16-5v6c0 2.761 7.163 5 16 5s16-2.239 16-5v-6c0 2.761-7.163 5-16 5z\"></path>\n",
       "<path d=\"M16 26c-8.837 0-16-2.239-16-5v6c0 2.761 7.163 5 16 5s16-2.239 16-5v-6c0 2.761-7.163 5-16 5z\"></path>\n",
       "</symbol>\n",
       "<symbol id=\"icon-file-text2\" viewBox=\"0 0 32 32\">\n",
       "<path d=\"M28.681 7.159c-0.694-0.947-1.662-2.053-2.724-3.116s-2.169-2.030-3.116-2.724c-1.612-1.182-2.393-1.319-2.841-1.319h-15.5c-1.378 0-2.5 1.121-2.5 2.5v27c0 1.378 1.122 2.5 2.5 2.5h23c1.378 0 2.5-1.122 2.5-2.5v-19.5c0-0.448-0.137-1.23-1.319-2.841zM24.543 5.457c0.959 0.959 1.712 1.825 2.268 2.543h-4.811v-4.811c0.718 0.556 1.584 1.309 2.543 2.268zM28 29.5c0 0.271-0.229 0.5-0.5 0.5h-23c-0.271 0-0.5-0.229-0.5-0.5v-27c0-0.271 0.229-0.5 0.5-0.5 0 0 15.499-0 15.5 0v7c0 0.552 0.448 1 1 1h7v19.5z\"></path>\n",
       "<path d=\"M23 26h-14c-0.552 0-1-0.448-1-1s0.448-1 1-1h14c0.552 0 1 0.448 1 1s-0.448 1-1 1z\"></path>\n",
       "<path d=\"M23 22h-14c-0.552 0-1-0.448-1-1s0.448-1 1-1h14c0.552 0 1 0.448 1 1s-0.448 1-1 1z\"></path>\n",
       "<path d=\"M23 18h-14c-0.552 0-1-0.448-1-1s0.448-1 1-1h14c0.552 0 1 0.448 1 1s-0.448 1-1 1z\"></path>\n",
       "</symbol>\n",
       "</defs>\n",
       "</svg>\n",
       "<style>/* CSS stylesheet for displaying xarray objects in jupyterlab.\n",
       " *\n",
       " */\n",
       "\n",
       ":root {\n",
       "  --xr-font-color0: var(--jp-content-font-color0, rgba(0, 0, 0, 1));\n",
       "  --xr-font-color2: var(--jp-content-font-color2, rgba(0, 0, 0, 0.54));\n",
       "  --xr-font-color3: var(--jp-content-font-color3, rgba(0, 0, 0, 0.38));\n",
       "  --xr-border-color: var(--jp-border-color2, #e0e0e0);\n",
       "  --xr-disabled-color: var(--jp-layout-color3, #bdbdbd);\n",
       "  --xr-background-color: var(--jp-layout-color0, white);\n",
       "  --xr-background-color-row-even: var(--jp-layout-color1, white);\n",
       "  --xr-background-color-row-odd: var(--jp-layout-color2, #eeeeee);\n",
       "}\n",
       "\n",
       "html[theme=dark],\n",
       "html[data-theme=dark],\n",
       "body[data-theme=dark],\n",
       "body.vscode-dark {\n",
       "  --xr-font-color0: rgba(255, 255, 255, 1);\n",
       "  --xr-font-color2: rgba(255, 255, 255, 0.54);\n",
       "  --xr-font-color3: rgba(255, 255, 255, 0.38);\n",
       "  --xr-border-color: #1F1F1F;\n",
       "  --xr-disabled-color: #515151;\n",
       "  --xr-background-color: #111111;\n",
       "  --xr-background-color-row-even: #111111;\n",
       "  --xr-background-color-row-odd: #313131;\n",
       "}\n",
       "\n",
       ".xr-wrap {\n",
       "  display: block !important;\n",
       "  min-width: 300px;\n",
       "  max-width: 700px;\n",
       "}\n",
       "\n",
       ".xr-text-repr-fallback {\n",
       "  /* fallback to plain text repr when CSS is not injected (untrusted notebook) */\n",
       "  display: none;\n",
       "}\n",
       "\n",
       ".xr-header {\n",
       "  padding-top: 6px;\n",
       "  padding-bottom: 6px;\n",
       "  margin-bottom: 4px;\n",
       "  border-bottom: solid 1px var(--xr-border-color);\n",
       "}\n",
       "\n",
       ".xr-header > div,\n",
       ".xr-header > ul {\n",
       "  display: inline;\n",
       "  margin-top: 0;\n",
       "  margin-bottom: 0;\n",
       "}\n",
       "\n",
       ".xr-obj-type,\n",
       ".xr-array-name {\n",
       "  margin-left: 2px;\n",
       "  margin-right: 10px;\n",
       "}\n",
       "\n",
       ".xr-obj-type {\n",
       "  color: var(--xr-font-color2);\n",
       "}\n",
       "\n",
       ".xr-sections {\n",
       "  padding-left: 0 !important;\n",
       "  display: grid;\n",
       "  grid-template-columns: 150px auto auto 1fr 0 20px 0 20px;\n",
       "}\n",
       "\n",
       ".xr-section-item {\n",
       "  display: contents;\n",
       "}\n",
       "\n",
       ".xr-section-item input {\n",
       "  display: inline-block;\n",
       "  opacity: 0;\n",
       "}\n",
       "\n",
       ".xr-section-item input + label {\n",
       "  color: var(--xr-disabled-color);\n",
       "}\n",
       "\n",
       ".xr-section-item input:enabled + label {\n",
       "  cursor: pointer;\n",
       "  color: var(--xr-font-color2);\n",
       "}\n",
       "\n",
       ".xr-section-item input:focus + label {\n",
       "  border: 2px solid var(--xr-font-color0);\n",
       "}\n",
       "\n",
       ".xr-section-item input:enabled + label:hover {\n",
       "  color: var(--xr-font-color0);\n",
       "}\n",
       "\n",
       ".xr-section-summary {\n",
       "  grid-column: 1;\n",
       "  color: var(--xr-font-color2);\n",
       "  font-weight: 500;\n",
       "}\n",
       "\n",
       ".xr-section-summary > span {\n",
       "  display: inline-block;\n",
       "  padding-left: 0.5em;\n",
       "}\n",
       "\n",
       ".xr-section-summary-in:disabled + label {\n",
       "  color: var(--xr-font-color2);\n",
       "}\n",
       "\n",
       ".xr-section-summary-in + label:before {\n",
       "  display: inline-block;\n",
       "  content: '►';\n",
       "  font-size: 11px;\n",
       "  width: 15px;\n",
       "  text-align: center;\n",
       "}\n",
       "\n",
       ".xr-section-summary-in:disabled + label:before {\n",
       "  color: var(--xr-disabled-color);\n",
       "}\n",
       "\n",
       ".xr-section-summary-in:checked + label:before {\n",
       "  content: '▼';\n",
       "}\n",
       "\n",
       ".xr-section-summary-in:checked + label > span {\n",
       "  display: none;\n",
       "}\n",
       "\n",
       ".xr-section-summary,\n",
       ".xr-section-inline-details {\n",
       "  padding-top: 4px;\n",
       "  padding-bottom: 4px;\n",
       "}\n",
       "\n",
       ".xr-section-inline-details {\n",
       "  grid-column: 2 / -1;\n",
       "}\n",
       "\n",
       ".xr-section-details {\n",
       "  display: none;\n",
       "  grid-column: 1 / -1;\n",
       "  margin-bottom: 5px;\n",
       "}\n",
       "\n",
       ".xr-section-summary-in:checked ~ .xr-section-details {\n",
       "  display: contents;\n",
       "}\n",
       "\n",
       ".xr-array-wrap {\n",
       "  grid-column: 1 / -1;\n",
       "  display: grid;\n",
       "  grid-template-columns: 20px auto;\n",
       "}\n",
       "\n",
       ".xr-array-wrap > label {\n",
       "  grid-column: 1;\n",
       "  vertical-align: top;\n",
       "}\n",
       "\n",
       ".xr-preview {\n",
       "  color: var(--xr-font-color3);\n",
       "}\n",
       "\n",
       ".xr-array-preview,\n",
       ".xr-array-data {\n",
       "  padding: 0 5px !important;\n",
       "  grid-column: 2;\n",
       "}\n",
       "\n",
       ".xr-array-data,\n",
       ".xr-array-in:checked ~ .xr-array-preview {\n",
       "  display: none;\n",
       "}\n",
       "\n",
       ".xr-array-in:checked ~ .xr-array-data,\n",
       ".xr-array-preview {\n",
       "  display: inline-block;\n",
       "}\n",
       "\n",
       ".xr-dim-list {\n",
       "  display: inline-block !important;\n",
       "  list-style: none;\n",
       "  padding: 0 !important;\n",
       "  margin: 0;\n",
       "}\n",
       "\n",
       ".xr-dim-list li {\n",
       "  display: inline-block;\n",
       "  padding: 0;\n",
       "  margin: 0;\n",
       "}\n",
       "\n",
       ".xr-dim-list:before {\n",
       "  content: '(';\n",
       "}\n",
       "\n",
       ".xr-dim-list:after {\n",
       "  content: ')';\n",
       "}\n",
       "\n",
       ".xr-dim-list li:not(:last-child):after {\n",
       "  content: ',';\n",
       "  padding-right: 5px;\n",
       "}\n",
       "\n",
       ".xr-has-index {\n",
       "  font-weight: bold;\n",
       "}\n",
       "\n",
       ".xr-var-list,\n",
       ".xr-var-item {\n",
       "  display: contents;\n",
       "}\n",
       "\n",
       ".xr-var-item > div,\n",
       ".xr-var-item label,\n",
       ".xr-var-item > .xr-var-name span {\n",
       "  background-color: var(--xr-background-color-row-even);\n",
       "  margin-bottom: 0;\n",
       "}\n",
       "\n",
       ".xr-var-item > .xr-var-name:hover span {\n",
       "  padding-right: 5px;\n",
       "}\n",
       "\n",
       ".xr-var-list > li:nth-child(odd) > div,\n",
       ".xr-var-list > li:nth-child(odd) > label,\n",
       ".xr-var-list > li:nth-child(odd) > .xr-var-name span {\n",
       "  background-color: var(--xr-background-color-row-odd);\n",
       "}\n",
       "\n",
       ".xr-var-name {\n",
       "  grid-column: 1;\n",
       "}\n",
       "\n",
       ".xr-var-dims {\n",
       "  grid-column: 2;\n",
       "}\n",
       "\n",
       ".xr-var-dtype {\n",
       "  grid-column: 3;\n",
       "  text-align: right;\n",
       "  color: var(--xr-font-color2);\n",
       "}\n",
       "\n",
       ".xr-var-preview {\n",
       "  grid-column: 4;\n",
       "}\n",
       "\n",
       ".xr-index-preview {\n",
       "  grid-column: 2 / 5;\n",
       "  color: var(--xr-font-color2);\n",
       "}\n",
       "\n",
       ".xr-var-name,\n",
       ".xr-var-dims,\n",
       ".xr-var-dtype,\n",
       ".xr-preview,\n",
       ".xr-attrs dt {\n",
       "  white-space: nowrap;\n",
       "  overflow: hidden;\n",
       "  text-overflow: ellipsis;\n",
       "  padding-right: 10px;\n",
       "}\n",
       "\n",
       ".xr-var-name:hover,\n",
       ".xr-var-dims:hover,\n",
       ".xr-var-dtype:hover,\n",
       ".xr-attrs dt:hover {\n",
       "  overflow: visible;\n",
       "  width: auto;\n",
       "  z-index: 1;\n",
       "}\n",
       "\n",
       ".xr-var-attrs,\n",
       ".xr-var-data,\n",
       ".xr-index-data {\n",
       "  display: none;\n",
       "  background-color: var(--xr-background-color) !important;\n",
       "  padding-bottom: 5px !important;\n",
       "}\n",
       "\n",
       ".xr-var-attrs-in:checked ~ .xr-var-attrs,\n",
       ".xr-var-data-in:checked ~ .xr-var-data,\n",
       ".xr-index-data-in:checked ~ .xr-index-data {\n",
       "  display: block;\n",
       "}\n",
       "\n",
       ".xr-var-data > table {\n",
       "  float: right;\n",
       "}\n",
       "\n",
       ".xr-var-name span,\n",
       ".xr-var-data,\n",
       ".xr-index-name div,\n",
       ".xr-index-data,\n",
       ".xr-attrs {\n",
       "  padding-left: 25px !important;\n",
       "}\n",
       "\n",
       ".xr-attrs,\n",
       ".xr-var-attrs,\n",
       ".xr-var-data,\n",
       ".xr-index-data {\n",
       "  grid-column: 1 / -1;\n",
       "}\n",
       "\n",
       "dl.xr-attrs {\n",
       "  padding: 0;\n",
       "  margin: 0;\n",
       "  display: grid;\n",
       "  grid-template-columns: 125px auto;\n",
       "}\n",
       "\n",
       ".xr-attrs dt,\n",
       ".xr-attrs dd {\n",
       "  padding: 0;\n",
       "  margin: 0;\n",
       "  float: left;\n",
       "  padding-right: 10px;\n",
       "  width: auto;\n",
       "}\n",
       "\n",
       ".xr-attrs dt {\n",
       "  font-weight: normal;\n",
       "  grid-column: 1;\n",
       "}\n",
       "\n",
       ".xr-attrs dt:hover span {\n",
       "  display: inline-block;\n",
       "  background: var(--xr-background-color);\n",
       "  padding-right: 10px;\n",
       "}\n",
       "\n",
       ".xr-attrs dd {\n",
       "  grid-column: 2;\n",
       "  white-space: pre-wrap;\n",
       "  word-break: break-all;\n",
       "}\n",
       "\n",
       ".xr-icon-database,\n",
       ".xr-icon-file-text2,\n",
       ".xr-no-icon {\n",
       "  display: inline-block;\n",
       "  vertical-align: middle;\n",
       "  width: 1em;\n",
       "  height: 1.5em !important;\n",
       "  stroke-width: 0;\n",
       "  stroke: currentColor;\n",
       "  fill: currentColor;\n",
       "}\n",
       "</style><pre class='xr-text-repr-fallback'>&lt;xarray.DataArray &#x27;analysed_sst&#x27; (time: 365, lat: 17999, lon: 36000)&gt; Size: 2TB\n",
       "dask.array&lt;rechunk-p2p, shape=(365, 17999, 36000), dtype=float64, chunksize=(200, 300, 300), chunktype=numpy.ndarray&gt;\n",
       "Coordinates:\n",
       "  * lat      (lat) float32 72kB -89.99 -89.98 -89.97 ... 89.97 89.98 89.99\n",
       "  * lon      (lon) float32 144kB -180.0 -180.0 -180.0 ... 180.0 180.0 180.0\n",
       "  * time     (time) datetime64[ns] 3kB 2019-01-01T09:00:00 ... 2019-12-31T09:...\n",
       "Attributes:\n",
       "    comment:        &quot;Final&quot; version using Multi-Resolution Variational Analys...\n",
       "    long_name:      analysed sea surface temperature\n",
       "    source:         MODIS_T-JPL, MODIS_A-JPL, AMSR2-REMSS, AVHRR19_G-NAVO, AV...\n",
       "    standard_name:  sea_surface_foundation_temperature\n",
       "    units:          kelvin\n",
       "    valid_max:      32767\n",
       "    valid_min:      -32767</pre><div class='xr-wrap' style='display:none'><div class='xr-header'><div class='xr-obj-type'>xarray.DataArray</div><div class='xr-array-name'>'analysed_sst'</div><ul class='xr-dim-list'><li><span class='xr-has-index'>time</span>: 365</li><li><span class='xr-has-index'>lat</span>: 17999</li><li><span class='xr-has-index'>lon</span>: 36000</li></ul></div><ul class='xr-sections'><li class='xr-section-item'><div class='xr-array-wrap'><input id='section-784e5153-ac2a-4fdc-8715-1a976a63bfc3' class='xr-array-in' type='checkbox' checked><label for='section-784e5153-ac2a-4fdc-8715-1a976a63bfc3' title='Show/hide data repr'><svg class='icon xr-icon-database'><use xlink:href='#icon-database'></use></svg></label><div class='xr-array-preview xr-preview'><span>dask.array&lt;chunksize=(200, 300, 300), meta=np.ndarray&gt;</span></div><div class='xr-array-data'><table>\n",
       "    <tr>\n",
       "        <td>\n",
       "            <table style=\"border-collapse: collapse;\">\n",
       "                <thead>\n",
       "                    <tr>\n",
       "                        <td> </td>\n",
       "                        <th> Array </th>\n",
       "                        <th> Chunk </th>\n",
       "                    </tr>\n",
       "                </thead>\n",
       "                <tbody>\n",
       "                    \n",
       "                    <tr>\n",
       "                        <th> Bytes </th>\n",
       "                        <td> 1.72 TiB </td>\n",
       "                        <td> 137.33 MiB </td>\n",
       "                    </tr>\n",
       "                    \n",
       "                    <tr>\n",
       "                        <th> Shape </th>\n",
       "                        <td> (365, 17999, 36000) </td>\n",
       "                        <td> (200, 300, 300) </td>\n",
       "                    </tr>\n",
       "                    <tr>\n",
       "                        <th> Dask graph </th>\n",
       "                        <td colspan=\"2\"> 14400 chunks in 5 graph layers </td>\n",
       "                    </tr>\n",
       "                    <tr>\n",
       "                        <th> Data type </th>\n",
       "                        <td colspan=\"2\"> float64 numpy.ndarray </td>\n",
       "                    </tr>\n",
       "                </tbody>\n",
       "            </table>\n",
       "        </td>\n",
       "        <td>\n",
       "        <svg width=\"194\" height=\"124\" style=\"stroke:rgb(0,0,0);stroke-width:1\" >\n",
       "\n",
       "  <!-- Horizontal lines -->\n",
       "  <line x1=\"10\" y1=\"0\" x2=\"24\" y2=\"14\" style=\"stroke-width:2\" />\n",
       "  <line x1=\"10\" y1=\"3\" x2=\"24\" y2=\"17\" />\n",
       "  <line x1=\"10\" y1=\"6\" x2=\"24\" y2=\"20\" />\n",
       "  <line x1=\"10\" y1=\"9\" x2=\"24\" y2=\"23\" />\n",
       "  <line x1=\"10\" y1=\"12\" x2=\"24\" y2=\"26\" />\n",
       "  <line x1=\"10\" y1=\"15\" x2=\"24\" y2=\"29\" />\n",
       "  <line x1=\"10\" y1=\"18\" x2=\"24\" y2=\"32\" />\n",
       "  <line x1=\"10\" y1=\"22\" x2=\"24\" y2=\"36\" />\n",
       "  <line x1=\"10\" y1=\"25\" x2=\"24\" y2=\"39\" />\n",
       "  <line x1=\"10\" y1=\"28\" x2=\"24\" y2=\"42\" />\n",
       "  <line x1=\"10\" y1=\"31\" x2=\"24\" y2=\"45\" />\n",
       "  <line x1=\"10\" y1=\"34\" x2=\"24\" y2=\"48\" />\n",
       "  <line x1=\"10\" y1=\"37\" x2=\"24\" y2=\"51\" />\n",
       "  <line x1=\"10\" y1=\"41\" x2=\"24\" y2=\"55\" />\n",
       "  <line x1=\"10\" y1=\"44\" x2=\"24\" y2=\"58\" />\n",
       "  <line x1=\"10\" y1=\"47\" x2=\"24\" y2=\"61\" />\n",
       "  <line x1=\"10\" y1=\"50\" x2=\"24\" y2=\"64\" />\n",
       "  <line x1=\"10\" y1=\"53\" x2=\"24\" y2=\"67\" />\n",
       "  <line x1=\"10\" y1=\"56\" x2=\"24\" y2=\"70\" />\n",
       "  <line x1=\"10\" y1=\"59\" x2=\"24\" y2=\"74\" style=\"stroke-width:2\" />\n",
       "\n",
       "  <!-- Vertical lines -->\n",
       "  <line x1=\"10\" y1=\"0\" x2=\"10\" y2=\"59\" style=\"stroke-width:2\" />\n",
       "  <line x1=\"18\" y1=\"8\" x2=\"18\" y2=\"68\" />\n",
       "  <line x1=\"24\" y1=\"14\" x2=\"24\" y2=\"74\" style=\"stroke-width:2\" />\n",
       "\n",
       "  <!-- Colored Rectangle -->\n",
       "  <polygon points=\"10.0,0.0 24.987517576607736,14.987517576607734 24.987517576607736,74.9841842432744 10.0,59.99666666666667\" style=\"fill:#8B4903A0;stroke-width:0\"/>\n",
       "\n",
       "  <!-- Horizontal lines -->\n",
       "  <line x1=\"10\" y1=\"0\" x2=\"130\" y2=\"0\" style=\"stroke-width:2\" />\n",
       "  <line x1=\"18\" y1=\"8\" x2=\"138\" y2=\"8\" />\n",
       "  <line x1=\"24\" y1=\"14\" x2=\"144\" y2=\"14\" style=\"stroke-width:2\" />\n",
       "\n",
       "  <!-- Vertical lines -->\n",
       "  <line x1=\"10\" y1=\"0\" x2=\"24\" y2=\"14\" style=\"stroke-width:2\" />\n",
       "  <line x1=\"16\" y1=\"0\" x2=\"30\" y2=\"14\" />\n",
       "  <line x1=\"22\" y1=\"0\" x2=\"36\" y2=\"14\" />\n",
       "  <line x1=\"28\" y1=\"0\" x2=\"42\" y2=\"14\" />\n",
       "  <line x1=\"35\" y1=\"0\" x2=\"49\" y2=\"14\" />\n",
       "  <line x1=\"41\" y1=\"0\" x2=\"55\" y2=\"14\" />\n",
       "  <line x1=\"47\" y1=\"0\" x2=\"61\" y2=\"14\" />\n",
       "  <line x1=\"54\" y1=\"0\" x2=\"68\" y2=\"14\" />\n",
       "  <line x1=\"60\" y1=\"0\" x2=\"74\" y2=\"14\" />\n",
       "  <line x1=\"66\" y1=\"0\" x2=\"80\" y2=\"14\" />\n",
       "  <line x1=\"73\" y1=\"0\" x2=\"87\" y2=\"14\" />\n",
       "  <line x1=\"79\" y1=\"0\" x2=\"93\" y2=\"14\" />\n",
       "  <line x1=\"85\" y1=\"0\" x2=\"99\" y2=\"14\" />\n",
       "  <line x1=\"92\" y1=\"0\" x2=\"106\" y2=\"14\" />\n",
       "  <line x1=\"98\" y1=\"0\" x2=\"112\" y2=\"14\" />\n",
       "  <line x1=\"104\" y1=\"0\" x2=\"118\" y2=\"14\" />\n",
       "  <line x1=\"111\" y1=\"0\" x2=\"125\" y2=\"14\" />\n",
       "  <line x1=\"117\" y1=\"0\" x2=\"131\" y2=\"14\" />\n",
       "  <line x1=\"123\" y1=\"0\" x2=\"137\" y2=\"14\" />\n",
       "  <line x1=\"130\" y1=\"0\" x2=\"144\" y2=\"14\" style=\"stroke-width:2\" />\n",
       "\n",
       "  <!-- Colored Rectangle -->\n",
       "  <polygon points=\"10.0,0.0 130.0,0.0 144.98751757660773,14.987517576607734 24.987517576607736,14.987517576607734\" style=\"fill:#8B4903A0;stroke-width:0\"/>\n",
       "\n",
       "  <!-- Horizontal lines -->\n",
       "  <line x1=\"24\" y1=\"14\" x2=\"144\" y2=\"14\" style=\"stroke-width:2\" />\n",
       "  <line x1=\"24\" y1=\"17\" x2=\"144\" y2=\"17\" />\n",
       "  <line x1=\"24\" y1=\"20\" x2=\"144\" y2=\"20\" />\n",
       "  <line x1=\"24\" y1=\"23\" x2=\"144\" y2=\"23\" />\n",
       "  <line x1=\"24\" y1=\"26\" x2=\"144\" y2=\"26\" />\n",
       "  <line x1=\"24\" y1=\"29\" x2=\"144\" y2=\"29\" />\n",
       "  <line x1=\"24\" y1=\"32\" x2=\"144\" y2=\"32\" />\n",
       "  <line x1=\"24\" y1=\"36\" x2=\"144\" y2=\"36\" />\n",
       "  <line x1=\"24\" y1=\"39\" x2=\"144\" y2=\"39\" />\n",
       "  <line x1=\"24\" y1=\"42\" x2=\"144\" y2=\"42\" />\n",
       "  <line x1=\"24\" y1=\"45\" x2=\"144\" y2=\"45\" />\n",
       "  <line x1=\"24\" y1=\"48\" x2=\"144\" y2=\"48\" />\n",
       "  <line x1=\"24\" y1=\"51\" x2=\"144\" y2=\"51\" />\n",
       "  <line x1=\"24\" y1=\"55\" x2=\"144\" y2=\"55\" />\n",
       "  <line x1=\"24\" y1=\"58\" x2=\"144\" y2=\"58\" />\n",
       "  <line x1=\"24\" y1=\"61\" x2=\"144\" y2=\"61\" />\n",
       "  <line x1=\"24\" y1=\"64\" x2=\"144\" y2=\"64\" />\n",
       "  <line x1=\"24\" y1=\"67\" x2=\"144\" y2=\"67\" />\n",
       "  <line x1=\"24\" y1=\"70\" x2=\"144\" y2=\"70\" />\n",
       "  <line x1=\"24\" y1=\"74\" x2=\"144\" y2=\"74\" style=\"stroke-width:2\" />\n",
       "\n",
       "  <!-- Vertical lines -->\n",
       "  <line x1=\"24\" y1=\"14\" x2=\"24\" y2=\"74\" style=\"stroke-width:2\" />\n",
       "  <line x1=\"30\" y1=\"14\" x2=\"30\" y2=\"74\" />\n",
       "  <line x1=\"36\" y1=\"14\" x2=\"36\" y2=\"74\" />\n",
       "  <line x1=\"42\" y1=\"14\" x2=\"42\" y2=\"74\" />\n",
       "  <line x1=\"49\" y1=\"14\" x2=\"49\" y2=\"74\" />\n",
       "  <line x1=\"55\" y1=\"14\" x2=\"55\" y2=\"74\" />\n",
       "  <line x1=\"61\" y1=\"14\" x2=\"61\" y2=\"74\" />\n",
       "  <line x1=\"68\" y1=\"14\" x2=\"68\" y2=\"74\" />\n",
       "  <line x1=\"74\" y1=\"14\" x2=\"74\" y2=\"74\" />\n",
       "  <line x1=\"80\" y1=\"14\" x2=\"80\" y2=\"74\" />\n",
       "  <line x1=\"87\" y1=\"14\" x2=\"87\" y2=\"74\" />\n",
       "  <line x1=\"93\" y1=\"14\" x2=\"93\" y2=\"74\" />\n",
       "  <line x1=\"99\" y1=\"14\" x2=\"99\" y2=\"74\" />\n",
       "  <line x1=\"106\" y1=\"14\" x2=\"106\" y2=\"74\" />\n",
       "  <line x1=\"112\" y1=\"14\" x2=\"112\" y2=\"74\" />\n",
       "  <line x1=\"118\" y1=\"14\" x2=\"118\" y2=\"74\" />\n",
       "  <line x1=\"125\" y1=\"14\" x2=\"125\" y2=\"74\" />\n",
       "  <line x1=\"131\" y1=\"14\" x2=\"131\" y2=\"74\" />\n",
       "  <line x1=\"137\" y1=\"14\" x2=\"137\" y2=\"74\" />\n",
       "  <line x1=\"144\" y1=\"14\" x2=\"144\" y2=\"74\" style=\"stroke-width:2\" />\n",
       "\n",
       "  <!-- Colored Rectangle -->\n",
       "  <polygon points=\"24.987517576607736,14.987517576607734 144.98751757660773,14.987517576607734 144.98751757660773,74.9841842432744 24.987517576607736,74.9841842432744\" style=\"fill:#8B4903A0;stroke-width:0\"/>\n",
       "\n",
       "  <!-- Text -->\n",
       "  <text x=\"84.987518\" y=\"94.984184\" font-size=\"1.0rem\" font-weight=\"100\" text-anchor=\"middle\" >36000</text>\n",
       "  <text x=\"164.987518\" y=\"44.985851\" font-size=\"1.0rem\" font-weight=\"100\" text-anchor=\"middle\" transform=\"rotate(-90,164.987518,44.985851)\">17999</text>\n",
       "  <text x=\"7.493759\" y=\"87.490425\" font-size=\"1.0rem\" font-weight=\"100\" text-anchor=\"middle\" transform=\"rotate(45,7.493759,87.490425)\">365</text>\n",
       "</svg>\n",
       "        </td>\n",
       "    </tr>\n",
       "</table></div></div></li><li class='xr-section-item'><input id='section-84195ddf-73b7-4777-bb58-b6a08bf43d31' class='xr-section-summary-in' type='checkbox'  checked><label for='section-84195ddf-73b7-4777-bb58-b6a08bf43d31' class='xr-section-summary' >Coordinates: <span>(3)</span></label><div class='xr-section-inline-details'></div><div class='xr-section-details'><ul class='xr-var-list'><li class='xr-var-item'><div class='xr-var-name'><span class='xr-has-index'>lat</span></div><div class='xr-var-dims'>(lat)</div><div class='xr-var-dtype'>float32</div><div class='xr-var-preview xr-preview'>-89.99 -89.98 ... 89.98 89.99</div><input id='attrs-b4ac4468-0242-4ea5-9f7e-6e9eea3160cf' class='xr-var-attrs-in' type='checkbox' ><label for='attrs-b4ac4468-0242-4ea5-9f7e-6e9eea3160cf' title='Show/Hide attributes'><svg class='icon xr-icon-file-text2'><use xlink:href='#icon-file-text2'></use></svg></label><input id='data-79bcf900-c995-4a89-9bab-d46b3e93655c' class='xr-var-data-in' type='checkbox'><label for='data-79bcf900-c995-4a89-9bab-d46b3e93655c' title='Show/Hide data repr'><svg class='icon xr-icon-database'><use xlink:href='#icon-database'></use></svg></label><div class='xr-var-attrs'><dl class='xr-attrs'><dt><span>axis :</span></dt><dd>Y</dd><dt><span>comment :</span></dt><dd>none</dd><dt><span>long_name :</span></dt><dd>latitude</dd><dt><span>standard_name :</span></dt><dd>latitude</dd><dt><span>units :</span></dt><dd>degrees_north</dd><dt><span>valid_max :</span></dt><dd>90.0</dd><dt><span>valid_min :</span></dt><dd>-90.0</dd></dl></div><div class='xr-var-data'><pre>array([-89.99, -89.98, -89.97, ...,  89.97,  89.98,  89.99], dtype=float32)</pre></div></li><li class='xr-var-item'><div class='xr-var-name'><span class='xr-has-index'>lon</span></div><div class='xr-var-dims'>(lon)</div><div class='xr-var-dtype'>float32</div><div class='xr-var-preview xr-preview'>-180.0 -180.0 ... 180.0 180.0</div><input id='attrs-ded312a9-1a4d-441f-b069-ea140cf2e42b' class='xr-var-attrs-in' type='checkbox' ><label for='attrs-ded312a9-1a4d-441f-b069-ea140cf2e42b' title='Show/Hide attributes'><svg class='icon xr-icon-file-text2'><use xlink:href='#icon-file-text2'></use></svg></label><input id='data-5e22d105-fb07-42d6-9932-2c7e64ecc26a' class='xr-var-data-in' type='checkbox'><label for='data-5e22d105-fb07-42d6-9932-2c7e64ecc26a' title='Show/Hide data repr'><svg class='icon xr-icon-database'><use xlink:href='#icon-database'></use></svg></label><div class='xr-var-attrs'><dl class='xr-attrs'><dt><span>axis :</span></dt><dd>X</dd><dt><span>comment :</span></dt><dd>none</dd><dt><span>long_name :</span></dt><dd>longitude</dd><dt><span>standard_name :</span></dt><dd>longitude</dd><dt><span>units :</span></dt><dd>degrees_east</dd><dt><span>valid_max :</span></dt><dd>180.0</dd><dt><span>valid_min :</span></dt><dd>-180.0</dd></dl></div><div class='xr-var-data'><pre>array([-179.99, -179.98, -179.97, ...,  179.98,  179.99,  180.  ],\n",
       "      dtype=float32)</pre></div></li><li class='xr-var-item'><div class='xr-var-name'><span class='xr-has-index'>time</span></div><div class='xr-var-dims'>(time)</div><div class='xr-var-dtype'>datetime64[ns]</div><div class='xr-var-preview xr-preview'>2019-01-01T09:00:00 ... 2019-12-...</div><input id='attrs-7817d9b9-8865-4b5d-9cd0-ca14dd5435e6' class='xr-var-attrs-in' type='checkbox' ><label for='attrs-7817d9b9-8865-4b5d-9cd0-ca14dd5435e6' title='Show/Hide attributes'><svg class='icon xr-icon-file-text2'><use xlink:href='#icon-file-text2'></use></svg></label><input id='data-cfb36221-005d-4a81-8854-246c85ffe3ca' class='xr-var-data-in' type='checkbox'><label for='data-cfb36221-005d-4a81-8854-246c85ffe3ca' title='Show/Hide data repr'><svg class='icon xr-icon-database'><use xlink:href='#icon-database'></use></svg></label><div class='xr-var-attrs'><dl class='xr-attrs'><dt><span>axis :</span></dt><dd>T</dd><dt><span>comment :</span></dt><dd>Nominal time of analyzed fields</dd><dt><span>long_name :</span></dt><dd>reference time of sst field</dd><dt><span>standard_name :</span></dt><dd>time</dd></dl></div><div class='xr-var-data'><pre>array([&#x27;2019-01-01T09:00:00.000000000&#x27;, &#x27;2019-01-02T09:00:00.000000000&#x27;,\n",
       "       &#x27;2019-01-03T09:00:00.000000000&#x27;, ..., &#x27;2019-12-29T09:00:00.000000000&#x27;,\n",
       "       &#x27;2019-12-30T09:00:00.000000000&#x27;, &#x27;2019-12-31T09:00:00.000000000&#x27;],\n",
       "      dtype=&#x27;datetime64[ns]&#x27;)</pre></div></li></ul></div></li><li class='xr-section-item'><input id='section-4b5435fc-fa36-4311-8de2-74a2b5eda65b' class='xr-section-summary-in' type='checkbox'  ><label for='section-4b5435fc-fa36-4311-8de2-74a2b5eda65b' class='xr-section-summary' >Indexes: <span>(3)</span></label><div class='xr-section-inline-details'></div><div class='xr-section-details'><ul class='xr-var-list'><li class='xr-var-item'><div class='xr-index-name'><div>lat</div></div><div class='xr-index-preview'>PandasIndex</div><div></div><input id='index-78118f66-bf47-464c-8dfa-b4b54944f5a5' class='xr-index-data-in' type='checkbox'/><label for='index-78118f66-bf47-464c-8dfa-b4b54944f5a5' title='Show/Hide index repr'><svg class='icon xr-icon-database'><use xlink:href='#icon-database'></use></svg></label><div class='xr-index-data'><pre>PandasIndex(Index([-89.98999786376953,  -89.9800033569336, -89.97000122070312,\n",
       "       -89.95999908447266, -89.94999694824219, -89.94000244140625,\n",
       "       -89.93000030517578, -89.91999816894531, -89.91000366210938,\n",
       "        -89.9000015258789,\n",
       "       ...\n",
       "         89.9000015258789,  89.91000366210938,  89.91999816894531,\n",
       "        89.93000030517578,  89.94000244140625,  89.94999694824219,\n",
       "        89.95999908447266,  89.97000122070312,   89.9800033569336,\n",
       "        89.98999786376953],\n",
       "      dtype=&#x27;float32&#x27;, name=&#x27;lat&#x27;, length=17999))</pre></div></li><li class='xr-var-item'><div class='xr-index-name'><div>lon</div></div><div class='xr-index-preview'>PandasIndex</div><div></div><input id='index-8b426b12-b789-44c4-be25-bc1e62e0afa3' class='xr-index-data-in' type='checkbox'/><label for='index-8b426b12-b789-44c4-be25-bc1e62e0afa3' title='Show/Hide index repr'><svg class='icon xr-icon-database'><use xlink:href='#icon-database'></use></svg></label><div class='xr-index-data'><pre>PandasIndex(Index([-179.99000549316406, -179.97999572753906, -179.97000122070312,\n",
       "        -179.9600067138672,  -179.9499969482422, -179.94000244140625,\n",
       "       -179.92999267578125,  -179.9199981689453, -179.91000366210938,\n",
       "       -179.89999389648438,\n",
       "       ...\n",
       "        179.91000366210938,   179.9199981689453,  179.92999267578125,\n",
       "        179.94000244140625,   179.9499969482422,   179.9600067138672,\n",
       "        179.97000122070312,  179.97999572753906,  179.99000549316406,\n",
       "                     180.0],\n",
       "      dtype=&#x27;float32&#x27;, name=&#x27;lon&#x27;, length=36000))</pre></div></li><li class='xr-var-item'><div class='xr-index-name'><div>time</div></div><div class='xr-index-preview'>PandasIndex</div><div></div><input id='index-5c89e869-e6f0-47a5-af89-ce9529a3b033' class='xr-index-data-in' type='checkbox'/><label for='index-5c89e869-e6f0-47a5-af89-ce9529a3b033' title='Show/Hide index repr'><svg class='icon xr-icon-database'><use xlink:href='#icon-database'></use></svg></label><div class='xr-index-data'><pre>PandasIndex(DatetimeIndex([&#x27;2019-01-01 09:00:00&#x27;, &#x27;2019-01-02 09:00:00&#x27;,\n",
       "               &#x27;2019-01-03 09:00:00&#x27;, &#x27;2019-01-04 09:00:00&#x27;,\n",
       "               &#x27;2019-01-05 09:00:00&#x27;, &#x27;2019-01-06 09:00:00&#x27;,\n",
       "               &#x27;2019-01-07 09:00:00&#x27;, &#x27;2019-01-08 09:00:00&#x27;,\n",
       "               &#x27;2019-01-09 09:00:00&#x27;, &#x27;2019-01-10 09:00:00&#x27;,\n",
       "               ...\n",
       "               &#x27;2019-12-22 09:00:00&#x27;, &#x27;2019-12-23 09:00:00&#x27;,\n",
       "               &#x27;2019-12-24 09:00:00&#x27;, &#x27;2019-12-25 09:00:00&#x27;,\n",
       "               &#x27;2019-12-26 09:00:00&#x27;, &#x27;2019-12-27 09:00:00&#x27;,\n",
       "               &#x27;2019-12-28 09:00:00&#x27;, &#x27;2019-12-29 09:00:00&#x27;,\n",
       "               &#x27;2019-12-30 09:00:00&#x27;, &#x27;2019-12-31 09:00:00&#x27;],\n",
       "              dtype=&#x27;datetime64[ns]&#x27;, name=&#x27;time&#x27;, length=365, freq=None))</pre></div></li></ul></div></li><li class='xr-section-item'><input id='section-ac2681be-eac5-42a9-b32b-c01a1f14e530' class='xr-section-summary-in' type='checkbox'  checked><label for='section-ac2681be-eac5-42a9-b32b-c01a1f14e530' class='xr-section-summary' >Attributes: <span>(7)</span></label><div class='xr-section-inline-details'></div><div class='xr-section-details'><dl class='xr-attrs'><dt><span>comment :</span></dt><dd>&quot;Final&quot; version using Multi-Resolution Variational Analysis (MRVA) method for interpolation</dd><dt><span>long_name :</span></dt><dd>analysed sea surface temperature</dd><dt><span>source :</span></dt><dd>MODIS_T-JPL, MODIS_A-JPL, AMSR2-REMSS, AVHRR19_G-NAVO, AVHRRMTA_G-NAVO, iQUAM-NOAA/NESDIS, Ice_Conc-OSISAF</dd><dt><span>standard_name :</span></dt><dd>sea_surface_foundation_temperature</dd><dt><span>units :</span></dt><dd>kelvin</dd><dt><span>valid_max :</span></dt><dd>32767</dd><dt><span>valid_min :</span></dt><dd>-32767</dd></dl></div></li></ul></div></div>"
      ],
      "text/plain": [
       "<xarray.DataArray 'analysed_sst' (time: 365, lat: 17999, lon: 36000)> Size: 2TB\n",
       "dask.array<rechunk-p2p, shape=(365, 17999, 36000), dtype=float64, chunksize=(200, 300, 300), chunktype=numpy.ndarray>\n",
       "Coordinates:\n",
       "  * lat      (lat) float32 72kB -89.99 -89.98 -89.97 ... 89.97 89.98 89.99\n",
       "  * lon      (lon) float32 144kB -180.0 -180.0 -180.0 ... 180.0 180.0 180.0\n",
       "  * time     (time) datetime64[ns] 3kB 2019-01-01T09:00:00 ... 2019-12-31T09:...\n",
       "Attributes:\n",
       "    comment:        \"Final\" version using Multi-Resolution Variational Analys...\n",
       "    long_name:      analysed sea surface temperature\n",
       "    source:         MODIS_T-JPL, MODIS_A-JPL, AMSR2-REMSS, AVHRR19_G-NAVO, AV...\n",
       "    standard_name:  sea_surface_foundation_temperature\n",
       "    units:          kelvin\n",
       "    valid_max:      32767\n",
       "    valid_min:      -32767"
      ]
     },
     "execution_count": 32,
     "metadata": {},
     "output_type": "execute_result"
    }
   ],
   "source": [
    "%%time\n",
    "\n",
    "##==================================================================\n",
    "## Only works from file if the JSON is loaded into memory first!!!!\n",
    "##==================================================================\n",
    "with open(\"ref_combined_2019.json\") as f:\n",
    "    ref_loaded = json.load(f)\n",
    "data = opendf_withref(ref_loaded, fs)\n",
    "sst = data['analysed_sst']\n",
    "sst = sst.chunk(chunks={'lat': 300, 'lon': 300, 'time': 200})\n",
    "sst"
   ]
  },
  {
   "cell_type": "code",
   "execution_count": 33,
   "id": "4af68582-641e-4aef-a936-d9b927cbd7a4",
   "metadata": {},
   "outputs": [
    {
     "name": "stderr",
     "output_type": "stream",
     "text": [
      "/opt/coiled/env/lib/python3.12/site-packages/dask/array/core.py:4894: PerformanceWarning: Increasing number of chunks by factor of 10\n",
      "  result = blockwise(\n",
      "/opt/coiled/env/lib/python3.12/site-packages/distributed/client.py:3361: UserWarning: Sending large graph of size 71.87 MiB.\n",
      "This may cause some slowdown.\n",
      "Consider loading the data with Dask directly\n",
      " or using futures or delayed objects to embed the data into the graph without repetition.\n",
      "See also https://docs.dask.org/en/stable/best-practices.html#load-data-with-dask for more information.\n",
      "  warnings.warn(\n"
     ]
    },
    {
     "name": "stdout",
     "output_type": "stream",
     "text": [
      "CPU times: user 9.53 s, sys: 2.68 s, total: 12.2 s\n",
      "Wall time: 54.3 s\n"
     ]
    }
   ],
   "source": [
    "%%time\n",
    "seasonal_cycle = seasonal_cycle_regional(sst, lat_region, lon_region).compute()"
   ]
  },
  {
   "cell_type": "code",
   "execution_count": null,
   "id": "7937d3d8-a446-4fb4-ac92-13cc01ae8109",
   "metadata": {},
   "outputs": [],
   "source": [
    "client.shutdown()"
   ]
  },
  {
   "cell_type": "code",
   "execution_count": 34,
   "id": "f8dac745-d18d-4d8e-9924-6ce1777e5075",
   "metadata": {},
   "outputs": [
    {
     "data": {
      "text/plain": [
       "Text(0, 0.5, '$\\\\Delta$T (K)')"
      ]
     },
     "execution_count": 34,
     "metadata": {},
     "output_type": "execute_result"
    },
    {
     "data": {
      "image/png": "[encoded data removed]",
      "text/plain": [
       "<Figure size 640x480 with 1 Axes>"
      ]
     },
     "metadata": {},
     "output_type": "display_data"
    }
   ],
   "source": [
    "## Test plot seasonal cycle at a few gridpoint locations\n",
    "\n",
    "# Points to plot seasonal cycle at:\n",
    "lat_points = (38, 38, 38, 38)\n",
    "lon_points = (-123.25, -125, -128, -132)\n",
    "\n",
    "fig = plt.figure()\n",
    "ax = plt.axes()\n",
    "\n",
    "for lat, lon in zip(lat_points, lon_points):\n",
    "    scycle_point = seasonal_cycle.sel(lat=lat, lon=lon)\n",
    "    ax.plot(scycle_point['month'], scycle_point.values, 'o-')\n",
    "\n",
    "ax.set_title(\"Seasonal cycle of temperature anomalies \\n at four test points\", fontsize=14)\n",
    "ax.set_xlabel(\"month\", fontsize=12)\n",
    "ax.set_ylabel(r\"$\\Delta$T (K)\", fontsize=12)"
   ]
  },
  {
   "cell_type": "code",
   "execution_count": null,
   "id": "777624e0-7a26-4782-ac71-a44ff8ed8092",
   "metadata": {},
   "outputs": [],
   "source": []
  }
 ],
 "metadata": {
  "kernelspec": {
   "display_name": "Python 3 (ipykernel)",
   "language": "python",
   "name": "python3"
  },
  "language_info": {
   "codemirror_mode": {
    "name": "ipython",
    "version": 3
   },
   "file_extension": ".py",
   "mimetype": "text/x-python",
   "name": "python",
   "nbconvert_exporter": "python",
   "pygments_lexer": "ipython3",
   "version": "3.12.4"
  }
 },
 "nbformat": 4,
 "nbformat_minor": 5
}

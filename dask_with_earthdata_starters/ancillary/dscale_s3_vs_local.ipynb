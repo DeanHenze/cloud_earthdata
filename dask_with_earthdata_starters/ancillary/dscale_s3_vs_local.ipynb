{
 "cells": [
  {
   "cell_type": "markdown",
   "id": "2d3b7239",
   "metadata": {},
   "source": [
    "# Cloud Optimization Tests\n",
    "## Downscaling MUR SST using AWS EC2\n",
    "\n",
    "See how long it takes to downscale an ultra-high resolution SST product when accessing an SST file on AWS S3 ***using dask***. Downscale from 0.01 degree resolution to 1 deg resolution (global coverage).\n",
    "\n",
    "Uses the MUR Level 4 daily SST ultra high resolution data product, 0.01 degree resolution, s3 location `s3://podaac-ops-cumulus-protected/MUR-JPL-L4-GLOB-v4.1/`.\n",
    "\n",
    "<br>\n",
    "\n",
    "**Requirements to run this notebook**\n",
    "* Have a URS Earthdata login.\n",
    "* Run in an AWS EC2 instance (minimum without dask chuncking is a t2.xlarge instance).\n",
    "* Have URS Earthdata login credentials in the `.netrc` file on the home directory:\n",
    "```\n",
    "machine urs.earthdata.nasa.gov\n",
    "    login <Earthdata username>\n",
    "    password <Earthdata password>\n",
    "```\n",
    "\n",
    "<br>\n",
    "\n",
    "**Current Status**\n",
    "* Seems like a minimum of a t2.xlarge instance (8 GB RAM) is required.\n",
    "* ***Garbage collection and variable deletion is essential. EC2 instance runs out of RAM otherwise.***\n",
    "\n",
    "<br>\n",
    "\n",
    "**To do**\n",
    "* Try to load file with xarray using the `chunks` argument."
   ]
  },
  {
   "cell_type": "code",
   "execution_count": 66,
   "id": "ad0f25a3-af77-4b47-9fa2-7bbcc7531da3",
   "metadata": {},
   "outputs": [],
   "source": [
    "import gc\n",
    "import os\n",
    "import time\n",
    "\n",
    "import s3fs\n",
    "import requests\n",
    "\n",
    "import xarray as xr\n",
    "import h5py\n",
    "import numpy as np\n",
    "import pandas as pd\n",
    "\n",
    "import dask.array as da\n",
    "from dask.distributed import Client, LocalCluster, progress\n",
    "from dask import delayed\n",
    "\n",
    "import matplotlib.pyplot as plt\n",
    "%matplotlib inline"
   ]
  },
  {
   "cell_type": "markdown",
   "id": "db24c6aa",
   "metadata": {},
   "source": [
    "## Function to set up an s3fs session for Direct Access \n",
    "If the following function fails, verify that the following is in the .netrc file in your home directory:\n",
    "```\n",
    "machine urs.earthdata.nasa.gov\n",
    "    login <Earthdata username>\n",
    "    password <Earthdata password>\n",
    "```\n",
    "where the `<Earthdata username>` and `<Earthdata password>` are your login credentials."
   ]
  },
  {
   "cell_type": "code",
   "execution_count": 67,
   "id": "bde9c3b7-bce7-42b4-b964-f78d7ec3f7ca",
   "metadata": {},
   "outputs": [],
   "source": [
    "def init_S3FileSystem():\n",
    "    \"\"\"\n",
    "    This routine automatically pulls your EDL crediential from .netrc file and use it \n",
    "    to obtain a temporary AWS S3 credential through a podaac service accessable at \n",
    "    https://archive.podaac.earthdata.nasa.gov/s3credentials\n",
    "    \n",
    "    Return:\n",
    "    =======\n",
    "    s3: an AWS S3 filesystem\n",
    "    \"\"\"\n",
    "    import requests,s3fs\n",
    "    creds = requests.get('https://archive.podaac.earthdata.nasa.gov/s3credentials').json()\n",
    "    s3 = s3fs.S3FileSystem(anon=False,\n",
    "                           key=creds['accessKeyId'],\n",
    "                           secret=creds['secretAccessKey'], \n",
    "                           token=creds['sessionToken'],\n",
    "                           client_kwargs={'region_name':'us-west-2'})\n",
    "    return s3"
   ]
  },
  {
   "cell_type": "markdown",
   "id": "680caccc-84d5-4492-b420-948d1c164404",
   "metadata": {},
   "source": [
    "## Functions to load and downscale MUR SST files"
   ]
  },
  {
   "cell_type": "code",
   "execution_count": 61,
   "id": "6bd91c23-548c-4bcc-874d-484f836bb7ca",
   "metadata": {},
   "outputs": [],
   "source": [
    "def downscale_xr_s3(fs_s3, filepath_s3, output_dir, chunks=None):\n",
    "    \"\"\"\n",
    "    Open and downscale SST's from 1 km to 100 km from a MUR 1 km file on an S3 bucket. fs_s3 is the \n",
    "    S3 file system and filepath_s3 is the MUR filepath on S3. output_dir is the directory to save \n",
    "    the downscaled data file in.\n",
    "    \"\"\"\n",
    "    \n",
    "    print('Opening ', filepath_s3)\n",
    "    s3_file_obj = fs_s3.open(filepath_s3, mode='rb')\n",
    "    sstdata = xr.open_dataset(s3_file_obj, chunks=chunks)\n",
    "    \n",
    "    def downscale_mursst(sst):\n",
    "        \"\"\"\n",
    "        This function takes MUR SST 1km data (with dimensions of 17900x36000), reshapes, and \n",
    "        computes the mean temperature in 1x1 degree boxes, and then returns the processed \n",
    "        SST data (shape 180x360).\n",
    "\n",
    "        Parameters\n",
    "        ----------\n",
    "        sst: 2D array-like of sea surface temperatures.\n",
    "        \"\"\"\n",
    "        sst0 = np.r_[sst[0:1, :], sst]; del sst\n",
    "        sst = sst0.reshape(180, 100, 360, 100).mean(axis=-1).mean(axis=1); del sst0\n",
    "        return sst\n",
    "    \n",
    "    print(\"Downscaling.\")\n",
    "    sst_downscaled = downscale_mursst(sstdata['analysed_sst'][0, ...])\n",
    "    \n",
    "    # Save downscaled SST to .nc file:\n",
    "    print(\"Saving output.\")\n",
    "    ds = xr.Dataset(\n",
    "        data_vars=dict(\n",
    "            sst=([\"time\", \"lat\", \"lon\"], np.expand_dims(sst_downscaled, axis=0)) # Add dim for time.\n",
    "            ),\n",
    "        coords=dict(\n",
    "            lon=sstdata['lon'].values[::100], # lons, lats in downscaled res.\n",
    "            lat=sstdata['lat'].values[::100],\n",
    "            time=sstdata[\"time\"].values,\n",
    "            ),\n",
    "        attrs=dict(\n",
    "            description=\"SST downscaled from MUR 1 km file to 100 km resolution.\",\n",
    "            units=\"K\",\n",
    "            ),\n",
    "        )\n",
    "    ds.to_netcdf(output_dir + filepath_s3.split(\"/\")[-1][:-3] + \"_downscaled.nc\")\n",
    "    \n",
    "    sstdata.close()"
   ]
  },
  {
   "cell_type": "code",
   "execution_count": 62,
   "id": "43ac4c8d-ff39-4124-bf13-a01e4e5dbf08",
   "metadata": {},
   "outputs": [],
   "source": [
    "def downscale_xr_local(filepath, output_filepath, chunks=None):\n",
    "    \"\"\"\n",
    "    Open and downscale SST's from 1 km to 100 km from a MUR 1 km file from a local machine. \n",
    "    filepath is the MUR filepath. output_dir is the directory to save \n",
    "    the downscaled data file in.\n",
    "    \"\"\"\n",
    "    \n",
    "    print('Opening ', filepath)\n",
    "    sstdata = xr.open_dataset(filepath, chunks=chunks)\n",
    "    \n",
    "    def downscale_mursst(sst):\n",
    "        \"\"\"\n",
    "        This function takes MUR SST 1km data (with dimensions of 17900x36000), reshapes, and \n",
    "        computes the mean temperature in 1x1 degree boxes, and then returns the processed \n",
    "        SST data (shape 180x360).\n",
    "\n",
    "        Parameters\n",
    "        ----------\n",
    "        sst: 2D array-like of sea surface temperatures.\n",
    "        \"\"\"\n",
    "        sst0 = np.r_[sst[0:1, :], sst]; del sst\n",
    "        sst = sst0.reshape(180, 100, 360, 100).mean(axis=-1).mean(axis=1); del sst0\n",
    "        return sst\n",
    "    \n",
    "    print(\"Downscaling.\")\n",
    "    sst_downscaled = downscale_mursst(sstdata['analysed_sst'][0, ...])\n",
    "    \n",
    "    # Save downscaled SST to .nc file:\n",
    "    print(\"Saving output.\")\n",
    "    ds = xr.Dataset(\n",
    "        data_vars=dict(\n",
    "            sst=([\"time\", \"lat\", \"lon\"], np.expand_dims(sst_downscaled, axis=0)) # Add dim for time.\n",
    "            ),\n",
    "        coords=dict(\n",
    "            lon=sstdata['lon'].values[::100], # lons, lats in downscaled res.\n",
    "            lat=sstdata['lat'].values[::100],\n",
    "            time=sstdata[\"time\"].values,\n",
    "            ),\n",
    "        attrs=dict(\n",
    "            description=\"SST downscaled from MUR 1 km file to 100 km resolution.\",\n",
    "            units=\"K\",\n",
    "            ),\n",
    "        )\n",
    "    ds.to_netcdf(output_filepath)\n",
    "    \n",
    "    sstdata.close()"
   ]
  },
  {
   "cell_type": "markdown",
   "id": "46f689e0-6c8d-44c7-9bf8-6889736c8c66",
   "metadata": {},
   "source": [
    "## Establish S3 Connection and Get MUR File Paths to Downscale"
   ]
  },
  {
   "cell_type": "code",
   "execution_count": 68,
   "id": "abae3dd6-b75f-4479-af20-6e915ed8f3c4",
   "metadata": {},
   "outputs": [
    {
     "ename": "KeyError",
     "evalue": "'accessKeyId'",
     "output_type": "error",
     "traceback": [
      "\u001b[0;31m---------------------------------------------------------------------------\u001b[0m",
      "\u001b[0;31mKeyError\u001b[0m                                  Traceback (most recent call last)",
      "\u001b[0;32m/tmp/ipykernel_4700/605454958.py\u001b[0m in \u001b[0;36m<module>\u001b[0;34m\u001b[0m\n\u001b[1;32m      1\u001b[0m \u001b[0;31m# Get temporary AWS credentials for access\u001b[0m\u001b[0;34m\u001b[0m\u001b[0;34m\u001b[0m\u001b[0;34m\u001b[0m\u001b[0m\n\u001b[0;32m----> 2\u001b[0;31m \u001b[0mfs_s3\u001b[0m \u001b[0;34m=\u001b[0m \u001b[0minit_S3FileSystem\u001b[0m\u001b[0;34m(\u001b[0m\u001b[0;34m)\u001b[0m\u001b[0;34m\u001b[0m\u001b[0;34m\u001b[0m\u001b[0m\n\u001b[0m",
      "\u001b[0;32m/tmp/ipykernel_4700/1515293983.py\u001b[0m in \u001b[0;36minit_S3FileSystem\u001b[0;34m()\u001b[0m\n\u001b[1;32m     12\u001b[0m     \u001b[0mcreds\u001b[0m \u001b[0;34m=\u001b[0m \u001b[0mrequests\u001b[0m\u001b[0;34m.\u001b[0m\u001b[0mget\u001b[0m\u001b[0;34m(\u001b[0m\u001b[0;34m'https://archive.podaac.earthdata.nasa.gov/s3credentials'\u001b[0m\u001b[0;34m)\u001b[0m\u001b[0;34m.\u001b[0m\u001b[0mjson\u001b[0m\u001b[0;34m(\u001b[0m\u001b[0;34m)\u001b[0m\u001b[0;34m\u001b[0m\u001b[0;34m\u001b[0m\u001b[0m\n\u001b[1;32m     13\u001b[0m     s3 = s3fs.S3FileSystem(anon=False,\n\u001b[0;32m---> 14\u001b[0;31m                            \u001b[0mkey\u001b[0m\u001b[0;34m=\u001b[0m\u001b[0mcreds\u001b[0m\u001b[0;34m[\u001b[0m\u001b[0;34m'accessKeyId'\u001b[0m\u001b[0;34m]\u001b[0m\u001b[0;34m,\u001b[0m\u001b[0;34m\u001b[0m\u001b[0;34m\u001b[0m\u001b[0m\n\u001b[0m\u001b[1;32m     15\u001b[0m                            \u001b[0msecret\u001b[0m\u001b[0;34m=\u001b[0m\u001b[0mcreds\u001b[0m\u001b[0;34m[\u001b[0m\u001b[0;34m'secretAccessKey'\u001b[0m\u001b[0;34m]\u001b[0m\u001b[0;34m,\u001b[0m\u001b[0;34m\u001b[0m\u001b[0;34m\u001b[0m\u001b[0m\n\u001b[1;32m     16\u001b[0m                            \u001b[0mtoken\u001b[0m\u001b[0;34m=\u001b[0m\u001b[0mcreds\u001b[0m\u001b[0;34m[\u001b[0m\u001b[0;34m'sessionToken'\u001b[0m\u001b[0;34m]\u001b[0m\u001b[0;34m,\u001b[0m\u001b[0;34m\u001b[0m\u001b[0;34m\u001b[0m\u001b[0m\n",
      "\u001b[0;31mKeyError\u001b[0m: 'accessKeyId'"
     ]
    }
   ],
   "source": [
    "# Get temporary AWS credentials for access\n",
    "fs_s3 = init_S3FileSystem()"
   ]
  },
  {
   "cell_type": "code",
   "execution_count": 25,
   "id": "a139c8cd-e878-46a8-8d36-61d28cfb7fc3",
   "metadata": {},
   "outputs": [
    {
     "name": "stdout",
     "output_type": "stream",
     "text": [
      "total granules =  7664\n",
      "Example filename:  podaac-ops-cumulus-protected/MUR-JPL-L4-GLOB-v4.1/20020601090000-JPL-L4_GHRSST-SSTfnd-MUR-GLOB-v02.0-fv04.1.nc\n"
     ]
    }
   ],
   "source": [
    "# File paths of all MUR granules:\n",
    "s3path = \"s3://podaac-ops-cumulus-protected/MUR-JPL-L4-GLOB-v4.1/\"\n",
    "fns = fs_s3.glob(s3path+\"*.nc\")\n",
    "print(\"total granules = \",len(fns))\n",
    "print(\"Example filename: \", fns[0])"
   ]
  },
  {
   "cell_type": "code",
   "execution_count": null,
   "id": "052613bc-615f-43be-868d-6d344dcaefef",
   "metadata": {},
   "outputs": [],
   "source": []
  },
  {
   "cell_type": "code",
   "execution_count": 26,
   "id": "58ba32d1-8222-4b6c-896e-957ed35a1620",
   "metadata": {},
   "outputs": [],
   "source": [
    "if not os.path.isdir(\"./sst_downscaled\"):\n",
    "    os.mkdir(\"./sst_downscaled\")"
   ]
  },
  {
   "cell_type": "code",
   "execution_count": 59,
   "id": "b5339461-565f-4882-8b7a-b2dfcb0fc03a",
   "metadata": {},
   "outputs": [
    {
     "name": "stdout",
     "output_type": "stream",
     "text": [
      "Opening  podaac-ops-cumulus-protected/MUR-JPL-L4-GLOB-v4.1/20020601090000-JPL-L4_GHRSST-SSTfnd-MUR-GLOB-v02.0-fv04.1.nc\n",
      "Downscaling.\n",
      "Saving output.\n",
      "CPU times: user 12.4 s, sys: 4.12 s, total: 16.5 s\n",
      "Wall time: 27.7 s\n"
     ]
    }
   ],
   "source": [
    "%%time\n",
    "downscale_xr_s3(fs_s3, fns[0], \"./sst_downscaled/\")"
   ]
  },
  {
   "cell_type": "code",
   "execution_count": 56,
   "id": "e1fd08ae-ffe4-40d3-ba80-f5c0dee5f679",
   "metadata": {},
   "outputs": [
    {
     "name": "stdout",
     "output_type": "stream",
     "text": [
      "Opening  20210101090000-JPL-L4_GHRSST-SSTfnd-MUR-GLOB-v02.0-fv04.1.nc\n",
      "Downscaling.\n",
      "Saving output.\n",
      "CPU times: user 8.95 s, sys: 2.91 s, total: 11.9 s\n",
      "Wall time: 11.9 s\n"
     ]
    }
   ],
   "source": [
    "%%time\n",
    "fname_local = \"20210101090000-JPL-L4_GHRSST-SSTfnd-MUR-GLOB-v02.0-fv04.1.nc\"\n",
    "downscale_xr_local(fname_local, \"./sst_downscaled/\" + fname_local)"
   ]
  },
  {
   "cell_type": "code",
   "execution_count": 65,
   "id": "e9308fca-9875-4592-a905-b49ce3ffe15b",
   "metadata": {},
   "outputs": [
    {
     "name": "stdout",
     "output_type": "stream",
     "text": [
      "Opening  20210101090000-JPL-L4_GHRSST-SSTfnd-MUR-GLOB-v02.0-fv04.1.nc\n",
      "Downscaling.\n",
      "Saving output.\n",
      "CPU times: user 11.8 s, sys: 3.61 s, total: 15.4 s\n",
      "Wall time: 10.6 s\n"
     ]
    }
   ],
   "source": [
    "%%time\n",
    "fname_local = \"20210101090000-JPL-L4_GHRSST-SSTfnd-MUR-GLOB-v02.0-fv04.1.nc\"\n",
    "downscale_xr_local(fname_local, \"./sst_downscaled/\" + fname_local, chunks='auto')"
   ]
  },
  {
   "cell_type": "code",
   "execution_count": 64,
   "id": "d990a5f0-656b-45c9-9213-58b8517b4c16",
   "metadata": {},
   "outputs": [
    {
     "name": "stdout",
     "output_type": "stream",
     "text": [
      "Opening  podaac-ops-cumulus-protected/MUR-JPL-L4-GLOB-v4.1/20020601090000-JPL-L4_GHRSST-SSTfnd-MUR-GLOB-v02.0-fv04.1.nc\n",
      "Downscaling.\n",
      "Saving output.\n",
      "CPU times: user 17.6 s, sys: 4.45 s, total: 22 s\n",
      "Wall time: 22.8 s\n"
     ]
    }
   ],
   "source": [
    "%%time\n",
    "downscale_xr_s3(\n",
    "    fs_s3, fns[0], \"./sst_downscaled/\", \n",
    "    #chunks={'time':1, 'lat':int(17999/3), 'lon':int(36000/3)}\n",
    "    chunks='auto'\n",
    "    )"
   ]
  },
  {
   "cell_type": "code",
   "execution_count": null,
   "id": "7a742fe8-b1eb-49a4-ace5-b637a9654003",
   "metadata": {},
   "outputs": [],
   "source": []
  },
  {
   "cell_type": "code",
   "execution_count": null,
   "id": "dbed278d-3c17-4e44-8d11-f0c660cff7b4",
   "metadata": {},
   "outputs": [],
   "source": []
  },
  {
   "cell_type": "markdown",
   "id": "1e87d265-499c-4854-b320-a96ee21b4621",
   "metadata": {},
   "source": [
    "## Setup Dask"
   ]
  },
  {
   "cell_type": "code",
   "execution_count": 9,
   "id": "7fc958f3-e741-4c25-85f9-f934536b4adc",
   "metadata": {},
   "outputs": [
    {
     "name": "stdout",
     "output_type": "stream",
     "text": [
      "4\n"
     ]
    }
   ],
   "source": [
    "# Detect available vCPUs on this machine:\n",
    "import multiprocessing\n",
    "n_workers = multiprocessing.cpu_count()\n",
    "print(n_workers)"
   ]
  },
  {
   "cell_type": "code",
   "execution_count": 11,
   "id": "a91eb4ae-4e26-4d8e-abde-6ffd230995c0",
   "metadata": {},
   "outputs": [
    {
     "data": {
      "text/html": [
       "<div>\n",
       "    <div style=\"width: 24px; height: 24px; background-color: #e1e1e1; border: 3px solid #9D9D9D; border-radius: 5px; position: absolute;\"> </div>\n",
       "    <div style=\"margin-left: 48px;\">\n",
       "        <h3 style=\"margin-bottom: 0px;\">Client</h3>\n",
       "        <p style=\"color: #9D9D9D; margin-bottom: 0px;\">Client-ce027c1e-f9ab-11ed-93e5-064f06d3ce49</p>\n",
       "        <table style=\"width: 100%; text-align: left;\">\n",
       "\n",
       "        <tr>\n",
       "        \n",
       "            <td style=\"text-align: left;\"><strong>Connection method:</strong> Cluster object</td>\n",
       "            <td style=\"text-align: left;\"><strong>Cluster type:</strong> distributed.LocalCluster</td>\n",
       "        \n",
       "        </tr>\n",
       "\n",
       "        \n",
       "            <tr>\n",
       "                <td style=\"text-align: left;\">\n",
       "                    <strong>Dashboard: </strong> <a href=\"http://127.0.0.1:8787/status\" target=\"_blank\">http://127.0.0.1:8787/status</a>\n",
       "                </td>\n",
       "                <td style=\"text-align: left;\"></td>\n",
       "            </tr>\n",
       "        \n",
       "\n",
       "        </table>\n",
       "\n",
       "        \n",
       "            <details>\n",
       "            <summary style=\"margin-bottom: 20px;\"><h3 style=\"display: inline;\">Cluster Info</h3></summary>\n",
       "            <div class=\"jp-RenderedHTMLCommon jp-RenderedHTML jp-mod-trusted jp-OutputArea-output\">\n",
       "    <div style=\"width: 24px; height: 24px; background-color: #e1e1e1; border: 3px solid #9D9D9D; border-radius: 5px; position: absolute;\">\n",
       "    </div>\n",
       "    <div style=\"margin-left: 48px;\">\n",
       "        <h3 style=\"margin-bottom: 0px; margin-top: 0px;\">LocalCluster</h3>\n",
       "        <p style=\"color: #9D9D9D; margin-bottom: 0px;\">e22c796d</p>\n",
       "        <table style=\"width: 100%; text-align: left;\">\n",
       "            <tr>\n",
       "                <td style=\"text-align: left;\">\n",
       "                    <strong>Dashboard:</strong> <a href=\"http://127.0.0.1:8787/status\" target=\"_blank\">http://127.0.0.1:8787/status</a>\n",
       "                </td>\n",
       "                <td style=\"text-align: left;\">\n",
       "                    <strong>Workers:</strong> 4\n",
       "                </td>\n",
       "            </tr>\n",
       "            <tr>\n",
       "                <td style=\"text-align: left;\">\n",
       "                    <strong>Total threads:</strong> 4\n",
       "                </td>\n",
       "                <td style=\"text-align: left;\">\n",
       "                    <strong>Total memory:</strong> 15.61 GiB\n",
       "                </td>\n",
       "            </tr>\n",
       "            \n",
       "            <tr>\n",
       "    <td style=\"text-align: left;\"><strong>Status:</strong> running</td>\n",
       "    <td style=\"text-align: left;\"><strong>Using processes:</strong> True</td>\n",
       "</tr>\n",
       "\n",
       "            \n",
       "        </table>\n",
       "\n",
       "        <details>\n",
       "            <summary style=\"margin-bottom: 20px;\">\n",
       "                <h3 style=\"display: inline;\">Scheduler Info</h3>\n",
       "            </summary>\n",
       "\n",
       "            <div style=\"\">\n",
       "    <div>\n",
       "        <div style=\"width: 24px; height: 24px; background-color: #FFF7E5; border: 3px solid #FF6132; border-radius: 5px; position: absolute;\"> </div>\n",
       "        <div style=\"margin-left: 48px;\">\n",
       "            <h3 style=\"margin-bottom: 0px;\">Scheduler</h3>\n",
       "            <p style=\"color: #9D9D9D; margin-bottom: 0px;\">Scheduler-cfb54b6d-21f8-43e2-9199-e2e3738d5e48</p>\n",
       "            <table style=\"width: 100%; text-align: left;\">\n",
       "                <tr>\n",
       "                    <td style=\"text-align: left;\">\n",
       "                        <strong>Comm:</strong> tcp://127.0.0.1:35255\n",
       "                    </td>\n",
       "                    <td style=\"text-align: left;\">\n",
       "                        <strong>Workers:</strong> 4\n",
       "                    </td>\n",
       "                </tr>\n",
       "                <tr>\n",
       "                    <td style=\"text-align: left;\">\n",
       "                        <strong>Dashboard:</strong> <a href=\"http://127.0.0.1:8787/status\" target=\"_blank\">http://127.0.0.1:8787/status</a>\n",
       "                    </td>\n",
       "                    <td style=\"text-align: left;\">\n",
       "                        <strong>Total threads:</strong> 4\n",
       "                    </td>\n",
       "                </tr>\n",
       "                <tr>\n",
       "                    <td style=\"text-align: left;\">\n",
       "                        <strong>Started:</strong> Just now\n",
       "                    </td>\n",
       "                    <td style=\"text-align: left;\">\n",
       "                        <strong>Total memory:</strong> 15.61 GiB\n",
       "                    </td>\n",
       "                </tr>\n",
       "            </table>\n",
       "        </div>\n",
       "    </div>\n",
       "\n",
       "    <details style=\"margin-left: 48px;\">\n",
       "        <summary style=\"margin-bottom: 20px;\">\n",
       "            <h3 style=\"display: inline;\">Workers</h3>\n",
       "        </summary>\n",
       "\n",
       "        \n",
       "        <div style=\"margin-bottom: 20px;\">\n",
       "            <div style=\"width: 24px; height: 24px; background-color: #DBF5FF; border: 3px solid #4CC9FF; border-radius: 5px; position: absolute;\"> </div>\n",
       "            <div style=\"margin-left: 48px;\">\n",
       "            <details>\n",
       "                <summary>\n",
       "                    <h4 style=\"margin-bottom: 0px; display: inline;\">Worker: 0</h4>\n",
       "                </summary>\n",
       "                <table style=\"width: 100%; text-align: left;\">\n",
       "                    <tr>\n",
       "                        <td style=\"text-align: left;\">\n",
       "                            <strong>Comm: </strong> tcp://127.0.0.1:42353\n",
       "                        </td>\n",
       "                        <td style=\"text-align: left;\">\n",
       "                            <strong>Total threads: </strong> 1\n",
       "                        </td>\n",
       "                    </tr>\n",
       "                    <tr>\n",
       "                        <td style=\"text-align: left;\">\n",
       "                            <strong>Dashboard: </strong> <a href=\"http://127.0.0.1:43095/status\" target=\"_blank\">http://127.0.0.1:43095/status</a>\n",
       "                        </td>\n",
       "                        <td style=\"text-align: left;\">\n",
       "                            <strong>Memory: </strong> 3.90 GiB\n",
       "                        </td>\n",
       "                    </tr>\n",
       "                    <tr>\n",
       "                        <td style=\"text-align: left;\">\n",
       "                            <strong>Nanny: </strong> tcp://127.0.0.1:40985\n",
       "                        </td>\n",
       "                        <td style=\"text-align: left;\"></td>\n",
       "                    </tr>\n",
       "                    <tr>\n",
       "                        <td colspan=\"2\" style=\"text-align: left;\">\n",
       "                            <strong>Local directory: </strong> /home/ec2-user/compute_tests/dask-worker-space/worker-jwe1xqud\n",
       "                        </td>\n",
       "                    </tr>\n",
       "\n",
       "                    \n",
       "\n",
       "                    \n",
       "\n",
       "                </table>\n",
       "            </details>\n",
       "            </div>\n",
       "        </div>\n",
       "        \n",
       "        <div style=\"margin-bottom: 20px;\">\n",
       "            <div style=\"width: 24px; height: 24px; background-color: #DBF5FF; border: 3px solid #4CC9FF; border-radius: 5px; position: absolute;\"> </div>\n",
       "            <div style=\"margin-left: 48px;\">\n",
       "            <details>\n",
       "                <summary>\n",
       "                    <h4 style=\"margin-bottom: 0px; display: inline;\">Worker: 1</h4>\n",
       "                </summary>\n",
       "                <table style=\"width: 100%; text-align: left;\">\n",
       "                    <tr>\n",
       "                        <td style=\"text-align: left;\">\n",
       "                            <strong>Comm: </strong> tcp://127.0.0.1:36995\n",
       "                        </td>\n",
       "                        <td style=\"text-align: left;\">\n",
       "                            <strong>Total threads: </strong> 1\n",
       "                        </td>\n",
       "                    </tr>\n",
       "                    <tr>\n",
       "                        <td style=\"text-align: left;\">\n",
       "                            <strong>Dashboard: </strong> <a href=\"http://127.0.0.1:43527/status\" target=\"_blank\">http://127.0.0.1:43527/status</a>\n",
       "                        </td>\n",
       "                        <td style=\"text-align: left;\">\n",
       "                            <strong>Memory: </strong> 3.90 GiB\n",
       "                        </td>\n",
       "                    </tr>\n",
       "                    <tr>\n",
       "                        <td style=\"text-align: left;\">\n",
       "                            <strong>Nanny: </strong> tcp://127.0.0.1:35645\n",
       "                        </td>\n",
       "                        <td style=\"text-align: left;\"></td>\n",
       "                    </tr>\n",
       "                    <tr>\n",
       "                        <td colspan=\"2\" style=\"text-align: left;\">\n",
       "                            <strong>Local directory: </strong> /home/ec2-user/compute_tests/dask-worker-space/worker-0uvs2i4t\n",
       "                        </td>\n",
       "                    </tr>\n",
       "\n",
       "                    \n",
       "\n",
       "                    \n",
       "\n",
       "                </table>\n",
       "            </details>\n",
       "            </div>\n",
       "        </div>\n",
       "        \n",
       "        <div style=\"margin-bottom: 20px;\">\n",
       "            <div style=\"width: 24px; height: 24px; background-color: #DBF5FF; border: 3px solid #4CC9FF; border-radius: 5px; position: absolute;\"> </div>\n",
       "            <div style=\"margin-left: 48px;\">\n",
       "            <details>\n",
       "                <summary>\n",
       "                    <h4 style=\"margin-bottom: 0px; display: inline;\">Worker: 2</h4>\n",
       "                </summary>\n",
       "                <table style=\"width: 100%; text-align: left;\">\n",
       "                    <tr>\n",
       "                        <td style=\"text-align: left;\">\n",
       "                            <strong>Comm: </strong> tcp://127.0.0.1:35085\n",
       "                        </td>\n",
       "                        <td style=\"text-align: left;\">\n",
       "                            <strong>Total threads: </strong> 1\n",
       "                        </td>\n",
       "                    </tr>\n",
       "                    <tr>\n",
       "                        <td style=\"text-align: left;\">\n",
       "                            <strong>Dashboard: </strong> <a href=\"http://127.0.0.1:37673/status\" target=\"_blank\">http://127.0.0.1:37673/status</a>\n",
       "                        </td>\n",
       "                        <td style=\"text-align: left;\">\n",
       "                            <strong>Memory: </strong> 3.90 GiB\n",
       "                        </td>\n",
       "                    </tr>\n",
       "                    <tr>\n",
       "                        <td style=\"text-align: left;\">\n",
       "                            <strong>Nanny: </strong> tcp://127.0.0.1:42927\n",
       "                        </td>\n",
       "                        <td style=\"text-align: left;\"></td>\n",
       "                    </tr>\n",
       "                    <tr>\n",
       "                        <td colspan=\"2\" style=\"text-align: left;\">\n",
       "                            <strong>Local directory: </strong> /home/ec2-user/compute_tests/dask-worker-space/worker-0xayp1_e\n",
       "                        </td>\n",
       "                    </tr>\n",
       "\n",
       "                    \n",
       "\n",
       "                    \n",
       "\n",
       "                </table>\n",
       "            </details>\n",
       "            </div>\n",
       "        </div>\n",
       "        \n",
       "        <div style=\"margin-bottom: 20px;\">\n",
       "            <div style=\"width: 24px; height: 24px; background-color: #DBF5FF; border: 3px solid #4CC9FF; border-radius: 5px; position: absolute;\"> </div>\n",
       "            <div style=\"margin-left: 48px;\">\n",
       "            <details>\n",
       "                <summary>\n",
       "                    <h4 style=\"margin-bottom: 0px; display: inline;\">Worker: 3</h4>\n",
       "                </summary>\n",
       "                <table style=\"width: 100%; text-align: left;\">\n",
       "                    <tr>\n",
       "                        <td style=\"text-align: left;\">\n",
       "                            <strong>Comm: </strong> tcp://127.0.0.1:36413\n",
       "                        </td>\n",
       "                        <td style=\"text-align: left;\">\n",
       "                            <strong>Total threads: </strong> 1\n",
       "                        </td>\n",
       "                    </tr>\n",
       "                    <tr>\n",
       "                        <td style=\"text-align: left;\">\n",
       "                            <strong>Dashboard: </strong> <a href=\"http://127.0.0.1:33103/status\" target=\"_blank\">http://127.0.0.1:33103/status</a>\n",
       "                        </td>\n",
       "                        <td style=\"text-align: left;\">\n",
       "                            <strong>Memory: </strong> 3.90 GiB\n",
       "                        </td>\n",
       "                    </tr>\n",
       "                    <tr>\n",
       "                        <td style=\"text-align: left;\">\n",
       "                            <strong>Nanny: </strong> tcp://127.0.0.1:43243\n",
       "                        </td>\n",
       "                        <td style=\"text-align: left;\"></td>\n",
       "                    </tr>\n",
       "                    <tr>\n",
       "                        <td colspan=\"2\" style=\"text-align: left;\">\n",
       "                            <strong>Local directory: </strong> /home/ec2-user/compute_tests/dask-worker-space/worker-9hjvbt85\n",
       "                        </td>\n",
       "                    </tr>\n",
       "\n",
       "                    \n",
       "\n",
       "                    \n",
       "\n",
       "                </table>\n",
       "            </details>\n",
       "            </div>\n",
       "        </div>\n",
       "        \n",
       "\n",
       "    </details>\n",
       "</div>\n",
       "\n",
       "        </details>\n",
       "    </div>\n",
       "</div>\n",
       "            </details>\n",
       "        \n",
       "\n",
       "    </div>\n",
       "</div>"
      ],
      "text/plain": [
       "<Client: 'tcp://127.0.0.1:35255' processes=4 threads=4, memory=15.61 GiB>"
      ]
     },
     "execution_count": 11,
     "metadata": {},
     "output_type": "execute_result"
    }
   ],
   "source": [
    "#client = Client('tcp://127.0.0.1:36921')\n",
    "client = Client(n_workers=n_workers)\n",
    "client"
   ]
  },
  {
   "cell_type": "code",
   "execution_count": 1,
   "id": "a9eb331d-1be4-4ab7-94c4-92c71884bce4",
   "metadata": {},
   "outputs": [
    {
     "ename": "NameError",
     "evalue": "name 'client' is not defined",
     "output_type": "error",
     "traceback": [
      "\u001b[0;31m---------------------------------------------------------------------------\u001b[0m",
      "\u001b[0;31mNameError\u001b[0m                                 Traceback (most recent call last)",
      "\u001b[0;32m/tmp/ipykernel_2531/1700138376.py\u001b[0m in \u001b[0;36m<module>\u001b[0;34m\u001b[0m\n\u001b[0;32m----> 1\u001b[0;31m \u001b[0mclient\u001b[0m\u001b[0;34m.\u001b[0m\u001b[0mclose\u001b[0m\u001b[0;34m(\u001b[0m\u001b[0;34m)\u001b[0m\u001b[0;34m\u001b[0m\u001b[0;34m\u001b[0m\u001b[0m\n\u001b[0m",
      "\u001b[0;31mNameError\u001b[0m: name 'client' is not defined"
     ]
    }
   ],
   "source": [
    "client.close()"
   ]
  },
  {
   "cell_type": "code",
   "execution_count": null,
   "id": "0d01b90f-9635-4183-b130-e6bd3a78e1f7",
   "metadata": {},
   "outputs": [],
   "source": [
    "#s3_file_obj = fs_s3.open(fns[0], mode='rb')\n",
    "#test = xr.load_dataset(s3_file_obj, chunks={'lat': 25, 'lon': 25, 'time': -1})"
   ]
  },
  {
   "cell_type": "code",
   "execution_count": null,
   "id": "9ded630b-90aa-4245-9cf6-7aecccdb07f1",
   "metadata": {},
   "outputs": [],
   "source": []
  },
  {
   "cell_type": "code",
   "execution_count": 63,
   "id": "8208194a-f086-4d3e-84b0-efe752a4a14e",
   "metadata": {},
   "outputs": [],
   "source": [
    "A = client.map(load_file, [fs_s3], fns_downscale[0])\n",
    "test = client.submit(downscale_mursst, A)\n",
    "#client.submit()"
   ]
  },
  {
   "cell_type": "code",
   "execution_count": 64,
   "id": "7b850ad1-c69c-42e5-8f89-358a1f957b6b",
   "metadata": {},
   "outputs": [],
   "source": [
    "#test = client.submit(load_file, fs_s3, fns_downscale[0])"
   ]
  },
  {
   "cell_type": "code",
   "execution_count": 19,
   "id": "76dfacbc-2707-4960-af9b-5ca47049aa70",
   "metadata": {},
   "outputs": [
    {
     "name": "stderr",
     "output_type": "stream",
     "text": [
      "Exception ignored in: <function Client.__del__ at 0x7f67b27a4ef0>\n",
      "Traceback (most recent call last):\n",
      "  File \"/home/ec2-user/conda/envs/jupyter/lib/python3.7/site-packages/distributed/client.py\", line 1190, in __del__\n",
      "    self.close()\n",
      "  File \"/home/ec2-user/conda/envs/jupyter/lib/python3.7/site-packages/distributed/client.py\", line 1401, in close\n",
      "    if self.asynchronous:\n",
      "  File \"/home/ec2-user/conda/envs/jupyter/lib/python3.7/site-packages/distributed/client.py\", line 813, in asynchronous\n",
      "    return self._asynchronous and self.loop is IOLoop.current()\n",
      "AttributeError: 'Client' object has no attribute '_asynchronous'\n"
     ]
    }
   ],
   "source": [
    "#test.result()"
   ]
  },
  {
   "cell_type": "code",
   "execution_count": null,
   "id": "4d4bafe6-46bd-4734-81e6-ce014da658e4",
   "metadata": {},
   "outputs": [],
   "source": []
  },
  {
   "cell_type": "code",
   "execution_count": null,
   "id": "44829fe0-ddeb-48d6-982a-ea6a0f5d3316",
   "metadata": {},
   "outputs": [],
   "source": []
  },
  {
   "cell_type": "code",
   "execution_count": null,
   "id": "141c1ae1-f382-4ce2-a33f-ce8240d71a8a",
   "metadata": {},
   "outputs": [],
   "source": []
  },
  {
   "cell_type": "code",
   "execution_count": null,
   "id": "92d89314-5839-4880-aa71-889038a5bb95",
   "metadata": {},
   "outputs": [],
   "source": []
  },
  {
   "cell_type": "code",
   "execution_count": null,
   "id": "028e7f89-239c-45fb-8dca-e3de3dfdc135",
   "metadata": {},
   "outputs": [],
   "source": []
  },
  {
   "cell_type": "code",
   "execution_count": null,
   "id": "a5fa8a98-8d6b-4604-b192-f4db78565007",
   "metadata": {},
   "outputs": [],
   "source": []
  },
  {
   "cell_type": "code",
   "execution_count": null,
   "id": "beb00355-e2f2-4548-92cd-9be14250efff",
   "metadata": {},
   "outputs": [],
   "source": []
  },
  {
   "cell_type": "code",
   "execution_count": null,
   "id": "b8019ae7-b5e3-44b8-b243-7e85d21c6cf8",
   "metadata": {},
   "outputs": [],
   "source": []
  },
  {
   "cell_type": "code",
   "execution_count": null,
   "id": "84fe2989-b933-4985-9efb-08e19fa7aba7",
   "metadata": {},
   "outputs": [],
   "source": []
  },
  {
   "cell_type": "code",
   "execution_count": 18,
   "id": "300fe78f-f065-45d1-8946-96579768964c",
   "metadata": {},
   "outputs": [],
   "source": [
    "# Wrap the function with dask.delayed\n",
    "delayed_load_and_downscale = delayed(load_and_downscale)\n",
    "# Process all granules in parallel using Dask\n",
    "results = [delayed_load_and_downscale(fs_s3, [fp]) for fp in fns_downscale]"
   ]
  },
  {
   "cell_type": "code",
   "execution_count": 19,
   "id": "f14db885-18ff-4d94-b879-2b02e0c3f635",
   "metadata": {},
   "outputs": [
    {
     "name": "stderr",
     "output_type": "stream",
     "text": [
      "distributed.worker - WARNING - Unmanaged memory use is high. This may indicate a memory leak or the memory may not be released to the OS; see https://distributed.dask.org/en/latest/worker.html#memtrim for more information. -- Unmanaged memory: 2.99 GiB -- Worker memory limit: 3.90 GiB\n",
      "distributed.worker - WARNING - Worker is at 90% memory usage. Pausing worker.  Process memory: 3.53 GiB -- Worker memory limit: 3.90 GiB\n",
      "distributed.worker - WARNING - Unmanaged memory use is high. This may indicate a memory leak or the memory may not be released to the OS; see https://distributed.dask.org/en/latest/worker.html#memtrim for more information. -- Unmanaged memory: 3.53 GiB -- Worker memory limit: 3.90 GiB\n",
      "distributed.nanny - WARNING - Worker exceeded 95% memory budget. Restarting\n",
      "distributed.nanny - WARNING - Restarting worker\n",
      "distributed.worker - WARNING - Unmanaged memory use is high. This may indicate a memory leak or the memory may not be released to the OS; see https://distributed.dask.org/en/latest/worker.html#memtrim for more information. -- Unmanaged memory: 2.91 GiB -- Worker memory limit: 3.90 GiB\n",
      "distributed.worker - WARNING - Worker is at 88% memory usage. Pausing worker.  Process memory: 3.44 GiB -- Worker memory limit: 3.90 GiB\n",
      "distributed.worker - WARNING - Unmanaged memory use is high. This may indicate a memory leak or the memory may not be released to the OS; see https://distributed.dask.org/en/latest/worker.html#memtrim for more information. -- Unmanaged memory: 3.44 GiB -- Worker memory limit: 3.90 GiB\n",
      "distributed.nanny - WARNING - Worker exceeded 95% memory budget. Restarting\n",
      "distributed.nanny - WARNING - Restarting worker\n",
      "distributed.worker - WARNING - Worker is at 80% memory usage. Pausing worker.  Process memory: 3.15 GiB -- Worker memory limit: 3.90 GiB\n",
      "distributed.worker - WARNING - Unmanaged memory use is high. This may indicate a memory leak or the memory may not be released to the OS; see https://distributed.dask.org/en/latest/worker.html#memtrim for more information. -- Unmanaged memory: 3.15 GiB -- Worker memory limit: 3.90 GiB\n",
      "distributed.worker - WARNING - Unmanaged memory use is high. This may indicate a memory leak or the memory may not be released to the OS; see https://distributed.dask.org/en/latest/worker.html#memtrim for more information. -- Unmanaged memory: 3.65 GiB -- Worker memory limit: 3.90 GiB\n",
      "distributed.nanny - WARNING - Worker exceeded 95% memory budget. Restarting\n",
      "distributed.nanny - WARNING - Restarting worker\n",
      "distributed.worker - WARNING - Unmanaged memory use is high. This may indicate a memory leak or the memory may not be released to the OS; see https://distributed.dask.org/en/latest/worker.html#memtrim for more information. -- Unmanaged memory: 2.95 GiB -- Worker memory limit: 3.90 GiB\n",
      "distributed.worker - WARNING - Worker is at 88% memory usage. Pausing worker.  Process memory: 3.47 GiB -- Worker memory limit: 3.90 GiB\n",
      "distributed.worker - WARNING - Unmanaged memory use is high. This may indicate a memory leak or the memory may not be released to the OS; see https://distributed.dask.org/en/latest/worker.html#memtrim for more information. -- Unmanaged memory: 3.47 GiB -- Worker memory limit: 3.90 GiB\n",
      "distributed.worker - WARNING - Worker is at 68% memory usage. Resuming worker. Process memory: 2.66 GiB -- Worker memory limit: 3.90 GiB\n",
      "distributed.worker - WARNING - Unmanaged memory use is high. This may indicate a memory leak or the memory may not be released to the OS; see https://distributed.dask.org/en/latest/worker.html#memtrim for more information. -- Unmanaged memory: 2.88 GiB -- Worker memory limit: 3.90 GiB\n",
      "distributed.worker - WARNING - Worker is at 80% memory usage. Pausing worker.  Process memory: 3.15 GiB -- Worker memory limit: 3.90 GiB\n",
      "distributed.worker - WARNING - Unmanaged memory use is high. This may indicate a memory leak or the memory may not be released to the OS; see https://distributed.dask.org/en/latest/worker.html#memtrim for more information. -- Unmanaged memory: 3.15 GiB -- Worker memory limit: 3.90 GiB\n",
      "distributed.worker - WARNING - Unmanaged memory use is high. This may indicate a memory leak or the memory may not be released to the OS; see https://distributed.dask.org/en/latest/worker.html#memtrim for more information. -- Unmanaged memory: 3.26 GiB -- Worker memory limit: 3.90 GiB\n",
      "distributed.worker - WARNING - Unmanaged memory use is high. This may indicate a memory leak or the memory may not be released to the OS; see https://distributed.dask.org/en/latest/worker.html#memtrim for more information. -- Unmanaged memory: 3.26 GiB -- Worker memory limit: 3.90 GiB\n",
      "distributed.worker - WARNING - Unmanaged memory use is high. This may indicate a memory leak or the memory may not be released to the OS; see https://distributed.dask.org/en/latest/worker.html#memtrim for more information. -- Unmanaged memory: 3.26 GiB -- Worker memory limit: 3.90 GiB\n",
      "distributed.worker - WARNING - Unmanaged memory use is high. This may indicate a memory leak or the memory may not be released to the OS; see https://distributed.dask.org/en/latest/worker.html#memtrim for more information. -- Unmanaged memory: 3.55 GiB -- Worker memory limit: 3.90 GiB\n",
      "distributed.nanny - WARNING - Worker exceeded 95% memory budget. Restarting\n",
      "distributed.nanny - WARNING - Restarting worker\n"
     ]
    },
    {
     "ename": "KilledWorker",
     "evalue": "('load_and_downscale-5fe75ff1-15dc-4bf8-8c20-cccc54625d3e', <WorkerState 'tcp://127.0.0.1:35101', name: 3, status: closed, memory: 0, processing: 1>)",
     "output_type": "error",
     "traceback": [
      "\u001b[0;31m---------------------------------------------------------------------------\u001b[0m",
      "\u001b[0;31mKilledWorker\u001b[0m                              Traceback (most recent call last)",
      "\u001b[0;32m/tmp/ipykernel_2604/1195577998.py\u001b[0m in \u001b[0;36m<module>\u001b[0;34m\u001b[0m\n\u001b[0;32m----> 1\u001b[0;31m \u001b[0mtest\u001b[0m \u001b[0;34m=\u001b[0m \u001b[0mda\u001b[0m\u001b[0;34m.\u001b[0m\u001b[0mcompute\u001b[0m\u001b[0;34m(\u001b[0m\u001b[0;34m*\u001b[0m\u001b[0mresults\u001b[0m\u001b[0;34m)\u001b[0m\u001b[0;34m\u001b[0m\u001b[0;34m\u001b[0m\u001b[0m\n\u001b[0m",
      "\u001b[0;32m~/conda/envs/jupyter/lib/python3.7/site-packages/dask/base.py\u001b[0m in \u001b[0;36mcompute\u001b[0;34m(*args, **kwargs)\u001b[0m\n\u001b[1;32m    568\u001b[0m         \u001b[0mpostcomputes\u001b[0m\u001b[0;34m.\u001b[0m\u001b[0mappend\u001b[0m\u001b[0;34m(\u001b[0m\u001b[0mx\u001b[0m\u001b[0;34m.\u001b[0m\u001b[0m__dask_postcompute__\u001b[0m\u001b[0;34m(\u001b[0m\u001b[0;34m)\u001b[0m\u001b[0;34m)\u001b[0m\u001b[0;34m\u001b[0m\u001b[0;34m\u001b[0m\u001b[0m\n\u001b[1;32m    569\u001b[0m \u001b[0;34m\u001b[0m\u001b[0m\n\u001b[0;32m--> 570\u001b[0;31m     \u001b[0mresults\u001b[0m \u001b[0;34m=\u001b[0m \u001b[0mschedule\u001b[0m\u001b[0;34m(\u001b[0m\u001b[0mdsk\u001b[0m\u001b[0;34m,\u001b[0m \u001b[0mkeys\u001b[0m\u001b[0;34m,\u001b[0m \u001b[0;34m**\u001b[0m\u001b[0mkwargs\u001b[0m\u001b[0;34m)\u001b[0m\u001b[0;34m\u001b[0m\u001b[0;34m\u001b[0m\u001b[0m\n\u001b[0m\u001b[1;32m    571\u001b[0m     \u001b[0;32mreturn\u001b[0m \u001b[0mrepack\u001b[0m\u001b[0;34m(\u001b[0m\u001b[0;34m[\u001b[0m\u001b[0mf\u001b[0m\u001b[0;34m(\u001b[0m\u001b[0mr\u001b[0m\u001b[0;34m,\u001b[0m \u001b[0;34m*\u001b[0m\u001b[0ma\u001b[0m\u001b[0;34m)\u001b[0m \u001b[0;32mfor\u001b[0m \u001b[0mr\u001b[0m\u001b[0;34m,\u001b[0m \u001b[0;34m(\u001b[0m\u001b[0mf\u001b[0m\u001b[0;34m,\u001b[0m \u001b[0ma\u001b[0m\u001b[0;34m)\u001b[0m \u001b[0;32min\u001b[0m \u001b[0mzip\u001b[0m\u001b[0;34m(\u001b[0m\u001b[0mresults\u001b[0m\u001b[0;34m,\u001b[0m \u001b[0mpostcomputes\u001b[0m\u001b[0;34m)\u001b[0m\u001b[0;34m]\u001b[0m\u001b[0;34m)\u001b[0m\u001b[0;34m\u001b[0m\u001b[0;34m\u001b[0m\u001b[0m\n\u001b[1;32m    572\u001b[0m \u001b[0;34m\u001b[0m\u001b[0m\n",
      "\u001b[0;32m~/conda/envs/jupyter/lib/python3.7/site-packages/distributed/client.py\u001b[0m in \u001b[0;36mget\u001b[0;34m(self, dsk, keys, workers, allow_other_workers, resources, sync, asynchronous, direct, retries, priority, fifo_timeout, actors, **kwargs)\u001b[0m\n\u001b[1;32m   2691\u001b[0m                     \u001b[0mshould_rejoin\u001b[0m \u001b[0;34m=\u001b[0m \u001b[0;32mFalse\u001b[0m\u001b[0;34m\u001b[0m\u001b[0;34m\u001b[0m\u001b[0m\n\u001b[1;32m   2692\u001b[0m             \u001b[0;32mtry\u001b[0m\u001b[0;34m:\u001b[0m\u001b[0;34m\u001b[0m\u001b[0;34m\u001b[0m\u001b[0m\n\u001b[0;32m-> 2693\u001b[0;31m                 \u001b[0mresults\u001b[0m \u001b[0;34m=\u001b[0m \u001b[0mself\u001b[0m\u001b[0;34m.\u001b[0m\u001b[0mgather\u001b[0m\u001b[0;34m(\u001b[0m\u001b[0mpacked\u001b[0m\u001b[0;34m,\u001b[0m \u001b[0masynchronous\u001b[0m\u001b[0;34m=\u001b[0m\u001b[0masynchronous\u001b[0m\u001b[0;34m,\u001b[0m \u001b[0mdirect\u001b[0m\u001b[0;34m=\u001b[0m\u001b[0mdirect\u001b[0m\u001b[0;34m)\u001b[0m\u001b[0;34m\u001b[0m\u001b[0;34m\u001b[0m\u001b[0m\n\u001b[0m\u001b[1;32m   2694\u001b[0m             \u001b[0;32mfinally\u001b[0m\u001b[0;34m:\u001b[0m\u001b[0;34m\u001b[0m\u001b[0;34m\u001b[0m\u001b[0m\n\u001b[1;32m   2695\u001b[0m                 \u001b[0;32mfor\u001b[0m \u001b[0mf\u001b[0m \u001b[0;32min\u001b[0m \u001b[0mfutures\u001b[0m\u001b[0;34m.\u001b[0m\u001b[0mvalues\u001b[0m\u001b[0;34m(\u001b[0m\u001b[0;34m)\u001b[0m\u001b[0;34m:\u001b[0m\u001b[0;34m\u001b[0m\u001b[0;34m\u001b[0m\u001b[0m\n",
      "\u001b[0;32m~/conda/envs/jupyter/lib/python3.7/site-packages/distributed/client.py\u001b[0m in \u001b[0;36mgather\u001b[0;34m(self, futures, errors, direct, asynchronous)\u001b[0m\n\u001b[1;32m   1973\u001b[0m                 \u001b[0mdirect\u001b[0m\u001b[0;34m=\u001b[0m\u001b[0mdirect\u001b[0m\u001b[0;34m,\u001b[0m\u001b[0;34m\u001b[0m\u001b[0;34m\u001b[0m\u001b[0m\n\u001b[1;32m   1974\u001b[0m                 \u001b[0mlocal_worker\u001b[0m\u001b[0;34m=\u001b[0m\u001b[0mlocal_worker\u001b[0m\u001b[0;34m,\u001b[0m\u001b[0;34m\u001b[0m\u001b[0;34m\u001b[0m\u001b[0m\n\u001b[0;32m-> 1975\u001b[0;31m                 \u001b[0masynchronous\u001b[0m\u001b[0;34m=\u001b[0m\u001b[0masynchronous\u001b[0m\u001b[0;34m,\u001b[0m\u001b[0;34m\u001b[0m\u001b[0;34m\u001b[0m\u001b[0m\n\u001b[0m\u001b[1;32m   1976\u001b[0m             )\n\u001b[1;32m   1977\u001b[0m \u001b[0;34m\u001b[0m\u001b[0m\n",
      "\u001b[0;32m~/conda/envs/jupyter/lib/python3.7/site-packages/distributed/client.py\u001b[0m in \u001b[0;36msync\u001b[0;34m(self, func, asynchronous, callback_timeout, *args, **kwargs)\u001b[0m\n\u001b[1;32m    864\u001b[0m         \u001b[0;32melse\u001b[0m\u001b[0;34m:\u001b[0m\u001b[0;34m\u001b[0m\u001b[0;34m\u001b[0m\u001b[0m\n\u001b[1;32m    865\u001b[0m             return sync(\n\u001b[0;32m--> 866\u001b[0;31m                 \u001b[0mself\u001b[0m\u001b[0;34m.\u001b[0m\u001b[0mloop\u001b[0m\u001b[0;34m,\u001b[0m \u001b[0mfunc\u001b[0m\u001b[0;34m,\u001b[0m \u001b[0;34m*\u001b[0m\u001b[0margs\u001b[0m\u001b[0;34m,\u001b[0m \u001b[0mcallback_timeout\u001b[0m\u001b[0;34m=\u001b[0m\u001b[0mcallback_timeout\u001b[0m\u001b[0;34m,\u001b[0m \u001b[0;34m**\u001b[0m\u001b[0mkwargs\u001b[0m\u001b[0;34m\u001b[0m\u001b[0;34m\u001b[0m\u001b[0m\n\u001b[0m\u001b[1;32m    867\u001b[0m             )\n\u001b[1;32m    868\u001b[0m \u001b[0;34m\u001b[0m\u001b[0m\n",
      "\u001b[0;32m~/conda/envs/jupyter/lib/python3.7/site-packages/distributed/utils.py\u001b[0m in \u001b[0;36msync\u001b[0;34m(loop, func, callback_timeout, *args, **kwargs)\u001b[0m\n\u001b[1;32m    325\u001b[0m     \u001b[0;32mif\u001b[0m \u001b[0merror\u001b[0m\u001b[0;34m[\u001b[0m\u001b[0;36m0\u001b[0m\u001b[0;34m]\u001b[0m\u001b[0;34m:\u001b[0m\u001b[0;34m\u001b[0m\u001b[0;34m\u001b[0m\u001b[0m\n\u001b[1;32m    326\u001b[0m         \u001b[0mtyp\u001b[0m\u001b[0;34m,\u001b[0m \u001b[0mexc\u001b[0m\u001b[0;34m,\u001b[0m \u001b[0mtb\u001b[0m \u001b[0;34m=\u001b[0m \u001b[0merror\u001b[0m\u001b[0;34m[\u001b[0m\u001b[0;36m0\u001b[0m\u001b[0;34m]\u001b[0m\u001b[0;34m\u001b[0m\u001b[0;34m\u001b[0m\u001b[0m\n\u001b[0;32m--> 327\u001b[0;31m         \u001b[0;32mraise\u001b[0m \u001b[0mexc\u001b[0m\u001b[0;34m.\u001b[0m\u001b[0mwith_traceback\u001b[0m\u001b[0;34m(\u001b[0m\u001b[0mtb\u001b[0m\u001b[0;34m)\u001b[0m\u001b[0;34m\u001b[0m\u001b[0;34m\u001b[0m\u001b[0m\n\u001b[0m\u001b[1;32m    328\u001b[0m     \u001b[0;32melse\u001b[0m\u001b[0;34m:\u001b[0m\u001b[0;34m\u001b[0m\u001b[0;34m\u001b[0m\u001b[0m\n\u001b[1;32m    329\u001b[0m         \u001b[0;32mreturn\u001b[0m \u001b[0mresult\u001b[0m\u001b[0;34m[\u001b[0m\u001b[0;36m0\u001b[0m\u001b[0;34m]\u001b[0m\u001b[0;34m\u001b[0m\u001b[0;34m\u001b[0m\u001b[0m\n",
      "\u001b[0;32m~/conda/envs/jupyter/lib/python3.7/site-packages/distributed/utils.py\u001b[0m in \u001b[0;36mf\u001b[0;34m()\u001b[0m\n\u001b[1;32m    308\u001b[0m             \u001b[0;32mif\u001b[0m \u001b[0mcallback_timeout\u001b[0m \u001b[0;32mis\u001b[0m \u001b[0;32mnot\u001b[0m \u001b[0;32mNone\u001b[0m\u001b[0;34m:\u001b[0m\u001b[0;34m\u001b[0m\u001b[0;34m\u001b[0m\u001b[0m\n\u001b[1;32m    309\u001b[0m                 \u001b[0mfuture\u001b[0m \u001b[0;34m=\u001b[0m \u001b[0masyncio\u001b[0m\u001b[0;34m.\u001b[0m\u001b[0mwait_for\u001b[0m\u001b[0;34m(\u001b[0m\u001b[0mfuture\u001b[0m\u001b[0;34m,\u001b[0m \u001b[0mcallback_timeout\u001b[0m\u001b[0;34m)\u001b[0m\u001b[0;34m\u001b[0m\u001b[0;34m\u001b[0m\u001b[0m\n\u001b[0;32m--> 310\u001b[0;31m             \u001b[0mresult\u001b[0m\u001b[0;34m[\u001b[0m\u001b[0;36m0\u001b[0m\u001b[0;34m]\u001b[0m \u001b[0;34m=\u001b[0m \u001b[0;32myield\u001b[0m \u001b[0mfuture\u001b[0m\u001b[0;34m\u001b[0m\u001b[0;34m\u001b[0m\u001b[0m\n\u001b[0m\u001b[1;32m    311\u001b[0m         \u001b[0;32mexcept\u001b[0m \u001b[0mException\u001b[0m\u001b[0;34m:\u001b[0m\u001b[0;34m\u001b[0m\u001b[0;34m\u001b[0m\u001b[0m\n\u001b[1;32m    312\u001b[0m             \u001b[0merror\u001b[0m\u001b[0;34m[\u001b[0m\u001b[0;36m0\u001b[0m\u001b[0;34m]\u001b[0m \u001b[0;34m=\u001b[0m \u001b[0msys\u001b[0m\u001b[0;34m.\u001b[0m\u001b[0mexc_info\u001b[0m\u001b[0;34m(\u001b[0m\u001b[0;34m)\u001b[0m\u001b[0;34m\u001b[0m\u001b[0;34m\u001b[0m\u001b[0m\n",
      "\u001b[0;32m~/conda/envs/jupyter/lib/python3.7/site-packages/tornado/gen.py\u001b[0m in \u001b[0;36mrun\u001b[0;34m(self)\u001b[0m\n\u001b[1;32m    767\u001b[0m \u001b[0;34m\u001b[0m\u001b[0m\n\u001b[1;32m    768\u001b[0m                     \u001b[0;32mtry\u001b[0m\u001b[0;34m:\u001b[0m\u001b[0;34m\u001b[0m\u001b[0;34m\u001b[0m\u001b[0m\n\u001b[0;32m--> 769\u001b[0;31m                         \u001b[0mvalue\u001b[0m \u001b[0;34m=\u001b[0m \u001b[0mfuture\u001b[0m\u001b[0;34m.\u001b[0m\u001b[0mresult\u001b[0m\u001b[0;34m(\u001b[0m\u001b[0;34m)\u001b[0m\u001b[0;34m\u001b[0m\u001b[0;34m\u001b[0m\u001b[0m\n\u001b[0m\u001b[1;32m    770\u001b[0m                     \u001b[0;32mexcept\u001b[0m \u001b[0mException\u001b[0m\u001b[0;34m:\u001b[0m\u001b[0;34m\u001b[0m\u001b[0;34m\u001b[0m\u001b[0m\n\u001b[1;32m    771\u001b[0m                         \u001b[0mexc_info\u001b[0m \u001b[0;34m=\u001b[0m \u001b[0msys\u001b[0m\u001b[0;34m.\u001b[0m\u001b[0mexc_info\u001b[0m\u001b[0;34m(\u001b[0m\u001b[0;34m)\u001b[0m\u001b[0;34m\u001b[0m\u001b[0;34m\u001b[0m\u001b[0m\n",
      "\u001b[0;32m~/conda/envs/jupyter/lib/python3.7/site-packages/distributed/client.py\u001b[0m in \u001b[0;36m_gather\u001b[0;34m(self, futures, errors, direct, local_worker)\u001b[0m\n\u001b[1;32m   1832\u001b[0m                             \u001b[0mexc\u001b[0m \u001b[0;34m=\u001b[0m \u001b[0mCancelledError\u001b[0m\u001b[0;34m(\u001b[0m\u001b[0mkey\u001b[0m\u001b[0;34m)\u001b[0m\u001b[0;34m\u001b[0m\u001b[0;34m\u001b[0m\u001b[0m\n\u001b[1;32m   1833\u001b[0m                         \u001b[0;32melse\u001b[0m\u001b[0;34m:\u001b[0m\u001b[0;34m\u001b[0m\u001b[0;34m\u001b[0m\u001b[0m\n\u001b[0;32m-> 1834\u001b[0;31m                             \u001b[0;32mraise\u001b[0m \u001b[0mexception\u001b[0m\u001b[0;34m.\u001b[0m\u001b[0mwith_traceback\u001b[0m\u001b[0;34m(\u001b[0m\u001b[0mtraceback\u001b[0m\u001b[0;34m)\u001b[0m\u001b[0;34m\u001b[0m\u001b[0;34m\u001b[0m\u001b[0m\n\u001b[0m\u001b[1;32m   1835\u001b[0m                         \u001b[0;32mraise\u001b[0m \u001b[0mexc\u001b[0m\u001b[0;34m\u001b[0m\u001b[0;34m\u001b[0m\u001b[0m\n\u001b[1;32m   1836\u001b[0m                     \u001b[0;32mif\u001b[0m \u001b[0merrors\u001b[0m \u001b[0;34m==\u001b[0m \u001b[0;34m\"skip\"\u001b[0m\u001b[0;34m:\u001b[0m\u001b[0;34m\u001b[0m\u001b[0;34m\u001b[0m\u001b[0m\n",
      "\u001b[0;31mKilledWorker\u001b[0m: ('load_and_downscale-5fe75ff1-15dc-4bf8-8c20-cccc54625d3e', <WorkerState 'tcp://127.0.0.1:35101', name: 3, status: closed, memory: 0, processing: 1>)"
     ]
    }
   ],
   "source": [
    "test = da.compute(*results)"
   ]
  },
  {
   "cell_type": "code",
   "execution_count": null,
   "id": "dd33618a-3742-4be1-9ec7-29242fd75913",
   "metadata": {},
   "outputs": [],
   "source": []
  },
  {
   "cell_type": "code",
   "execution_count": null,
   "id": "6e134198-bda0-4651-8376-2a77e986a4c7",
   "metadata": {},
   "outputs": [],
   "source": []
  },
  {
   "cell_type": "markdown",
   "id": "50ed49d4-a8f4-4f3e-9b8a-0a3e74e3b4be",
   "metadata": {},
   "source": [
    "## Test new function with timekeeping built in"
   ]
  },
  {
   "cell_type": "code",
   "execution_count": 13,
   "id": "23ebe138-2781-4283-9016-8159756b81e8",
   "metadata": {},
   "outputs": [],
   "source": [
    "# Get temporary AWS credentials for access\n",
    "fs_s3 = init_S3FileSystem()"
   ]
  },
  {
   "cell_type": "code",
   "execution_count": 7,
   "id": "19f50d30-992d-4d36-a27a-f3540bccab15",
   "metadata": {},
   "outputs": [
    {
     "name": "stdout",
     "output_type": "stream",
     "text": [
      "total granules =  7636\n",
      "Example filename:  podaac-ops-cumulus-protected/MUR-JPL-L4-GLOB-v4.1/20020601090000-JPL-L4_GHRSST-SSTfnd-MUR-GLOB-v02.0-fv04.1.nc\n"
     ]
    }
   ],
   "source": [
    "# File paths of all MUR granules:\n",
    "s3path = \"s3://podaac-ops-cumulus-protected/MUR-JPL-L4-GLOB-v4.1/\"\n",
    "fns = fs_s3.glob(s3path+\"*.nc\")\n",
    "print(\"total granules = \",len(fns))\n",
    "print(\"Example filename: \", fns[0])"
   ]
  },
  {
   "cell_type": "code",
   "execution_count": 27,
   "id": "1d36f913-905c-4573-85e3-8cec6ce801aa",
   "metadata": {},
   "outputs": [
    {
     "name": "stdout",
     "output_type": "stream",
     "text": [
      "Loading file number  1 :  podaac-ops-cumulus-protected/MUR-JPL-L4-GLOB-v4.1/20020601090000-JPL-L4_GHRSST-SSTfnd-MUR-GLOB-v02.0-fv04.1.nc\n",
      "Downscaling.\n",
      "Loading file number  2 :  podaac-ops-cumulus-protected/MUR-JPL-L4-GLOB-v4.1/20020602090000-JPL-L4_GHRSST-SSTfnd-MUR-GLOB-v02.0-fv04.1.nc\n",
      "Downscaling.\n",
      "Loading file number  3 :  podaac-ops-cumulus-protected/MUR-JPL-L4-GLOB-v4.1/20020603090000-JPL-L4_GHRSST-SSTfnd-MUR-GLOB-v02.0-fv04.1.nc\n",
      "Downscaling.\n",
      "Loading file number  4 :  podaac-ops-cumulus-protected/MUR-JPL-L4-GLOB-v4.1/20020604090000-JPL-L4_GHRSST-SSTfnd-MUR-GLOB-v02.0-fv04.1.nc\n",
      "Downscaling.\n",
      "Loading file number  5 :  podaac-ops-cumulus-protected/MUR-JPL-L4-GLOB-v4.1/20020605090000-JPL-L4_GHRSST-SSTfnd-MUR-GLOB-v02.0-fv04.1.nc\n",
      "Downscaling.\n",
      "Loading file number  6 :  podaac-ops-cumulus-protected/MUR-JPL-L4-GLOB-v4.1/20020606090000-JPL-L4_GHRSST-SSTfnd-MUR-GLOB-v02.0-fv04.1.nc\n",
      "Downscaling.\n",
      "Loading file number  7 :  podaac-ops-cumulus-protected/MUR-JPL-L4-GLOB-v4.1/20020607090000-JPL-L4_GHRSST-SSTfnd-MUR-GLOB-v02.0-fv04.1.nc\n",
      "Downscaling.\n",
      "Loading file number  8 :  podaac-ops-cumulus-protected/MUR-JPL-L4-GLOB-v4.1/20020608090000-JPL-L4_GHRSST-SSTfnd-MUR-GLOB-v02.0-fv04.1.nc\n",
      "Downscaling.\n",
      "Loading file number  9 :  podaac-ops-cumulus-protected/MUR-JPL-L4-GLOB-v4.1/20020609090000-JPL-L4_GHRSST-SSTfnd-MUR-GLOB-v02.0-fv04.1.nc\n",
      "Downscaling.\n",
      "Loading file number  10 :  podaac-ops-cumulus-protected/MUR-JPL-L4-GLOB-v4.1/20020610090000-JPL-L4_GHRSST-SSTfnd-MUR-GLOB-v02.0-fv04.1.nc\n",
      "Downscaling.\n",
      "Loading file number  11 :  podaac-ops-cumulus-protected/MUR-JPL-L4-GLOB-v4.1/20020611090000-JPL-L4_GHRSST-SSTfnd-MUR-GLOB-v02.0-fv04.1.nc\n",
      "Downscaling.\n",
      "Loading file number  12 :  podaac-ops-cumulus-protected/MUR-JPL-L4-GLOB-v4.1/20020612090000-JPL-L4_GHRSST-SSTfnd-MUR-GLOB-v02.0-fv04.1.nc\n",
      "Downscaling.\n",
      "Loading file number  13 :  podaac-ops-cumulus-protected/MUR-JPL-L4-GLOB-v4.1/20020613090000-JPL-L4_GHRSST-SSTfnd-MUR-GLOB-v02.0-fv04.1.nc\n",
      "Downscaling.\n",
      "Loading file number  14 :  podaac-ops-cumulus-protected/MUR-JPL-L4-GLOB-v4.1/20020614090000-JPL-L4_GHRSST-SSTfnd-MUR-GLOB-v02.0-fv04.1.nc\n",
      "Downscaling.\n",
      "Loading file number  15 :  podaac-ops-cumulus-protected/MUR-JPL-L4-GLOB-v4.1/20020615090000-JPL-L4_GHRSST-SSTfnd-MUR-GLOB-v02.0-fv04.1.nc\n",
      "Downscaling.\n",
      "Loading file number  16 :  podaac-ops-cumulus-protected/MUR-JPL-L4-GLOB-v4.1/20020616090000-JPL-L4_GHRSST-SSTfnd-MUR-GLOB-v02.0-fv04.1.nc\n",
      "Downscaling.\n",
      "Loading file number  17 :  podaac-ops-cumulus-protected/MUR-JPL-L4-GLOB-v4.1/20020617090000-JPL-L4_GHRSST-SSTfnd-MUR-GLOB-v02.0-fv04.1.nc\n",
      "Downscaling.\n",
      "Loading file number  18 :  podaac-ops-cumulus-protected/MUR-JPL-L4-GLOB-v4.1/20020618090000-JPL-L4_GHRSST-SSTfnd-MUR-GLOB-v02.0-fv04.1.nc\n",
      "Downscaling.\n",
      "Loading file number  19 :  podaac-ops-cumulus-protected/MUR-JPL-L4-GLOB-v4.1/20020619090000-JPL-L4_GHRSST-SSTfnd-MUR-GLOB-v02.0-fv04.1.nc\n",
      "Downscaling.\n",
      "Loading file number  20 :  podaac-ops-cumulus-protected/MUR-JPL-L4-GLOB-v4.1/20020620090000-JPL-L4_GHRSST-SSTfnd-MUR-GLOB-v02.0-fv04.1.nc\n",
      "Downscaling.\n",
      "Loading file number  21 :  podaac-ops-cumulus-protected/MUR-JPL-L4-GLOB-v4.1/20020621090000-JPL-L4_GHRSST-SSTfnd-MUR-GLOB-v02.0-fv04.1.nc\n",
      "Downscaling.\n",
      "Loading file number  22 :  podaac-ops-cumulus-protected/MUR-JPL-L4-GLOB-v4.1/20020622090000-JPL-L4_GHRSST-SSTfnd-MUR-GLOB-v02.0-fv04.1.nc\n",
      "Downscaling.\n",
      "Loading file number  23 :  podaac-ops-cumulus-protected/MUR-JPL-L4-GLOB-v4.1/20020623090000-JPL-L4_GHRSST-SSTfnd-MUR-GLOB-v02.0-fv04.1.nc\n",
      "Downscaling.\n",
      "Loading file number  24 :  podaac-ops-cumulus-protected/MUR-JPL-L4-GLOB-v4.1/20020624090000-JPL-L4_GHRSST-SSTfnd-MUR-GLOB-v02.0-fv04.1.nc\n",
      "Downscaling.\n",
      "Loading file number  25 :  podaac-ops-cumulus-protected/MUR-JPL-L4-GLOB-v4.1/20020625090000-JPL-L4_GHRSST-SSTfnd-MUR-GLOB-v02.0-fv04.1.nc\n",
      "Downscaling.\n",
      "Loading file number  26 :  podaac-ops-cumulus-protected/MUR-JPL-L4-GLOB-v4.1/20020626090000-JPL-L4_GHRSST-SSTfnd-MUR-GLOB-v02.0-fv04.1.nc\n",
      "Downscaling.\n",
      "Loading file number  27 :  podaac-ops-cumulus-protected/MUR-JPL-L4-GLOB-v4.1/20020627090000-JPL-L4_GHRSST-SSTfnd-MUR-GLOB-v02.0-fv04.1.nc\n",
      "Downscaling.\n",
      "Loading file number  28 :  podaac-ops-cumulus-protected/MUR-JPL-L4-GLOB-v4.1/20020628090000-JPL-L4_GHRSST-SSTfnd-MUR-GLOB-v02.0-fv04.1.nc\n",
      "Downscaling.\n",
      "Loading file number  29 :  podaac-ops-cumulus-protected/MUR-JPL-L4-GLOB-v4.1/20020629090000-JPL-L4_GHRSST-SSTfnd-MUR-GLOB-v02.0-fv04.1.nc\n",
      "Downscaling.\n",
      "Loading file number  30 :  podaac-ops-cumulus-protected/MUR-JPL-L4-GLOB-v4.1/20020630090000-JPL-L4_GHRSST-SSTfnd-MUR-GLOB-v02.0-fv04.1.nc\n",
      "Downscaling.\n",
      "Loading file number  31 :  podaac-ops-cumulus-protected/MUR-JPL-L4-GLOB-v4.1/20020701090000-JPL-L4_GHRSST-SSTfnd-MUR-GLOB-v02.0-fv04.1.nc\n",
      "Downscaling.\n",
      "Loading file number  32 :  podaac-ops-cumulus-protected/MUR-JPL-L4-GLOB-v4.1/20020702090000-JPL-L4_GHRSST-SSTfnd-MUR-GLOB-v02.0-fv04.1.nc\n",
      "Downscaling.\n",
      "Loading file number  33 :  podaac-ops-cumulus-protected/MUR-JPL-L4-GLOB-v4.1/20020703090000-JPL-L4_GHRSST-SSTfnd-MUR-GLOB-v02.0-fv04.1.nc\n",
      "Downscaling.\n",
      "Loading file number  34 :  podaac-ops-cumulus-protected/MUR-JPL-L4-GLOB-v4.1/20020704090000-JPL-L4_GHRSST-SSTfnd-MUR-GLOB-v02.0-fv04.1.nc\n",
      "Downscaling.\n",
      "Loading file number  35 :  podaac-ops-cumulus-protected/MUR-JPL-L4-GLOB-v4.1/20020705090000-JPL-L4_GHRSST-SSTfnd-MUR-GLOB-v02.0-fv04.1.nc\n",
      "Downscaling.\n",
      "Loading file number  36 :  podaac-ops-cumulus-protected/MUR-JPL-L4-GLOB-v4.1/20020706090000-JPL-L4_GHRSST-SSTfnd-MUR-GLOB-v02.0-fv04.1.nc\n",
      "Downscaling.\n",
      "Loading file number  37 :  podaac-ops-cumulus-protected/MUR-JPL-L4-GLOB-v4.1/20020707090000-JPL-L4_GHRSST-SSTfnd-MUR-GLOB-v02.0-fv04.1.nc\n",
      "Downscaling.\n",
      "Loading file number  38 :  podaac-ops-cumulus-protected/MUR-JPL-L4-GLOB-v4.1/20020708090000-JPL-L4_GHRSST-SSTfnd-MUR-GLOB-v02.0-fv04.1.nc\n",
      "Downscaling.\n",
      "Loading file number  39 :  podaac-ops-cumulus-protected/MUR-JPL-L4-GLOB-v4.1/20020709090000-JPL-L4_GHRSST-SSTfnd-MUR-GLOB-v02.0-fv04.1.nc\n",
      "Downscaling.\n",
      "Loading file number  40 :  podaac-ops-cumulus-protected/MUR-JPL-L4-GLOB-v4.1/20020710090000-JPL-L4_GHRSST-SSTfnd-MUR-GLOB-v02.0-fv04.1.nc\n",
      "Downscaling.\n",
      "Loading file number  41 :  podaac-ops-cumulus-protected/MUR-JPL-L4-GLOB-v4.1/20020711090000-JPL-L4_GHRSST-SSTfnd-MUR-GLOB-v02.0-fv04.1.nc\n",
      "Downscaling.\n",
      "Loading file number  42 :  podaac-ops-cumulus-protected/MUR-JPL-L4-GLOB-v4.1/20020712090000-JPL-L4_GHRSST-SSTfnd-MUR-GLOB-v02.0-fv04.1.nc\n",
      "Downscaling.\n",
      "Loading file number  43 :  podaac-ops-cumulus-protected/MUR-JPL-L4-GLOB-v4.1/20020713090000-JPL-L4_GHRSST-SSTfnd-MUR-GLOB-v02.0-fv04.1.nc\n",
      "Downscaling.\n",
      "Loading file number  44 :  podaac-ops-cumulus-protected/MUR-JPL-L4-GLOB-v4.1/20020714090000-JPL-L4_GHRSST-SSTfnd-MUR-GLOB-v02.0-fv04.1.nc\n",
      "Downscaling.\n",
      "Loading file number  45 :  podaac-ops-cumulus-protected/MUR-JPL-L4-GLOB-v4.1/20020715090000-JPL-L4_GHRSST-SSTfnd-MUR-GLOB-v02.0-fv04.1.nc\n",
      "Downscaling.\n",
      "Loading file number  46 :  podaac-ops-cumulus-protected/MUR-JPL-L4-GLOB-v4.1/20020716090000-JPL-L4_GHRSST-SSTfnd-MUR-GLOB-v02.0-fv04.1.nc\n",
      "Downscaling.\n",
      "Loading file number  47 :  podaac-ops-cumulus-protected/MUR-JPL-L4-GLOB-v4.1/20020717090000-JPL-L4_GHRSST-SSTfnd-MUR-GLOB-v02.0-fv04.1.nc\n",
      "Downscaling.\n",
      "Loading file number  48 :  podaac-ops-cumulus-protected/MUR-JPL-L4-GLOB-v4.1/20020718090000-JPL-L4_GHRSST-SSTfnd-MUR-GLOB-v02.0-fv04.1.nc\n",
      "Downscaling.\n",
      "Loading file number  49 :  podaac-ops-cumulus-protected/MUR-JPL-L4-GLOB-v4.1/20020719090000-JPL-L4_GHRSST-SSTfnd-MUR-GLOB-v02.0-fv04.1.nc\n",
      "Downscaling.\n",
      "Loading file number  50 :  podaac-ops-cumulus-protected/MUR-JPL-L4-GLOB-v4.1/20020720090000-JPL-L4_GHRSST-SSTfnd-MUR-GLOB-v02.0-fv04.1.nc\n",
      "Downscaling.\n",
      "Loading file number  51 :  podaac-ops-cumulus-protected/MUR-JPL-L4-GLOB-v4.1/20020721090000-JPL-L4_GHRSST-SSTfnd-MUR-GLOB-v02.0-fv04.1.nc\n",
      "Downscaling.\n",
      "Loading file number  52 :  podaac-ops-cumulus-protected/MUR-JPL-L4-GLOB-v4.1/20020722090000-JPL-L4_GHRSST-SSTfnd-MUR-GLOB-v02.0-fv04.1.nc\n",
      "Downscaling.\n",
      "Loading file number  53 :  podaac-ops-cumulus-protected/MUR-JPL-L4-GLOB-v4.1/20020723090000-JPL-L4_GHRSST-SSTfnd-MUR-GLOB-v02.0-fv04.1.nc\n",
      "Downscaling.\n",
      "Loading file number  54 :  podaac-ops-cumulus-protected/MUR-JPL-L4-GLOB-v4.1/20020724090000-JPL-L4_GHRSST-SSTfnd-MUR-GLOB-v02.0-fv04.1.nc\n",
      "Downscaling.\n",
      "Loading file number  55 :  podaac-ops-cumulus-protected/MUR-JPL-L4-GLOB-v4.1/20020725090000-JPL-L4_GHRSST-SSTfnd-MUR-GLOB-v02.0-fv04.1.nc\n",
      "Downscaling.\n",
      "Loading file number  56 :  podaac-ops-cumulus-protected/MUR-JPL-L4-GLOB-v4.1/20020726090000-JPL-L4_GHRSST-SSTfnd-MUR-GLOB-v02.0-fv04.1.nc\n",
      "Downscaling.\n",
      "Loading file number  57 :  podaac-ops-cumulus-protected/MUR-JPL-L4-GLOB-v4.1/20020727090000-JPL-L4_GHRSST-SSTfnd-MUR-GLOB-v02.0-fv04.1.nc\n",
      "Downscaling.\n",
      "Loading file number  58 :  podaac-ops-cumulus-protected/MUR-JPL-L4-GLOB-v4.1/20020728090000-JPL-L4_GHRSST-SSTfnd-MUR-GLOB-v02.0-fv04.1.nc\n",
      "Downscaling.\n",
      "Loading file number  59 :  podaac-ops-cumulus-protected/MUR-JPL-L4-GLOB-v4.1/20020729090000-JPL-L4_GHRSST-SSTfnd-MUR-GLOB-v02.0-fv04.1.nc\n",
      "Downscaling.\n",
      "Loading file number  60 :  podaac-ops-cumulus-protected/MUR-JPL-L4-GLOB-v4.1/20020730090000-JPL-L4_GHRSST-SSTfnd-MUR-GLOB-v02.0-fv04.1.nc\n",
      "Downscaling.\n",
      "Loading file number  61 :  podaac-ops-cumulus-protected/MUR-JPL-L4-GLOB-v4.1/20020731090000-JPL-L4_GHRSST-SSTfnd-MUR-GLOB-v02.0-fv04.1.nc\n",
      "Downscaling.\n",
      "Loading file number  62 :  podaac-ops-cumulus-protected/MUR-JPL-L4-GLOB-v4.1/20020801090000-JPL-L4_GHRSST-SSTfnd-MUR-GLOB-v02.0-fv04.1.nc\n",
      "Downscaling.\n",
      "Loading file number  63 :  podaac-ops-cumulus-protected/MUR-JPL-L4-GLOB-v4.1/20020802090000-JPL-L4_GHRSST-SSTfnd-MUR-GLOB-v02.0-fv04.1.nc\n",
      "Downscaling.\n",
      "Loading file number  64 :  podaac-ops-cumulus-protected/MUR-JPL-L4-GLOB-v4.1/20020803090000-JPL-L4_GHRSST-SSTfnd-MUR-GLOB-v02.0-fv04.1.nc\n",
      "Downscaling.\n",
      "Loading file number  65 :  podaac-ops-cumulus-protected/MUR-JPL-L4-GLOB-v4.1/20020804090000-JPL-L4_GHRSST-SSTfnd-MUR-GLOB-v02.0-fv04.1.nc\n",
      "Downscaling.\n",
      "Loading file number  66 :  podaac-ops-cumulus-protected/MUR-JPL-L4-GLOB-v4.1/20020805090000-JPL-L4_GHRSST-SSTfnd-MUR-GLOB-v02.0-fv04.1.nc\n",
      "Downscaling.\n",
      "Loading file number  67 :  podaac-ops-cumulus-protected/MUR-JPL-L4-GLOB-v4.1/20020806090000-JPL-L4_GHRSST-SSTfnd-MUR-GLOB-v02.0-fv04.1.nc\n",
      "Downscaling.\n",
      "Loading file number  68 :  podaac-ops-cumulus-protected/MUR-JPL-L4-GLOB-v4.1/20020807090000-JPL-L4_GHRSST-SSTfnd-MUR-GLOB-v02.0-fv04.1.nc\n",
      "Downscaling.\n",
      "Loading file number  69 :  podaac-ops-cumulus-protected/MUR-JPL-L4-GLOB-v4.1/20020808090000-JPL-L4_GHRSST-SSTfnd-MUR-GLOB-v02.0-fv04.1.nc\n",
      "Downscaling.\n",
      "Loading file number  70 :  podaac-ops-cumulus-protected/MUR-JPL-L4-GLOB-v4.1/20020809090000-JPL-L4_GHRSST-SSTfnd-MUR-GLOB-v02.0-fv04.1.nc\n",
      "Downscaling.\n",
      "Loading file number  71 :  podaac-ops-cumulus-protected/MUR-JPL-L4-GLOB-v4.1/20020810090000-JPL-L4_GHRSST-SSTfnd-MUR-GLOB-v02.0-fv04.1.nc\n",
      "Downscaling.\n",
      "Loading file number  72 :  podaac-ops-cumulus-protected/MUR-JPL-L4-GLOB-v4.1/20020811090000-JPL-L4_GHRSST-SSTfnd-MUR-GLOB-v02.0-fv04.1.nc\n",
      "Downscaling.\n",
      "Loading file number  73 :  podaac-ops-cumulus-protected/MUR-JPL-L4-GLOB-v4.1/20020812090000-JPL-L4_GHRSST-SSTfnd-MUR-GLOB-v02.0-fv04.1.nc\n",
      "Downscaling.\n",
      "Loading file number  74 :  podaac-ops-cumulus-protected/MUR-JPL-L4-GLOB-v4.1/20020813090000-JPL-L4_GHRSST-SSTfnd-MUR-GLOB-v02.0-fv04.1.nc\n",
      "Downscaling.\n",
      "Loading file number  75 :  podaac-ops-cumulus-protected/MUR-JPL-L4-GLOB-v4.1/20020814090000-JPL-L4_GHRSST-SSTfnd-MUR-GLOB-v02.0-fv04.1.nc\n",
      "Downscaling.\n",
      "Loading file number  76 :  podaac-ops-cumulus-protected/MUR-JPL-L4-GLOB-v4.1/20020815090000-JPL-L4_GHRSST-SSTfnd-MUR-GLOB-v02.0-fv04.1.nc\n",
      "Downscaling.\n",
      "Loading file number  77 :  podaac-ops-cumulus-protected/MUR-JPL-L4-GLOB-v4.1/20020816090000-JPL-L4_GHRSST-SSTfnd-MUR-GLOB-v02.0-fv04.1.nc\n",
      "Downscaling.\n",
      "Loading file number  78 :  podaac-ops-cumulus-protected/MUR-JPL-L4-GLOB-v4.1/20020817090000-JPL-L4_GHRSST-SSTfnd-MUR-GLOB-v02.0-fv04.1.nc\n",
      "Downscaling.\n",
      "Loading file number  79 :  podaac-ops-cumulus-protected/MUR-JPL-L4-GLOB-v4.1/20020818090000-JPL-L4_GHRSST-SSTfnd-MUR-GLOB-v02.0-fv04.1.nc\n",
      "Downscaling.\n",
      "Loading file number  80 :  podaac-ops-cumulus-protected/MUR-JPL-L4-GLOB-v4.1/20020819090000-JPL-L4_GHRSST-SSTfnd-MUR-GLOB-v02.0-fv04.1.nc\n",
      "Downscaling.\n",
      "Loading file number  81 :  podaac-ops-cumulus-protected/MUR-JPL-L4-GLOB-v4.1/20020820090000-JPL-L4_GHRSST-SSTfnd-MUR-GLOB-v02.0-fv04.1.nc\n",
      "Downscaling.\n",
      "Loading file number  82 :  podaac-ops-cumulus-protected/MUR-JPL-L4-GLOB-v4.1/20020821090000-JPL-L4_GHRSST-SSTfnd-MUR-GLOB-v02.0-fv04.1.nc\n",
      "Downscaling.\n",
      "Loading file number  83 :  podaac-ops-cumulus-protected/MUR-JPL-L4-GLOB-v4.1/20020822090000-JPL-L4_GHRSST-SSTfnd-MUR-GLOB-v02.0-fv04.1.nc\n",
      "Downscaling.\n",
      "Loading file number  84 :  podaac-ops-cumulus-protected/MUR-JPL-L4-GLOB-v4.1/20020823090000-JPL-L4_GHRSST-SSTfnd-MUR-GLOB-v02.0-fv04.1.nc\n",
      "Downscaling.\n",
      "Loading file number  85 :  podaac-ops-cumulus-protected/MUR-JPL-L4-GLOB-v4.1/20020824090000-JPL-L4_GHRSST-SSTfnd-MUR-GLOB-v02.0-fv04.1.nc\n",
      "Downscaling.\n",
      "Loading file number  86 :  podaac-ops-cumulus-protected/MUR-JPL-L4-GLOB-v4.1/20020825090000-JPL-L4_GHRSST-SSTfnd-MUR-GLOB-v02.0-fv04.1.nc\n",
      "Downscaling.\n",
      "Loading file number  87 :  podaac-ops-cumulus-protected/MUR-JPL-L4-GLOB-v4.1/20020826090000-JPL-L4_GHRSST-SSTfnd-MUR-GLOB-v02.0-fv04.1.nc\n",
      "Downscaling.\n",
      "Loading file number  88 :  podaac-ops-cumulus-protected/MUR-JPL-L4-GLOB-v4.1/20020827090000-JPL-L4_GHRSST-SSTfnd-MUR-GLOB-v02.0-fv04.1.nc\n",
      "Downscaling.\n",
      "Loading file number  89 :  podaac-ops-cumulus-protected/MUR-JPL-L4-GLOB-v4.1/20020828090000-JPL-L4_GHRSST-SSTfnd-MUR-GLOB-v02.0-fv04.1.nc\n",
      "Downscaling.\n",
      "Loading file number  90 :  podaac-ops-cumulus-protected/MUR-JPL-L4-GLOB-v4.1/20020829090000-JPL-L4_GHRSST-SSTfnd-MUR-GLOB-v02.0-fv04.1.nc\n",
      "Downscaling.\n",
      "Loading file number  91 :  podaac-ops-cumulus-protected/MUR-JPL-L4-GLOB-v4.1/20020830090000-JPL-L4_GHRSST-SSTfnd-MUR-GLOB-v02.0-fv04.1.nc\n",
      "Downscaling.\n",
      "Loading file number  92 :  podaac-ops-cumulus-protected/MUR-JPL-L4-GLOB-v4.1/20020831090000-JPL-L4_GHRSST-SSTfnd-MUR-GLOB-v02.0-fv04.1.nc\n",
      "Downscaling.\n",
      "Loading file number  93 :  podaac-ops-cumulus-protected/MUR-JPL-L4-GLOB-v4.1/20020901090000-JPL-L4_GHRSST-SSTfnd-MUR-GLOB-v02.0-fv04.1.nc\n",
      "Downscaling.\n",
      "Loading file number  94 :  podaac-ops-cumulus-protected/MUR-JPL-L4-GLOB-v4.1/20020902090000-JPL-L4_GHRSST-SSTfnd-MUR-GLOB-v02.0-fv04.1.nc\n",
      "Downscaling.\n",
      "Loading file number  95 :  podaac-ops-cumulus-protected/MUR-JPL-L4-GLOB-v4.1/20020903090000-JPL-L4_GHRSST-SSTfnd-MUR-GLOB-v02.0-fv04.1.nc\n",
      "Downscaling.\n",
      "Loading file number  96 :  podaac-ops-cumulus-protected/MUR-JPL-L4-GLOB-v4.1/20020904090000-JPL-L4_GHRSST-SSTfnd-MUR-GLOB-v02.0-fv04.1.nc\n",
      "Downscaling.\n",
      "Loading file number  97 :  podaac-ops-cumulus-protected/MUR-JPL-L4-GLOB-v4.1/20020905090000-JPL-L4_GHRSST-SSTfnd-MUR-GLOB-v02.0-fv04.1.nc\n",
      "Downscaling.\n",
      "Loading file number  98 :  podaac-ops-cumulus-protected/MUR-JPL-L4-GLOB-v4.1/20020906090000-JPL-L4_GHRSST-SSTfnd-MUR-GLOB-v02.0-fv04.1.nc\n",
      "Downscaling.\n",
      "Loading file number  99 :  podaac-ops-cumulus-protected/MUR-JPL-L4-GLOB-v4.1/20020907090000-JPL-L4_GHRSST-SSTfnd-MUR-GLOB-v02.0-fv04.1.nc\n",
      "Downscaling.\n",
      "Loading file number  100 :  podaac-ops-cumulus-protected/MUR-JPL-L4-GLOB-v4.1/20020908090000-JPL-L4_GHRSST-SSTfnd-MUR-GLOB-v02.0-fv04.1.nc\n",
      "Downscaling.\n",
      "Loading file number  101 :  podaac-ops-cumulus-protected/MUR-JPL-L4-GLOB-v4.1/20020909090000-JPL-L4_GHRSST-SSTfnd-MUR-GLOB-v02.0-fv04.1.nc\n",
      "Downscaling.\n",
      "Loading file number  102 :  podaac-ops-cumulus-protected/MUR-JPL-L4-GLOB-v4.1/20020910090000-JPL-L4_GHRSST-SSTfnd-MUR-GLOB-v02.0-fv04.1.nc\n",
      "Downscaling.\n",
      "Loading file number  103 :  podaac-ops-cumulus-protected/MUR-JPL-L4-GLOB-v4.1/20020911090000-JPL-L4_GHRSST-SSTfnd-MUR-GLOB-v02.0-fv04.1.nc\n",
      "Downscaling.\n",
      "Loading file number  104 :  podaac-ops-cumulus-protected/MUR-JPL-L4-GLOB-v4.1/20020912090000-JPL-L4_GHRSST-SSTfnd-MUR-GLOB-v02.0-fv04.1.nc\n",
      "Downscaling.\n",
      "Loading file number  105 :  podaac-ops-cumulus-protected/MUR-JPL-L4-GLOB-v4.1/20020913090000-JPL-L4_GHRSST-SSTfnd-MUR-GLOB-v02.0-fv04.1.nc\n",
      "Downscaling.\n",
      "Loading file number  106 :  podaac-ops-cumulus-protected/MUR-JPL-L4-GLOB-v4.1/20020914090000-JPL-L4_GHRSST-SSTfnd-MUR-GLOB-v02.0-fv04.1.nc\n",
      "Downscaling.\n",
      "Loading file number  107 :  podaac-ops-cumulus-protected/MUR-JPL-L4-GLOB-v4.1/20020915090000-JPL-L4_GHRSST-SSTfnd-MUR-GLOB-v02.0-fv04.1.nc\n",
      "Downscaling.\n",
      "Loading file number  108 :  podaac-ops-cumulus-protected/MUR-JPL-L4-GLOB-v4.1/20020916090000-JPL-L4_GHRSST-SSTfnd-MUR-GLOB-v02.0-fv04.1.nc\n",
      "Downscaling.\n",
      "Loading file number  109 :  podaac-ops-cumulus-protected/MUR-JPL-L4-GLOB-v4.1/20020917090000-JPL-L4_GHRSST-SSTfnd-MUR-GLOB-v02.0-fv04.1.nc\n",
      "Downscaling.\n",
      "Loading file number  110 :  podaac-ops-cumulus-protected/MUR-JPL-L4-GLOB-v4.1/20020918090000-JPL-L4_GHRSST-SSTfnd-MUR-GLOB-v02.0-fv04.1.nc\n",
      "Downscaling.\n",
      "Loading file number  111 :  podaac-ops-cumulus-protected/MUR-JPL-L4-GLOB-v4.1/20020919090000-JPL-L4_GHRSST-SSTfnd-MUR-GLOB-v02.0-fv04.1.nc\n",
      "Downscaling.\n",
      "Loading file number  112 :  podaac-ops-cumulus-protected/MUR-JPL-L4-GLOB-v4.1/20020920090000-JPL-L4_GHRSST-SSTfnd-MUR-GLOB-v02.0-fv04.1.nc\n",
      "Downscaling.\n",
      "Loading file number  113 :  podaac-ops-cumulus-protected/MUR-JPL-L4-GLOB-v4.1/20020921090000-JPL-L4_GHRSST-SSTfnd-MUR-GLOB-v02.0-fv04.1.nc\n",
      "Downscaling.\n",
      "Loading file number  114 :  podaac-ops-cumulus-protected/MUR-JPL-L4-GLOB-v4.1/20020922090000-JPL-L4_GHRSST-SSTfnd-MUR-GLOB-v02.0-fv04.1.nc\n",
      "Downscaling.\n",
      "Loading file number  115 :  podaac-ops-cumulus-protected/MUR-JPL-L4-GLOB-v4.1/20020923090000-JPL-L4_GHRSST-SSTfnd-MUR-GLOB-v02.0-fv04.1.nc\n",
      "Downscaling.\n",
      "Loading file number  116 :  podaac-ops-cumulus-protected/MUR-JPL-L4-GLOB-v4.1/20020924090000-JPL-L4_GHRSST-SSTfnd-MUR-GLOB-v02.0-fv04.1.nc\n",
      "Downscaling.\n",
      "Loading file number  117 :  podaac-ops-cumulus-protected/MUR-JPL-L4-GLOB-v4.1/20020925090000-JPL-L4_GHRSST-SSTfnd-MUR-GLOB-v02.0-fv04.1.nc\n",
      "Downscaling.\n",
      "Loading file number  118 :  podaac-ops-cumulus-protected/MUR-JPL-L4-GLOB-v4.1/20020926090000-JPL-L4_GHRSST-SSTfnd-MUR-GLOB-v02.0-fv04.1.nc\n",
      "Downscaling.\n",
      "Loading file number  119 :  podaac-ops-cumulus-protected/MUR-JPL-L4-GLOB-v4.1/20020927090000-JPL-L4_GHRSST-SSTfnd-MUR-GLOB-v02.0-fv04.1.nc\n",
      "Downscaling.\n",
      "Loading file number  120 :  podaac-ops-cumulus-protected/MUR-JPL-L4-GLOB-v4.1/20020928090000-JPL-L4_GHRSST-SSTfnd-MUR-GLOB-v02.0-fv04.1.nc\n",
      "Downscaling.\n",
      "Loading file number  121 :  podaac-ops-cumulus-protected/MUR-JPL-L4-GLOB-v4.1/20020929090000-JPL-L4_GHRSST-SSTfnd-MUR-GLOB-v02.0-fv04.1.nc\n",
      "Downscaling.\n",
      "Loading file number  122 :  podaac-ops-cumulus-protected/MUR-JPL-L4-GLOB-v4.1/20020930090000-JPL-L4_GHRSST-SSTfnd-MUR-GLOB-v02.0-fv04.1.nc\n",
      "Downscaling.\n",
      "Loading file number  123 :  podaac-ops-cumulus-protected/MUR-JPL-L4-GLOB-v4.1/20021001090000-JPL-L4_GHRSST-SSTfnd-MUR-GLOB-v02.0-fv04.1.nc\n",
      "Downscaling.\n",
      "Loading file number  124 :  podaac-ops-cumulus-protected/MUR-JPL-L4-GLOB-v4.1/20021002090000-JPL-L4_GHRSST-SSTfnd-MUR-GLOB-v02.0-fv04.1.nc\n",
      "Downscaling.\n",
      "Loading file number  125 :  podaac-ops-cumulus-protected/MUR-JPL-L4-GLOB-v4.1/20021003090000-JPL-L4_GHRSST-SSTfnd-MUR-GLOB-v02.0-fv04.1.nc\n",
      "Downscaling.\n",
      "Loading file number  126 :  podaac-ops-cumulus-protected/MUR-JPL-L4-GLOB-v4.1/20021004090000-JPL-L4_GHRSST-SSTfnd-MUR-GLOB-v02.0-fv04.1.nc\n",
      "Downscaling.\n",
      "Loading file number  127 :  podaac-ops-cumulus-protected/MUR-JPL-L4-GLOB-v4.1/20021005090000-JPL-L4_GHRSST-SSTfnd-MUR-GLOB-v02.0-fv04.1.nc\n",
      "Downscaling.\n",
      "Loading file number  128 :  podaac-ops-cumulus-protected/MUR-JPL-L4-GLOB-v4.1/20021006090000-JPL-L4_GHRSST-SSTfnd-MUR-GLOB-v02.0-fv04.1.nc\n",
      "Downscaling.\n",
      "Loading file number  129 :  podaac-ops-cumulus-protected/MUR-JPL-L4-GLOB-v4.1/20021007090000-JPL-L4_GHRSST-SSTfnd-MUR-GLOB-v02.0-fv04.1.nc\n",
      "Downscaling.\n",
      "Loading file number  130 :  podaac-ops-cumulus-protected/MUR-JPL-L4-GLOB-v4.1/20021008090000-JPL-L4_GHRSST-SSTfnd-MUR-GLOB-v02.0-fv04.1.nc\n",
      "Downscaling.\n",
      "Loading file number  131 :  podaac-ops-cumulus-protected/MUR-JPL-L4-GLOB-v4.1/20021009090000-JPL-L4_GHRSST-SSTfnd-MUR-GLOB-v02.0-fv04.1.nc\n",
      "Downscaling.\n",
      "Loading file number  132 :  podaac-ops-cumulus-protected/MUR-JPL-L4-GLOB-v4.1/20021010090000-JPL-L4_GHRSST-SSTfnd-MUR-GLOB-v02.0-fv04.1.nc\n",
      "Downscaling.\n",
      "Loading file number  133 :  podaac-ops-cumulus-protected/MUR-JPL-L4-GLOB-v4.1/20021011090000-JPL-L4_GHRSST-SSTfnd-MUR-GLOB-v02.0-fv04.1.nc\n",
      "Downscaling.\n",
      "Loading file number  134 :  podaac-ops-cumulus-protected/MUR-JPL-L4-GLOB-v4.1/20021012090000-JPL-L4_GHRSST-SSTfnd-MUR-GLOB-v02.0-fv04.1.nc\n",
      "Downscaling.\n",
      "Loading file number  135 :  podaac-ops-cumulus-protected/MUR-JPL-L4-GLOB-v4.1/20021013090000-JPL-L4_GHRSST-SSTfnd-MUR-GLOB-v02.0-fv04.1.nc\n",
      "Downscaling.\n",
      "Loading file number  136 :  podaac-ops-cumulus-protected/MUR-JPL-L4-GLOB-v4.1/20021014090000-JPL-L4_GHRSST-SSTfnd-MUR-GLOB-v02.0-fv04.1.nc\n",
      "Downscaling.\n",
      "Loading file number  137 :  podaac-ops-cumulus-protected/MUR-JPL-L4-GLOB-v4.1/20021015090000-JPL-L4_GHRSST-SSTfnd-MUR-GLOB-v02.0-fv04.1.nc\n",
      "Downscaling.\n",
      "Loading file number  138 :  podaac-ops-cumulus-protected/MUR-JPL-L4-GLOB-v4.1/20021016090000-JPL-L4_GHRSST-SSTfnd-MUR-GLOB-v02.0-fv04.1.nc\n",
      "Downscaling.\n",
      "Loading file number  139 :  podaac-ops-cumulus-protected/MUR-JPL-L4-GLOB-v4.1/20021017090000-JPL-L4_GHRSST-SSTfnd-MUR-GLOB-v02.0-fv04.1.nc\n",
      "Downscaling.\n",
      "Loading file number  140 :  podaac-ops-cumulus-protected/MUR-JPL-L4-GLOB-v4.1/20021018090000-JPL-L4_GHRSST-SSTfnd-MUR-GLOB-v02.0-fv04.1.nc\n",
      "Downscaling.\n",
      "Loading file number  141 :  podaac-ops-cumulus-protected/MUR-JPL-L4-GLOB-v4.1/20021019090000-JPL-L4_GHRSST-SSTfnd-MUR-GLOB-v02.0-fv04.1.nc\n",
      "Downscaling.\n",
      "Loading file number  142 :  podaac-ops-cumulus-protected/MUR-JPL-L4-GLOB-v4.1/20021020090000-JPL-L4_GHRSST-SSTfnd-MUR-GLOB-v02.0-fv04.1.nc\n",
      "Downscaling.\n",
      "Loading file number  143 :  podaac-ops-cumulus-protected/MUR-JPL-L4-GLOB-v4.1/20021021090000-JPL-L4_GHRSST-SSTfnd-MUR-GLOB-v02.0-fv04.1.nc\n",
      "Downscaling.\n",
      "Loading file number  144 :  podaac-ops-cumulus-protected/MUR-JPL-L4-GLOB-v4.1/20021022090000-JPL-L4_GHRSST-SSTfnd-MUR-GLOB-v02.0-fv04.1.nc\n",
      "Downscaling.\n",
      "Loading file number  145 :  podaac-ops-cumulus-protected/MUR-JPL-L4-GLOB-v4.1/20021023090000-JPL-L4_GHRSST-SSTfnd-MUR-GLOB-v02.0-fv04.1.nc\n",
      "Downscaling.\n",
      "Loading file number  146 :  podaac-ops-cumulus-protected/MUR-JPL-L4-GLOB-v4.1/20021024090000-JPL-L4_GHRSST-SSTfnd-MUR-GLOB-v02.0-fv04.1.nc\n",
      "Downscaling.\n",
      "Loading file number  147 :  podaac-ops-cumulus-protected/MUR-JPL-L4-GLOB-v4.1/20021025090000-JPL-L4_GHRSST-SSTfnd-MUR-GLOB-v02.0-fv04.1.nc\n",
      "Downscaling.\n",
      "Loading file number  148 :  podaac-ops-cumulus-protected/MUR-JPL-L4-GLOB-v4.1/20021026090000-JPL-L4_GHRSST-SSTfnd-MUR-GLOB-v02.0-fv04.1.nc\n",
      "Downscaling.\n",
      "Loading file number  149 :  podaac-ops-cumulus-protected/MUR-JPL-L4-GLOB-v4.1/20021027090000-JPL-L4_GHRSST-SSTfnd-MUR-GLOB-v02.0-fv04.1.nc\n",
      "Downscaling.\n",
      "Loading file number  150 :  podaac-ops-cumulus-protected/MUR-JPL-L4-GLOB-v4.1/20021028090000-JPL-L4_GHRSST-SSTfnd-MUR-GLOB-v02.0-fv04.1.nc\n",
      "Downscaling.\n",
      "Loading file number  151 :  podaac-ops-cumulus-protected/MUR-JPL-L4-GLOB-v4.1/20021029090000-JPL-L4_GHRSST-SSTfnd-MUR-GLOB-v02.0-fv04.1.nc\n",
      "Downscaling.\n",
      "Loading file number  152 :  podaac-ops-cumulus-protected/MUR-JPL-L4-GLOB-v4.1/20021030090000-JPL-L4_GHRSST-SSTfnd-MUR-GLOB-v02.0-fv04.1.nc\n",
      "Downscaling.\n",
      "Loading file number  153 :  podaac-ops-cumulus-protected/MUR-JPL-L4-GLOB-v4.1/20021031090000-JPL-L4_GHRSST-SSTfnd-MUR-GLOB-v02.0-fv04.1.nc\n",
      "Downscaling.\n",
      "Loading file number  154 :  podaac-ops-cumulus-protected/MUR-JPL-L4-GLOB-v4.1/20021101090000-JPL-L4_GHRSST-SSTfnd-MUR-GLOB-v02.0-fv04.1.nc\n",
      "Downscaling.\n",
      "Loading file number  155 :  podaac-ops-cumulus-protected/MUR-JPL-L4-GLOB-v4.1/20021102090000-JPL-L4_GHRSST-SSTfnd-MUR-GLOB-v02.0-fv04.1.nc\n",
      "Downscaling.\n",
      "Loading file number  156 :  podaac-ops-cumulus-protected/MUR-JPL-L4-GLOB-v4.1/20021103090000-JPL-L4_GHRSST-SSTfnd-MUR-GLOB-v02.0-fv04.1.nc\n",
      "Downscaling.\n",
      "Loading file number  157 :  podaac-ops-cumulus-protected/MUR-JPL-L4-GLOB-v4.1/20021104090000-JPL-L4_GHRSST-SSTfnd-MUR-GLOB-v02.0-fv04.1.nc\n",
      "Downscaling.\n",
      "Loading file number  158 :  podaac-ops-cumulus-protected/MUR-JPL-L4-GLOB-v4.1/20021105090000-JPL-L4_GHRSST-SSTfnd-MUR-GLOB-v02.0-fv04.1.nc\n",
      "Downscaling.\n",
      "Loading file number  159 :  podaac-ops-cumulus-protected/MUR-JPL-L4-GLOB-v4.1/20021106090000-JPL-L4_GHRSST-SSTfnd-MUR-GLOB-v02.0-fv04.1.nc\n",
      "Downscaling.\n",
      "Loading file number  160 :  podaac-ops-cumulus-protected/MUR-JPL-L4-GLOB-v4.1/20021107090000-JPL-L4_GHRSST-SSTfnd-MUR-GLOB-v02.0-fv04.1.nc\n",
      "Downscaling.\n",
      "Loading file number  161 :  podaac-ops-cumulus-protected/MUR-JPL-L4-GLOB-v4.1/20021108090000-JPL-L4_GHRSST-SSTfnd-MUR-GLOB-v02.0-fv04.1.nc\n",
      "Downscaling.\n",
      "Loading file number  162 :  podaac-ops-cumulus-protected/MUR-JPL-L4-GLOB-v4.1/20021109090000-JPL-L4_GHRSST-SSTfnd-MUR-GLOB-v02.0-fv04.1.nc\n",
      "Downscaling.\n",
      "Loading file number  163 :  podaac-ops-cumulus-protected/MUR-JPL-L4-GLOB-v4.1/20021110090000-JPL-L4_GHRSST-SSTfnd-MUR-GLOB-v02.0-fv04.1.nc\n",
      "Downscaling.\n",
      "Loading file number  164 :  podaac-ops-cumulus-protected/MUR-JPL-L4-GLOB-v4.1/20021111090000-JPL-L4_GHRSST-SSTfnd-MUR-GLOB-v02.0-fv04.1.nc\n",
      "Downscaling.\n",
      "Loading file number  165 :  podaac-ops-cumulus-protected/MUR-JPL-L4-GLOB-v4.1/20021112090000-JPL-L4_GHRSST-SSTfnd-MUR-GLOB-v02.0-fv04.1.nc\n",
      "Downscaling.\n",
      "Loading file number  166 :  podaac-ops-cumulus-protected/MUR-JPL-L4-GLOB-v4.1/20021113090000-JPL-L4_GHRSST-SSTfnd-MUR-GLOB-v02.0-fv04.1.nc\n",
      "Downscaling.\n",
      "Loading file number  167 :  podaac-ops-cumulus-protected/MUR-JPL-L4-GLOB-v4.1/20021114090000-JPL-L4_GHRSST-SSTfnd-MUR-GLOB-v02.0-fv04.1.nc\n",
      "Downscaling.\n",
      "Loading file number  168 :  podaac-ops-cumulus-protected/MUR-JPL-L4-GLOB-v4.1/20021115090000-JPL-L4_GHRSST-SSTfnd-MUR-GLOB-v02.0-fv04.1.nc\n",
      "Downscaling.\n",
      "Loading file number  169 :  podaac-ops-cumulus-protected/MUR-JPL-L4-GLOB-v4.1/20021116090000-JPL-L4_GHRSST-SSTfnd-MUR-GLOB-v02.0-fv04.1.nc\n",
      "Downscaling.\n",
      "Loading file number  170 :  podaac-ops-cumulus-protected/MUR-JPL-L4-GLOB-v4.1/20021117090000-JPL-L4_GHRSST-SSTfnd-MUR-GLOB-v02.0-fv04.1.nc\n",
      "Downscaling.\n",
      "Loading file number  171 :  podaac-ops-cumulus-protected/MUR-JPL-L4-GLOB-v4.1/20021118090000-JPL-L4_GHRSST-SSTfnd-MUR-GLOB-v02.0-fv04.1.nc\n",
      "Downscaling.\n",
      "Loading file number  172 :  podaac-ops-cumulus-protected/MUR-JPL-L4-GLOB-v4.1/20021119090000-JPL-L4_GHRSST-SSTfnd-MUR-GLOB-v02.0-fv04.1.nc\n",
      "Downscaling.\n",
      "Loading file number  173 :  podaac-ops-cumulus-protected/MUR-JPL-L4-GLOB-v4.1/20021120090000-JPL-L4_GHRSST-SSTfnd-MUR-GLOB-v02.0-fv04.1.nc\n",
      "Downscaling.\n",
      "Loading file number  174 :  podaac-ops-cumulus-protected/MUR-JPL-L4-GLOB-v4.1/20021121090000-JPL-L4_GHRSST-SSTfnd-MUR-GLOB-v02.0-fv04.1.nc\n",
      "Downscaling.\n",
      "Loading file number  175 :  podaac-ops-cumulus-protected/MUR-JPL-L4-GLOB-v4.1/20021122090000-JPL-L4_GHRSST-SSTfnd-MUR-GLOB-v02.0-fv04.1.nc\n",
      "Downscaling.\n",
      "Loading file number  176 :  podaac-ops-cumulus-protected/MUR-JPL-L4-GLOB-v4.1/20021123090000-JPL-L4_GHRSST-SSTfnd-MUR-GLOB-v02.0-fv04.1.nc\n",
      "Downscaling.\n",
      "Loading file number  177 :  podaac-ops-cumulus-protected/MUR-JPL-L4-GLOB-v4.1/20021124090000-JPL-L4_GHRSST-SSTfnd-MUR-GLOB-v02.0-fv04.1.nc\n",
      "Downscaling.\n",
      "Loading file number  178 :  podaac-ops-cumulus-protected/MUR-JPL-L4-GLOB-v4.1/20021125090000-JPL-L4_GHRSST-SSTfnd-MUR-GLOB-v02.0-fv04.1.nc\n",
      "Downscaling.\n",
      "Loading file number  179 :  podaac-ops-cumulus-protected/MUR-JPL-L4-GLOB-v4.1/20021126090000-JPL-L4_GHRSST-SSTfnd-MUR-GLOB-v02.0-fv04.1.nc\n",
      "Downscaling.\n",
      "Loading file number  180 :  podaac-ops-cumulus-protected/MUR-JPL-L4-GLOB-v4.1/20021127090000-JPL-L4_GHRSST-SSTfnd-MUR-GLOB-v02.0-fv04.1.nc\n",
      "Downscaling.\n",
      "Loading file number  181 :  podaac-ops-cumulus-protected/MUR-JPL-L4-GLOB-v4.1/20021128090000-JPL-L4_GHRSST-SSTfnd-MUR-GLOB-v02.0-fv04.1.nc\n",
      "Downscaling.\n",
      "Loading file number  182 :  podaac-ops-cumulus-protected/MUR-JPL-L4-GLOB-v4.1/20021129090000-JPL-L4_GHRSST-SSTfnd-MUR-GLOB-v02.0-fv04.1.nc\n",
      "Downscaling.\n",
      "Loading file number  183 :  podaac-ops-cumulus-protected/MUR-JPL-L4-GLOB-v4.1/20021130090000-JPL-L4_GHRSST-SSTfnd-MUR-GLOB-v02.0-fv04.1.nc\n",
      "Downscaling.\n",
      "Loading file number  184 :  podaac-ops-cumulus-protected/MUR-JPL-L4-GLOB-v4.1/20021201090000-JPL-L4_GHRSST-SSTfnd-MUR-GLOB-v02.0-fv04.1.nc\n",
      "Downscaling.\n",
      "Loading file number  185 :  podaac-ops-cumulus-protected/MUR-JPL-L4-GLOB-v4.1/20021202090000-JPL-L4_GHRSST-SSTfnd-MUR-GLOB-v02.0-fv04.1.nc\n",
      "Downscaling.\n",
      "Loading file number  186 :  podaac-ops-cumulus-protected/MUR-JPL-L4-GLOB-v4.1/20021203090000-JPL-L4_GHRSST-SSTfnd-MUR-GLOB-v02.0-fv04.1.nc\n",
      "Downscaling.\n",
      "Loading file number  187 :  podaac-ops-cumulus-protected/MUR-JPL-L4-GLOB-v4.1/20021204090000-JPL-L4_GHRSST-SSTfnd-MUR-GLOB-v02.0-fv04.1.nc\n",
      "Downscaling.\n",
      "Loading file number  188 :  podaac-ops-cumulus-protected/MUR-JPL-L4-GLOB-v4.1/20021205090000-JPL-L4_GHRSST-SSTfnd-MUR-GLOB-v02.0-fv04.1.nc\n",
      "Downscaling.\n",
      "Loading file number  189 :  podaac-ops-cumulus-protected/MUR-JPL-L4-GLOB-v4.1/20021206090000-JPL-L4_GHRSST-SSTfnd-MUR-GLOB-v02.0-fv04.1.nc\n",
      "Downscaling.\n",
      "Loading file number  190 :  podaac-ops-cumulus-protected/MUR-JPL-L4-GLOB-v4.1/20021207090000-JPL-L4_GHRSST-SSTfnd-MUR-GLOB-v02.0-fv04.1.nc\n",
      "Downscaling.\n",
      "Loading file number  191 :  podaac-ops-cumulus-protected/MUR-JPL-L4-GLOB-v4.1/20021208090000-JPL-L4_GHRSST-SSTfnd-MUR-GLOB-v02.0-fv04.1.nc\n",
      "Downscaling.\n",
      "Loading file number  192 :  podaac-ops-cumulus-protected/MUR-JPL-L4-GLOB-v4.1/20021209090000-JPL-L4_GHRSST-SSTfnd-MUR-GLOB-v02.0-fv04.1.nc\n",
      "Downscaling.\n",
      "Loading file number  193 :  podaac-ops-cumulus-protected/MUR-JPL-L4-GLOB-v4.1/20021210090000-JPL-L4_GHRSST-SSTfnd-MUR-GLOB-v02.0-fv04.1.nc\n",
      "Downscaling.\n",
      "Loading file number  194 :  podaac-ops-cumulus-protected/MUR-JPL-L4-GLOB-v4.1/20021211090000-JPL-L4_GHRSST-SSTfnd-MUR-GLOB-v02.0-fv04.1.nc\n",
      "Downscaling.\n",
      "Loading file number  195 :  podaac-ops-cumulus-protected/MUR-JPL-L4-GLOB-v4.1/20021212090000-JPL-L4_GHRSST-SSTfnd-MUR-GLOB-v02.0-fv04.1.nc\n",
      "Downscaling.\n",
      "Loading file number  196 :  podaac-ops-cumulus-protected/MUR-JPL-L4-GLOB-v4.1/20021213090000-JPL-L4_GHRSST-SSTfnd-MUR-GLOB-v02.0-fv04.1.nc\n",
      "Downscaling.\n",
      "Loading file number  197 :  podaac-ops-cumulus-protected/MUR-JPL-L4-GLOB-v4.1/20021214090000-JPL-L4_GHRSST-SSTfnd-MUR-GLOB-v02.0-fv04.1.nc\n",
      "Downscaling.\n",
      "Loading file number  198 :  podaac-ops-cumulus-protected/MUR-JPL-L4-GLOB-v4.1/20021215090000-JPL-L4_GHRSST-SSTfnd-MUR-GLOB-v02.0-fv04.1.nc\n",
      "Downscaling.\n",
      "Loading file number  199 :  podaac-ops-cumulus-protected/MUR-JPL-L4-GLOB-v4.1/20021216090000-JPL-L4_GHRSST-SSTfnd-MUR-GLOB-v02.0-fv04.1.nc\n",
      "Downscaling.\n",
      "Loading file number  200 :  podaac-ops-cumulus-protected/MUR-JPL-L4-GLOB-v4.1/20021217090000-JPL-L4_GHRSST-SSTfnd-MUR-GLOB-v02.0-fv04.1.nc\n",
      "Downscaling.\n"
     ]
    }
   ],
   "source": [
    "# Run downscale for all or a subset of the MUR files:\n",
    "fns_downscale = fns[:200] # Files to downscale.\n",
    "exectimes = load_and_downscale(fs_s3, fns_downscale)"
   ]
  },
  {
   "cell_type": "code",
   "execution_count": 28,
   "id": "6bdcf91e-2533-4e4c-8e57-8275b4bfd80f",
   "metadata": {},
   "outputs": [
    {
     "name": "stdout",
     "output_type": "stream",
     "text": [
      "[49.10705304145813, 44.40025305747986, 43.535573959350586, 42.30505728721619, 46.91578006744385, 42.78103232383728, 42.33134913444519, 47.5928750038147, 47.1717414855957, 49.991981506347656, 43.99895405769348, 43.03749918937683, 47.47716808319092, 47.988789081573486, 46.67377042770386, 46.58236074447632, 41.95031666755676, 44.268667221069336, 44.49359941482544, 47.87984895706177, 42.20066046714783, 46.10789155960083, 42.14349937438965, 42.53711295127869, 43.20109295845032, 43.25973081588745, 47.1577684879303, 45.92064309120178, 46.943493604660034, 45.7447874546051, 43.10818600654602, 47.09110999107361, 46.226802349090576, 44.4386727809906, 42.284015417099, 43.11628341674805, 42.60962891578674, 47.46752214431763, 42.809688329696655, 45.06207060813904, 43.86503601074219, 41.59354019165039, 43.086119651794434, 42.659523248672485, 47.408276319503784, 47.8544647693634, 48.3838996887207, 44.18834090232849, 47.595393896102905, 48.06768202781677, 44.88863825798035, 43.92991852760315, 45.98693251609802, 43.70135426521301, 46.18517732620239, 43.625781536102295, 46.485663652420044, 43.829493045806885, 43.80403208732605, 47.895538330078125, 44.642674922943115, 43.73237657546997, 44.30878162384033, 49.48359656333923, 42.20559477806091, 43.1855788230896, 43.94766283035278, 48.81842398643494, 48.398781538009644, 42.37585926055908, 45.26708459854126, 43.99790692329407, 47.76887011528015, 43.42795372009277, 47.40679669380188, 49.20541477203369, 50.23821496963501, 44.983604192733765, 43.79080033302307, 48.50688171386719, 44.8570020198822, 48.17703127861023, 43.893336057662964, 42.528481245040894, 44.74472784996033, 44.85948395729065, 43.17542910575867, 43.85702466964722, 42.89420986175537, 43.524200439453125, 46.47189903259277, 44.86776423454285, 49.695069551467896, 45.650267601013184, 45.15131115913391, 44.678460121154785, 43.24670362472534, 43.524685859680176, 43.50054717063904, 42.681215047836304, 42.89879083633423, 42.32815074920654, 46.794257164001465, 47.014695167541504, 42.061190128326416, 43.47440576553345, 48.64299416542053, 46.1229293346405, 49.33806610107422, 42.23987817764282, 45.45614838600159, 41.866291761398315, 42.73946475982666, 44.012725830078125, 48.21370816230774, 42.13835382461548, 42.72240853309631, 48.34419822692871, 44.47162318229675, 42.983234167099, 47.57999062538147, 42.78907370567322, 43.15534543991089, 49.595765113830566, 48.135377168655396, 43.522754192352295, 42.171619176864624, 50.028672218322754, 42.07736396789551, 44.82193684577942, 44.65791940689087, 42.48688864707947, 47.712082862854004, 47.959327697753906, 43.64029145240784, 49.08167219161987, 45.091633558273315, 41.74646043777466, 49.38365340232849, 43.681445360183716, 47.50637698173523, 48.09736132621765, 47.71627402305603, 42.93544054031372, 46.90181016921997, 43.046449422836304, 43.98062443733215, 42.57468318939209, 48.05133128166199, 49.06590795516968, 48.40150308609009, 45.01503610610962, 44.40511345863342, 43.57161259651184, 42.69907593727112, 44.39874076843262, 44.70794105529785, 48.346290588378906, 43.90549278259277, 47.088937282562256, 45.40936303138733, 49.107635498046875, 50.08331108093262, 44.28786611557007, 43.26846218109131, 44.43293380737305, 44.59766173362732, 44.20362114906311, 45.17034029960632, 45.10856604576111, 43.58098244667053, 44.27710771560669, 44.693419456481934, 47.77262783050537, 42.388402223587036, 45.755043029785156, 43.55898189544678, 42.13858079910278, 48.59398794174194, 46.36926054954529, 43.249149560928345, 44.24780344963074, 43.45923113822937, 43.810945987701416, 42.468812704086304, 42.862279653549194, 42.623169898986816, 42.9600510597229, 44.45082759857178, 43.80938196182251, 44.38136839866638, 46.973045349121094, 49.23686480522156, 42.43261194229126, 43.32688665390015, 47.69959807395935, 47.555726766586304, 47.24913001060486, 43.937498569488525, 46.58178687095642]\n"
     ]
    }
   ],
   "source": [
    "print(timekeep)"
   ]
  },
  {
   "cell_type": "code",
   "execution_count": 29,
   "id": "a73f6b8a-3556-4361-b810-2ca1b676b736",
   "metadata": {},
   "outputs": [],
   "source": [
    "exectimes = timekeep"
   ]
  },
  {
   "cell_type": "markdown",
   "id": "7f14fd4b-e7ae-4de4-97d3-b798663ba726",
   "metadata": {},
   "source": [
    "## Save execution time results to .csv"
   ]
  },
  {
   "cell_type": "code",
   "execution_count": 31,
   "id": "9e698af7-2660-4a60-b9cb-9643c67e95ec",
   "metadata": {},
   "outputs": [],
   "source": [
    "# Compute total execution time as a function of files processed:\n",
    "exectimes_total = []\n",
    "exectimes_total.append(exectimes[0])\n",
    "for i in range(1, len(exectimes)):\n",
    "    exectimes_total.append(exectimes_total[i-1] + exectimes[i])"
   ]
  },
  {
   "cell_type": "code",
   "execution_count": 49,
   "id": "12b04be0-e209-40f5-8839-aee06779ad8e",
   "metadata": {},
   "outputs": [],
   "source": [
    "# Store results in a pandas DataFrame:\n",
    "filenum = range(1, len(fns_downscale)+1)\n",
    "exectimes_df = pd.DataFrame({\n",
    "    'Total_Files_Downscaled': filenum, \n",
    "    'Total_Execution_Time_Seconds': exectimes_total\n",
    "    })"
   ]
  },
  {
   "cell_type": "code",
   "execution_count": 50,
   "id": "e43f2761-be0f-4d46-9e20-cceac11ebb58",
   "metadata": {},
   "outputs": [],
   "source": [
    "# Save\n",
    "insttype = !ec2-metadata | grep \"instance-type\" # get EC2 type for filename\n",
    "insttype = insttype[0][15:]\n",
    "fname_save = \"execution_times_\" + insttype + \".csv\"\n",
    "exectimes_df.to_csv(fname_save, index=False)"
   ]
  },
  {
   "cell_type": "markdown",
   "id": "25918982-f7a0-449c-b67a-907f6d8c3fdf",
   "metadata": {},
   "source": [
    "## Plot results"
   ]
  },
  {
   "cell_type": "code",
   "execution_count": 52,
   "id": "1e1d14dd-b881-4973-8e69-1ec9a919c2b4",
   "metadata": {},
   "outputs": [
    {
     "data": {
      "text/plain": [
       "Text(0, 0.5, 'Total Execution Time (minutes)')"
      ]
     },
     "execution_count": 52,
     "metadata": {},
     "output_type": "execute_result"
    },
    {
     "data": {
      "image/png": "[encoded data removed]",
      "text/plain": [
       "<Figure size 640x480 with 1 Axes>"
      ]
     },
     "metadata": {},
     "output_type": "display_data"
    }
   ],
   "source": [
    "plt.figure()\n",
    "plt.plot(\n",
    "    exectimes_df['Total_Files_Downscaled'], \n",
    "    exectimes_df['Total_Execution_Time_Seconds']/60, \n",
    "    'o-'\n",
    "    )\n",
    "plt.xlabel(\"Total Files Processed\", fontsize=14)\n",
    "plt.ylabel(\"Total Execution Time (minutes)\", fontsize=14)"
   ]
  },
  {
   "cell_type": "code",
   "execution_count": null,
   "id": "6be2f775-1fb0-4cb7-8060-5ce5eedb53b2",
   "metadata": {},
   "outputs": [],
   "source": []
  },
  {
   "cell_type": "code",
   "execution_count": null,
   "id": "d53f54e9-c85f-4c8c-9020-dd36f954f9f6",
   "metadata": {},
   "outputs": [],
   "source": []
  },
  {
   "cell_type": "code",
   "execution_count": null,
   "id": "0b7d91d1-e80f-4353-bb35-71d4cd8da4e0",
   "metadata": {},
   "outputs": [],
   "source": []
  },
  {
   "cell_type": "markdown",
   "id": "6996a385-2ed7-4306-a621-3c3da39789f8",
   "metadata": {},
   "source": [
    "## Processing time for 1, 5, 20, 50 files"
   ]
  },
  {
   "cell_type": "code",
   "execution_count": 6,
   "id": "52854dd1-f814-4569-a468-8ee57ebf2b2f",
   "metadata": {},
   "outputs": [],
   "source": [
    "filenums = [1, 5, 20, 50]\n",
    "exectimes = []"
   ]
  },
  {
   "cell_type": "code",
   "execution_count": 12,
   "id": "89029734-7e32-47cb-9971-fe3fd315e960",
   "metadata": {},
   "outputs": [
    {
     "name": "stdout",
     "output_type": "stream",
     "text": [
      "Loading  podaac-ops-cumulus-protected/MUR-JPL-L4-GLOB-v4.1/20020601090000-JPL-L4_GHRSST-SSTfnd-MUR-GLOB-v02.0-fv04.1.nc\n",
      "Downscaling.\n"
     ]
    }
   ],
   "source": [
    "# 1 file:\n",
    "tstart = time.time() # tick\n",
    "load_and_downscale(fns[:filenums[0]])\n",
    "tend = time.time() # tick"
   ]
  },
  {
   "cell_type": "code",
   "execution_count": 13,
   "id": "04d0dd93-0269-40d8-9e0e-eaad1d966c7d",
   "metadata": {},
   "outputs": [],
   "source": [
    "exectimes.append(tend - tstart)"
   ]
  },
  {
   "cell_type": "code",
   "execution_count": 14,
   "id": "8b43c76d-32f8-4fa3-9901-ec042370348f",
   "metadata": {},
   "outputs": [
    {
     "name": "stdout",
     "output_type": "stream",
     "text": [
      "Loading  podaac-ops-cumulus-protected/MUR-JPL-L4-GLOB-v4.1/20020601090000-JPL-L4_GHRSST-SSTfnd-MUR-GLOB-v02.0-fv04.1.nc\n",
      "Downscaling.\n",
      "Loading  podaac-ops-cumulus-protected/MUR-JPL-L4-GLOB-v4.1/20020602090000-JPL-L4_GHRSST-SSTfnd-MUR-GLOB-v02.0-fv04.1.nc\n",
      "Downscaling.\n",
      "Loading  podaac-ops-cumulus-protected/MUR-JPL-L4-GLOB-v4.1/20020603090000-JPL-L4_GHRSST-SSTfnd-MUR-GLOB-v02.0-fv04.1.nc\n",
      "Downscaling.\n",
      "Loading  podaac-ops-cumulus-protected/MUR-JPL-L4-GLOB-v4.1/20020604090000-JPL-L4_GHRSST-SSTfnd-MUR-GLOB-v02.0-fv04.1.nc\n",
      "Downscaling.\n",
      "Loading  podaac-ops-cumulus-protected/MUR-JPL-L4-GLOB-v4.1/20020605090000-JPL-L4_GHRSST-SSTfnd-MUR-GLOB-v02.0-fv04.1.nc\n",
      "Downscaling.\n"
     ]
    }
   ],
   "source": [
    "# 5 files:\n",
    "tstart = time.time() # tick\n",
    "load_and_downscale(fns[:filenums[1]])\n",
    "tend = time.time() # tick"
   ]
  },
  {
   "cell_type": "code",
   "execution_count": 15,
   "id": "2f332582-2de9-4b59-815a-50494ad9c4d3",
   "metadata": {},
   "outputs": [],
   "source": [
    "exectimes.append(tend - tstart)"
   ]
  },
  {
   "cell_type": "code",
   "execution_count": 16,
   "id": "c4205727-22f0-4d14-a227-c8bcf6cd7918",
   "metadata": {},
   "outputs": [
    {
     "name": "stdout",
     "output_type": "stream",
     "text": [
      "Loading  podaac-ops-cumulus-protected/MUR-JPL-L4-GLOB-v4.1/20020601090000-JPL-L4_GHRSST-SSTfnd-MUR-GLOB-v02.0-fv04.1.nc\n",
      "Downscaling.\n",
      "Loading  podaac-ops-cumulus-protected/MUR-JPL-L4-GLOB-v4.1/20020602090000-JPL-L4_GHRSST-SSTfnd-MUR-GLOB-v02.0-fv04.1.nc\n",
      "Downscaling.\n",
      "Loading  podaac-ops-cumulus-protected/MUR-JPL-L4-GLOB-v4.1/20020603090000-JPL-L4_GHRSST-SSTfnd-MUR-GLOB-v02.0-fv04.1.nc\n",
      "Downscaling.\n",
      "Loading  podaac-ops-cumulus-protected/MUR-JPL-L4-GLOB-v4.1/20020604090000-JPL-L4_GHRSST-SSTfnd-MUR-GLOB-v02.0-fv04.1.nc\n",
      "Downscaling.\n",
      "Loading  podaac-ops-cumulus-protected/MUR-JPL-L4-GLOB-v4.1/20020605090000-JPL-L4_GHRSST-SSTfnd-MUR-GLOB-v02.0-fv04.1.nc\n",
      "Downscaling.\n",
      "Loading  podaac-ops-cumulus-protected/MUR-JPL-L4-GLOB-v4.1/20020606090000-JPL-L4_GHRSST-SSTfnd-MUR-GLOB-v02.0-fv04.1.nc\n",
      "Downscaling.\n",
      "Loading  podaac-ops-cumulus-protected/MUR-JPL-L4-GLOB-v4.1/20020607090000-JPL-L4_GHRSST-SSTfnd-MUR-GLOB-v02.0-fv04.1.nc\n",
      "Downscaling.\n",
      "Loading  podaac-ops-cumulus-protected/MUR-JPL-L4-GLOB-v4.1/20020608090000-JPL-L4_GHRSST-SSTfnd-MUR-GLOB-v02.0-fv04.1.nc\n",
      "Downscaling.\n",
      "Loading  podaac-ops-cumulus-protected/MUR-JPL-L4-GLOB-v4.1/20020609090000-JPL-L4_GHRSST-SSTfnd-MUR-GLOB-v02.0-fv04.1.nc\n",
      "Downscaling.\n",
      "Loading  podaac-ops-cumulus-protected/MUR-JPL-L4-GLOB-v4.1/20020610090000-JPL-L4_GHRSST-SSTfnd-MUR-GLOB-v02.0-fv04.1.nc\n",
      "Downscaling.\n",
      "Loading  podaac-ops-cumulus-protected/MUR-JPL-L4-GLOB-v4.1/20020611090000-JPL-L4_GHRSST-SSTfnd-MUR-GLOB-v02.0-fv04.1.nc\n",
      "Downscaling.\n",
      "Loading  podaac-ops-cumulus-protected/MUR-JPL-L4-GLOB-v4.1/20020612090000-JPL-L4_GHRSST-SSTfnd-MUR-GLOB-v02.0-fv04.1.nc\n",
      "Downscaling.\n",
      "Loading  podaac-ops-cumulus-protected/MUR-JPL-L4-GLOB-v4.1/20020613090000-JPL-L4_GHRSST-SSTfnd-MUR-GLOB-v02.0-fv04.1.nc\n",
      "Downscaling.\n",
      "Loading  podaac-ops-cumulus-protected/MUR-JPL-L4-GLOB-v4.1/20020614090000-JPL-L4_GHRSST-SSTfnd-MUR-GLOB-v02.0-fv04.1.nc\n",
      "Downscaling.\n",
      "Loading  podaac-ops-cumulus-protected/MUR-JPL-L4-GLOB-v4.1/20020615090000-JPL-L4_GHRSST-SSTfnd-MUR-GLOB-v02.0-fv04.1.nc\n",
      "Downscaling.\n",
      "Loading  podaac-ops-cumulus-protected/MUR-JPL-L4-GLOB-v4.1/20020616090000-JPL-L4_GHRSST-SSTfnd-MUR-GLOB-v02.0-fv04.1.nc\n",
      "Downscaling.\n",
      "Loading  podaac-ops-cumulus-protected/MUR-JPL-L4-GLOB-v4.1/20020617090000-JPL-L4_GHRSST-SSTfnd-MUR-GLOB-v02.0-fv04.1.nc\n",
      "Downscaling.\n",
      "Loading  podaac-ops-cumulus-protected/MUR-JPL-L4-GLOB-v4.1/20020618090000-JPL-L4_GHRSST-SSTfnd-MUR-GLOB-v02.0-fv04.1.nc\n",
      "Downscaling.\n",
      "Loading  podaac-ops-cumulus-protected/MUR-JPL-L4-GLOB-v4.1/20020619090000-JPL-L4_GHRSST-SSTfnd-MUR-GLOB-v02.0-fv04.1.nc\n",
      "Downscaling.\n",
      "Loading  podaac-ops-cumulus-protected/MUR-JPL-L4-GLOB-v4.1/20020620090000-JPL-L4_GHRSST-SSTfnd-MUR-GLOB-v02.0-fv04.1.nc\n",
      "Downscaling.\n"
     ]
    }
   ],
   "source": [
    "# 20 files:\n",
    "tstart = time.time() # tick\n",
    "load_and_downscale(fns[:filenums[2]])\n",
    "tend = time.time() # tick"
   ]
  },
  {
   "cell_type": "code",
   "execution_count": 17,
   "id": "0d1de2c8-cbc2-4064-b7ce-4e30f44e8124",
   "metadata": {},
   "outputs": [],
   "source": [
    "exectimes.append(tend - tstart)"
   ]
  },
  {
   "cell_type": "code",
   "execution_count": 9,
   "id": "71adb23d-4848-416c-8790-dd42658f0269",
   "metadata": {},
   "outputs": [
    {
     "name": "stdout",
     "output_type": "stream",
     "text": [
      "Loading  podaac-ops-cumulus-protected/MUR-JPL-L4-GLOB-v4.1/20020601090000-JPL-L4_GHRSST-SSTfnd-MUR-GLOB-v02.0-fv04.1.nc\n",
      "Downscaling.\n",
      "Loading  podaac-ops-cumulus-protected/MUR-JPL-L4-GLOB-v4.1/20020602090000-JPL-L4_GHRSST-SSTfnd-MUR-GLOB-v02.0-fv04.1.nc\n",
      "Downscaling.\n",
      "Loading  podaac-ops-cumulus-protected/MUR-JPL-L4-GLOB-v4.1/20020603090000-JPL-L4_GHRSST-SSTfnd-MUR-GLOB-v02.0-fv04.1.nc\n",
      "Downscaling.\n",
      "Loading  podaac-ops-cumulus-protected/MUR-JPL-L4-GLOB-v4.1/20020604090000-JPL-L4_GHRSST-SSTfnd-MUR-GLOB-v02.0-fv04.1.nc\n",
      "Downscaling.\n",
      "Loading  podaac-ops-cumulus-protected/MUR-JPL-L4-GLOB-v4.1/20020605090000-JPL-L4_GHRSST-SSTfnd-MUR-GLOB-v02.0-fv04.1.nc\n",
      "Downscaling.\n",
      "Loading  podaac-ops-cumulus-protected/MUR-JPL-L4-GLOB-v4.1/20020606090000-JPL-L4_GHRSST-SSTfnd-MUR-GLOB-v02.0-fv04.1.nc\n",
      "Downscaling.\n",
      "Loading  podaac-ops-cumulus-protected/MUR-JPL-L4-GLOB-v4.1/20020607090000-JPL-L4_GHRSST-SSTfnd-MUR-GLOB-v02.0-fv04.1.nc\n",
      "Downscaling.\n",
      "Loading  podaac-ops-cumulus-protected/MUR-JPL-L4-GLOB-v4.1/20020608090000-JPL-L4_GHRSST-SSTfnd-MUR-GLOB-v02.0-fv04.1.nc\n",
      "Downscaling.\n",
      "Loading  podaac-ops-cumulus-protected/MUR-JPL-L4-GLOB-v4.1/20020609090000-JPL-L4_GHRSST-SSTfnd-MUR-GLOB-v02.0-fv04.1.nc\n",
      "Downscaling.\n",
      "Loading  podaac-ops-cumulus-protected/MUR-JPL-L4-GLOB-v4.1/20020610090000-JPL-L4_GHRSST-SSTfnd-MUR-GLOB-v02.0-fv04.1.nc\n",
      "Downscaling.\n",
      "Loading  podaac-ops-cumulus-protected/MUR-JPL-L4-GLOB-v4.1/20020611090000-JPL-L4_GHRSST-SSTfnd-MUR-GLOB-v02.0-fv04.1.nc\n",
      "Downscaling.\n",
      "Loading  podaac-ops-cumulus-protected/MUR-JPL-L4-GLOB-v4.1/20020612090000-JPL-L4_GHRSST-SSTfnd-MUR-GLOB-v02.0-fv04.1.nc\n",
      "Downscaling.\n",
      "Loading  podaac-ops-cumulus-protected/MUR-JPL-L4-GLOB-v4.1/20020613090000-JPL-L4_GHRSST-SSTfnd-MUR-GLOB-v02.0-fv04.1.nc\n",
      "Downscaling.\n",
      "Loading  podaac-ops-cumulus-protected/MUR-JPL-L4-GLOB-v4.1/20020614090000-JPL-L4_GHRSST-SSTfnd-MUR-GLOB-v02.0-fv04.1.nc\n",
      "Downscaling.\n",
      "Loading  podaac-ops-cumulus-protected/MUR-JPL-L4-GLOB-v4.1/20020615090000-JPL-L4_GHRSST-SSTfnd-MUR-GLOB-v02.0-fv04.1.nc\n",
      "Downscaling.\n",
      "Loading  podaac-ops-cumulus-protected/MUR-JPL-L4-GLOB-v4.1/20020616090000-JPL-L4_GHRSST-SSTfnd-MUR-GLOB-v02.0-fv04.1.nc\n",
      "Downscaling.\n",
      "Loading  podaac-ops-cumulus-protected/MUR-JPL-L4-GLOB-v4.1/20020617090000-JPL-L4_GHRSST-SSTfnd-MUR-GLOB-v02.0-fv04.1.nc\n",
      "Downscaling.\n",
      "Loading  podaac-ops-cumulus-protected/MUR-JPL-L4-GLOB-v4.1/20020618090000-JPL-L4_GHRSST-SSTfnd-MUR-GLOB-v02.0-fv04.1.nc\n",
      "Downscaling.\n",
      "Loading  podaac-ops-cumulus-protected/MUR-JPL-L4-GLOB-v4.1/20020619090000-JPL-L4_GHRSST-SSTfnd-MUR-GLOB-v02.0-fv04.1.nc\n",
      "Downscaling.\n",
      "Loading  podaac-ops-cumulus-protected/MUR-JPL-L4-GLOB-v4.1/20020620090000-JPL-L4_GHRSST-SSTfnd-MUR-GLOB-v02.0-fv04.1.nc\n",
      "Downscaling.\n",
      "Loading  podaac-ops-cumulus-protected/MUR-JPL-L4-GLOB-v4.1/20020621090000-JPL-L4_GHRSST-SSTfnd-MUR-GLOB-v02.0-fv04.1.nc\n",
      "Downscaling.\n",
      "Loading  podaac-ops-cumulus-protected/MUR-JPL-L4-GLOB-v4.1/20020622090000-JPL-L4_GHRSST-SSTfnd-MUR-GLOB-v02.0-fv04.1.nc\n",
      "Downscaling.\n",
      "Loading  podaac-ops-cumulus-protected/MUR-JPL-L4-GLOB-v4.1/20020623090000-JPL-L4_GHRSST-SSTfnd-MUR-GLOB-v02.0-fv04.1.nc\n",
      "Downscaling.\n",
      "Loading  podaac-ops-cumulus-protected/MUR-JPL-L4-GLOB-v4.1/20020624090000-JPL-L4_GHRSST-SSTfnd-MUR-GLOB-v02.0-fv04.1.nc\n",
      "Downscaling.\n",
      "Loading  podaac-ops-cumulus-protected/MUR-JPL-L4-GLOB-v4.1/20020625090000-JPL-L4_GHRSST-SSTfnd-MUR-GLOB-v02.0-fv04.1.nc\n",
      "Downscaling.\n",
      "Loading  podaac-ops-cumulus-protected/MUR-JPL-L4-GLOB-v4.1/20020626090000-JPL-L4_GHRSST-SSTfnd-MUR-GLOB-v02.0-fv04.1.nc\n",
      "Downscaling.\n",
      "Loading  podaac-ops-cumulus-protected/MUR-JPL-L4-GLOB-v4.1/20020627090000-JPL-L4_GHRSST-SSTfnd-MUR-GLOB-v02.0-fv04.1.nc\n",
      "Downscaling.\n",
      "Loading  podaac-ops-cumulus-protected/MUR-JPL-L4-GLOB-v4.1/20020628090000-JPL-L4_GHRSST-SSTfnd-MUR-GLOB-v02.0-fv04.1.nc\n",
      "Downscaling.\n",
      "Loading  podaac-ops-cumulus-protected/MUR-JPL-L4-GLOB-v4.1/20020629090000-JPL-L4_GHRSST-SSTfnd-MUR-GLOB-v02.0-fv04.1.nc\n",
      "Downscaling.\n",
      "Loading  podaac-ops-cumulus-protected/MUR-JPL-L4-GLOB-v4.1/20020630090000-JPL-L4_GHRSST-SSTfnd-MUR-GLOB-v02.0-fv04.1.nc\n",
      "Downscaling.\n",
      "Loading  podaac-ops-cumulus-protected/MUR-JPL-L4-GLOB-v4.1/20020701090000-JPL-L4_GHRSST-SSTfnd-MUR-GLOB-v02.0-fv04.1.nc\n",
      "Downscaling.\n",
      "Loading  podaac-ops-cumulus-protected/MUR-JPL-L4-GLOB-v4.1/20020702090000-JPL-L4_GHRSST-SSTfnd-MUR-GLOB-v02.0-fv04.1.nc\n",
      "Downscaling.\n",
      "Loading  podaac-ops-cumulus-protected/MUR-JPL-L4-GLOB-v4.1/20020703090000-JPL-L4_GHRSST-SSTfnd-MUR-GLOB-v02.0-fv04.1.nc\n",
      "Downscaling.\n",
      "Loading  podaac-ops-cumulus-protected/MUR-JPL-L4-GLOB-v4.1/20020704090000-JPL-L4_GHRSST-SSTfnd-MUR-GLOB-v02.0-fv04.1.nc\n",
      "Downscaling.\n",
      "Loading  podaac-ops-cumulus-protected/MUR-JPL-L4-GLOB-v4.1/20020705090000-JPL-L4_GHRSST-SSTfnd-MUR-GLOB-v02.0-fv04.1.nc\n",
      "Downscaling.\n",
      "Loading  podaac-ops-cumulus-protected/MUR-JPL-L4-GLOB-v4.1/20020706090000-JPL-L4_GHRSST-SSTfnd-MUR-GLOB-v02.0-fv04.1.nc\n",
      "Downscaling.\n",
      "Loading  podaac-ops-cumulus-protected/MUR-JPL-L4-GLOB-v4.1/20020707090000-JPL-L4_GHRSST-SSTfnd-MUR-GLOB-v02.0-fv04.1.nc\n",
      "Downscaling.\n",
      "Loading  podaac-ops-cumulus-protected/MUR-JPL-L4-GLOB-v4.1/20020708090000-JPL-L4_GHRSST-SSTfnd-MUR-GLOB-v02.0-fv04.1.nc\n",
      "Downscaling.\n",
      "Loading  podaac-ops-cumulus-protected/MUR-JPL-L4-GLOB-v4.1/20020709090000-JPL-L4_GHRSST-SSTfnd-MUR-GLOB-v02.0-fv04.1.nc\n",
      "Downscaling.\n",
      "Loading  podaac-ops-cumulus-protected/MUR-JPL-L4-GLOB-v4.1/20020710090000-JPL-L4_GHRSST-SSTfnd-MUR-GLOB-v02.0-fv04.1.nc\n",
      "Downscaling.\n",
      "Loading  podaac-ops-cumulus-protected/MUR-JPL-L4-GLOB-v4.1/20020711090000-JPL-L4_GHRSST-SSTfnd-MUR-GLOB-v02.0-fv04.1.nc\n",
      "Downscaling.\n",
      "Loading  podaac-ops-cumulus-protected/MUR-JPL-L4-GLOB-v4.1/20020712090000-JPL-L4_GHRSST-SSTfnd-MUR-GLOB-v02.0-fv04.1.nc\n",
      "Downscaling.\n",
      "Loading  podaac-ops-cumulus-protected/MUR-JPL-L4-GLOB-v4.1/20020713090000-JPL-L4_GHRSST-SSTfnd-MUR-GLOB-v02.0-fv04.1.nc\n",
      "Downscaling.\n",
      "Loading  podaac-ops-cumulus-protected/MUR-JPL-L4-GLOB-v4.1/20020714090000-JPL-L4_GHRSST-SSTfnd-MUR-GLOB-v02.0-fv04.1.nc\n",
      "Downscaling.\n",
      "Loading  podaac-ops-cumulus-protected/MUR-JPL-L4-GLOB-v4.1/20020715090000-JPL-L4_GHRSST-SSTfnd-MUR-GLOB-v02.0-fv04.1.nc\n",
      "Downscaling.\n",
      "Loading  podaac-ops-cumulus-protected/MUR-JPL-L4-GLOB-v4.1/20020716090000-JPL-L4_GHRSST-SSTfnd-MUR-GLOB-v02.0-fv04.1.nc\n",
      "Downscaling.\n",
      "Loading  podaac-ops-cumulus-protected/MUR-JPL-L4-GLOB-v4.1/20020717090000-JPL-L4_GHRSST-SSTfnd-MUR-GLOB-v02.0-fv04.1.nc\n",
      "Downscaling.\n",
      "Loading  podaac-ops-cumulus-protected/MUR-JPL-L4-GLOB-v4.1/20020718090000-JPL-L4_GHRSST-SSTfnd-MUR-GLOB-v02.0-fv04.1.nc\n",
      "Downscaling.\n",
      "Loading  podaac-ops-cumulus-protected/MUR-JPL-L4-GLOB-v4.1/20020719090000-JPL-L4_GHRSST-SSTfnd-MUR-GLOB-v02.0-fv04.1.nc\n",
      "Downscaling.\n",
      "Loading  podaac-ops-cumulus-protected/MUR-JPL-L4-GLOB-v4.1/20020720090000-JPL-L4_GHRSST-SSTfnd-MUR-GLOB-v02.0-fv04.1.nc\n",
      "Downscaling.\n"
     ]
    }
   ],
   "source": [
    "# 50 files:\n",
    "tstart = time.time() # tick\n",
    "load_and_downscale(fns[:filenums[3]])\n",
    "tend = time.time() # tick"
   ]
  },
  {
   "cell_type": "code",
   "execution_count": 10,
   "id": "c9ba307d-7e9f-4d58-9a55-d499bcebbd57",
   "metadata": {},
   "outputs": [],
   "source": [
    "exectimes.append(tend - tstart)"
   ]
  },
  {
   "cell_type": "code",
   "execution_count": 11,
   "id": "bf22958c-e1ea-4085-9e37-e46c704d59e8",
   "metadata": {},
   "outputs": [
    {
     "data": {
      "text/plain": [
       "[2171.1797897815704]"
      ]
     },
     "execution_count": 11,
     "metadata": {},
     "output_type": "execute_result"
    }
   ],
   "source": [
    "exectimes"
   ]
  },
  {
   "cell_type": "code",
   "execution_count": 1,
   "id": "bcf227fa-acc5-4bae-a516-f6a0733942a7",
   "metadata": {},
   "outputs": [
    {
     "data": {
      "text/plain": [
       "36.18333333333333"
      ]
     },
     "execution_count": 1,
     "metadata": {},
     "output_type": "execute_result"
    }
   ],
   "source": [
    "2171/60"
   ]
  },
  {
   "cell_type": "code",
   "execution_count": 20,
   "id": "2b840721-82c2-4f67-a8fc-a9cd3fe3fc4b",
   "metadata": {},
   "outputs": [
    {
     "data": {
      "text/plain": [
       "Text(0, 0.5, 'Total execution time (seconds)')"
      ]
     },
     "execution_count": 20,
     "metadata": {},
     "output_type": "execute_result"
    },
    {
     "data": {
      "image/png": "[encoded data removed]",
      "text/plain": [
       "<Figure size 640x480 with 1 Axes>"
      ]
     },
     "metadata": {},
     "output_type": "display_data"
    }
   ],
   "source": [
    "plt.figure()\n",
    "plt.plot(filenums[:-1], exectimes, 'o-')\n",
    "plt.xlabel(\"Number of MUR files\", fontsize=14)\n",
    "plt.ylabel(\"Total execution time (seconds)\", fontsize=14)"
   ]
  },
  {
   "cell_type": "code",
   "execution_count": 8,
   "id": "539bd78f-0a15-4276-879f-ad6262204539",
   "metadata": {},
   "outputs": [
    {
     "data": {
      "text/plain": [
       "Text(0, 0.5, 'Total execution time (minutes)')"
      ]
     },
     "execution_count": 8,
     "metadata": {},
     "output_type": "execute_result"
    },
    {
     "data": {
      "image/png": "[encoded data removed]",
      "text/plain": [
       "<Figure size 640x480 with 1 Axes>"
      ]
     },
     "metadata": {},
     "output_type": "display_data"
    }
   ],
   "source": [
    "plt.figure()\n",
    "plt.plot(filenums, np.array([54, 250, 950, 2171])/60, 'o-')\n",
    "plt.xlabel(\"Number of MUR files\", fontsize=14)\n",
    "plt.ylabel(\"Total execution time (minutes)\", fontsize=14)"
   ]
  },
  {
   "cell_type": "markdown",
   "id": "f5654a05",
   "metadata": {},
   "source": [
    "## Conclusions\n",
    "\n",
    "* t2.large does not have enough RAM to casually open a MUR file and perform basic preprocessing (mask, scale, offset). This is the case using both h5py and xarray."
   ]
  },
  {
   "cell_type": "code",
   "execution_count": null,
   "id": "fd477897",
   "metadata": {},
   "outputs": [],
   "source": []
  }
 ],
 "metadata": {
  "kernelspec": {
   "display_name": "Python 3 (ipykernel)",
   "language": "python",
   "name": "python3"
  },
  "language_info": {
   "codemirror_mode": {
    "name": "ipython",
    "version": 3
   },
   "file_extension": ".py",
   "mimetype": "text/x-python",
   "name": "python",
   "nbconvert_exporter": "python",
   "pygments_lexer": "ipython3",
   "version": "3.10.8"
  }
 },
 "nbformat": 4,
 "nbformat_minor": 5
}
